{
 "cells": [
  {
   "cell_type": "code",
   "execution_count": 1,
   "id": "2ba5ed10",
   "metadata": {},
   "outputs": [
    {
     "name": "stdout",
     "output_type": "stream",
     "text": [
      "5\n"
     ]
    }
   ],
   "source": [
    "print(5)"
   ]
  },
  {
   "cell_type": "code",
   "execution_count": 2,
   "id": "cbd2b63b",
   "metadata": {},
   "outputs": [
    {
     "name": "stdout",
     "output_type": "stream",
     "text": [
      "12\n"
     ]
    }
   ],
   "source": [
    "print(5+7)"
   ]
  },
  {
   "cell_type": "code",
   "execution_count": 3,
   "id": "38b21307",
   "metadata": {},
   "outputs": [
    {
     "name": "stdout",
     "output_type": "stream",
     "text": [
      "56\n",
      "78\n"
     ]
    }
   ],
   "source": [
    "print(8*7)\n",
    "#print('Hello')\n",
    "'''This\n",
    "is\n",
    "comment'''\n",
    "print(78)"
   ]
  },
  {
   "cell_type": "code",
   "execution_count": 4,
   "id": "4485026a",
   "metadata": {},
   "outputs": [
    {
     "name": "stdout",
     "output_type": "stream",
     "text": [
      "Hello \n",
      "World\n"
     ]
    }
   ],
   "source": [
    "print(\"Hello \\nWorld\")"
   ]
  },
  {
   "cell_type": "markdown",
   "id": "d378a783",
   "metadata": {},
   "source": [
    "# ======Variables======="
   ]
  },
  {
   "cell_type": "code",
   "execution_count": 5,
   "id": "3011fc38",
   "metadata": {},
   "outputs": [],
   "source": [
    "store = 10"
   ]
  },
  {
   "cell_type": "code",
   "execution_count": 6,
   "id": "268d2be4",
   "metadata": {},
   "outputs": [
    {
     "data": {
      "text/plain": [
       "10"
      ]
     },
     "execution_count": 6,
     "metadata": {},
     "output_type": "execute_result"
    }
   ],
   "source": [
    "store"
   ]
  },
  {
   "cell_type": "markdown",
   "id": "786ce521",
   "metadata": {},
   "source": [
    "a-z, A-Z,1-9, _"
   ]
  },
  {
   "cell_type": "code",
   "execution_count": 7,
   "id": "02be2acf",
   "metadata": {},
   "outputs": [],
   "source": [
    "_store = 22"
   ]
  },
  {
   "cell_type": "code",
   "execution_count": 8,
   "id": "b3d2d3e3",
   "metadata": {},
   "outputs": [
    {
     "data": {
      "text/plain": [
       "22"
      ]
     },
     "execution_count": 8,
     "metadata": {},
     "output_type": "execute_result"
    }
   ],
   "source": [
    "_store"
   ]
  },
  {
   "cell_type": "code",
   "execution_count": 9,
   "id": "ee3f0348",
   "metadata": {},
   "outputs": [
    {
     "ename": "SyntaxError",
     "evalue": "invalid syntax (Temp/ipykernel_3920/30983405.py, line 1)",
     "output_type": "error",
     "traceback": [
      "\u001b[1;36m  File \u001b[1;32m\"C:\\Users\\Admin\\AppData\\Local\\Temp/ipykernel_3920/30983405.py\"\u001b[1;36m, line \u001b[1;32m1\u001b[0m\n\u001b[1;33m    9store = 33\u001b[0m\n\u001b[1;37m     ^\u001b[0m\n\u001b[1;31mSyntaxError\u001b[0m\u001b[1;31m:\u001b[0m invalid syntax\n"
     ]
    }
   ],
   "source": [
    "9store = 33"
   ]
  },
  {
   "cell_type": "code",
   "execution_count": 30,
   "id": "49e6fa14",
   "metadata": {},
   "outputs": [],
   "source": [
    "# We can't use keywords as variable names"
   ]
  },
  {
   "cell_type": "code",
   "execution_count": 31,
   "id": "ee719595",
   "metadata": {},
   "outputs": [
    {
     "data": {
      "text/plain": [
       "'Color of apple is Red'"
      ]
     },
     "execution_count": 31,
     "metadata": {},
     "output_type": "execute_result"
    }
   ],
   "source": [
    "#   apple and Apple is different because python is case sensitive\n",
    "apple = \"Color of apple is Red\"\n",
    "apple"
   ]
  },
  {
   "cell_type": "code",
   "execution_count": 32,
   "id": "12c75335",
   "metadata": {},
   "outputs": [
    {
     "ename": "NameError",
     "evalue": "name 'Apple' is not defined",
     "output_type": "error",
     "traceback": [
      "\u001b[1;31m---------------------------------------------------------------------------\u001b[0m",
      "\u001b[1;31mNameError\u001b[0m                                 Traceback (most recent call last)",
      "\u001b[1;32m~\\AppData\\Local\\Temp/ipykernel_3920/2121078443.py\u001b[0m in \u001b[0;36m<module>\u001b[1;34m\u001b[0m\n\u001b[1;32m----> 1\u001b[1;33m \u001b[0mApple\u001b[0m\u001b[1;33m\u001b[0m\u001b[1;33m\u001b[0m\u001b[0m\n\u001b[0m",
      "\u001b[1;31mNameError\u001b[0m: name 'Apple' is not defined"
     ]
    }
   ],
   "source": [
    "Apple"
   ]
  },
  {
   "cell_type": "code",
   "execution_count": 33,
   "id": "a761f54f",
   "metadata": {},
   "outputs": [],
   "source": [
    "#shipsandcontainers"
   ]
  },
  {
   "cell_type": "code",
   "execution_count": 34,
   "id": "6d748b9b",
   "metadata": {},
   "outputs": [],
   "source": [
    "#camelCase\n",
    "#shipsAndContainer"
   ]
  },
  {
   "cell_type": "code",
   "execution_count": 35,
   "id": "60ff9856",
   "metadata": {},
   "outputs": [],
   "source": [
    "#PascalCase\n",
    "#ShipsAndContainer"
   ]
  },
  {
   "cell_type": "code",
   "execution_count": 36,
   "id": "5e555e07",
   "metadata": {},
   "outputs": [],
   "source": [
    "#snake_case\n",
    "#ships_and_containers"
   ]
  },
  {
   "cell_type": "markdown",
   "id": "f0893721",
   "metadata": {},
   "source": [
    "# ============Operators============"
   ]
  },
  {
   "cell_type": "markdown",
   "id": "91ae28b0",
   "metadata": {},
   "source": [
    "## Arithmeticmetic operators"
   ]
  },
  {
   "cell_type": "code",
   "execution_count": 37,
   "id": "494ba0d4",
   "metadata": {},
   "outputs": [
    {
     "name": "stdout",
     "output_type": "stream",
     "text": [
      "25\n"
     ]
    }
   ],
   "source": [
    "a = 10\n",
    "b = 15\n",
    "print(a+b)"
   ]
  },
  {
   "cell_type": "code",
   "execution_count": 38,
   "id": "ae3445ea",
   "metadata": {},
   "outputs": [
    {
     "name": "stdout",
     "output_type": "stream",
     "text": [
      "-5\n"
     ]
    }
   ],
   "source": [
    "a = 10\n",
    "b = 15\n",
    "print(a-b)"
   ]
  },
  {
   "cell_type": "code",
   "execution_count": 39,
   "id": "eaa186c0",
   "metadata": {},
   "outputs": [
    {
     "name": "stdout",
     "output_type": "stream",
     "text": [
      "150\n"
     ]
    }
   ],
   "source": [
    "a = 10\n",
    "b = 15\n",
    "print(a*b)"
   ]
  },
  {
   "cell_type": "code",
   "execution_count": 40,
   "id": "059531d9",
   "metadata": {},
   "outputs": [
    {
     "name": "stdout",
     "output_type": "stream",
     "text": [
      "1.5\n"
     ]
    }
   ],
   "source": [
    "a = 10\n",
    "b = 15\n",
    "print(b/a)"
   ]
  },
  {
   "cell_type": "code",
   "execution_count": 41,
   "id": "c2b4f12f",
   "metadata": {},
   "outputs": [
    {
     "name": "stdout",
     "output_type": "stream",
     "text": [
      "1\n"
     ]
    }
   ],
   "source": [
    "#floor division\n",
    "a = 10\n",
    "b = 15\n",
    "print(b//a)"
   ]
  },
  {
   "cell_type": "code",
   "execution_count": 42,
   "id": "47a6d578",
   "metadata": {},
   "outputs": [
    {
     "name": "stdout",
     "output_type": "stream",
     "text": [
      "5\n"
     ]
    }
   ],
   "source": [
    "#modulus operator\n",
    "print(b%a)"
   ]
  },
  {
   "cell_type": "markdown",
   "id": "fcfacb4d",
   "metadata": {},
   "source": [
    "## Comparision operator"
   ]
  },
  {
   "cell_type": "code",
   "execution_count": 43,
   "id": "8e2553a7",
   "metadata": {},
   "outputs": [
    {
     "data": {
      "text/plain": [
       "True"
      ]
     },
     "execution_count": 43,
     "metadata": {},
     "output_type": "execute_result"
    }
   ],
   "source": [
    "10 == 10"
   ]
  },
  {
   "cell_type": "code",
   "execution_count": 44,
   "id": "bf214a73",
   "metadata": {},
   "outputs": [
    {
     "data": {
      "text/plain": [
       "False"
      ]
     },
     "execution_count": 44,
     "metadata": {},
     "output_type": "execute_result"
    }
   ],
   "source": [
    "11 == 10"
   ]
  },
  {
   "cell_type": "code",
   "execution_count": 45,
   "id": "e6bf1c9c",
   "metadata": {},
   "outputs": [
    {
     "data": {
      "text/plain": [
       "True"
      ]
     },
     "execution_count": 45,
     "metadata": {},
     "output_type": "execute_result"
    }
   ],
   "source": [
    "#not equal to operator\n",
    "11 != 10"
   ]
  },
  {
   "cell_type": "code",
   "execution_count": 46,
   "id": "da505ced",
   "metadata": {},
   "outputs": [
    {
     "data": {
      "text/plain": [
       "False"
      ]
     },
     "execution_count": 46,
     "metadata": {},
     "output_type": "execute_result"
    }
   ],
   "source": [
    "10 != 10"
   ]
  },
  {
   "cell_type": "code",
   "execution_count": 47,
   "id": "1952b816",
   "metadata": {},
   "outputs": [
    {
     "data": {
      "text/plain": [
       "True"
      ]
     },
     "execution_count": 47,
     "metadata": {},
     "output_type": "execute_result"
    }
   ],
   "source": [
    "#greator than\n",
    "11 > 10"
   ]
  },
  {
   "cell_type": "code",
   "execution_count": 48,
   "id": "62b5b907",
   "metadata": {},
   "outputs": [
    {
     "data": {
      "text/plain": [
       "True"
      ]
     },
     "execution_count": 48,
     "metadata": {},
     "output_type": "execute_result"
    }
   ],
   "source": [
    "#greator than and equal to\n",
    "11 >= 10"
   ]
  },
  {
   "cell_type": "code",
   "execution_count": 49,
   "id": "91c75e24",
   "metadata": {},
   "outputs": [
    {
     "data": {
      "text/plain": [
       "True"
      ]
     },
     "execution_count": 49,
     "metadata": {},
     "output_type": "execute_result"
    }
   ],
   "source": [
    "10 >= 10"
   ]
  },
  {
   "cell_type": "code",
   "execution_count": 50,
   "id": "ad9f06c3",
   "metadata": {},
   "outputs": [
    {
     "data": {
      "text/plain": [
       "True"
      ]
     },
     "execution_count": 50,
     "metadata": {},
     "output_type": "execute_result"
    }
   ],
   "source": [
    "a = 10\n",
    "b = 10\n",
    "a >= b"
   ]
  },
  {
   "cell_type": "code",
   "execution_count": 51,
   "id": "b04191c5",
   "metadata": {},
   "outputs": [
    {
     "data": {
      "text/plain": [
       "False"
      ]
     },
     "execution_count": 51,
     "metadata": {},
     "output_type": "execute_result"
    }
   ],
   "source": [
    "#greator than and equal to\n",
    "11 <= 10"
   ]
  },
  {
   "cell_type": "markdown",
   "id": "a88b07b6",
   "metadata": {},
   "source": [
    "## Logical operators"
   ]
  },
  {
   "cell_type": "code",
   "execution_count": 52,
   "id": "6c4a09af",
   "metadata": {},
   "outputs": [
    {
     "name": "stdout",
     "output_type": "stream",
     "text": [
      "Great\n"
     ]
    }
   ],
   "source": [
    "# OR operator\n",
    "\n",
    "if 11 > 10 or  10 > 11:\n",
    "    print(\"Great\")\n",
    "else:\n",
    "    print(\"Ohh\")"
   ]
  },
  {
   "cell_type": "code",
   "execution_count": 53,
   "id": "c7603290",
   "metadata": {},
   "outputs": [
    {
     "data": {
      "text/plain": [
       "True"
      ]
     },
     "execution_count": 53,
     "metadata": {},
     "output_type": "execute_result"
    }
   ],
   "source": [
    "True or False"
   ]
  },
  {
   "cell_type": "code",
   "execution_count": 54,
   "id": "b6f4ae71",
   "metadata": {},
   "outputs": [
    {
     "data": {
      "text/plain": [
       "1"
      ]
     },
     "execution_count": 54,
     "metadata": {},
     "output_type": "execute_result"
    }
   ],
   "source": [
    "1 or 0"
   ]
  },
  {
   "cell_type": "code",
   "execution_count": 55,
   "id": "7e7235e1",
   "metadata": {},
   "outputs": [
    {
     "data": {
      "text/plain": [
       "False"
      ]
     },
     "execution_count": 55,
     "metadata": {},
     "output_type": "execute_result"
    }
   ],
   "source": [
    "True and False"
   ]
  },
  {
   "cell_type": "code",
   "execution_count": 56,
   "id": "c42d54b3",
   "metadata": {},
   "outputs": [
    {
     "data": {
      "text/plain": [
       "0"
      ]
     },
     "execution_count": 56,
     "metadata": {},
     "output_type": "execute_result"
    }
   ],
   "source": [
    "1 and 0"
   ]
  },
  {
   "cell_type": "code",
   "execution_count": 57,
   "id": "fdf83bf1",
   "metadata": {},
   "outputs": [
    {
     "data": {
      "text/plain": [
       "0"
      ]
     },
     "execution_count": 57,
     "metadata": {},
     "output_type": "execute_result"
    }
   ],
   "source": [
    "0 and 1"
   ]
  },
  {
   "cell_type": "code",
   "execution_count": 58,
   "id": "3a29a1a6",
   "metadata": {},
   "outputs": [
    {
     "data": {
      "text/plain": [
       "1"
      ]
     },
     "execution_count": 58,
     "metadata": {},
     "output_type": "execute_result"
    }
   ],
   "source": [
    "1 and 1"
   ]
  },
  {
   "cell_type": "code",
   "execution_count": 59,
   "id": "2a580780",
   "metadata": {},
   "outputs": [
    {
     "data": {
      "text/plain": [
       "True"
      ]
     },
     "execution_count": 59,
     "metadata": {},
     "output_type": "execute_result"
    }
   ],
   "source": [
    "True and True"
   ]
  },
  {
   "cell_type": "code",
   "execution_count": 60,
   "id": "56a6d30b",
   "metadata": {},
   "outputs": [
    {
     "name": "stdout",
     "output_type": "stream",
     "text": [
      "Ohh\n"
     ]
    }
   ],
   "source": [
    "# And operator\n",
    "\n",
    "if 11 > 10 and 10 > 11:\n",
    "    print(\"Great\")\n",
    "else:\n",
    "    print(\"Ohh\")"
   ]
  },
  {
   "cell_type": "code",
   "execution_count": 61,
   "id": "88ca2ef2",
   "metadata": {},
   "outputs": [
    {
     "data": {
      "text/plain": [
       "False"
      ]
     },
     "execution_count": 61,
     "metadata": {},
     "output_type": "execute_result"
    }
   ],
   "source": [
    "True and False"
   ]
  },
  {
   "cell_type": "code",
   "execution_count": 62,
   "id": "fc280dcb",
   "metadata": {},
   "outputs": [
    {
     "data": {
      "text/plain": [
       "0"
      ]
     },
     "execution_count": 62,
     "metadata": {},
     "output_type": "execute_result"
    }
   ],
   "source": [
    "1 and 0"
   ]
  },
  {
   "cell_type": "code",
   "execution_count": 63,
   "id": "34a9b27a",
   "metadata": {},
   "outputs": [
    {
     "data": {
      "text/plain": [
       "False"
      ]
     },
     "execution_count": 63,
     "metadata": {},
     "output_type": "execute_result"
    }
   ],
   "source": [
    "11 > 10 and 10 > 11"
   ]
  },
  {
   "cell_type": "code",
   "execution_count": 64,
   "id": "c05ca0e0",
   "metadata": {},
   "outputs": [
    {
     "data": {
      "text/plain": [
       "True"
      ]
     },
     "execution_count": 64,
     "metadata": {},
     "output_type": "execute_result"
    }
   ],
   "source": [
    "# Not operator\n",
    "not(11 > 10 and 10 > 11)"
   ]
  },
  {
   "cell_type": "code",
   "execution_count": 65,
   "id": "2200cb44",
   "metadata": {},
   "outputs": [
    {
     "data": {
      "text/plain": [
       "True"
      ]
     },
     "execution_count": 65,
     "metadata": {},
     "output_type": "execute_result"
    }
   ],
   "source": [
    "11 > 10 or 10 > 11"
   ]
  },
  {
   "cell_type": "code",
   "execution_count": 66,
   "id": "9386ba78",
   "metadata": {},
   "outputs": [
    {
     "data": {
      "text/plain": [
       "False"
      ]
     },
     "execution_count": 66,
     "metadata": {},
     "output_type": "execute_result"
    }
   ],
   "source": [
    "11 > 10 and 10 > 11"
   ]
  },
  {
   "cell_type": "code",
   "execution_count": 67,
   "id": "7b15c280",
   "metadata": {},
   "outputs": [
    {
     "data": {
      "text/plain": [
       "False"
      ]
     },
     "execution_count": 67,
     "metadata": {},
     "output_type": "execute_result"
    }
   ],
   "source": [
    "11 > 10 & 10 > 11"
   ]
  },
  {
   "cell_type": "code",
   "execution_count": 68,
   "id": "e2be8753",
   "metadata": {},
   "outputs": [
    {
     "data": {
      "text/plain": [
       "True"
      ]
     },
     "execution_count": 68,
     "metadata": {},
     "output_type": "execute_result"
    }
   ],
   "source": [
    "True | False"
   ]
  },
  {
   "cell_type": "markdown",
   "id": "7779b154",
   "metadata": {},
   "source": [
    "# =======Identity operator========"
   ]
  },
  {
   "cell_type": "code",
   "execution_count": 69,
   "id": "f0594da9",
   "metadata": {},
   "outputs": [],
   "source": [
    "a = 100\n",
    "b = 100"
   ]
  },
  {
   "cell_type": "code",
   "execution_count": 70,
   "id": "5a4a59c2",
   "metadata": {},
   "outputs": [
    {
     "data": {
      "text/plain": [
       "True"
      ]
     },
     "execution_count": 70,
     "metadata": {},
     "output_type": "execute_result"
    }
   ],
   "source": [
    "a is b"
   ]
  },
  {
   "cell_type": "code",
   "execution_count": 71,
   "id": "1278380d",
   "metadata": {},
   "outputs": [
    {
     "data": {
      "text/plain": [
       "False"
      ]
     },
     "execution_count": 71,
     "metadata": {},
     "output_type": "execute_result"
    }
   ],
   "source": [
    "a is not b"
   ]
  },
  {
   "cell_type": "markdown",
   "id": "0769b407",
   "metadata": {},
   "source": [
    "## =======Membership Operators========"
   ]
  },
  {
   "cell_type": "code",
   "execution_count": 72,
   "id": "5964ce68",
   "metadata": {},
   "outputs": [],
   "source": [
    "lista = [1,2,3,5,6]"
   ]
  },
  {
   "cell_type": "code",
   "execution_count": 73,
   "id": "2f38be76",
   "metadata": {},
   "outputs": [
    {
     "data": {
      "text/plain": [
       "[1, 2, 3, 5, 6]"
      ]
     },
     "execution_count": 73,
     "metadata": {},
     "output_type": "execute_result"
    }
   ],
   "source": [
    "lista"
   ]
  },
  {
   "cell_type": "code",
   "execution_count": 74,
   "id": "d3e370a8",
   "metadata": {},
   "outputs": [
    {
     "data": {
      "text/plain": [
       "False"
      ]
     },
     "execution_count": 74,
     "metadata": {},
     "output_type": "execute_result"
    }
   ],
   "source": [
    "4 in lista"
   ]
  },
  {
   "cell_type": "code",
   "execution_count": 75,
   "id": "708146d1",
   "metadata": {},
   "outputs": [
    {
     "data": {
      "text/plain": [
       "True"
      ]
     },
     "execution_count": 75,
     "metadata": {},
     "output_type": "execute_result"
    }
   ],
   "source": [
    "4 not in lista"
   ]
  },
  {
   "cell_type": "markdown",
   "id": "c2d0ff68",
   "metadata": {},
   "source": [
    "## =======Bitwise operators========"
   ]
  },
  {
   "cell_type": "code",
   "execution_count": 76,
   "id": "54d66f74",
   "metadata": {},
   "outputs": [
    {
     "data": {
      "text/plain": [
       "'0b1010'"
      ]
     },
     "execution_count": 76,
     "metadata": {},
     "output_type": "execute_result"
    }
   ],
   "source": [
    "bin(10)"
   ]
  },
  {
   "cell_type": "code",
   "execution_count": 77,
   "id": "3d3a47c8",
   "metadata": {},
   "outputs": [
    {
     "data": {
      "text/plain": [
       "5"
      ]
     },
     "execution_count": 77,
     "metadata": {},
     "output_type": "execute_result"
    }
   ],
   "source": [
    "10 >> 1"
   ]
  },
  {
   "cell_type": "code",
   "execution_count": 79,
   "id": "d737dad7",
   "metadata": {},
   "outputs": [],
   "source": [
    "# 1010      _ _ _ _     0 1 0 1"
   ]
  },
  {
   "cell_type": "code",
   "execution_count": 80,
   "id": "95798519",
   "metadata": {},
   "outputs": [
    {
     "data": {
      "text/plain": [
       "2"
      ]
     },
     "execution_count": 80,
     "metadata": {},
     "output_type": "execute_result"
    }
   ],
   "source": [
    "10 >> 2"
   ]
  },
  {
   "cell_type": "code",
   "execution_count": 81,
   "id": "d09464f4",
   "metadata": {},
   "outputs": [],
   "source": [
    "#       1010      _ _ _ _        0 0 1 0"
   ]
  },
  {
   "cell_type": "code",
   "execution_count": 82,
   "id": "57a9941e",
   "metadata": {},
   "outputs": [
    {
     "data": {
      "text/plain": [
       "40"
      ]
     },
     "execution_count": 82,
     "metadata": {},
     "output_type": "execute_result"
    }
   ],
   "source": [
    "10 << 2"
   ]
  },
  {
   "cell_type": "code",
   "execution_count": 83,
   "id": "f44a7c0d",
   "metadata": {},
   "outputs": [],
   "source": [
    "#    1010           _ _ _ _        1 0 1 0 _ _      1 0 1 0 0 0"
   ]
  },
  {
   "cell_type": "code",
   "execution_count": 84,
   "id": "e10fd920",
   "metadata": {},
   "outputs": [
    {
     "data": {
      "text/plain": [
       "'0b101000'"
      ]
     },
     "execution_count": 84,
     "metadata": {},
     "output_type": "execute_result"
    }
   ],
   "source": [
    "bin(40)"
   ]
  },
  {
   "cell_type": "markdown",
   "id": "8a2ba4b1",
   "metadata": {},
   "source": [
    "# ======== Data Types ========"
   ]
  },
  {
   "cell_type": "code",
   "execution_count": 85,
   "id": "273e9758",
   "metadata": {},
   "outputs": [
    {
     "data": {
      "text/plain": [
       "'Python'"
      ]
     },
     "execution_count": 85,
     "metadata": {},
     "output_type": "execute_result"
    }
   ],
   "source": [
    "#str\n",
    "\n",
    "j = \"Python\"\n",
    "j"
   ]
  },
  {
   "cell_type": "code",
   "execution_count": 86,
   "id": "5ce74510",
   "metadata": {},
   "outputs": [
    {
     "data": {
      "text/plain": [
       "str"
      ]
     },
     "execution_count": 86,
     "metadata": {},
     "output_type": "execute_result"
    }
   ],
   "source": [
    "type(j)"
   ]
  },
  {
   "cell_type": "code",
   "execution_count": 87,
   "id": "4796ff24",
   "metadata": {},
   "outputs": [
    {
     "data": {
      "text/plain": [
       "'Python'"
      ]
     },
     "execution_count": 87,
     "metadata": {},
     "output_type": "execute_result"
    }
   ],
   "source": [
    "j = \"Python\"\n",
    "j"
   ]
  },
  {
   "cell_type": "code",
   "execution_count": 88,
   "id": "475bf6e5",
   "metadata": {},
   "outputs": [],
   "source": [
    "j = \"Python\" + \" is Amazing\""
   ]
  },
  {
   "cell_type": "code",
   "execution_count": 89,
   "id": "dab5682f",
   "metadata": {},
   "outputs": [
    {
     "data": {
      "text/plain": [
       "'Python is Amazing'"
      ]
     },
     "execution_count": 89,
     "metadata": {},
     "output_type": "execute_result"
    }
   ],
   "source": [
    "j"
   ]
  },
  {
   "cell_type": "code",
   "execution_count": 90,
   "id": "9a644fad",
   "metadata": {},
   "outputs": [
    {
     "name": "stdout",
     "output_type": "stream",
     "text": [
      "100\n"
     ]
    },
    {
     "data": {
      "text/plain": [
       "'100'"
      ]
     },
     "execution_count": 90,
     "metadata": {},
     "output_type": "execute_result"
    }
   ],
   "source": [
    "ab = input()\n",
    "ab"
   ]
  },
  {
   "cell_type": "code",
   "execution_count": 91,
   "id": "e9bf41d0",
   "metadata": {},
   "outputs": [
    {
     "data": {
      "text/plain": [
       "str"
      ]
     },
     "execution_count": 91,
     "metadata": {},
     "output_type": "execute_result"
    }
   ],
   "source": [
    "type(ab)"
   ]
  },
  {
   "cell_type": "code",
   "execution_count": 92,
   "id": "8f232d66",
   "metadata": {},
   "outputs": [],
   "source": [
    "# Numeric Types"
   ]
  },
  {
   "cell_type": "code",
   "execution_count": 93,
   "id": "7cae87c3",
   "metadata": {},
   "outputs": [
    {
     "data": {
      "text/plain": [
       "int"
      ]
     },
     "execution_count": 93,
     "metadata": {},
     "output_type": "execute_result"
    }
   ],
   "source": [
    "x = 100\n",
    "type(x)"
   ]
  },
  {
   "cell_type": "code",
   "execution_count": 94,
   "id": "5e6a10cc",
   "metadata": {},
   "outputs": [
    {
     "data": {
      "text/plain": [
       "float"
      ]
     },
     "execution_count": 94,
     "metadata": {},
     "output_type": "execute_result"
    }
   ],
   "source": [
    "y = 100.1\n",
    "type(y)"
   ]
  },
  {
   "cell_type": "code",
   "execution_count": 95,
   "id": "20461442",
   "metadata": {},
   "outputs": [],
   "source": [
    "#typecasting"
   ]
  },
  {
   "cell_type": "code",
   "execution_count": 96,
   "id": "529107ff",
   "metadata": {},
   "outputs": [
    {
     "data": {
      "text/plain": [
       "str"
      ]
     },
     "execution_count": 96,
     "metadata": {},
     "output_type": "execute_result"
    }
   ],
   "source": [
    "type(str(x))"
   ]
  },
  {
   "cell_type": "code",
   "execution_count": 97,
   "id": "68cd07d3",
   "metadata": {},
   "outputs": [
    {
     "data": {
      "text/plain": [
       "str"
      ]
     },
     "execution_count": 97,
     "metadata": {},
     "output_type": "execute_result"
    }
   ],
   "source": [
    "x = str(x)\n",
    "type(x)"
   ]
  },
  {
   "cell_type": "code",
   "execution_count": 98,
   "id": "e10489a2",
   "metadata": {},
   "outputs": [
    {
     "name": "stdout",
     "output_type": "stream",
     "text": [
      "100\n"
     ]
    },
    {
     "data": {
      "text/plain": [
       "100"
      ]
     },
     "execution_count": 98,
     "metadata": {},
     "output_type": "execute_result"
    }
   ],
   "source": [
    "cd = int(input())\n",
    "cd"
   ]
  },
  {
   "cell_type": "code",
   "execution_count": 99,
   "id": "d455ee5a",
   "metadata": {},
   "outputs": [
    {
     "data": {
      "text/plain": [
       "int"
      ]
     },
     "execution_count": 99,
     "metadata": {},
     "output_type": "execute_result"
    }
   ],
   "source": [
    "type(cd)"
   ]
  },
  {
   "cell_type": "code",
   "execution_count": 100,
   "id": "686a5f6e",
   "metadata": {},
   "outputs": [
    {
     "data": {
      "text/plain": [
       "100.0"
      ]
     },
     "execution_count": 100,
     "metadata": {},
     "output_type": "execute_result"
    }
   ],
   "source": [
    "float(cd)"
   ]
  },
  {
   "cell_type": "code",
   "execution_count": 101,
   "id": "e333fa5f",
   "metadata": {},
   "outputs": [
    {
     "data": {
      "text/plain": [
       "100"
      ]
     },
     "execution_count": 101,
     "metadata": {},
     "output_type": "execute_result"
    }
   ],
   "source": [
    "int(100.73)"
   ]
  },
  {
   "cell_type": "code",
   "execution_count": 102,
   "id": "8f83e27d",
   "metadata": {},
   "outputs": [],
   "source": [
    "#  100  |  100.00"
   ]
  },
  {
   "cell_type": "code",
   "execution_count": 103,
   "id": "13f3fa75",
   "metadata": {},
   "outputs": [],
   "source": [
    "# Sequence types"
   ]
  },
  {
   "cell_type": "markdown",
   "id": "219c62ba",
   "metadata": {},
   "source": [
    "## List"
   ]
  },
  {
   "cell_type": "code",
   "execution_count": 104,
   "id": "64e62a2b",
   "metadata": {},
   "outputs": [
    {
     "data": {
      "text/plain": [
       "[1, 2, 6, 8]"
      ]
     },
     "execution_count": 104,
     "metadata": {},
     "output_type": "execute_result"
    }
   ],
   "source": [
    "lista = [1,2,6,8]\n",
    "lista"
   ]
  },
  {
   "cell_type": "code",
   "execution_count": 105,
   "id": "4e6f83a6",
   "metadata": {},
   "outputs": [
    {
     "data": {
      "text/plain": [
       "6"
      ]
     },
     "execution_count": 105,
     "metadata": {},
     "output_type": "execute_result"
    }
   ],
   "source": [
    "lista[2]"
   ]
  },
  {
   "cell_type": "code",
   "execution_count": 106,
   "id": "29762bc8",
   "metadata": {},
   "outputs": [
    {
     "data": {
      "text/plain": [
       "[1, 2.3, 'Pyhton', 8]"
      ]
     },
     "execution_count": 106,
     "metadata": {},
     "output_type": "execute_result"
    }
   ],
   "source": [
    "listb = [1,2.3,\"Pyhton\",8]\n",
    "listb"
   ]
  },
  {
   "cell_type": "code",
   "execution_count": 107,
   "id": "0c381954",
   "metadata": {},
   "outputs": [
    {
     "data": {
      "text/plain": [
       "2.3"
      ]
     },
     "execution_count": 107,
     "metadata": {},
     "output_type": "execute_result"
    }
   ],
   "source": [
    "listb[1]"
   ]
  },
  {
   "cell_type": "code",
   "execution_count": 108,
   "id": "65dd3356",
   "metadata": {},
   "outputs": [
    {
     "data": {
      "text/plain": [
       "'Pyhton'"
      ]
     },
     "execution_count": 108,
     "metadata": {},
     "output_type": "execute_result"
    }
   ],
   "source": [
    "listb[-2]"
   ]
  },
  {
   "cell_type": "code",
   "execution_count": 109,
   "id": "ba62eb24",
   "metadata": {},
   "outputs": [],
   "source": [
    "listb.append(100)"
   ]
  },
  {
   "cell_type": "code",
   "execution_count": 110,
   "id": "75f7697d",
   "metadata": {},
   "outputs": [
    {
     "data": {
      "text/plain": [
       "[1, 2.3, 'Pyhton', 8, 100]"
      ]
     },
     "execution_count": 110,
     "metadata": {},
     "output_type": "execute_result"
    }
   ],
   "source": [
    "listb"
   ]
  },
  {
   "cell_type": "code",
   "execution_count": 111,
   "id": "3ffff9a2",
   "metadata": {},
   "outputs": [
    {
     "data": {
      "text/plain": [
       "list"
      ]
     },
     "execution_count": 111,
     "metadata": {},
     "output_type": "execute_result"
    }
   ],
   "source": [
    "type(listb)"
   ]
  },
  {
   "cell_type": "code",
   "execution_count": 112,
   "id": "f7903c90",
   "metadata": {},
   "outputs": [
    {
     "data": {
      "text/plain": [
       "[1, 2.3, 'Pyhton', ' is awesome', 100]"
      ]
     },
     "execution_count": 112,
     "metadata": {},
     "output_type": "execute_result"
    }
   ],
   "source": [
    "listb[3] = ' is awesome'\n",
    "listb"
   ]
  },
  {
   "cell_type": "markdown",
   "id": "5d41e1c5",
   "metadata": {},
   "source": [
    "## Tuples"
   ]
  },
  {
   "cell_type": "code",
   "execution_count": 113,
   "id": "d2af864e",
   "metadata": {},
   "outputs": [
    {
     "data": {
      "text/plain": [
       "(1, 2, 3, 5)"
      ]
     },
     "execution_count": 113,
     "metadata": {},
     "output_type": "execute_result"
    }
   ],
   "source": [
    "tup = (1,2,3,5)\n",
    "tup"
   ]
  },
  {
   "cell_type": "code",
   "execution_count": 114,
   "id": "3d77a3b8",
   "metadata": {},
   "outputs": [
    {
     "data": {
      "text/plain": [
       "tuple"
      ]
     },
     "execution_count": 114,
     "metadata": {},
     "output_type": "execute_result"
    }
   ],
   "source": [
    "type(tup)"
   ]
  },
  {
   "cell_type": "code",
   "execution_count": 115,
   "id": "1e0b935f",
   "metadata": {},
   "outputs": [
    {
     "data": {
      "text/plain": [
       "3"
      ]
     },
     "execution_count": 115,
     "metadata": {},
     "output_type": "execute_result"
    }
   ],
   "source": [
    "tup[2]"
   ]
  },
  {
   "cell_type": "code",
   "execution_count": 116,
   "id": "2106cbff",
   "metadata": {},
   "outputs": [
    {
     "ename": "TypeError",
     "evalue": "'tuple' object does not support item assignment",
     "output_type": "error",
     "traceback": [
      "\u001b[1;31m---------------------------------------------------------------------------\u001b[0m",
      "\u001b[1;31mTypeError\u001b[0m                                 Traceback (most recent call last)",
      "\u001b[1;32m~\\AppData\\Local\\Temp/ipykernel_3920/1548551619.py\u001b[0m in \u001b[0;36m<module>\u001b[1;34m\u001b[0m\n\u001b[0;32m      1\u001b[0m \u001b[1;31m# Tuple is immutable\u001b[0m\u001b[1;33m\u001b[0m\u001b[1;33m\u001b[0m\u001b[0m\n\u001b[1;32m----> 2\u001b[1;33m \u001b[0mtup\u001b[0m\u001b[1;33m[\u001b[0m\u001b[1;36m2\u001b[0m\u001b[1;33m]\u001b[0m \u001b[1;33m=\u001b[0m \u001b[1;34m'Python'\u001b[0m\u001b[1;33m\u001b[0m\u001b[1;33m\u001b[0m\u001b[0m\n\u001b[0m",
      "\u001b[1;31mTypeError\u001b[0m: 'tuple' object does not support item assignment"
     ]
    }
   ],
   "source": [
    "# Tuple is immutable\n",
    "tup[2] = 'Python'"
   ]
  },
  {
   "cell_type": "code",
   "execution_count": 117,
   "id": "924b8f14",
   "metadata": {},
   "outputs": [
    {
     "data": {
      "text/plain": [
       "[1, 2, 3, 5]"
      ]
     },
     "execution_count": 117,
     "metadata": {},
     "output_type": "execute_result"
    }
   ],
   "source": [
    "list(tup)"
   ]
  },
  {
   "cell_type": "code",
   "execution_count": 118,
   "id": "333b2257",
   "metadata": {},
   "outputs": [
    {
     "data": {
      "text/plain": [
       "(1, 2.3, 'Pyhton', ' is awesome', 100)"
      ]
     },
     "execution_count": 118,
     "metadata": {},
     "output_type": "execute_result"
    }
   ],
   "source": [
    "tuple(listb)"
   ]
  },
  {
   "cell_type": "code",
   "execution_count": 119,
   "id": "11caae8d",
   "metadata": {},
   "outputs": [],
   "source": [
    "# abc = (22, 66)\n",
    "# newlist = list(abc)\n",
    "# newlist"
   ]
  },
  {
   "cell_type": "code",
   "execution_count": 120,
   "id": "e52b9d79",
   "metadata": {},
   "outputs": [],
   "source": [
    "# aTuple = (67, 28, 41, 37)\n",
    " \n",
    "# #tuple to list\n",
    "# aList = list(aTuple)\n",
    " \n",
    "# #print list\n",
    "# print(type(aList))\n",
    "# print(aList)"
   ]
  },
  {
   "cell_type": "code",
   "execution_count": 121,
   "id": "b52fa5a8",
   "metadata": {},
   "outputs": [
    {
     "data": {
      "text/plain": [
       "range(1, 10)"
      ]
     },
     "execution_count": 121,
     "metadata": {},
     "output_type": "execute_result"
    }
   ],
   "source": [
    "range(1,10)"
   ]
  },
  {
   "cell_type": "code",
   "execution_count": 123,
   "id": "8a5693c3",
   "metadata": {},
   "outputs": [],
   "source": [
    "abc = list(range(1,10))"
   ]
  },
  {
   "cell_type": "code",
   "execution_count": 124,
   "id": "b1187e86",
   "metadata": {},
   "outputs": [
    {
     "data": {
      "text/plain": [
       "[1, 2, 3, 4, 5, 6, 7, 8, 9]"
      ]
     },
     "execution_count": 124,
     "metadata": {},
     "output_type": "execute_result"
    }
   ],
   "source": [
    "abc"
   ]
  },
  {
   "cell_type": "code",
   "execution_count": 125,
   "id": "a4bdf7e8",
   "metadata": {},
   "outputs": [],
   "source": [
    "abcd = list(range(1,10, 2))"
   ]
  },
  {
   "cell_type": "code",
   "execution_count": 126,
   "id": "86cc0ed4",
   "metadata": {},
   "outputs": [
    {
     "data": {
      "text/plain": [
       "[1, 3, 5, 7, 9]"
      ]
     },
     "execution_count": 126,
     "metadata": {},
     "output_type": "execute_result"
    }
   ],
   "source": [
    "abcd"
   ]
  },
  {
   "cell_type": "code",
   "execution_count": 130,
   "id": "38f9194f",
   "metadata": {},
   "outputs": [],
   "source": [
    "abcd = list(range(1,1000, 5))"
   ]
  },
  {
   "cell_type": "code",
   "execution_count": 131,
   "id": "27887273",
   "metadata": {},
   "outputs": [
    {
     "data": {
      "text/plain": [
       "[1,\n",
       " 6,\n",
       " 11,\n",
       " 16,\n",
       " 21,\n",
       " 26,\n",
       " 31,\n",
       " 36,\n",
       " 41,\n",
       " 46,\n",
       " 51,\n",
       " 56,\n",
       " 61,\n",
       " 66,\n",
       " 71,\n",
       " 76,\n",
       " 81,\n",
       " 86,\n",
       " 91,\n",
       " 96,\n",
       " 101,\n",
       " 106,\n",
       " 111,\n",
       " 116,\n",
       " 121,\n",
       " 126,\n",
       " 131,\n",
       " 136,\n",
       " 141,\n",
       " 146,\n",
       " 151,\n",
       " 156,\n",
       " 161,\n",
       " 166,\n",
       " 171,\n",
       " 176,\n",
       " 181,\n",
       " 186,\n",
       " 191,\n",
       " 196,\n",
       " 201,\n",
       " 206,\n",
       " 211,\n",
       " 216,\n",
       " 221,\n",
       " 226,\n",
       " 231,\n",
       " 236,\n",
       " 241,\n",
       " 246,\n",
       " 251,\n",
       " 256,\n",
       " 261,\n",
       " 266,\n",
       " 271,\n",
       " 276,\n",
       " 281,\n",
       " 286,\n",
       " 291,\n",
       " 296,\n",
       " 301,\n",
       " 306,\n",
       " 311,\n",
       " 316,\n",
       " 321,\n",
       " 326,\n",
       " 331,\n",
       " 336,\n",
       " 341,\n",
       " 346,\n",
       " 351,\n",
       " 356,\n",
       " 361,\n",
       " 366,\n",
       " 371,\n",
       " 376,\n",
       " 381,\n",
       " 386,\n",
       " 391,\n",
       " 396,\n",
       " 401,\n",
       " 406,\n",
       " 411,\n",
       " 416,\n",
       " 421,\n",
       " 426,\n",
       " 431,\n",
       " 436,\n",
       " 441,\n",
       " 446,\n",
       " 451,\n",
       " 456,\n",
       " 461,\n",
       " 466,\n",
       " 471,\n",
       " 476,\n",
       " 481,\n",
       " 486,\n",
       " 491,\n",
       " 496,\n",
       " 501,\n",
       " 506,\n",
       " 511,\n",
       " 516,\n",
       " 521,\n",
       " 526,\n",
       " 531,\n",
       " 536,\n",
       " 541,\n",
       " 546,\n",
       " 551,\n",
       " 556,\n",
       " 561,\n",
       " 566,\n",
       " 571,\n",
       " 576,\n",
       " 581,\n",
       " 586,\n",
       " 591,\n",
       " 596,\n",
       " 601,\n",
       " 606,\n",
       " 611,\n",
       " 616,\n",
       " 621,\n",
       " 626,\n",
       " 631,\n",
       " 636,\n",
       " 641,\n",
       " 646,\n",
       " 651,\n",
       " 656,\n",
       " 661,\n",
       " 666,\n",
       " 671,\n",
       " 676,\n",
       " 681,\n",
       " 686,\n",
       " 691,\n",
       " 696,\n",
       " 701,\n",
       " 706,\n",
       " 711,\n",
       " 716,\n",
       " 721,\n",
       " 726,\n",
       " 731,\n",
       " 736,\n",
       " 741,\n",
       " 746,\n",
       " 751,\n",
       " 756,\n",
       " 761,\n",
       " 766,\n",
       " 771,\n",
       " 776,\n",
       " 781,\n",
       " 786,\n",
       " 791,\n",
       " 796,\n",
       " 801,\n",
       " 806,\n",
       " 811,\n",
       " 816,\n",
       " 821,\n",
       " 826,\n",
       " 831,\n",
       " 836,\n",
       " 841,\n",
       " 846,\n",
       " 851,\n",
       " 856,\n",
       " 861,\n",
       " 866,\n",
       " 871,\n",
       " 876,\n",
       " 881,\n",
       " 886,\n",
       " 891,\n",
       " 896,\n",
       " 901,\n",
       " 906,\n",
       " 911,\n",
       " 916,\n",
       " 921,\n",
       " 926,\n",
       " 931,\n",
       " 936,\n",
       " 941,\n",
       " 946,\n",
       " 951,\n",
       " 956,\n",
       " 961,\n",
       " 966,\n",
       " 971,\n",
       " 976,\n",
       " 981,\n",
       " 986,\n",
       " 991,\n",
       " 996]"
      ]
     },
     "execution_count": 131,
     "metadata": {},
     "output_type": "execute_result"
    }
   ],
   "source": [
    "abcd"
   ]
  },
  {
   "cell_type": "code",
   "execution_count": 132,
   "id": "eb40f05f",
   "metadata": {},
   "outputs": [],
   "source": [
    "abcd = list(range(2,11, 2))"
   ]
  },
  {
   "cell_type": "code",
   "execution_count": 133,
   "id": "6f123219",
   "metadata": {},
   "outputs": [
    {
     "data": {
      "text/plain": [
       "[2, 4, 6, 8, 10]"
      ]
     },
     "execution_count": 133,
     "metadata": {},
     "output_type": "execute_result"
    }
   ],
   "source": [
    "abcd"
   ]
  },
  {
   "cell_type": "code",
   "execution_count": 136,
   "id": "f3c97763",
   "metadata": {},
   "outputs": [
    {
     "data": {
      "text/plain": [
       "[10, 20, 30, 40, 50, 60, 70, 80, 90]"
      ]
     },
     "execution_count": 136,
     "metadata": {},
     "output_type": "execute_result"
    }
   ],
   "source": [
    "DEF = list(range(10,100, 10))\n",
    "DEF"
   ]
  },
  {
   "cell_type": "code",
   "execution_count": 138,
   "id": "cb36d060",
   "metadata": {},
   "outputs": [
    {
     "data": {
      "text/plain": [
       "[10, 20, 30, 40, 50, 60, 70, 80, 90, 10, 20]"
      ]
     },
     "execution_count": 138,
     "metadata": {},
     "output_type": "execute_result"
    }
   ],
   "source": [
    "newlist = [10, 20, 30, 40, 50, 60, 70, 80, 90, 10, 20]\n",
    "newlist"
   ]
  },
  {
   "cell_type": "code",
   "execution_count": 139,
   "id": "d8b3c121",
   "metadata": {},
   "outputs": [
    {
     "data": {
      "text/plain": [
       "{10, 20, 30, 40, 50, 60, 70, 80, 90}"
      ]
     },
     "execution_count": 139,
     "metadata": {},
     "output_type": "execute_result"
    }
   ],
   "source": [
    "seta = {10, 20, 30, 40, 50, 60, 70, 80, 90, 10, 20}\n",
    "seta"
   ]
  },
  {
   "cell_type": "code",
   "execution_count": 140,
   "id": "17c3551a",
   "metadata": {},
   "outputs": [
    {
     "ename": "TypeError",
     "evalue": "'set' object is not subscriptable",
     "output_type": "error",
     "traceback": [
      "\u001b[1;31m---------------------------------------------------------------------------\u001b[0m",
      "\u001b[1;31mTypeError\u001b[0m                                 Traceback (most recent call last)",
      "\u001b[1;32m~\\AppData\\Local\\Temp/ipykernel_3920/1007212050.py\u001b[0m in \u001b[0;36m<module>\u001b[1;34m\u001b[0m\n\u001b[1;32m----> 1\u001b[1;33m \u001b[0mseta\u001b[0m\u001b[1;33m[\u001b[0m\u001b[1;36m3\u001b[0m\u001b[1;33m]\u001b[0m\u001b[1;33m\u001b[0m\u001b[1;33m\u001b[0m\u001b[0m\n\u001b[0m",
      "\u001b[1;31mTypeError\u001b[0m: 'set' object is not subscriptable"
     ]
    }
   ],
   "source": [
    "seta[3]"
   ]
  },
  {
   "cell_type": "code",
   "execution_count": 141,
   "id": "b29b2125",
   "metadata": {},
   "outputs": [
    {
     "data": {
      "text/plain": [
       "set"
      ]
     },
     "execution_count": 141,
     "metadata": {},
     "output_type": "execute_result"
    }
   ],
   "source": [
    "type(seta)"
   ]
  },
  {
   "cell_type": "code",
   "execution_count": 142,
   "id": "703eb290",
   "metadata": {},
   "outputs": [
    {
     "data": {
      "text/plain": [
       "{1: 'Apple', 2: 'Banana', 3: 'Kiwi', 4: 'Mango'}"
      ]
     },
     "execution_count": 142,
     "metadata": {},
     "output_type": "execute_result"
    }
   ],
   "source": [
    "fruits = {\n",
    "    1 : \"Apple\",\n",
    "    2 : 'Banana',\n",
    "    3 : \"Kiwi\",\n",
    "    4 : 'Mango'\n",
    "}\n",
    "\n",
    "fruits"
   ]
  },
  {
   "cell_type": "code",
   "execution_count": 143,
   "id": "6235ea97",
   "metadata": {},
   "outputs": [
    {
     "data": {
      "text/plain": [
       "'Banana'"
      ]
     },
     "execution_count": 143,
     "metadata": {},
     "output_type": "execute_result"
    }
   ],
   "source": [
    "fruits[2]"
   ]
  },
  {
   "cell_type": "code",
   "execution_count": 144,
   "id": "da8d3d05",
   "metadata": {},
   "outputs": [
    {
     "data": {
      "text/plain": [
       "{'one': 'Apple', 'two': 'Banana', 'three': 'Kiwi', 'four': 'Mango'}"
      ]
     },
     "execution_count": 144,
     "metadata": {},
     "output_type": "execute_result"
    }
   ],
   "source": [
    "fruit2 = {\n",
    "    'one' : \"Apple\",\n",
    "    'two' : 'Banana',\n",
    "    'three' : \"Kiwi\",\n",
    "    'four' : 'Mango'\n",
    "}\n",
    "\n",
    "fruit2"
   ]
  },
  {
   "cell_type": "code",
   "execution_count": 147,
   "id": "4ab27ca0",
   "metadata": {},
   "outputs": [
    {
     "data": {
      "text/plain": [
       "'Apple'"
      ]
     },
     "execution_count": 147,
     "metadata": {},
     "output_type": "execute_result"
    }
   ],
   "source": [
    "fruit2['one']"
   ]
  },
  {
   "cell_type": "code",
   "execution_count": 148,
   "id": "df20748f",
   "metadata": {},
   "outputs": [
    {
     "data": {
      "text/plain": [
       "{'one': ['Apple', 'Banana', 'Mango'], 'price': (100, 50, 80)}"
      ]
     },
     "execution_count": 148,
     "metadata": {},
     "output_type": "execute_result"
    }
   ],
   "source": [
    "fruits2 = {\n",
    "    'one' : [\"Apple\", 'Banana', 'Mango'],\n",
    "    'price' : (100, 50, 80)\n",
    "\n",
    "}\n",
    "\n",
    "fruits2"
   ]
  },
  {
   "cell_type": "code",
   "execution_count": 149,
   "id": "64d0cc41",
   "metadata": {},
   "outputs": [
    {
     "data": {
      "text/plain": [
       "(100, 50, 80)"
      ]
     },
     "execution_count": 149,
     "metadata": {},
     "output_type": "execute_result"
    }
   ],
   "source": [
    "fruits2['price']"
   ]
  },
  {
   "cell_type": "code",
   "execution_count": 154,
   "id": "97ffd247",
   "metadata": {},
   "outputs": [
    {
     "data": {
      "text/plain": [
       "dict_keys(['one', 'price'])"
      ]
     },
     "execution_count": 154,
     "metadata": {},
     "output_type": "execute_result"
    }
   ],
   "source": [
    "fruits2.keys()"
   ]
  },
  {
   "cell_type": "code",
   "execution_count": 155,
   "id": "c303faf8",
   "metadata": {},
   "outputs": [
    {
     "data": {
      "text/plain": [
       "dict_values([['Apple', 'Banana', 'Mango'], (100, 50, 80)])"
      ]
     },
     "execution_count": 155,
     "metadata": {},
     "output_type": "execute_result"
    }
   ],
   "source": [
    "fruits2.values()"
   ]
  },
  {
   "cell_type": "code",
   "execution_count": null,
   "id": "6fbc287a",
   "metadata": {},
   "outputs": [],
   "source": []
  },
  {
   "cell_type": "code",
   "execution_count": 156,
   "id": "5387740e",
   "metadata": {},
   "outputs": [
    {
     "data": {
      "text/plain": [
       "dict_items([('one', ['Apple', 'Banana', 'Mango']), ('price', (100, 50, 80))])"
      ]
     },
     "execution_count": 156,
     "metadata": {},
     "output_type": "execute_result"
    }
   ],
   "source": [
    "fruits2.items()"
   ]
  },
  {
   "cell_type": "code",
   "execution_count": null,
   "id": "39dc2591",
   "metadata": {},
   "outputs": [],
   "source": []
  }
 ],
 "metadata": {
  "kernelspec": {
   "display_name": "Python 3 (ipykernel)",
   "language": "python",
   "name": "python3"
  },
  "language_info": {
   "codemirror_mode": {
    "name": "ipython",
    "version": 3
   },
   "file_extension": ".py",
   "mimetype": "text/x-python",
   "name": "python",
   "nbconvert_exporter": "python",
   "pygments_lexer": "ipython3",
   "version": "3.9.7"
  }
 },
 "nbformat": 4,
 "nbformat_minor": 5
}
