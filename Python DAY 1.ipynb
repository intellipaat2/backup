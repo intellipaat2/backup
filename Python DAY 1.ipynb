{
 "cells": [
  {
   "cell_type": "code",
   "execution_count": 8,
   "id": "b62abf6c",
   "metadata": {},
   "outputs": [
    {
     "name": "stdout",
     "output_type": "stream",
     "text": [
      "Python is Awesome\n"
     ]
    }
   ],
   "source": [
    "print(\"Python is Awesome\")"
   ]
  },
  {
   "cell_type": "markdown",
   "id": "0322ff78",
   "metadata": {},
   "source": [
    "# Variables"
   ]
  },
  {
   "cell_type": "code",
   "execution_count": 9,
   "id": "d067b9b7",
   "metadata": {},
   "outputs": [],
   "source": [
    "a = 10"
   ]
  },
  {
   "cell_type": "code",
   "execution_count": 10,
   "id": "3184d6b1",
   "metadata": {},
   "outputs": [
    {
     "name": "stdout",
     "output_type": "stream",
     "text": [
      "10\n"
     ]
    }
   ],
   "source": [
    "print(a)"
   ]
  },
  {
   "cell_type": "code",
   "execution_count": 11,
   "id": "28951ef0",
   "metadata": {},
   "outputs": [
    {
     "data": {
      "text/plain": [
       "10"
      ]
     },
     "execution_count": 11,
     "metadata": {},
     "output_type": "execute_result"
    }
   ],
   "source": [
    "a"
   ]
  },
  {
   "cell_type": "code",
   "execution_count": 13,
   "id": "2ebbb6a1",
   "metadata": {},
   "outputs": [
    {
     "data": {
      "text/plain": [
       "'Python'"
      ]
     },
     "execution_count": 13,
     "metadata": {},
     "output_type": "execute_result"
    }
   ],
   "source": [
    "A = \"Python\"\n",
    "A"
   ]
  },
  {
   "cell_type": "code",
   "execution_count": 14,
   "id": "0ac8dbbf",
   "metadata": {},
   "outputs": [
    {
     "data": {
      "text/plain": [
       "int"
      ]
     },
     "execution_count": 14,
     "metadata": {},
     "output_type": "execute_result"
    }
   ],
   "source": [
    "type(a)"
   ]
  },
  {
   "cell_type": "code",
   "execution_count": 15,
   "id": "64f50a67",
   "metadata": {},
   "outputs": [
    {
     "data": {
      "text/plain": [
       "str"
      ]
     },
     "execution_count": 15,
     "metadata": {},
     "output_type": "execute_result"
    }
   ],
   "source": [
    "type(A)"
   ]
  },
  {
   "cell_type": "code",
   "execution_count": 16,
   "id": "f331e1c7",
   "metadata": {},
   "outputs": [],
   "source": [
    "# a-z, A-Z,0-9, _"
   ]
  },
  {
   "cell_type": "code",
   "execution_count": 17,
   "id": "58024355",
   "metadata": {},
   "outputs": [],
   "source": [
    "var96_able = 776867"
   ]
  },
  {
   "cell_type": "code",
   "execution_count": 18,
   "id": "b94f0621",
   "metadata": {},
   "outputs": [
    {
     "data": {
      "text/plain": [
       "77"
      ]
     },
     "execution_count": 18,
     "metadata": {},
     "output_type": "execute_result"
    }
   ],
   "source": [
    "var9"
   ]
  },
  {
   "cell_type": "code",
   "execution_count": 19,
   "id": "6e3ef9e8",
   "metadata": {},
   "outputs": [
    {
     "ename": "SyntaxError",
     "evalue": "invalid syntax (Temp/ipykernel_11468/3005842602.py, line 1)",
     "output_type": "error",
     "traceback": [
      "\u001b[1;36m  File \u001b[1;32m\"C:\\Users\\Admin\\AppData\\Local\\Temp/ipykernel_11468/3005842602.py\"\u001b[1;36m, line \u001b[1;32m1\u001b[0m\n\u001b[1;33m    9var = 99\u001b[0m\n\u001b[1;37m     ^\u001b[0m\n\u001b[1;31mSyntaxError\u001b[0m\u001b[1;31m:\u001b[0m invalid syntax\n"
     ]
    }
   ],
   "source": [
    "9var = 99\n",
    "9var"
   ]
  },
  {
   "cell_type": "code",
   "execution_count": 20,
   "id": "66421f8f",
   "metadata": {},
   "outputs": [],
   "source": [
    "c = 10\n",
    "count = 10"
   ]
  },
  {
   "cell_type": "code",
   "execution_count": 21,
   "id": "4251a372",
   "metadata": {},
   "outputs": [],
   "source": [
    "# sumofnumbers"
   ]
  },
  {
   "cell_type": "code",
   "execution_count": 24,
   "id": "c0a48327",
   "metadata": {},
   "outputs": [],
   "source": [
    "#camel_case\n",
    "# sumOfNumber"
   ]
  },
  {
   "cell_type": "code",
   "execution_count": null,
   "id": "bd6659b1",
   "metadata": {},
   "outputs": [],
   "source": [
    "#pascal\n",
    "#SumOfNumber"
   ]
  },
  {
   "cell_type": "code",
   "execution_count": 25,
   "id": "3122b403",
   "metadata": {},
   "outputs": [],
   "source": [
    "# snake case\n",
    "#sum_of_numbers"
   ]
  },
  {
   "cell_type": "code",
   "execution_count": 26,
   "id": "45e861c1",
   "metadata": {},
   "outputs": [],
   "source": [
    "var1, var2 = 10, 20"
   ]
  },
  {
   "cell_type": "code",
   "execution_count": 27,
   "id": "0f234034",
   "metadata": {},
   "outputs": [
    {
     "data": {
      "text/plain": [
       "10"
      ]
     },
     "execution_count": 27,
     "metadata": {},
     "output_type": "execute_result"
    }
   ],
   "source": [
    "var1"
   ]
  },
  {
   "cell_type": "code",
   "execution_count": 28,
   "id": "b482802f",
   "metadata": {
    "scrolled": true
   },
   "outputs": [
    {
     "data": {
      "text/plain": [
       "20"
      ]
     },
     "execution_count": 28,
     "metadata": {},
     "output_type": "execute_result"
    }
   ],
   "source": [
    "var2"
   ]
  },
  {
   "cell_type": "code",
   "execution_count": 34,
   "id": "39f5c96a",
   "metadata": {
    "scrolled": false
   },
   "outputs": [
    {
     "name": "stdout",
     "output_type": "stream",
     "text": [
      "10 20\n"
     ]
    }
   ],
   "source": [
    "print(var1, var2)"
   ]
  },
  {
   "cell_type": "code",
   "execution_count": 64,
   "id": "e4cf4cc2",
   "metadata": {},
   "outputs": [
    {
     "name": "stdout",
     "output_type": "stream",
     "text": [
      "Ajay \n",
      "Swaraj\n"
     ]
    }
   ],
   "source": [
    "print(\"Ajay\", \"\\nSwaraj\")"
   ]
  },
  {
   "cell_type": "code",
   "execution_count": 37,
   "id": "2f84a0ab",
   "metadata": {
    "scrolled": true
   },
   "outputs": [
    {
     "name": "stdout",
     "output_type": "stream",
     "text": [
      "Value of val1 :  10 \n",
      "Value of val2 :  20\n"
     ]
    }
   ],
   "source": [
    "print(\"Value of val1 : \", var1, \"\\nValue of val2 : \", var2)"
   ]
  },
  {
   "cell_type": "code",
   "execution_count": 44,
   "id": "37b44b43",
   "metadata": {},
   "outputs": [
    {
     "name": "stdout",
     "output_type": "stream",
     "text": [
      "Value of val1 :  10 \n",
      "Value of val2 :  20\n"
     ]
    }
   ],
   "source": [
    "print(\"Value of val1 : \", var1, \"\\nValue of val2 : \", var2)"
   ]
  },
  {
   "cell_type": "code",
   "execution_count": 29,
   "id": "a4784ea0",
   "metadata": {},
   "outputs": [
    {
     "data": {
      "text/plain": [
       "<function print>"
      ]
     },
     "execution_count": 29,
     "metadata": {},
     "output_type": "execute_result"
    }
   ],
   "source": [
    "print"
   ]
  },
  {
   "cell_type": "code",
   "execution_count": 30,
   "id": "d83ec031",
   "metadata": {},
   "outputs": [
    {
     "name": "stdout",
     "output_type": "stream",
     "text": [
      "Python\n"
     ]
    }
   ],
   "source": [
    "print('Python')"
   ]
  },
  {
   "cell_type": "code",
   "execution_count": 31,
   "id": "5e3a3abd",
   "metadata": {},
   "outputs": [
    {
     "name": "stdout",
     "output_type": "stream",
     "text": [
      "8\n"
     ]
    }
   ],
   "source": [
    "print(8)"
   ]
  },
  {
   "cell_type": "code",
   "execution_count": 32,
   "id": "4d3b63fd",
   "metadata": {},
   "outputs": [
    {
     "name": "stdout",
     "output_type": "stream",
     "text": [
      "Print\n"
     ]
    }
   ],
   "source": [
    "print('Print')"
   ]
  },
  {
   "cell_type": "code",
   "execution_count": 33,
   "id": "cce6428d",
   "metadata": {},
   "outputs": [
    {
     "data": {
      "text/plain": [
       "3"
      ]
     },
     "execution_count": 33,
     "metadata": {},
     "output_type": "execute_result"
    }
   ],
   "source": [
    "var_a = 3\n",
    "var_a"
   ]
  },
  {
   "cell_type": "code",
   "execution_count": 38,
   "id": "bbdac95f",
   "metadata": {},
   "outputs": [],
   "source": [
    "_var = 6"
   ]
  },
  {
   "cell_type": "markdown",
   "id": "419691fc",
   "metadata": {},
   "source": [
    "# _var"
   ]
  },
  {
   "cell_type": "code",
   "execution_count": 45,
   "id": "1b283e1b",
   "metadata": {},
   "outputs": [],
   "source": [
    "var = 78.9"
   ]
  },
  {
   "cell_type": "code",
   "execution_count": 46,
   "id": "aed65bce",
   "metadata": {},
   "outputs": [
    {
     "data": {
      "text/plain": [
       "float"
      ]
     },
     "execution_count": 46,
     "metadata": {},
     "output_type": "execute_result"
    }
   ],
   "source": [
    "type(var)"
   ]
  },
  {
   "cell_type": "markdown",
   "id": "e8eb5c78",
   "metadata": {},
   "source": [
    "# Operators"
   ]
  },
  {
   "cell_type": "markdown",
   "id": "f6ee213e",
   "metadata": {},
   "source": [
    "## Arithmetic operators"
   ]
  },
  {
   "cell_type": "code",
   "execution_count": 47,
   "id": "be68e7a4",
   "metadata": {},
   "outputs": [
    {
     "data": {
      "text/plain": [
       "10"
      ]
     },
     "execution_count": 47,
     "metadata": {},
     "output_type": "execute_result"
    }
   ],
   "source": [
    "10"
   ]
  },
  {
   "cell_type": "code",
   "execution_count": 48,
   "id": "079cc859",
   "metadata": {},
   "outputs": [
    {
     "data": {
      "text/plain": [
       "30"
      ]
     },
     "execution_count": 48,
     "metadata": {},
     "output_type": "execute_result"
    }
   ],
   "source": [
    "10 + 20"
   ]
  },
  {
   "cell_type": "code",
   "execution_count": 49,
   "id": "6a4c1217",
   "metadata": {},
   "outputs": [
    {
     "name": "stdout",
     "output_type": "stream",
     "text": [
      "30\n"
     ]
    }
   ],
   "source": [
    "print(10 + 20)"
   ]
  },
  {
   "cell_type": "code",
   "execution_count": 56,
   "id": "1a19963a",
   "metadata": {},
   "outputs": [
    {
     "name": "stdout",
     "output_type": "stream",
     "text": [
      "31\n"
     ]
    }
   ],
   "source": [
    "a=10\n",
    "b=21\n",
    "print(a+b)"
   ]
  },
  {
   "cell_type": "code",
   "execution_count": 51,
   "id": "c9c87259",
   "metadata": {},
   "outputs": [
    {
     "name": "stdout",
     "output_type": "stream",
     "text": [
      "10\n"
     ]
    }
   ],
   "source": [
    "print(b-a)"
   ]
  },
  {
   "cell_type": "code",
   "execution_count": 52,
   "id": "f45d6242",
   "metadata": {},
   "outputs": [
    {
     "name": "stdout",
     "output_type": "stream",
     "text": [
      "200\n"
     ]
    }
   ],
   "source": [
    "print(a*b)"
   ]
  },
  {
   "cell_type": "code",
   "execution_count": 53,
   "id": "ae0988b7",
   "metadata": {},
   "outputs": [
    {
     "name": "stdout",
     "output_type": "stream",
     "text": [
      "0.5\n"
     ]
    }
   ],
   "source": [
    "print(a/b)"
   ]
  },
  {
   "cell_type": "code",
   "execution_count": 57,
   "id": "4368c419",
   "metadata": {},
   "outputs": [
    {
     "name": "stdout",
     "output_type": "stream",
     "text": [
      "2.1\n"
     ]
    }
   ],
   "source": [
    "print(b/a)"
   ]
  },
  {
   "cell_type": "code",
   "execution_count": 59,
   "id": "5049cf16",
   "metadata": {},
   "outputs": [
    {
     "name": "stdout",
     "output_type": "stream",
     "text": [
      "2\n"
     ]
    }
   ],
   "source": [
    "#floor division\n",
    "print(b//a)"
   ]
  },
  {
   "cell_type": "code",
   "execution_count": 60,
   "id": "60240798",
   "metadata": {},
   "outputs": [
    {
     "name": "stdout",
     "output_type": "stream",
     "text": [
      "1\n"
     ]
    }
   ],
   "source": [
    "#modulus operator\n",
    "print(b%a)"
   ]
  },
  {
   "cell_type": "code",
   "execution_count": 61,
   "id": "30125d26",
   "metadata": {},
   "outputs": [
    {
     "name": "stdout",
     "output_type": "stream",
     "text": [
      "9\n"
     ]
    }
   ],
   "source": [
    "print(3**2)"
   ]
  },
  {
   "cell_type": "code",
   "execution_count": 62,
   "id": "69562d2a",
   "metadata": {},
   "outputs": [
    {
     "data": {
      "text/plain": [
       "11"
      ]
     },
     "execution_count": 62,
     "metadata": {},
     "output_type": "execute_result"
    }
   ],
   "source": [
    "b - 10"
   ]
  },
  {
   "cell_type": "code",
   "execution_count": 65,
   "id": "1fbf497f",
   "metadata": {},
   "outputs": [
    {
     "data": {
      "text/plain": [
       "21"
      ]
     },
     "execution_count": 65,
     "metadata": {},
     "output_type": "execute_result"
    }
   ],
   "source": [
    "b"
   ]
  },
  {
   "cell_type": "markdown",
   "id": "d559f77b",
   "metadata": {},
   "source": [
    "## Assignment operators"
   ]
  },
  {
   "cell_type": "code",
   "execution_count": 66,
   "id": "1b17c19d",
   "metadata": {},
   "outputs": [
    {
     "data": {
      "text/plain": [
       "31"
      ]
     },
     "execution_count": 66,
     "metadata": {},
     "output_type": "execute_result"
    }
   ],
   "source": [
    "b = b + 10\n",
    "b"
   ]
  },
  {
   "cell_type": "code",
   "execution_count": 67,
   "id": "89ac9a09",
   "metadata": {},
   "outputs": [
    {
     "data": {
      "text/plain": [
       "41"
      ]
     },
     "execution_count": 67,
     "metadata": {},
     "output_type": "execute_result"
    }
   ],
   "source": [
    "b += 10           # b = b + 10\n",
    "b"
   ]
  },
  {
   "cell_type": "markdown",
   "id": "57810cbb",
   "metadata": {},
   "source": [
    "## Comparision operators"
   ]
  },
  {
   "cell_type": "code",
   "execution_count": 69,
   "id": "4e4cace8",
   "metadata": {},
   "outputs": [
    {
     "data": {
      "text/plain": [
       "False"
      ]
     },
     "execution_count": 69,
     "metadata": {},
     "output_type": "execute_result"
    }
   ],
   "source": [
    "#==   equal to\n",
    "\n",
    "10 == 11"
   ]
  },
  {
   "cell_type": "code",
   "execution_count": 71,
   "id": "e92ca720",
   "metadata": {},
   "outputs": [
    {
     "data": {
      "text/plain": [
       "True"
      ]
     },
     "execution_count": 71,
     "metadata": {},
     "output_type": "execute_result"
    }
   ],
   "source": [
    "#equal to\n",
    "\n",
    "10 != 11"
   ]
  },
  {
   "cell_type": "code",
   "execution_count": 72,
   "id": "cb3982e7",
   "metadata": {},
   "outputs": [
    {
     "data": {
      "text/plain": [
       "False"
      ]
     },
     "execution_count": 72,
     "metadata": {},
     "output_type": "execute_result"
    }
   ],
   "source": [
    "a == b"
   ]
  },
  {
   "cell_type": "code",
   "execution_count": 73,
   "id": "8a485e6b",
   "metadata": {},
   "outputs": [
    {
     "data": {
      "text/plain": [
       "True"
      ]
     },
     "execution_count": 73,
     "metadata": {},
     "output_type": "execute_result"
    }
   ],
   "source": [
    "#greater than and equal\n",
    "\n",
    "b >= a"
   ]
  },
  {
   "cell_type": "code",
   "execution_count": 76,
   "id": "119e537d",
   "metadata": {},
   "outputs": [
    {
     "data": {
      "text/plain": [
       "True"
      ]
     },
     "execution_count": 76,
     "metadata": {},
     "output_type": "execute_result"
    }
   ],
   "source": [
    "b > a"
   ]
  },
  {
   "cell_type": "code",
   "execution_count": 77,
   "id": "be911b15",
   "metadata": {},
   "outputs": [
    {
     "data": {
      "text/plain": [
       "False"
      ]
     },
     "execution_count": 77,
     "metadata": {},
     "output_type": "execute_result"
    }
   ],
   "source": [
    "b < a"
   ]
  },
  {
   "cell_type": "code",
   "execution_count": 74,
   "id": "cd0603ed",
   "metadata": {
    "scrolled": true
   },
   "outputs": [
    {
     "data": {
      "text/plain": [
       "False"
      ]
     },
     "execution_count": 74,
     "metadata": {},
     "output_type": "execute_result"
    }
   ],
   "source": [
    "#less than and equal\n",
    "b <= a"
   ]
  },
  {
   "cell_type": "code",
   "execution_count": 75,
   "id": "5639234a",
   "metadata": {},
   "outputs": [
    {
     "data": {
      "text/plain": [
       "True"
      ]
     },
     "execution_count": 75,
     "metadata": {},
     "output_type": "execute_result"
    }
   ],
   "source": [
    "10 <= 10"
   ]
  },
  {
   "cell_type": "markdown",
   "id": "4cff5a82",
   "metadata": {},
   "source": [
    "## Logical operators"
   ]
  },
  {
   "cell_type": "code",
   "execution_count": 78,
   "id": "bbcea0fd",
   "metadata": {},
   "outputs": [
    {
     "data": {
      "text/plain": [
       "True"
      ]
     },
     "execution_count": 78,
     "metadata": {},
     "output_type": "execute_result"
    }
   ],
   "source": [
    "True or False                  # 1 0r 0"
   ]
  },
  {
   "cell_type": "code",
   "execution_count": 79,
   "id": "81eafa16",
   "metadata": {},
   "outputs": [
    {
     "data": {
      "text/plain": [
       "True"
      ]
     },
     "execution_count": 79,
     "metadata": {},
     "output_type": "execute_result"
    }
   ],
   "source": [
    "False or True"
   ]
  },
  {
   "cell_type": "code",
   "execution_count": 80,
   "id": "58821337",
   "metadata": {},
   "outputs": [
    {
     "data": {
      "text/plain": [
       "True"
      ]
     },
     "execution_count": 80,
     "metadata": {},
     "output_type": "execute_result"
    }
   ],
   "source": [
    "True or True"
   ]
  },
  {
   "cell_type": "code",
   "execution_count": 81,
   "id": "5e7f9d2e",
   "metadata": {},
   "outputs": [
    {
     "data": {
      "text/plain": [
       "False"
      ]
     },
     "execution_count": 81,
     "metadata": {},
     "output_type": "execute_result"
    }
   ],
   "source": [
    "False or False"
   ]
  },
  {
   "cell_type": "code",
   "execution_count": 82,
   "id": "a447d47e",
   "metadata": {},
   "outputs": [
    {
     "data": {
      "text/plain": [
       "True"
      ]
     },
     "execution_count": 82,
     "metadata": {},
     "output_type": "execute_result"
    }
   ],
   "source": [
    "True and True"
   ]
  },
  {
   "cell_type": "code",
   "execution_count": 83,
   "id": "1f63290d",
   "metadata": {},
   "outputs": [
    {
     "data": {
      "text/plain": [
       "False"
      ]
     },
     "execution_count": 83,
     "metadata": {},
     "output_type": "execute_result"
    }
   ],
   "source": [
    "False and False"
   ]
  },
  {
   "cell_type": "code",
   "execution_count": 84,
   "id": "8a8a4502",
   "metadata": {},
   "outputs": [
    {
     "data": {
      "text/plain": [
       "False"
      ]
     },
     "execution_count": 84,
     "metadata": {},
     "output_type": "execute_result"
    }
   ],
   "source": [
    "True and False     "
   ]
  },
  {
   "cell_type": "code",
   "execution_count": 85,
   "id": "5d5eddb1",
   "metadata": {},
   "outputs": [],
   "source": [
    "x = 10\n",
    "y = 15"
   ]
  },
  {
   "cell_type": "code",
   "execution_count": 86,
   "id": "f487b02c",
   "metadata": {},
   "outputs": [
    {
     "data": {
      "text/plain": [
       "True"
      ]
     },
     "execution_count": 86,
     "metadata": {},
     "output_type": "execute_result"
    }
   ],
   "source": [
    "x > 5 or y < 10            # True or False"
   ]
  },
  {
   "cell_type": "code",
   "execution_count": 87,
   "id": "97dc27d7",
   "metadata": {},
   "outputs": [
    {
     "data": {
      "text/plain": [
       "False"
      ]
     },
     "execution_count": 87,
     "metadata": {},
     "output_type": "execute_result"
    }
   ],
   "source": [
    "x > 5 and y < 10"
   ]
  },
  {
   "cell_type": "code",
   "execution_count": 88,
   "id": "634c4ba0",
   "metadata": {},
   "outputs": [
    {
     "data": {
      "text/plain": [
       "True"
      ]
     },
     "execution_count": 88,
     "metadata": {},
     "output_type": "execute_result"
    }
   ],
   "source": [
    "not(x > 5 and y < 10)"
   ]
  },
  {
   "cell_type": "markdown",
   "id": "142d716f",
   "metadata": {},
   "source": [
    "## Membership operators"
   ]
  },
  {
   "cell_type": "code",
   "execution_count": 116,
   "id": "9f420888",
   "metadata": {},
   "outputs": [
    {
     "data": {
      "text/plain": [
       "False"
      ]
     },
     "execution_count": 116,
     "metadata": {},
     "output_type": "execute_result"
    }
   ],
   "source": [
    "#in\n",
    "list1 = [1,2,35,6]\n",
    "\n",
    "5 in list1"
   ]
  },
  {
   "cell_type": "code",
   "execution_count": 90,
   "id": "a9ebe38e",
   "metadata": {},
   "outputs": [
    {
     "data": {
      "text/plain": [
       "True"
      ]
     },
     "execution_count": 90,
     "metadata": {},
     "output_type": "execute_result"
    }
   ],
   "source": [
    "5 not in list1"
   ]
  },
  {
   "cell_type": "markdown",
   "id": "98bdd354",
   "metadata": {},
   "source": [
    "## Identity operators"
   ]
  },
  {
   "cell_type": "code",
   "execution_count": 92,
   "id": "b70c21c9",
   "metadata": {},
   "outputs": [],
   "source": [
    "y = z = 10"
   ]
  },
  {
   "cell_type": "code",
   "execution_count": 93,
   "id": "2dd1549e",
   "metadata": {},
   "outputs": [
    {
     "data": {
      "text/plain": [
       "10"
      ]
     },
     "execution_count": 93,
     "metadata": {},
     "output_type": "execute_result"
    }
   ],
   "source": [
    "y"
   ]
  },
  {
   "cell_type": "code",
   "execution_count": 94,
   "id": "eb51b14b",
   "metadata": {},
   "outputs": [
    {
     "data": {
      "text/plain": [
       "10"
      ]
     },
     "execution_count": 94,
     "metadata": {},
     "output_type": "execute_result"
    }
   ],
   "source": [
    "z"
   ]
  },
  {
   "cell_type": "code",
   "execution_count": 95,
   "id": "2274bca5",
   "metadata": {},
   "outputs": [
    {
     "data": {
      "text/plain": [
       "True"
      ]
     },
     "execution_count": 95,
     "metadata": {},
     "output_type": "execute_result"
    }
   ],
   "source": [
    "y is z"
   ]
  },
  {
   "cell_type": "code",
   "execution_count": 96,
   "id": "20e83aa5",
   "metadata": {},
   "outputs": [
    {
     "data": {
      "text/plain": [
       "False"
      ]
     },
     "execution_count": 96,
     "metadata": {},
     "output_type": "execute_result"
    }
   ],
   "source": [
    "y is not z"
   ]
  },
  {
   "cell_type": "markdown",
   "id": "39234ce3",
   "metadata": {},
   "source": [
    "# Bitwise operators"
   ]
  },
  {
   "cell_type": "code",
   "execution_count": 106,
   "id": "cbb8ee4b",
   "metadata": {},
   "outputs": [],
   "source": [
    "def decimaltobinary(num):\n",
    "    if num >= 1:\n",
    "        decimaltobinary(num//2)\n",
    "        print(num%2, end = '')"
   ]
  },
  {
   "cell_type": "code",
   "execution_count": 98,
   "id": "e99642ef",
   "metadata": {},
   "outputs": [
    {
     "data": {
      "text/plain": [
       "2"
      ]
     },
     "execution_count": 98,
     "metadata": {},
     "output_type": "execute_result"
    }
   ],
   "source": [
    "10 >> 2"
   ]
  },
  {
   "cell_type": "code",
   "execution_count": 99,
   "id": "08655ca7",
   "metadata": {},
   "outputs": [],
   "source": [
    "#1010         _ _ 10    0010"
   ]
  },
  {
   "cell_type": "code",
   "execution_count": 100,
   "id": "c031d460",
   "metadata": {},
   "outputs": [
    {
     "data": {
      "text/plain": [
       "6"
      ]
     },
     "execution_count": 100,
     "metadata": {},
     "output_type": "execute_result"
    }
   ],
   "source": [
    "12 >> 1       #  1100     _110      0110"
   ]
  },
  {
   "cell_type": "code",
   "execution_count": 105,
   "id": "89f2d71e",
   "metadata": {},
   "outputs": [
    {
     "name": "stdout",
     "output_type": "stream",
     "text": [
      "1100"
     ]
    }
   ],
   "source": [
    "decimaltobinary(12)"
   ]
  },
  {
   "cell_type": "code",
   "execution_count": 107,
   "id": "57915a6b",
   "metadata": {},
   "outputs": [
    {
     "name": "stdout",
     "output_type": "stream",
     "text": [
      "110"
     ]
    }
   ],
   "source": [
    "decimaltobinary(6)"
   ]
  },
  {
   "cell_type": "code",
   "execution_count": 108,
   "id": "d73d292b",
   "metadata": {},
   "outputs": [
    {
     "data": {
      "text/plain": [
       "24"
      ]
     },
     "execution_count": 108,
     "metadata": {},
     "output_type": "execute_result"
    }
   ],
   "source": [
    "12 << 1                           # 1100         1100 _        11000"
   ]
  },
  {
   "cell_type": "code",
   "execution_count": 109,
   "id": "d58a6e35",
   "metadata": {},
   "outputs": [
    {
     "name": "stdout",
     "output_type": "stream",
     "text": [
      "11000"
     ]
    }
   ],
   "source": [
    "decimaltobinary(24)"
   ]
  },
  {
   "cell_type": "code",
   "execution_count": 110,
   "id": "e6283df4",
   "metadata": {},
   "outputs": [
    {
     "data": {
      "text/plain": [
       "60"
      ]
     },
     "execution_count": 110,
     "metadata": {},
     "output_type": "execute_result"
    }
   ],
   "source": [
    "15 << 2                "
   ]
  },
  {
   "cell_type": "code",
   "execution_count": 111,
   "id": "c8247fc7",
   "metadata": {},
   "outputs": [
    {
     "name": "stdout",
     "output_type": "stream",
     "text": [
      "1111"
     ]
    }
   ],
   "source": [
    "decimaltobinary(15)                #   1111           1111_ _              111100"
   ]
  },
  {
   "cell_type": "code",
   "execution_count": 112,
   "id": "12ce3a4b",
   "metadata": {},
   "outputs": [
    {
     "name": "stdout",
     "output_type": "stream",
     "text": [
      "111100"
     ]
    }
   ],
   "source": [
    "decimaltobinary(60) "
   ]
  },
  {
   "cell_type": "code",
   "execution_count": 113,
   "id": "c5519aba",
   "metadata": {},
   "outputs": [
    {
     "data": {
      "text/plain": [
       "0"
      ]
     },
     "execution_count": 113,
     "metadata": {},
     "output_type": "execute_result"
    }
   ],
   "source": [
    "12 >> 5"
   ]
  },
  {
   "cell_type": "code",
   "execution_count": 114,
   "id": "95f0b8e5",
   "metadata": {},
   "outputs": [],
   "source": [
    "# to add a cell above current cell HIT    a\n",
    "# to add a cell below current cell HIT    b\n",
    "# to delete  current cell HIT            dd\n",
    "# to run the cell                        shift + enter"
   ]
  },
  {
   "cell_type": "code",
   "execution_count": 117,
   "id": "262c1a24",
   "metadata": {},
   "outputs": [
    {
     "data": {
      "text/plain": [
       "10"
      ]
     },
     "execution_count": 117,
     "metadata": {},
     "output_type": "execute_result"
    }
   ],
   "source": [
    "20 >> 1                   "
   ]
  },
  {
   "cell_type": "code",
   "execution_count": 118,
   "id": "b3ebed13",
   "metadata": {},
   "outputs": [
    {
     "name": "stdout",
     "output_type": "stream",
     "text": [
      "10100"
     ]
    }
   ],
   "source": [
    "decimaltobinary(20)                      #  10100       _ 1010            01010"
   ]
  },
  {
   "cell_type": "code",
   "execution_count": 119,
   "id": "b7c67e84",
   "metadata": {},
   "outputs": [
    {
     "name": "stdout",
     "output_type": "stream",
     "text": [
      "1010"
     ]
    }
   ],
   "source": [
    "decimaltobinary(10)                   "
   ]
  },
  {
   "cell_type": "code",
   "execution_count": 120,
   "id": "fe41b909",
   "metadata": {},
   "outputs": [
    {
     "data": {
      "text/plain": [
       "5"
      ]
     },
     "execution_count": 120,
     "metadata": {},
     "output_type": "execute_result"
    }
   ],
   "source": [
    "20 >> 2                      #  10100       _ 101            0101"
   ]
  },
  {
   "cell_type": "code",
   "execution_count": null,
   "id": "2b22bae7",
   "metadata": {},
   "outputs": [],
   "source": []
  }
 ],
 "metadata": {
  "kernelspec": {
   "display_name": "Python 3 (ipykernel)",
   "language": "python",
   "name": "python3"
  },
  "language_info": {
   "codemirror_mode": {
    "name": "ipython",
    "version": 3
   },
   "file_extension": ".py",
   "mimetype": "text/x-python",
   "name": "python",
   "nbconvert_exporter": "python",
   "pygments_lexer": "ipython3",
   "version": "3.9.7"
  }
 },
 "nbformat": 4,
 "nbformat_minor": 5
}
