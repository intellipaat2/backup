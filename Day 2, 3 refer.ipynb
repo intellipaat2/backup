{
 "cells": [
  {
   "cell_type": "code",
   "execution_count": 3,
   "id": "99c0ef50",
   "metadata": {},
   "outputs": [
    {
     "data": {
      "text/plain": [
       "4"
      ]
     },
     "execution_count": 3,
     "metadata": {},
     "output_type": "execute_result"
    }
   ],
   "source": [
    "Dict = {'Tim': 18,'Charlie':12,'Tiffany':22,'Robert':25}\n",
    "Boys = {'Tim': 18,'Charlie':12,'Robert':25}\n",
    "Girls = {'Tiffany':22}\n",
    "len(Dict)"
   ]
  },
  {
   "cell_type": "code",
   "execution_count": 4,
   "id": "e4816208",
   "metadata": {},
   "outputs": [
    {
     "name": "stdout",
     "output_type": "stream",
     "text": [
      "{'username': 'XYZ', 'email': 'xyz@gmail.com', 'location': 'Mumbai', 'firstName': 'Nick', 'lastName': 'Price'}\n"
     ]
    }
   ],
   "source": [
    "my_dict1 = {\"username\": \"XYZ\", \"email\": \"xyz@gmail.com\", \"location\":\"Mumbai\"}\n",
    "\n",
    "my_dict2 = {\"firstName\" : \"Nick\", \"lastName\": \"Price\"}\n",
    "\n",
    "my_dict1.update(my_dict2)\n",
    "\n",
    "print(my_dict1)"
   ]
  },
  {
   "cell_type": "code",
   "execution_count": 5,
   "id": "8bdf6d05",
   "metadata": {},
   "outputs": [
    {
     "data": {
      "text/plain": [
       "True"
      ]
     },
     "execution_count": 5,
     "metadata": {},
     "output_type": "execute_result"
    }
   ],
   "source": [
    "\"firstName\" in my_dict2"
   ]
  },
  {
   "cell_type": "code",
   "execution_count": 7,
   "id": "dac9ad2c",
   "metadata": {},
   "outputs": [
    {
     "data": {
      "text/plain": [
       "['firstName', 'lastName']"
      ]
     },
     "execution_count": 7,
     "metadata": {},
     "output_type": "execute_result"
    }
   ],
   "source": [
    "sorted(my_dict2)"
   ]
  },
  {
   "cell_type": "code",
   "execution_count": 10,
   "id": "e02299f5",
   "metadata": {},
   "outputs": [
    {
     "data": {
      "text/plain": [
       "{1: 0, 2: 0, 3: 0, 4: 0, 7: 0}"
      ]
     },
     "execution_count": 10,
     "metadata": {},
     "output_type": "execute_result"
    }
   ],
   "source": [
    "my_dict1.fromkeys({1,2,3,4,7},0)"
   ]
  },
  {
   "cell_type": "code",
   "execution_count": 14,
   "id": "bb6b5292",
   "metadata": {},
   "outputs": [
    {
     "data": {
      "text/plain": [
       "27"
      ]
     },
     "execution_count": 14,
     "metadata": {},
     "output_type": "execute_result"
    }
   ],
   "source": [
    "lambda_cube = lambda y: y*y*y\n",
    "lambda_cube(3)"
   ]
  },
  {
   "cell_type": "code",
   "execution_count": 20,
   "id": "627f1ca1",
   "metadata": {},
   "outputs": [
    {
     "name": "stdout",
     "output_type": "stream",
     "text": [
      "2\n"
     ]
    }
   ],
   "source": [
    "Max = lambda a, b : a if(a > b) else b\n",
    " \n",
    "print(Max(1, 2))"
   ]
  },
  {
   "cell_type": "code",
   "execution_count": 26,
   "id": "90e9a335",
   "metadata": {},
   "outputs": [
    {
     "name": "stdout",
     "output_type": "stream",
     "text": [
      "[[2, 3, 4], [1, 4, 4, 16], [1, 3, 6, 9]]\n"
     ]
    }
   ],
   "source": [
    "List = [[4,3,2],[1, 4, 16, 4],[3, 6, 9, 1]]\n",
    " \n",
    "# Sort each sublist\n",
    "sortList = lambda x: (sorted(i) for i in x)\n",
    "print(list(sortList(List)))"
   ]
  },
  {
   "cell_type": "code",
   "execution_count": 27,
   "id": "a5ae29f6",
   "metadata": {},
   "outputs": [
    {
     "name": "stdout",
     "output_type": "stream",
     "text": [
      "[5, 7, 97, 77, 23, 73, 61]\n"
     ]
    }
   ],
   "source": [
    "li = [5, 7, 22, 97, 54, 62, 77, 23, 73, 61]\n",
    " \n",
    "final_list = list(filter(lambda x: (x%2 != 0) , li))\n",
    "print(final_list)"
   ]
  },
  {
   "cell_type": "code",
   "execution_count": null,
   "id": "daa540ad",
   "metadata": {},
   "outputs": [],
   "source": []
  },
  {
   "cell_type": "code",
   "execution_count": 6,
   "id": "d6d82078",
   "metadata": {},
   "outputs": [],
   "source": [
    "# any, all nested, join , map, filter"
   ]
  },
  {
   "cell_type": "code",
   "execution_count": 30,
   "id": "dd2942e1",
   "metadata": {},
   "outputs": [
    {
     "name": "stdout",
     "output_type": "stream",
     "text": [
      "1 2 3\n"
     ]
    },
    {
     "data": {
      "text/plain": [
       "[1, 2, 3]"
      ]
     },
     "execution_count": 30,
     "metadata": {},
     "output_type": "execute_result"
    }
   ],
   "source": [
    "j = list(map(int, input().split(' ')))\n",
    "j"
   ]
  },
  {
   "cell_type": "code",
   "execution_count": 29,
   "id": "7d08571b",
   "metadata": {},
   "outputs": [
    {
     "data": {
      "text/plain": [
       "int"
      ]
     },
     "execution_count": 29,
     "metadata": {},
     "output_type": "execute_result"
    }
   ],
   "source": [
    "type(j[0])"
   ]
  },
  {
   "cell_type": "code",
   "execution_count": 31,
   "id": "6791fefb",
   "metadata": {},
   "outputs": [],
   "source": [
    "people = {1: {'name': 'John', 'age': '27', 'sex': 'Male'},\n",
    "          2: {'name': 'Marie', 'age': '22', 'sex': 'Female'}}"
   ]
  },
  {
   "cell_type": "code",
   "execution_count": 37,
   "id": "f2d1f615",
   "metadata": {},
   "outputs": [
    {
     "name": "stdout",
     "output_type": "stream",
     "text": [
      "\n",
      "Person ID: 2\n",
      "name: Marie\n",
      "age: 22\n",
      "sex: Female\n"
     ]
    }
   ],
   "source": [
    "for p_id, p_info in people.items():\n",
    "    if p_id == 2:\n",
    "        print(\"\\nPerson ID:\", p_id)\n",
    "    \n",
    "        for key in p_info:\n",
    "            print(key + ':', p_info[key])"
   ]
  },
  {
   "cell_type": "code",
   "execution_count": 42,
   "id": "0c01f9ab",
   "metadata": {},
   "outputs": [
    {
     "data": {
      "text/plain": [
       "'22'"
      ]
     },
     "execution_count": 42,
     "metadata": {},
     "output_type": "execute_result"
    }
   ],
   "source": [
    "people[2]['age']"
   ]
  },
  {
   "cell_type": "code",
   "execution_count": 43,
   "id": "e5bbfb02",
   "metadata": {},
   "outputs": [
    {
     "data": {
      "text/plain": [
       "{1: [1, 2], 2: [3, 4]}"
      ]
     },
     "execution_count": 43,
     "metadata": {},
     "output_type": "execute_result"
    }
   ],
   "source": [
    "jq = [[1,[1,2]], [2, [3,4]]]\n",
    "jqd = dict(jq)\n",
    "jqd"
   ]
  },
  {
   "cell_type": "code",
   "execution_count": 44,
   "id": "146078d7",
   "metadata": {},
   "outputs": [
    {
     "data": {
      "text/plain": [
       "dict"
      ]
     },
     "execution_count": 44,
     "metadata": {},
     "output_type": "execute_result"
    }
   ],
   "source": [
    "type(jqd)"
   ]
  },
  {
   "cell_type": "code",
   "execution_count": 45,
   "id": "0d33a23e",
   "metadata": {},
   "outputs": [
    {
     "data": {
      "text/plain": [
       "4"
      ]
     },
     "execution_count": 45,
     "metadata": {},
     "output_type": "execute_result"
    }
   ],
   "source": [
    "jq[1][1][1]"
   ]
  },
  {
   "cell_type": "code",
   "execution_count": 46,
   "id": "3f46eca6",
   "metadata": {},
   "outputs": [],
   "source": [
    "def evennum(*num):\n",
    "    for i in num:\n",
    "        if i%2 == 0:\n",
    "            print(i)"
   ]
  },
  {
   "cell_type": "code",
   "execution_count": 50,
   "id": "722297ac",
   "metadata": {},
   "outputs": [
    {
     "name": "stdout",
     "output_type": "stream",
     "text": [
      "2\n",
      "4\n"
     ]
    }
   ],
   "source": [
    "evennum(1,2,3,4)"
   ]
  },
  {
   "cell_type": "code",
   "execution_count": 55,
   "id": "7ccce4e7",
   "metadata": {},
   "outputs": [],
   "source": [
    "def evennum2(*num):\n",
    "    j = [i for i in num if i%2 == 0]\n",
    "    print(j)"
   ]
  },
  {
   "cell_type": "code",
   "execution_count": 56,
   "id": "c0239b8c",
   "metadata": {},
   "outputs": [
    {
     "name": "stdout",
     "output_type": "stream",
     "text": [
      "[2, 4]\n"
     ]
    }
   ],
   "source": [
    "evennum2(1,2,3,4)"
   ]
  },
  {
   "cell_type": "code",
   "execution_count": 65,
   "id": "9770eeae",
   "metadata": {},
   "outputs": [
    {
     "name": "stdout",
     "output_type": "stream",
     "text": [
      "5\n",
      "10\n",
      "If you want to continue, Pass 'Y' else press any other key y\n",
      "7\n",
      "14\n",
      "If you want to continue, Pass 'Y' else press any other key Y\n",
      "8\n",
      "16\n",
      "If you want to continue, Pass 'Y' else press any other key j\n"
     ]
    }
   ],
   "source": [
    "flag = 'Y'\n",
    "# while flag == 'Y' or flag == 'y':\n",
    "while flag in ['Y', 'y']:\n",
    "    j = int(input())\n",
    "    print(2*j)\n",
    "    inp = input(\"If you want to continue, Pass 'Y' else press any other key \")\n",
    "    if inp == flag:\n",
    "        pass\n",
    "    else:\n",
    "        flag = inp"
   ]
  },
  {
   "cell_type": "code",
   "execution_count": 68,
   "id": "72ea9bc2",
   "metadata": {},
   "outputs": [
    {
     "name": "stdout",
     "output_type": "stream",
     "text": [
      "{'fname': 'Tobias', 'lname': 'Refsnes'}\n",
      "His last name is Refsnes\n"
     ]
    }
   ],
   "source": [
    "def my_function(**kid):\n",
    "    print(kid)\n",
    "    print(\"His last name is \" + kid[\"lname\"])\n",
    "\n",
    "my_function(fname = \"Tobias\", lname = \"Refsnes\")"
   ]
  },
  {
   "cell_type": "code",
   "execution_count": null,
   "id": "8c34e069",
   "metadata": {},
   "outputs": [],
   "source": []
  }
 ],
 "metadata": {
  "kernelspec": {
   "display_name": "Python 3 (ipykernel)",
   "language": "python",
   "name": "python3"
  },
  "language_info": {
   "codemirror_mode": {
    "name": "ipython",
    "version": 3
   },
   "file_extension": ".py",
   "mimetype": "text/x-python",
   "name": "python",
   "nbconvert_exporter": "python",
   "pygments_lexer": "ipython3",
   "version": "3.9.7"
  }
 },
 "nbformat": 4,
 "nbformat_minor": 5
}
