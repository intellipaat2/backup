{
 "cells": [
  {
   "cell_type": "code",
   "execution_count": 1,
   "id": "b011672a",
   "metadata": {},
   "outputs": [
    {
     "name": "stdout",
     "output_type": "stream",
     "text": [
      "Python in awesome\n"
     ]
    }
   ],
   "source": [
    "print('Python in awesome')"
   ]
  },
  {
   "cell_type": "markdown",
   "id": "9e0c549b",
   "metadata": {},
   "source": [
    "# Variables in Python"
   ]
  },
  {
   "cell_type": "code",
   "execution_count": 2,
   "id": "4989e2ba",
   "metadata": {},
   "outputs": [],
   "source": [
    "j = 100"
   ]
  },
  {
   "cell_type": "code",
   "execution_count": 3,
   "id": "31c6a3f7",
   "metadata": {},
   "outputs": [
    {
     "name": "stdout",
     "output_type": "stream",
     "text": [
      "100\n"
     ]
    }
   ],
   "source": [
    "print(j)"
   ]
  },
  {
   "cell_type": "code",
   "execution_count": 4,
   "id": "6f565642",
   "metadata": {},
   "outputs": [
    {
     "data": {
      "text/plain": [
       "100"
      ]
     },
     "execution_count": 4,
     "metadata": {},
     "output_type": "execute_result"
    }
   ],
   "source": [
    "j"
   ]
  },
  {
   "cell_type": "code",
   "execution_count": 5,
   "id": "bca084ef",
   "metadata": {},
   "outputs": [],
   "source": [
    "j = k = 100"
   ]
  },
  {
   "cell_type": "code",
   "execution_count": 6,
   "id": "1d482f71",
   "metadata": {},
   "outputs": [
    {
     "data": {
      "text/plain": [
       "100"
      ]
     },
     "execution_count": 6,
     "metadata": {},
     "output_type": "execute_result"
    }
   ],
   "source": [
    "j"
   ]
  },
  {
   "cell_type": "code",
   "execution_count": 7,
   "id": "b52f7682",
   "metadata": {},
   "outputs": [
    {
     "data": {
      "text/plain": [
       "100"
      ]
     },
     "execution_count": 7,
     "metadata": {},
     "output_type": "execute_result"
    }
   ],
   "source": [
    "k"
   ]
  },
  {
   "cell_type": "code",
   "execution_count": 8,
   "id": "46891f52",
   "metadata": {},
   "outputs": [],
   "source": [
    "j = 50"
   ]
  },
  {
   "cell_type": "code",
   "execution_count": 9,
   "id": "2bb817ed",
   "metadata": {},
   "outputs": [
    {
     "data": {
      "text/plain": [
       "50"
      ]
     },
     "execution_count": 9,
     "metadata": {},
     "output_type": "execute_result"
    }
   ],
   "source": [
    "j"
   ]
  },
  {
   "cell_type": "code",
   "execution_count": 10,
   "id": "0fb72deb",
   "metadata": {},
   "outputs": [
    {
     "data": {
      "text/plain": [
       "50"
      ]
     },
     "execution_count": 10,
     "metadata": {},
     "output_type": "execute_result"
    }
   ],
   "source": [
    "k = 50\n",
    "k"
   ]
  },
  {
   "cell_type": "code",
   "execution_count": 11,
   "id": "69a357be",
   "metadata": {},
   "outputs": [
    {
     "data": {
      "text/plain": [
       "int"
      ]
     },
     "execution_count": 11,
     "metadata": {},
     "output_type": "execute_result"
    }
   ],
   "source": [
    "type(j)"
   ]
  },
  {
   "cell_type": "code",
   "execution_count": 12,
   "id": "362a3b63",
   "metadata": {},
   "outputs": [
    {
     "data": {
      "text/plain": [
       "float"
      ]
     },
     "execution_count": 12,
     "metadata": {},
     "output_type": "execute_result"
    }
   ],
   "source": [
    "var = 60.9\n",
    "\n",
    "type(var)"
   ]
  },
  {
   "cell_type": "code",
   "execution_count": 13,
   "id": "1afcd463",
   "metadata": {},
   "outputs": [
    {
     "data": {
      "text/plain": [
       "str"
      ]
     },
     "execution_count": 13,
     "metadata": {},
     "output_type": "execute_result"
    }
   ],
   "source": [
    "var2 = \"Python\"\n",
    "\n",
    "type(var2)"
   ]
  },
  {
   "cell_type": "code",
   "execution_count": 14,
   "id": "f6da5584",
   "metadata": {},
   "outputs": [
    {
     "data": {
      "text/plain": [
       "10"
      ]
     },
     "execution_count": 14,
     "metadata": {},
     "output_type": "execute_result"
    }
   ],
   "source": [
    "a,b,c = 10, 20, 30\n",
    "\n",
    "a"
   ]
  },
  {
   "cell_type": "code",
   "execution_count": 15,
   "id": "f11bc3b7",
   "metadata": {},
   "outputs": [
    {
     "data": {
      "text/plain": [
       "20"
      ]
     },
     "execution_count": 15,
     "metadata": {},
     "output_type": "execute_result"
    }
   ],
   "source": [
    "b"
   ]
  },
  {
   "cell_type": "code",
   "execution_count": 16,
   "id": "abef5e94",
   "metadata": {},
   "outputs": [
    {
     "data": {
      "text/plain": [
       "30"
      ]
     },
     "execution_count": 16,
     "metadata": {},
     "output_type": "execute_result"
    }
   ],
   "source": [
    "c"
   ]
  },
  {
   "cell_type": "code",
   "execution_count": 22,
   "id": "29e56cae",
   "metadata": {},
   "outputs": [
    {
     "name": "stdout",
     "output_type": "stream",
     "text": [
      "10 20 30\n"
     ]
    }
   ],
   "source": [
    "print(a,b,c)"
   ]
  },
  {
   "cell_type": "code",
   "execution_count": 24,
   "id": "c63bc88d",
   "metadata": {},
   "outputs": [
    {
     "name": "stdout",
     "output_type": "stream",
     "text": [
      "Value of a : 10\n"
     ]
    }
   ],
   "source": [
    "print(\"Value of a :\", a)"
   ]
  },
  {
   "cell_type": "code",
   "execution_count": 38,
   "id": "b6c435d0",
   "metadata": {},
   "outputs": [
    {
     "name": "stdout",
     "output_type": "stream",
     "text": [
      "Value of a : 11 \n",
      "Value of b : 100\n"
     ]
    }
   ],
   "source": [
    "print(\"Value of a :\", a, \"\\nValue of b :\", b)                    # \\n will change the line"
   ]
  },
  {
   "cell_type": "code",
   "execution_count": 27,
   "id": "eeb63a47",
   "metadata": {
    "scrolled": true
   },
   "outputs": [
    {
     "name": "stdout",
     "output_type": "stream",
     "text": [
      "Value of a : 10 \n",
      "Value of b : 20 \n",
      "Value of c : 30\n"
     ]
    }
   ],
   "source": [
    "print(\"Value of a :\", a, \"\\nValue of b :\", b, \"\\nValue of c :\", c) "
   ]
  },
  {
   "cell_type": "code",
   "execution_count": 29,
   "id": "d7d08216",
   "metadata": {},
   "outputs": [
    {
     "name": "stdout",
     "output_type": "stream",
     "text": [
      "10 \n",
      " 20 \n",
      " 30\n"
     ]
    }
   ],
   "source": [
    "print(a,\"\\n\",b,\"\\n\",c) "
   ]
  },
  {
   "cell_type": "markdown",
   "id": "16756af1",
   "metadata": {},
   "source": [
    "### Rules for naming variables"
   ]
  },
  {
   "cell_type": "code",
   "execution_count": 18,
   "id": "50085a2c",
   "metadata": {},
   "outputs": [],
   "source": [
    "# a-z, A-Z, 0-9, _\n",
    "# we can't use numbers in berginning of varaible name"
   ]
  },
  {
   "cell_type": "code",
   "execution_count": 19,
   "id": "db315b89",
   "metadata": {},
   "outputs": [
    {
     "data": {
      "text/plain": [
       "20"
      ]
     },
     "execution_count": 19,
     "metadata": {},
     "output_type": "execute_result"
    }
   ],
   "source": [
    "a9 = 20\n",
    "a9"
   ]
  },
  {
   "cell_type": "code",
   "execution_count": 20,
   "id": "2d0e5414",
   "metadata": {},
   "outputs": [
    {
     "ename": "SyntaxError",
     "evalue": "invalid syntax (Temp/ipykernel_18488/1795125557.py, line 1)",
     "output_type": "error",
     "traceback": [
      "\u001b[1;36m  File \u001b[1;32m\"C:\\Users\\Admin\\AppData\\Local\\Temp/ipykernel_18488/1795125557.py\"\u001b[1;36m, line \u001b[1;32m1\u001b[0m\n\u001b[1;33m    9a = 30\u001b[0m\n\u001b[1;37m     ^\u001b[0m\n\u001b[1;31mSyntaxError\u001b[0m\u001b[1;31m:\u001b[0m invalid syntax\n"
     ]
    }
   ],
   "source": [
    "9a = 30\n",
    "9a"
   ]
  },
  {
   "cell_type": "code",
   "execution_count": 21,
   "id": "0f653ec2",
   "metadata": {},
   "outputs": [
    {
     "data": {
      "text/plain": [
       "30"
      ]
     },
     "execution_count": 21,
     "metadata": {},
     "output_type": "execute_result"
    }
   ],
   "source": [
    "_a = 30\n",
    "_a"
   ]
  },
  {
   "cell_type": "code",
   "execution_count": 31,
   "id": "e6afd02f",
   "metadata": {},
   "outputs": [],
   "source": [
    "#Camel Case\n",
    "# checkPrimeNumbers             checkprimenumbers"
   ]
  },
  {
   "cell_type": "code",
   "execution_count": null,
   "id": "788e6232",
   "metadata": {},
   "outputs": [],
   "source": [
    "# Pascal Case\n",
    "# CheckPrimeNumbers"
   ]
  },
  {
   "cell_type": "code",
   "execution_count": null,
   "id": "a897aa4b",
   "metadata": {},
   "outputs": [],
   "source": [
    "#Snake Case\n",
    "# check_prime_numbers"
   ]
  },
  {
   "cell_type": "code",
   "execution_count": 32,
   "id": "e626d30d",
   "metadata": {},
   "outputs": [
    {
     "data": {
      "text/plain": [
       "200.9"
      ]
     },
     "execution_count": 32,
     "metadata": {},
     "output_type": "execute_result"
    }
   ],
   "source": [
    "a,b,c=11,100,200.9\n",
    "c"
   ]
  },
  {
   "cell_type": "code",
   "execution_count": 33,
   "id": "b7324ce8",
   "metadata": {},
   "outputs": [
    {
     "data": {
      "text/plain": [
       "float"
      ]
     },
     "execution_count": 33,
     "metadata": {},
     "output_type": "execute_result"
    }
   ],
   "source": [
    "type(c)"
   ]
  },
  {
   "cell_type": "code",
   "execution_count": 34,
   "id": "3b0c78ac",
   "metadata": {},
   "outputs": [
    {
     "data": {
      "text/plain": [
       "int"
      ]
     },
     "execution_count": 34,
     "metadata": {},
     "output_type": "execute_result"
    }
   ],
   "source": [
    "type(b)"
   ]
  },
  {
   "cell_type": "code",
   "execution_count": 36,
   "id": "d236a5d7",
   "metadata": {},
   "outputs": [
    {
     "name": "stdout",
     "output_type": "stream",
     "text": [
      "13\n"
     ]
    }
   ],
   "source": [
    "check_prime_numbers = 13\n",
    "\n",
    "print(check_prime_numbers)"
   ]
  },
  {
   "cell_type": "markdown",
   "id": "8a10cd0c",
   "metadata": {},
   "source": [
    "# Operators in Python"
   ]
  },
  {
   "cell_type": "markdown",
   "id": "cd5a1666",
   "metadata": {},
   "source": [
    "## Arithmetic operators"
   ]
  },
  {
   "cell_type": "code",
   "execution_count": 39,
   "id": "9e865114",
   "metadata": {},
   "outputs": [
    {
     "name": "stdout",
     "output_type": "stream",
     "text": [
      "30\n"
     ]
    }
   ],
   "source": [
    "a = 10\n",
    "b = 20\n",
    "\n",
    "print(a + b)"
   ]
  },
  {
   "cell_type": "code",
   "execution_count": 44,
   "id": "722dea00",
   "metadata": {},
   "outputs": [
    {
     "data": {
      "text/plain": [
       "30"
      ]
     },
     "execution_count": 44,
     "metadata": {},
     "output_type": "execute_result"
    }
   ],
   "source": [
    "result = a + b\n",
    "result"
   ]
  },
  {
   "cell_type": "code",
   "execution_count": 48,
   "id": "97615d7e",
   "metadata": {},
   "outputs": [
    {
     "data": {
      "text/plain": [
       "'Pyhton is awesome'"
      ]
     },
     "execution_count": 48,
     "metadata": {},
     "output_type": "execute_result"
    }
   ],
   "source": [
    "j = 'Pyhton'\n",
    "k = \" is awesome\"\n",
    "j + k"
   ]
  },
  {
   "cell_type": "code",
   "execution_count": 40,
   "id": "d3a77d00",
   "metadata": {},
   "outputs": [
    {
     "name": "stdout",
     "output_type": "stream",
     "text": [
      "10\n"
     ]
    }
   ],
   "source": [
    "print(b - a)"
   ]
  },
  {
   "cell_type": "code",
   "execution_count": 41,
   "id": "8c4c205d",
   "metadata": {},
   "outputs": [
    {
     "name": "stdout",
     "output_type": "stream",
     "text": [
      "200\n"
     ]
    }
   ],
   "source": [
    "print(b * a)"
   ]
  },
  {
   "cell_type": "code",
   "execution_count": 43,
   "id": "4c2e752b",
   "metadata": {},
   "outputs": [
    {
     "name": "stdout",
     "output_type": "stream",
     "text": [
      "64\n"
     ]
    }
   ],
   "source": [
    "print(8 ** 2)"
   ]
  },
  {
   "cell_type": "code",
   "execution_count": 45,
   "id": "73b011fa",
   "metadata": {},
   "outputs": [
    {
     "name": "stdout",
     "output_type": "stream",
     "text": [
      "2.1\n"
     ]
    }
   ],
   "source": [
    "c = 21\n",
    "d = 10\n",
    "\n",
    "print(c/d)"
   ]
  },
  {
   "cell_type": "code",
   "execution_count": 46,
   "id": "31a756ff",
   "metadata": {},
   "outputs": [
    {
     "name": "stdout",
     "output_type": "stream",
     "text": [
      "2\n"
     ]
    }
   ],
   "source": [
    "print(c//d)                      # gives quotient"
   ]
  },
  {
   "cell_type": "code",
   "execution_count": 47,
   "id": "653b0795",
   "metadata": {},
   "outputs": [
    {
     "name": "stdout",
     "output_type": "stream",
     "text": [
      "1\n"
     ]
    }
   ],
   "source": [
    "#modulus operator                 gives remainder\n",
    "print(c % d)"
   ]
  },
  {
   "cell_type": "markdown",
   "id": "0d0e9c15",
   "metadata": {},
   "source": [
    "## Assignment operators"
   ]
  },
  {
   "cell_type": "code",
   "execution_count": 50,
   "id": "d6116af9",
   "metadata": {},
   "outputs": [
    {
     "data": {
      "text/plain": [
       "80"
      ]
     },
     "execution_count": 50,
     "metadata": {},
     "output_type": "execute_result"
    }
   ],
   "source": [
    "variable = 70\n",
    "\n",
    "variable = variable + 10\n",
    "variable"
   ]
  },
  {
   "cell_type": "code",
   "execution_count": 51,
   "id": "97d8c035",
   "metadata": {},
   "outputs": [
    {
     "data": {
      "text/plain": [
       "90"
      ]
     },
     "execution_count": 51,
     "metadata": {},
     "output_type": "execute_result"
    }
   ],
   "source": [
    "variable += 10              # is same as     variable = variable + 10\n",
    "variable"
   ]
  },
  {
   "cell_type": "code",
   "execution_count": 52,
   "id": "0790cbdb",
   "metadata": {},
   "outputs": [
    {
     "data": {
      "text/plain": [
       "80"
      ]
     },
     "execution_count": 52,
     "metadata": {},
     "output_type": "execute_result"
    }
   ],
   "source": [
    "variable -= 10              # is same as     variable = variable - 10\n",
    "variable"
   ]
  },
  {
   "cell_type": "code",
   "execution_count": 53,
   "id": "9c28fdb3",
   "metadata": {},
   "outputs": [
    {
     "data": {
      "text/plain": [
       "800"
      ]
     },
     "execution_count": 53,
     "metadata": {},
     "output_type": "execute_result"
    }
   ],
   "source": [
    "variable *= 10              # is same as     variable = variable + 10\n",
    "variable"
   ]
  },
  {
   "cell_type": "markdown",
   "id": "8798328b",
   "metadata": {},
   "source": [
    "## Comparison operators"
   ]
  },
  {
   "cell_type": "code",
   "execution_count": 54,
   "id": "1d14972a",
   "metadata": {},
   "outputs": [
    {
     "data": {
      "text/plain": [
       "True"
      ]
     },
     "execution_count": 54,
     "metadata": {},
     "output_type": "execute_result"
    }
   ],
   "source": [
    "# equal to\n",
    "\n",
    "10 == 10"
   ]
  },
  {
   "cell_type": "code",
   "execution_count": 55,
   "id": "9aa78b91",
   "metadata": {},
   "outputs": [
    {
     "data": {
      "text/plain": [
       "False"
      ]
     },
     "execution_count": 55,
     "metadata": {},
     "output_type": "execute_result"
    }
   ],
   "source": [
    "10 == 11"
   ]
  },
  {
   "cell_type": "code",
   "execution_count": 56,
   "id": "b1b54f27",
   "metadata": {},
   "outputs": [
    {
     "data": {
      "text/plain": [
       "False"
      ]
     },
     "execution_count": 56,
     "metadata": {},
     "output_type": "execute_result"
    }
   ],
   "source": [
    "variable == a"
   ]
  },
  {
   "cell_type": "code",
   "execution_count": 57,
   "id": "fb088b47",
   "metadata": {},
   "outputs": [
    {
     "data": {
      "text/plain": [
       "False"
      ]
     },
     "execution_count": 57,
     "metadata": {},
     "output_type": "execute_result"
    }
   ],
   "source": [
    "# not equal to\n",
    "\n",
    "10 != 10"
   ]
  },
  {
   "cell_type": "code",
   "execution_count": 58,
   "id": "29e5b69d",
   "metadata": {},
   "outputs": [
    {
     "data": {
      "text/plain": [
       "True"
      ]
     },
     "execution_count": 58,
     "metadata": {},
     "output_type": "execute_result"
    }
   ],
   "source": [
    "variable != a"
   ]
  },
  {
   "cell_type": "code",
   "execution_count": 59,
   "id": "778bb55b",
   "metadata": {},
   "outputs": [
    {
     "data": {
      "text/plain": [
       "True"
      ]
     },
     "execution_count": 59,
     "metadata": {},
     "output_type": "execute_result"
    }
   ],
   "source": [
    "# greater than\n",
    "\n",
    "variable > a"
   ]
  },
  {
   "cell_type": "code",
   "execution_count": 60,
   "id": "7f06731c",
   "metadata": {},
   "outputs": [
    {
     "data": {
      "text/plain": [
       "False"
      ]
     },
     "execution_count": 60,
     "metadata": {},
     "output_type": "execute_result"
    }
   ],
   "source": [
    "# less than\n",
    "\n",
    "variable < a"
   ]
  },
  {
   "cell_type": "code",
   "execution_count": 61,
   "id": "ab6a9e78",
   "metadata": {},
   "outputs": [
    {
     "data": {
      "text/plain": [
       "True"
      ]
     },
     "execution_count": 61,
     "metadata": {},
     "output_type": "execute_result"
    }
   ],
   "source": [
    "# greater than and equal to\n",
    "\n",
    "10 >= 10"
   ]
  },
  {
   "cell_type": "code",
   "execution_count": 62,
   "id": "1368fd51",
   "metadata": {},
   "outputs": [
    {
     "data": {
      "text/plain": [
       "False"
      ]
     },
     "execution_count": 62,
     "metadata": {},
     "output_type": "execute_result"
    }
   ],
   "source": [
    "10 >= 11"
   ]
  },
  {
   "cell_type": "code",
   "execution_count": 63,
   "id": "e04974c0",
   "metadata": {},
   "outputs": [
    {
     "data": {
      "text/plain": [
       "True"
      ]
     },
     "execution_count": 63,
     "metadata": {},
     "output_type": "execute_result"
    }
   ],
   "source": [
    "# less than and equal to\n",
    "\n",
    "10 <= 10"
   ]
  },
  {
   "cell_type": "code",
   "execution_count": 64,
   "id": "bbf440fc",
   "metadata": {},
   "outputs": [
    {
     "data": {
      "text/plain": [
       "True"
      ]
     },
     "execution_count": 64,
     "metadata": {},
     "output_type": "execute_result"
    }
   ],
   "source": [
    "10 <= 11"
   ]
  },
  {
   "cell_type": "markdown",
   "id": "8974c5c4",
   "metadata": {},
   "source": [
    "## Logical operators"
   ]
  },
  {
   "cell_type": "code",
   "execution_count": 66,
   "id": "5ecba145",
   "metadata": {},
   "outputs": [
    {
     "data": {
      "text/plain": [
       "True"
      ]
     },
     "execution_count": 66,
     "metadata": {},
     "output_type": "execute_result"
    }
   ],
   "source": [
    "# OR\n",
    "\n",
    "True or True                   #  1 or 1"
   ]
  },
  {
   "cell_type": "code",
   "execution_count": 68,
   "id": "bf1933b4",
   "metadata": {},
   "outputs": [
    {
     "data": {
      "text/plain": [
       "True"
      ]
     },
     "execution_count": 68,
     "metadata": {},
     "output_type": "execute_result"
    }
   ],
   "source": [
    "True or False                  #   1  or 0"
   ]
  },
  {
   "cell_type": "code",
   "execution_count": 69,
   "id": "a96a29f3",
   "metadata": {},
   "outputs": [
    {
     "data": {
      "text/plain": [
       "True"
      ]
     },
     "execution_count": 69,
     "metadata": {},
     "output_type": "execute_result"
    }
   ],
   "source": [
    "False or True                  #   0 or 1"
   ]
  },
  {
   "cell_type": "code",
   "execution_count": 71,
   "id": "da00c806",
   "metadata": {},
   "outputs": [
    {
     "data": {
      "text/plain": [
       "False"
      ]
     },
     "execution_count": 71,
     "metadata": {},
     "output_type": "execute_result"
    }
   ],
   "source": [
    "False or False                # 0 or 0"
   ]
  },
  {
   "cell_type": "code",
   "execution_count": 72,
   "id": "0ec6650a",
   "metadata": {},
   "outputs": [
    {
     "data": {
      "text/plain": [
       "True"
      ]
     },
     "execution_count": 72,
     "metadata": {},
     "output_type": "execute_result"
    }
   ],
   "source": [
    "# AND\n",
    "\n",
    "True and True                   #  1 and 1"
   ]
  },
  {
   "cell_type": "code",
   "execution_count": 73,
   "id": "46ce17f6",
   "metadata": {},
   "outputs": [
    {
     "data": {
      "text/plain": [
       "False"
      ]
     },
     "execution_count": 73,
     "metadata": {},
     "output_type": "execute_result"
    }
   ],
   "source": [
    "True and False                  #  1 and 0"
   ]
  },
  {
   "cell_type": "code",
   "execution_count": 76,
   "id": "30b20468",
   "metadata": {},
   "outputs": [
    {
     "data": {
      "text/plain": [
       "False"
      ]
     },
     "execution_count": 76,
     "metadata": {},
     "output_type": "execute_result"
    }
   ],
   "source": [
    "False and True                 #  0 and 1"
   ]
  },
  {
   "cell_type": "code",
   "execution_count": 75,
   "id": "9c571e86",
   "metadata": {},
   "outputs": [
    {
     "data": {
      "text/plain": [
       "False"
      ]
     },
     "execution_count": 75,
     "metadata": {},
     "output_type": "execute_result"
    }
   ],
   "source": [
    "False and False                   #  0 and 0"
   ]
  },
  {
   "cell_type": "code",
   "execution_count": 77,
   "id": "1e8464e2",
   "metadata": {},
   "outputs": [
    {
     "data": {
      "text/plain": [
       "False"
      ]
     },
     "execution_count": 77,
     "metadata": {},
     "output_type": "execute_result"
    }
   ],
   "source": [
    "10 > 11 and 10 > 9                   "
   ]
  },
  {
   "cell_type": "code",
   "execution_count": 80,
   "id": "77ee857d",
   "metadata": {},
   "outputs": [
    {
     "data": {
      "text/plain": [
       "True"
      ]
     },
     "execution_count": 80,
     "metadata": {},
     "output_type": "execute_result"
    }
   ],
   "source": [
    "not(10 > 11 and 10 > 9)                "
   ]
  },
  {
   "cell_type": "markdown",
   "id": "f3925196",
   "metadata": {},
   "source": [
    "## Identity operator"
   ]
  },
  {
   "cell_type": "code",
   "execution_count": 81,
   "id": "4ca2fcf8",
   "metadata": {},
   "outputs": [
    {
     "name": "stderr",
     "output_type": "stream",
     "text": [
      "<>:1: SyntaxWarning: \"is\" with a literal. Did you mean \"==\"?\n",
      "<>:1: SyntaxWarning: \"is\" with a literal. Did you mean \"==\"?\n",
      "C:\\Users\\Admin\\AppData\\Local\\Temp/ipykernel_18488/3938569512.py:1: SyntaxWarning: \"is\" with a literal. Did you mean \"==\"?\n",
      "  10 is 10\n"
     ]
    },
    {
     "data": {
      "text/plain": [
       "True"
      ]
     },
     "execution_count": 81,
     "metadata": {},
     "output_type": "execute_result"
    }
   ],
   "source": [
    "10 is 10"
   ]
  },
  {
   "cell_type": "code",
   "execution_count": 82,
   "id": "8cf6c488",
   "metadata": {},
   "outputs": [
    {
     "name": "stderr",
     "output_type": "stream",
     "text": [
      "<>:1: SyntaxWarning: \"is\" with a literal. Did you mean \"==\"?\n",
      "<>:1: SyntaxWarning: \"is\" with a literal. Did you mean \"==\"?\n",
      "C:\\Users\\Admin\\AppData\\Local\\Temp/ipykernel_18488/100162287.py:1: SyntaxWarning: \"is\" with a literal. Did you mean \"==\"?\n",
      "  10 is 11\n"
     ]
    },
    {
     "data": {
      "text/plain": [
       "False"
      ]
     },
     "execution_count": 82,
     "metadata": {},
     "output_type": "execute_result"
    }
   ],
   "source": [
    "10 is 11"
   ]
  },
  {
   "cell_type": "code",
   "execution_count": 83,
   "id": "60348880",
   "metadata": {},
   "outputs": [
    {
     "name": "stderr",
     "output_type": "stream",
     "text": [
      "<>:1: SyntaxWarning: \"is not\" with a literal. Did you mean \"!=\"?\n",
      "<>:1: SyntaxWarning: \"is not\" with a literal. Did you mean \"!=\"?\n",
      "C:\\Users\\Admin\\AppData\\Local\\Temp/ipykernel_18488/3919734364.py:1: SyntaxWarning: \"is not\" with a literal. Did you mean \"!=\"?\n",
      "  10 is not 10\n"
     ]
    },
    {
     "data": {
      "text/plain": [
       "False"
      ]
     },
     "execution_count": 83,
     "metadata": {},
     "output_type": "execute_result"
    }
   ],
   "source": [
    "10 is not 10"
   ]
  },
  {
   "cell_type": "markdown",
   "id": "e0486a91",
   "metadata": {},
   "source": [
    "# Membership operator"
   ]
  },
  {
   "cell_type": "code",
   "execution_count": 89,
   "id": "7bbd3b39",
   "metadata": {},
   "outputs": [
    {
     "data": {
      "text/plain": [
       "True"
      ]
     },
     "execution_count": 89,
     "metadata": {},
     "output_type": "execute_result"
    }
   ],
   "source": [
    "j = [1,2,3,6, 'abc']\n",
    "\n",
    "'abc' in j"
   ]
  },
  {
   "cell_type": "code",
   "execution_count": 86,
   "id": "b8c9f4db",
   "metadata": {},
   "outputs": [
    {
     "data": {
      "text/plain": [
       "True"
      ]
     },
     "execution_count": 86,
     "metadata": {},
     "output_type": "execute_result"
    }
   ],
   "source": [
    "3 in j"
   ]
  },
  {
   "cell_type": "code",
   "execution_count": 87,
   "id": "d9bc8e3f",
   "metadata": {},
   "outputs": [
    {
     "data": {
      "text/plain": [
       "True"
      ]
     },
     "execution_count": 87,
     "metadata": {},
     "output_type": "execute_result"
    }
   ],
   "source": [
    "5 not in j"
   ]
  },
  {
   "cell_type": "code",
   "execution_count": 88,
   "id": "3a410239",
   "metadata": {},
   "outputs": [
    {
     "data": {
      "text/plain": [
       "False"
      ]
     },
     "execution_count": 88,
     "metadata": {},
     "output_type": "execute_result"
    }
   ],
   "source": [
    "3 not in j"
   ]
  },
  {
   "cell_type": "markdown",
   "id": "ceee20cd",
   "metadata": {},
   "source": [
    "## Bitwise operator"
   ]
  },
  {
   "cell_type": "code",
   "execution_count": 95,
   "id": "b6eb0803",
   "metadata": {},
   "outputs": [],
   "source": [
    "def decimal_to_binary(num):\n",
    "    if num >=1:\n",
    "        decimal_to_binary(num//2)\n",
    "        print(num%2, end = '')"
   ]
  },
  {
   "cell_type": "code",
   "execution_count": 91,
   "id": "841ebb91",
   "metadata": {},
   "outputs": [
    {
     "data": {
      "text/plain": [
       "2"
      ]
     },
     "execution_count": 91,
     "metadata": {},
     "output_type": "execute_result"
    }
   ],
   "source": [
    "10 >> 2                  "
   ]
  },
  {
   "cell_type": "code",
   "execution_count": 92,
   "id": "c0ab421e",
   "metadata": {},
   "outputs": [
    {
     "data": {
      "text/plain": [
       "12"
      ]
     },
     "execution_count": 92,
     "metadata": {},
     "output_type": "execute_result"
    }
   ],
   "source": [
    "100 >> 3                        # 1100100       _ _ _ 1100     0001100  "
   ]
  },
  {
   "cell_type": "code",
   "execution_count": 97,
   "id": "7e442254",
   "metadata": {},
   "outputs": [
    {
     "name": "stdout",
     "output_type": "stream",
     "text": [
      "1100100"
     ]
    }
   ],
   "source": [
    "decimal_to_binary(100)"
   ]
  },
  {
   "cell_type": "code",
   "execution_count": 98,
   "id": "ad899505",
   "metadata": {},
   "outputs": [
    {
     "name": "stdout",
     "output_type": "stream",
     "text": [
      "1100"
     ]
    }
   ],
   "source": [
    "decimal_to_binary(12)"
   ]
  },
  {
   "cell_type": "code",
   "execution_count": 100,
   "id": "fba175a0",
   "metadata": {},
   "outputs": [
    {
     "data": {
      "text/plain": [
       "40"
      ]
     },
     "execution_count": 100,
     "metadata": {},
     "output_type": "execute_result"
    }
   ],
   "source": [
    "# Left shift\n",
    "\n",
    "10 << 2                           # 1010           1010 _ _            101000"
   ]
  },
  {
   "cell_type": "code",
   "execution_count": 101,
   "id": "8ea7dbca",
   "metadata": {},
   "outputs": [
    {
     "name": "stdout",
     "output_type": "stream",
     "text": [
      "101000"
     ]
    }
   ],
   "source": [
    "decimal_to_binary(40)"
   ]
  },
  {
   "cell_type": "code",
   "execution_count": 102,
   "id": "97116262",
   "metadata": {},
   "outputs": [
    {
     "data": {
      "text/plain": [
       "'a9'"
      ]
     },
     "execution_count": 102,
     "metadata": {},
     "output_type": "execute_result"
    }
   ],
   "source": [
    "variable = 'a9'\n",
    "variable"
   ]
  },
  {
   "cell_type": "code",
   "execution_count": null,
   "id": "f18124c2",
   "metadata": {},
   "outputs": [],
   "source": []
  }
 ],
 "metadata": {
  "kernelspec": {
   "display_name": "Python 3 (ipykernel)",
   "language": "python",
   "name": "python3"
  },
  "language_info": {
   "codemirror_mode": {
    "name": "ipython",
    "version": 3
   },
   "file_extension": ".py",
   "mimetype": "text/x-python",
   "name": "python",
   "nbconvert_exporter": "python",
   "pygments_lexer": "ipython3",
   "version": "3.9.7"
  }
 },
 "nbformat": 4,
 "nbformat_minor": 5
}
