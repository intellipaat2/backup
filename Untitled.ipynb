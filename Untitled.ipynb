{
 "cells": [
  {
   "cell_type": "code",
   "execution_count": 9,
   "id": "f432046b",
   "metadata": {},
   "outputs": [],
   "source": [
    "def factor(num):\n",
    "    fact = 1\n",
    "    if num < 0:\n",
    "        print(\"Sorry. factorial of negative does not exist\")\n",
    "    elif num == 1:\n",
    "        print(\"factorial : \", 1)\n",
    "    else:\n",
    "        for i in range(1, num + 1):\n",
    "            fact = fact * i\n",
    "        print(\"factorial of {} is {} \".format(num, fact))"
   ]
  },
  {
   "cell_type": "code",
   "execution_count": 15,
   "id": "48df71ef",
   "metadata": {},
   "outputs": [
    {
     "name": "stdout",
     "output_type": "stream",
     "text": [
      "Sorry. factorial of negative does not exist\n"
     ]
    }
   ],
   "source": [
    "factor(-1)"
   ]
  },
  {
   "cell_type": "code",
   "execution_count": null,
   "id": "b481a6cc",
   "metadata": {},
   "outputs": [],
   "source": [
    "fact = 120"
   ]
  },
  {
   "cell_type": "code",
   "execution_count": null,
   "id": "8a53cdaa",
   "metadata": {},
   "outputs": [],
   "source": [
    "def factor(num):\n",
    "    fact=1\n",
    "    if num < 0:\n",
    "        print(\"sorry\")\n",
    "    elif num == 1:\n",
    "        print(\"factorial:\",1)\n",
    "    else:\n",
    "        for i in range(1,num+1)\n",
    "            fact = fact*i\n",
    "        print(\"factorial of {} is {}:\".format(num,fact))\n"
   ]
  },
  {
   "cell_type": "code",
   "execution_count": 20,
   "id": "bc9b6621",
   "metadata": {},
   "outputs": [],
   "source": [
    "#recursion\n",
    "\n",
    "def factor2(num):\n",
    "    fact = 1\n",
    "    if num < 0:\n",
    "        print(\"Sorry\")\n",
    "        \n",
    "    elif num == 0:\n",
    "        return 1\n",
    "    else:\n",
    "        return num * factor2(num -1)"
   ]
  },
  {
   "cell_type": "code",
   "execution_count": 18,
   "id": "e7335732",
   "metadata": {},
   "outputs": [
    {
     "data": {
      "text/plain": [
       "120"
      ]
     },
     "execution_count": 18,
     "metadata": {},
     "output_type": "execute_result"
    }
   ],
   "source": [
    "factor2(5)"
   ]
  },
  {
   "cell_type": "code",
   "execution_count": 22,
   "id": "c571d149",
   "metadata": {},
   "outputs": [
    {
     "name": "stdout",
     "output_type": "stream",
     "text": [
      "enter your stringkhlhk\n",
      "the string doesnt contain letter s\n"
     ]
    }
   ],
   "source": [
    "def check_string():\n",
    "    str=input(\"enter your string\")\n",
    "    if \"s\" in str:\n",
    "        print(\"the string is containing letter s\")\n",
    "    else:\n",
    "        print(\"the string doesnt contain letter s\")\n",
    "check_string()"
   ]
  },
  {
   "cell_type": "code",
   "execution_count": 25,
   "id": "069f878e",
   "metadata": {},
   "outputs": [
    {
     "name": "stdout",
     "output_type": "stream",
     "text": [
      "enter your stringilgikgk\n",
      "the string doesnt contain letter s\n"
     ]
    }
   ],
   "source": [
    "def check_string():\n",
    "    str1=input(\"enter your string\")\n",
    "    \n",
    "    f = 0\n",
    "    for i in str1:\n",
    "        if i == 's':\n",
    "            flag =1\n",
    "            \n",
    "    if  flag == 1:        \n",
    "        print(\"the string is containing letter s\")\n",
    "    else:\n",
    "        print(\"the string doesnt contain letter s\")\n",
    "        \n",
    "check_string()"
   ]
  },
  {
   "cell_type": "code",
   "execution_count": 28,
   "id": "95f870f7",
   "metadata": {},
   "outputs": [],
   "source": [
    "class student:\n",
    "    def fun1(self):\n",
    "        inp = input('Enter a value')\n",
    "        return inp\n",
    "    def message(self):\n",
    "        result = self.fun1()\n",
    "        print(result)"
   ]
  },
  {
   "cell_type": "code",
   "execution_count": 29,
   "id": "294fe123",
   "metadata": {},
   "outputs": [
    {
     "name": "stdout",
     "output_type": "stream",
     "text": [
      "Enter a value50\n",
      "50\n"
     ]
    }
   ],
   "source": [
    "j  = student()\n",
    "j.message()"
   ]
  },
  {
   "cell_type": "code",
   "execution_count": 63,
   "id": "5e37f4d6",
   "metadata": {},
   "outputs": [
    {
     "data": {
      "text/plain": [
       "46"
      ]
     },
     "execution_count": 63,
     "metadata": {},
     "output_type": "execute_result"
    }
   ],
   "source": [
    "double_num = lambda num : num*2\n",
    "double_num(23)"
   ]
  },
  {
   "cell_type": "code",
   "execution_count": 32,
   "id": "94435e61",
   "metadata": {},
   "outputs": [
    {
     "name": "stdout",
     "output_type": "stream",
     "text": [
      "Enter a no:sir\n",
      "sir not pallindrome\n"
     ]
    }
   ],
   "source": [
    "s3=input('Enter a no:')\n",
    "s4= s3[::-1]\n",
    "if s3==s4:\n",
    "    print(s3,\"is pallindrome\")\n",
    "else:\n",
    "    print(s3,\"not pallindrome\")"
   ]
  },
  {
   "cell_type": "code",
   "execution_count": 35,
   "id": "b8603268",
   "metadata": {},
   "outputs": [
    {
     "name": "stdout",
     "output_type": "stream",
     "text": [
      "enter a string: maam\n",
      "the string is a palindrome\n"
     ]
    }
   ],
   "source": [
    "string=input(\"enter a string: \")\n",
    "if string==string[::-1]:\n",
    "    print(\"the string is a palindrome\")\n",
    "else:\n",
    "    print(\"not a palindrome\")"
   ]
  },
  {
   "cell_type": "code",
   "execution_count": 36,
   "id": "ef8393d2",
   "metadata": {},
   "outputs": [
    {
     "name": "stdout",
     "output_type": "stream",
     "text": [
      "Enter string:sir\n",
      "not a palindrome\n"
     ]
    }
   ],
   "source": [
    "num =input(\"Enter string:\")\n",
    "if num==num[::-1]:\n",
    "    print(\"palindrome\")\n",
    "else:\n",
    "    print(\"not a palindrome\")\n"
   ]
  },
  {
   "cell_type": "code",
   "execution_count": 37,
   "id": "23ed659e",
   "metadata": {},
   "outputs": [
    {
     "data": {
      "text/plain": [
       "'ytrewq'"
      ]
     },
     "execution_count": 37,
     "metadata": {},
     "output_type": "execute_result"
    }
   ],
   "source": [
    "j = 'qwerty'\n",
    "j[::-1]"
   ]
  },
  {
   "cell_type": "code",
   "execution_count": 41,
   "id": "568934f4",
   "metadata": {},
   "outputs": [],
   "source": [
    "def reverse(s):\n",
    "    str1 = \"\"\n",
    "    for i in s:\n",
    "        str1 = i + str1\n",
    "        print(str1)\n",
    "        \n",
    "    return str1"
   ]
  },
  {
   "cell_type": "code",
   "execution_count": 42,
   "id": "c6fef16f",
   "metadata": {},
   "outputs": [
    {
     "name": "stdout",
     "output_type": "stream",
     "text": [
      "q\n",
      "wq\n",
      "ewq\n",
      "rewq\n",
      "trewq\n",
      "ytrewq\n"
     ]
    },
    {
     "data": {
      "text/plain": [
       "'ytrewq'"
      ]
     },
     "execution_count": 42,
     "metadata": {},
     "output_type": "execute_result"
    }
   ],
   "source": [
    "reverse('qwerty')"
   ]
  },
  {
   "cell_type": "code",
   "execution_count": 43,
   "id": "8c2b625a",
   "metadata": {},
   "outputs": [
    {
     "name": "stdout",
     "output_type": "stream",
     "text": [
      "This is function 1 in the Super class.\n"
     ]
    }
   ],
   "source": [
    "class super():\n",
    "    def fun1(self):\n",
    "        print(\"This is function 1 in the Super class.\")\n",
    "x=super()\n",
    "x.fun1()"
   ]
  },
  {
   "cell_type": "code",
   "execution_count": 53,
   "id": "1f3e9a80",
   "metadata": {},
   "outputs": [
    {
     "name": "stdout",
     "output_type": "stream",
     "text": [
      "This is function 1 in the Super class.\n",
      "This is function 1 in the Modified Super class\n"
     ]
    }
   ],
   "source": [
    "class Super:\n",
    "\n",
    "    def fun1(self):\n",
    "        print(\"This is function 1 in the Super class\")\n",
    "\n",
    "\n",
    "class Modified_Super(Super):\n",
    "\n",
    "    def fun1(self):\n",
    "        super().fun1()\n",
    "        print(\"This is function 1 in the Modified Super class\")\n",
    "\n",
    "    def fun2(self):\n",
    "        print(\"This is the 2nd function from the Modified Super class\")\n",
    "\n",
    "x = Modified_Super()\n",
    "x.fun1()"
   ]
  },
  {
   "cell_type": "code",
   "execution_count": 69,
   "id": "4603ce81",
   "metadata": {},
   "outputs": [
    {
     "ename": "TypeError",
     "evalue": "Hello() takes 1 positional argument but 2 were given",
     "output_type": "error",
     "traceback": [
      "\u001b[1;31m---------------------------------------------------------------------------\u001b[0m",
      "\u001b[1;31mTypeError\u001b[0m                                 Traceback (most recent call last)",
      "\u001b[1;32m~\\AppData\\Local\\Temp/ipykernel_3932/3850649842.py\u001b[0m in \u001b[0;36m<module>\u001b[1;34m\u001b[0m\n\u001b[0;32m      5\u001b[0m \u001b[1;33m\u001b[0m\u001b[0m\n\u001b[0;32m      6\u001b[0m \u001b[1;31m# Hello(1)\u001b[0m\u001b[1;33m\u001b[0m\u001b[1;33m\u001b[0m\u001b[0m\n\u001b[1;32m----> 7\u001b[1;33m \u001b[0mHello\u001b[0m\u001b[1;33m(\u001b[0m\u001b[1;36m2\u001b[0m\u001b[1;33m,\u001b[0m\u001b[1;36m3\u001b[0m\u001b[1;33m)\u001b[0m\u001b[1;33m\u001b[0m\u001b[1;33m\u001b[0m\u001b[0m\n\u001b[0m",
      "\u001b[1;31mTypeError\u001b[0m: Hello() takes 1 positional argument but 2 were given"
     ]
    }
   ],
   "source": [
    "def Hello(a):\n",
    "    print(\"This function only has 1 argument\",a)\n",
    "# def Hello(b,c):\n",
    "#     print(\"This function has two arguments\",b,c)\n",
    "    \n",
    "# Hello(1)\n",
    "Hello(2,3)"
   ]
  },
  {
   "cell_type": "code",
   "execution_count": 72,
   "id": "8326ef58",
   "metadata": {},
   "outputs": [],
   "source": [
    "def sum(*num):\n",
    "    sum = 0\n",
    "    for i in num:\n",
    "        sum = sum + i\n",
    "        \n",
    "    return sum"
   ]
  },
  {
   "cell_type": "code",
   "execution_count": 78,
   "id": "8ee83202",
   "metadata": {},
   "outputs": [
    {
     "data": {
      "text/plain": [
       "1"
      ]
     },
     "execution_count": 78,
     "metadata": {},
     "output_type": "execute_result"
    }
   ],
   "source": [
    "sum(1,3,5,7)"
   ]
  },
  {
   "cell_type": "code",
   "execution_count": 76,
   "id": "fbe5987b",
   "metadata": {},
   "outputs": [],
   "source": [
    "def sum2(*num):\n",
    "    sum = 0\n",
    "    for i in num:\n",
    "        sum=sum+i\n",
    "        \n",
    "    return sum\n"
   ]
  },
  {
   "cell_type": "code",
   "execution_count": 77,
   "id": "4ebbf058",
   "metadata": {},
   "outputs": [
    {
     "data": {
      "text/plain": [
       "16"
      ]
     },
     "execution_count": 77,
     "metadata": {},
     "output_type": "execute_result"
    }
   ],
   "source": [
    "sum2(1,3,5,7)"
   ]
  },
  {
   "cell_type": "code",
   "execution_count": 82,
   "id": "70e7b957",
   "metadata": {},
   "outputs": [
    {
     "data": {
      "text/plain": [
       "100"
      ]
     },
     "execution_count": 82,
     "metadata": {},
     "output_type": "execute_result"
    }
   ],
   "source": [
    "class Encapsulation:\n",
    "    def __init__(self):\n",
    "        self.originalValue=10\n",
    "\n",
    "    def value(self):\n",
    "        return self.originalValue\n",
    "\n",
    "    def setValue(self,newValue):    \n",
    "        self.originalValue=newValue\n",
    "        return self.originalValue\n",
    "\n",
    "c= Encapsulation() \n",
    "c.setValue(100)\n",
    "# c.value()\n"
   ]
  },
  {
   "cell_type": "code",
   "execution_count": 84,
   "id": "c7286f79",
   "metadata": {},
   "outputs": [
    {
     "data": {
      "text/plain": [
       "100"
      ]
     },
     "execution_count": 84,
     "metadata": {},
     "output_type": "execute_result"
    }
   ],
   "source": [
    "class Encapsulation:\n",
    "    def __init__(self):\n",
    "        self.originalValue=10\n",
    "\n",
    "    def value(self):\n",
    "        return self.originalValue\n",
    "\n",
    "    def setValue(self,newValue):    \n",
    "        self.originalValue=newValue\n",
    "        return self.originalValue\n",
    "\n",
    "c= Encapsulation() \n",
    "c.setValue(100)"
   ]
  },
  {
   "cell_type": "code",
   "execution_count": 94,
   "id": "26f6fd97",
   "metadata": {},
   "outputs": [
    {
     "name": "stdout",
     "output_type": "stream",
     "text": [
      "10\n"
     ]
    }
   ],
   "source": [
    "class parent_Class:\n",
    "    def __init__(self):\n",
    "        self.num=10\n",
    "    \n",
    "class child_Class(parent_Class):\n",
    "    def access(self):\n",
    "        return self.num\n",
    "    \n",
    "obj=child_Class()\n",
    "print(obj.num)\n"
   ]
  },
  {
   "cell_type": "code",
   "execution_count": 106,
   "id": "f0482f20",
   "metadata": {},
   "outputs": [],
   "source": [
    "class parent_Class:\n",
    "    def __init__(self):\n",
    "        self.num=10\n",
    "    \n",
    "class child_Class(parent_Class):\n",
    "    def access(self):\n",
    "        return self.num"
   ]
  },
  {
   "cell_type": "code",
   "execution_count": 108,
   "id": "b55c7a58",
   "metadata": {},
   "outputs": [
    {
     "name": "stdout",
     "output_type": "stream",
     "text": [
      "10\n"
     ]
    }
   ],
   "source": [
    "j = child_Class()\n",
    "print(j.access())"
   ]
  },
  {
   "cell_type": "code",
   "execution_count": 101,
   "id": "1d360f9b",
   "metadata": {},
   "outputs": [
    {
     "data": {
      "text/plain": [
       "20"
      ]
     },
     "execution_count": 101,
     "metadata": {},
     "output_type": "execute_result"
    }
   ],
   "source": [
    "class Nums:\n",
    "    def __init__(self,a,b):\n",
    "        self.a=a\n",
    "        self.b=b\n",
    "        \n",
    "    def total(self):\n",
    "        total=self.a+self.b\n",
    "        return total\n",
    "    \n",
    "obcj=Nums(10,10)\n",
    "obcj.total()\n"
   ]
  },
  {
   "cell_type": "code",
   "execution_count": 110,
   "id": "46822690",
   "metadata": {},
   "outputs": [
    {
     "name": "stdout",
     "output_type": "stream",
     "text": [
      "Enter employee id1\n",
      "Enter gender of employeef\n",
      "Enter salary2\n",
      "Enter the rating2\n"
     ]
    }
   ],
   "source": [
    "class Employee:\n",
    "    def __init__(self,Employeeid,Gender,Salary,PerformanceRating):\n",
    "        self.Employeeid=Employeeid\n",
    "        self.Gender=Gender\n",
    "        self.Salary=Salary\n",
    "        self.PerformanceRating=PerformanceRating\n",
    "    def get(self):\n",
    "        self.Employeeid=int(input(\"Enter employee id\"))\n",
    "        self.Gender=input(\"Enter gender of employee\")\n",
    "        self.Salary=int(input(\"Enter salary\"))\n",
    "        self.PerformanceRating=int(input(\"Enter the rating\"))\n",
    "obj1=Employee(1, 'f', 10, 8)     \n",
    "obj1.get()\n"
   ]
  },
  {
   "cell_type": "code",
   "execution_count": null,
   "id": "570927f0",
   "metadata": {},
   "outputs": [],
   "source": []
  }
 ],
 "metadata": {
  "kernelspec": {
   "display_name": "Python 3 (ipykernel)",
   "language": "python",
   "name": "python3"
  },
  "language_info": {
   "codemirror_mode": {
    "name": "ipython",
    "version": 3
   },
   "file_extension": ".py",
   "mimetype": "text/x-python",
   "name": "python",
   "nbconvert_exporter": "python",
   "pygments_lexer": "ipython3",
   "version": "3.9.7"
  }
 },
 "nbformat": 4,
 "nbformat_minor": 5
}
