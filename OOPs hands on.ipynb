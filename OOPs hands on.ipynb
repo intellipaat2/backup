{
 "cells": [
  {
   "cell_type": "code",
   "execution_count": 23,
   "id": "073068ca",
   "metadata": {},
   "outputs": [],
   "source": [
    "def factor(num):\n",
    "\n",
    "    factorial = 1\n",
    "    if num < 0:\n",
    "        print(\"Sorry, factorial does not exist for negative numbers\")\n",
    "    elif num == 0:\n",
    "        print(\"The factorial of 0 is 1\")\n",
    "    else:\n",
    "        for i in range(1,num + 1):\n",
    "            factorial = factorial*i\n",
    "        print(\"The factorial of\",num,\"is\",factorial)\n",
    "        print(\"The factorial of {} is {}\".format(num, factorial))        "
   ]
  },
  {
   "cell_type": "code",
   "execution_count": 165,
   "id": "c12f3697",
   "metadata": {},
   "outputs": [],
   "source": [
    "def factor2(num):\n",
    "\n",
    "    factorial = 1\n",
    "    if num < 0:\n",
    "        print(\"Sorry, factorial does not exist for negative numbers\")\n",
    "    elif num == 0:\n",
    "        return 1\n",
    "    else:\n",
    "        return num * factor2(num - 1)"
   ]
  },
  {
   "cell_type": "code",
   "execution_count": 168,
   "id": "03c8ce9a",
   "metadata": {},
   "outputs": [
    {
     "data": {
      "text/plain": [
       "120"
      ]
     },
     "execution_count": 168,
     "metadata": {},
     "output_type": "execute_result"
    }
   ],
   "source": [
    "factor2(5)"
   ]
  },
  {
   "cell_type": "code",
   "execution_count": 24,
   "id": "3be209d4",
   "metadata": {},
   "outputs": [
    {
     "name": "stdout",
     "output_type": "stream",
     "text": [
      "The factorial of 5 is 120\n",
      "The factorial of 5 is 120\n"
     ]
    }
   ],
   "source": [
    "factor(5)"
   ]
  },
  {
   "cell_type": "code",
   "execution_count": 33,
   "id": "718843e9",
   "metadata": {},
   "outputs": [],
   "source": [
    "def check_string():\n",
    "    s=input('Enter a string: ')\n",
    "    for i in s:\n",
    "        if i!='s':\n",
    "            pass\n",
    "        else:\n",
    "            print('The sting contains s')\n",
    "            break"
   ]
  },
  {
   "cell_type": "code",
   "execution_count": 37,
   "id": "e0fe6c7f",
   "metadata": {},
   "outputs": [
    {
     "name": "stdout",
     "output_type": "stream",
     "text": [
      "Enter a string: bkjjkgj\n"
     ]
    }
   ],
   "source": [
    "check_string()"
   ]
  },
  {
   "cell_type": "code",
   "execution_count": 38,
   "id": "926f7f49",
   "metadata": {},
   "outputs": [],
   "source": [
    "def check_s():\n",
    "    flag = 0\n",
    "    s=input('Enter a string: ')\n",
    "    for i in s:\n",
    "        if i=='s':\n",
    "            flag = 1\n",
    "    \n",
    "    if flag == 1:\n",
    "        print('The sting contains s')\n",
    "    else:\n",
    "        print(\"The sting doesn't contains s\")"
   ]
  },
  {
   "cell_type": "code",
   "execution_count": 41,
   "id": "3509429a",
   "metadata": {},
   "outputs": [
    {
     "name": "stdout",
     "output_type": "stream",
     "text": [
      "Enter a string: kmmlfff\n",
      "The sting doesn't contains s\n"
     ]
    }
   ],
   "source": [
    "check_s()"
   ]
  },
  {
   "cell_type": "code",
   "execution_count": 42,
   "id": "ee6150cf",
   "metadata": {},
   "outputs": [],
   "source": [
    "def check_s2():\n",
    "    flag = 0\n",
    "    s=input('Enter a string: ')\n",
    "    for i in s:\n",
    "        if i=='s':\n",
    "            flag = 1\n",
    "            print('The sting contains s')\n",
    "            break\n",
    "    \n",
    "    if flag == 0:\n",
    "        print(\"The sting doesn't contains s\")"
   ]
  },
  {
   "cell_type": "code",
   "execution_count": 44,
   "id": "5f90aa19",
   "metadata": {},
   "outputs": [
    {
     "name": "stdout",
     "output_type": "stream",
     "text": [
      "Enter a string: djndlsskggg\n",
      "The sting contains s\n"
     ]
    }
   ],
   "source": [
    "check_s2()"
   ]
  },
  {
   "cell_type": "code",
   "execution_count": 183,
   "id": "e45b95d9",
   "metadata": {},
   "outputs": [],
   "source": [
    "def fun1():\n",
    "    a = 'abc'\n",
    "    return a\n",
    "\n",
    "class student:\n",
    "    def fun1(self):\n",
    "        n=input('enter a value')\n",
    "        return n\n",
    "    def message(self):\n",
    "        k=self.fun1()               #self.func1()\n",
    "        print(k)"
   ]
  },
  {
   "cell_type": "code",
   "execution_count": 184,
   "id": "476decc6",
   "metadata": {},
   "outputs": [
    {
     "name": "stdout",
     "output_type": "stream",
     "text": [
      "enter a valueab\n",
      "ab\n"
     ]
    }
   ],
   "source": [
    "j = student()\n",
    "j.message()"
   ]
  },
  {
   "cell_type": "code",
   "execution_count": 83,
   "id": "b09a5a62",
   "metadata": {},
   "outputs": [
    {
     "data": {
      "text/plain": [
       "6"
      ]
     },
     "execution_count": 83,
     "metadata": {},
     "output_type": "execute_result"
    }
   ],
   "source": [
    "double_num=lambda s:s*2\n",
    "double_num(3)"
   ]
  },
  {
   "cell_type": "code",
   "execution_count": 59,
   "id": "057c47a7",
   "metadata": {},
   "outputs": [
    {
     "name": "stdout",
     "output_type": "stream",
     "text": [
      "enter a stringmaam\n",
      "Sting is palindrome\n"
     ]
    }
   ],
   "source": [
    "s=input('enter a string')\n",
    "if s==s[::-1]:\n",
    "    print('Sting is palindrome')\n",
    "else:\n",
    "    print('string is not palindrome')"
   ]
  },
  {
   "cell_type": "code",
   "execution_count": 74,
   "id": "05945f82",
   "metadata": {},
   "outputs": [
    {
     "name": "stdout",
     "output_type": "stream",
     "text": [
      "The original string  is : Geeksforgeeks\n",
      "The reversed string(using loops) is : skeegrofskeeG\n"
     ]
    }
   ],
   "source": [
    "def reverse(s):\n",
    "    str = \"\"\n",
    "    for i in s:\n",
    "        str = i + str\n",
    "    return str\n",
    "  \n",
    "s = \"Geeksforgeeks\"\n",
    "  \n",
    "print (\"The original string  is : \",end=\"\")\n",
    "print (s)\n",
    "  \n",
    "print (\"The reversed string(using loops) is : \",end=\"\")\n",
    "print (reverse(s))"
   ]
  },
  {
   "cell_type": "code",
   "execution_count": 76,
   "id": "14160837",
   "metadata": {},
   "outputs": [
    {
     "name": "stdout",
     "output_type": "stream",
     "text": [
      "enter a stringtll\n",
      "string is not palindrome\n"
     ]
    }
   ],
   "source": [
    "s=input('enter a string')\n",
    "if s==reverse(s):\n",
    "    print('Sting is palindrome')\n",
    "else:\n",
    "    print('string is not palindrome')"
   ]
  },
  {
   "cell_type": "code",
   "execution_count": 82,
   "id": "41a01850",
   "metadata": {},
   "outputs": [
    {
     "name": "stdout",
     "output_type": "stream",
     "text": [
      "enter a stringmaam\n",
      "Sting is palindrome\n"
     ]
    }
   ],
   "source": [
    "s=input('enter a string')\n",
    "if s==\"\".join(reversed(s)):\n",
    "    print('Sting is palindrome')\n",
    "else:\n",
    "    print('string is not palindrome')"
   ]
  },
  {
   "cell_type": "code",
   "execution_count": 102,
   "id": "75e86986",
   "metadata": {},
   "outputs": [],
   "source": [
    "class Super:\n",
    "    def fun1(self):\n",
    "        print('This is function1 in the Super class')"
   ]
  },
  {
   "cell_type": "code",
   "execution_count": 86,
   "id": "04b868ed",
   "metadata": {},
   "outputs": [
    {
     "name": "stdout",
     "output_type": "stream",
     "text": [
      "This is function1 in the Super class\n"
     ]
    }
   ],
   "source": [
    "j = Super()\n",
    "j.fun1()"
   ]
  },
  {
   "cell_type": "code",
   "execution_count": 103,
   "id": "ecf2fb0f",
   "metadata": {},
   "outputs": [],
   "source": [
    "class Modified_Super(Super):\n",
    "    def fun1(self):\n",
    "        print('This is function1 in the modified super class')\n",
    "    def fun2(self):\n",
    "        print('This is function2 in the modified super class')"
   ]
  },
  {
   "cell_type": "code",
   "execution_count": 93,
   "id": "94bb14c9",
   "metadata": {},
   "outputs": [
    {
     "name": "stdout",
     "output_type": "stream",
     "text": [
      "This is function1 in the modified super class\n"
     ]
    }
   ],
   "source": [
    "o=Modified_Super()\n",
    "o.fun1()"
   ]
  },
  {
   "cell_type": "markdown",
   "id": "354779e9",
   "metadata": {},
   "source": [
    "# ===== again with super  ===="
   ]
  },
  {
   "cell_type": "code",
   "execution_count": 113,
   "id": "b3fb752c",
   "metadata": {},
   "outputs": [],
   "source": [
    "class Modified_Super2(Super):\n",
    "    def fun1(self):\n",
    "        super().fun1()\n",
    "        print('This is function1 in the modified super class')\n",
    "    def fun2(self):\n",
    "        print('This is function2 in the modified super class')"
   ]
  },
  {
   "cell_type": "code",
   "execution_count": 114,
   "id": "bb59b2ac",
   "metadata": {},
   "outputs": [
    {
     "name": "stdout",
     "output_type": "stream",
     "text": [
      "This is function1 in the Super class\n",
      "This is function1 in the modified super class\n"
     ]
    }
   ],
   "source": [
    "j=Modified_Super2()\n",
    "j.fun1()"
   ]
  },
  {
   "cell_type": "code",
   "execution_count": 115,
   "id": "cf65699e",
   "metadata": {},
   "outputs": [],
   "source": [
    "def Hello(h):\n",
    "    print('This function only has 1 argument')\n",
    "def Hello(h1,h2):\n",
    "    print('This function has 2 arguments')"
   ]
  },
  {
   "cell_type": "code",
   "execution_count": 117,
   "id": "f213d927",
   "metadata": {},
   "outputs": [
    {
     "ename": "TypeError",
     "evalue": "Hello() missing 1 required positional argument: 'h2'",
     "output_type": "error",
     "traceback": [
      "\u001b[1;31m---------------------------------------------------------------------------\u001b[0m",
      "\u001b[1;31mTypeError\u001b[0m                                 Traceback (most recent call last)",
      "\u001b[1;32m~\\AppData\\Local\\Temp/ipykernel_11768/242712934.py\u001b[0m in \u001b[0;36m<module>\u001b[1;34m\u001b[0m\n\u001b[1;32m----> 1\u001b[1;33m \u001b[0mHello\u001b[0m\u001b[1;33m(\u001b[0m\u001b[1;36m5\u001b[0m\u001b[1;33m)\u001b[0m\u001b[1;33m\u001b[0m\u001b[1;33m\u001b[0m\u001b[0m\n\u001b[0m",
      "\u001b[1;31mTypeError\u001b[0m: Hello() missing 1 required positional argument: 'h2'"
     ]
    }
   ],
   "source": [
    "Hello(5)"
   ]
  },
  {
   "cell_type": "code",
   "execution_count": 120,
   "id": "aef77c8c",
   "metadata": {},
   "outputs": [],
   "source": [
    "def sum(*args):\n",
    "    total=0\n",
    "    for ele in args:\n",
    "        total = total + ele\n",
    "    return total"
   ]
  },
  {
   "cell_type": "code",
   "execution_count": 121,
   "id": "93dc20d0",
   "metadata": {},
   "outputs": [
    {
     "data": {
      "text/plain": [
       "17"
      ]
     },
     "execution_count": 121,
     "metadata": {},
     "output_type": "execute_result"
    }
   ],
   "source": [
    "sum(2,3,5,7)"
   ]
  },
  {
   "cell_type": "code",
   "execution_count": 194,
   "id": "76732238",
   "metadata": {},
   "outputs": [],
   "source": [
    "class Encapsulation2:\n",
    "    def __init__(self):\n",
    "        __originalValue=10             # __\n",
    "    def Value(self):\n",
    "        return self.originalValue\n",
    "    def setValue(self,newValue):\n",
    "        self.originalValue=newValue\n",
    "        print(self.originalValue)"
   ]
  },
  {
   "cell_type": "code",
   "execution_count": 195,
   "id": "aab29c1f",
   "metadata": {},
   "outputs": [
    {
     "name": "stdout",
     "output_type": "stream",
     "text": [
      "20\n"
     ]
    }
   ],
   "source": [
    "h = Encapsulation2()\n",
    "h.setValue(20)"
   ]
  },
  {
   "cell_type": "markdown",
   "id": "6f9a7c52",
   "metadata": {},
   "source": [
    "# ======== Hands on 2 ========"
   ]
  },
  {
   "cell_type": "code",
   "execution_count": 133,
   "id": "8061fe0f",
   "metadata": {},
   "outputs": [],
   "source": [
    "class parent_class:\n",
    "    def __init__(self):\n",
    "        self.num=10\n",
    "class Child_class(parent_class):\n",
    "    def __init__(self):\n",
    "        super().__init__()"
   ]
  },
  {
   "cell_type": "code",
   "execution_count": 136,
   "id": "c4ac1889",
   "metadata": {},
   "outputs": [],
   "source": [
    "class parent_class2:\n",
    "    def __init__(self):\n",
    "        self.num=10\n",
    "class Child_class2(parent_class2):\n",
    "    def access(self):\n",
    "        return self.num"
   ]
  },
  {
   "cell_type": "code",
   "execution_count": 139,
   "id": "4a4b0a23",
   "metadata": {},
   "outputs": [
    {
     "data": {
      "text/plain": [
       "10"
      ]
     },
     "execution_count": 139,
     "metadata": {},
     "output_type": "execute_result"
    }
   ],
   "source": [
    "ob = Child_class2()\n",
    "ob.access()"
   ]
  },
  {
   "cell_type": "code",
   "execution_count": 147,
   "id": "2cbb04ee",
   "metadata": {},
   "outputs": [],
   "source": [
    "class A:\n",
    "    def __init__(self):\n",
    "        self.name='Rahul'\n",
    "        self.age=90\n",
    "    def details(self):\n",
    "        return self.name\n",
    "class B:\n",
    "    def __init__(self):\n",
    "        self.name='Shi'\n",
    "        self.id=909\n",
    "    def details(self):\n",
    "        return self.name\n",
    "class C(B,A):\n",
    "#     def __init__(self):\n",
    "#         A.__init__(self)\n",
    "    def get_details(self):\n",
    "        return self.name"
   ]
  },
  {
   "cell_type": "code",
   "execution_count": 148,
   "id": "dd4134ae",
   "metadata": {},
   "outputs": [
    {
     "data": {
      "text/plain": [
       "'Shi'"
      ]
     },
     "execution_count": 148,
     "metadata": {},
     "output_type": "execute_result"
    }
   ],
   "source": [
    "ob=C()\n",
    "ob.get_details()"
   ]
  },
  {
   "cell_type": "code",
   "execution_count": 152,
   "id": "e572d958",
   "metadata": {},
   "outputs": [],
   "source": [
    "# veer\n",
    "\n",
    "class A:\n",
    "    def __init__(self):\n",
    "        self.name='Rahul'\n",
    "        self.age=90\n",
    "    def details(self):\n",
    "        return self.name\n",
    "class B:\n",
    "    def __init__(self):\n",
    "        self.name='Shi'\n",
    "        self.id=909\n",
    "    def details(self):\n",
    "        return self.name\n",
    "class C(B,A):                          #change\n",
    "#     def __init__(self):\n",
    "#         A.__init__(self)\n",
    "    def get_details(self):\n",
    "        return self.name"
   ]
  },
  {
   "cell_type": "code",
   "execution_count": 153,
   "id": "14cd7d8b",
   "metadata": {},
   "outputs": [
    {
     "data": {
      "text/plain": [
       "'Rahul'"
      ]
     },
     "execution_count": 153,
     "metadata": {},
     "output_type": "execute_result"
    }
   ],
   "source": [
    "ob=C()\n",
    "ob.get_details()"
   ]
  },
  {
   "cell_type": "code",
   "execution_count": 175,
   "id": "2dcbeea5",
   "metadata": {},
   "outputs": [],
   "source": [
    "class Employee:\n",
    "    def __init__(self, name, salary):\n",
    "        self.name=name\n",
    "        self.salary=salary\n",
    "    def __str__(self):\n",
    "        return 'Name : ' + self.name + '\\nSalary : ' + self.salary\n",
    "        "
   ]
  },
  {
   "cell_type": "code",
   "execution_count": 178,
   "id": "8a56b00d",
   "metadata": {},
   "outputs": [
    {
     "name": "stdout",
     "output_type": "stream",
     "text": [
      "Name : kl\n",
      "Salary : 9999999\n"
     ]
    }
   ],
   "source": [
    "j = Employee('kl', '9999999')\n",
    "# j.__str__()\n",
    "print(j)"
   ]
  },
  {
   "cell_type": "code",
   "execution_count": 180,
   "id": "4c21a5ff",
   "metadata": {},
   "outputs": [
    {
     "name": "stdout",
     "output_type": "stream",
     "text": [
      "Name : kl\n",
      "Salary : 9999999\n"
     ]
    }
   ],
   "source": [
    "print(j)"
   ]
  },
  {
   "cell_type": "code",
   "execution_count": null,
   "id": "50320e9b",
   "metadata": {},
   "outputs": [],
   "source": []
  },
  {
   "cell_type": "code",
   "execution_count": null,
   "id": "612f446b",
   "metadata": {},
   "outputs": [],
   "source": []
  },
  {
   "cell_type": "code",
   "execution_count": null,
   "id": "8882288e",
   "metadata": {},
   "outputs": [],
   "source": []
  },
  {
   "cell_type": "code",
   "execution_count": null,
   "id": "bd52c620",
   "metadata": {},
   "outputs": [],
   "source": []
  },
  {
   "cell_type": "code",
   "execution_count": null,
   "id": "cf97aaad",
   "metadata": {},
   "outputs": [],
   "source": []
  },
  {
   "cell_type": "code",
   "execution_count": null,
   "id": "48fd881a",
   "metadata": {},
   "outputs": [],
   "source": []
  },
  {
   "cell_type": "code",
   "execution_count": 15,
   "id": "59223be2",
   "metadata": {},
   "outputs": [],
   "source": [
    "class custom:\n",
    "    def __init__(self, integer):\n",
    "        self.integer =  integer\n",
    "        \n",
    "    def prnt(self):\n",
    "        return self.integer"
   ]
  },
  {
   "cell_type": "code",
   "execution_count": 18,
   "id": "5c732ed7",
   "metadata": {},
   "outputs": [
    {
     "name": "stdout",
     "output_type": "stream",
     "text": [
      "4\n"
     ]
    }
   ],
   "source": [
    "int1 = custom(4)\n",
    "print(int1.prnt())"
   ]
  },
  {
   "cell_type": "code",
   "execution_count": null,
   "id": "e8af21fe",
   "metadata": {},
   "outputs": [],
   "source": []
  },
  {
   "cell_type": "code",
   "execution_count": null,
   "id": "dbc796e3",
   "metadata": {},
   "outputs": [],
   "source": []
  }
 ],
 "metadata": {
  "kernelspec": {
   "display_name": "Python 3 (ipykernel)",
   "language": "python",
   "name": "python3"
  },
  "language_info": {
   "codemirror_mode": {
    "name": "ipython",
    "version": 3
   },
   "file_extension": ".py",
   "mimetype": "text/x-python",
   "name": "python",
   "nbconvert_exporter": "python",
   "pygments_lexer": "ipython3",
   "version": "3.9.7"
  }
 },
 "nbformat": 4,
 "nbformat_minor": 5
}
