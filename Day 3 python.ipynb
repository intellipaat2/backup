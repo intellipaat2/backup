{
 "cells": [
  {
   "cell_type": "code",
   "execution_count": 1,
   "id": "ee28f16b",
   "metadata": {},
   "outputs": [],
   "source": [
    "dict1 = {\n",
    "    'fruits' : ['Apple', 'Mango', 'Banana'],\n",
    "    'Prices' : [100, 80, 60]\n",
    "}"
   ]
  },
  {
   "cell_type": "code",
   "execution_count": 2,
   "id": "deac539e",
   "metadata": {},
   "outputs": [
    {
     "data": {
      "text/plain": [
       "dict"
      ]
     },
     "execution_count": 2,
     "metadata": {},
     "output_type": "execute_result"
    }
   ],
   "source": [
    "type(dict1)"
   ]
  },
  {
   "cell_type": "code",
   "execution_count": 3,
   "id": "8b22e8ed",
   "metadata": {},
   "outputs": [
    {
     "data": {
      "text/plain": [
       "['Apple', 'Mango', 'Banana']"
      ]
     },
     "execution_count": 3,
     "metadata": {},
     "output_type": "execute_result"
    }
   ],
   "source": [
    "dict1['fruits']"
   ]
  },
  {
   "cell_type": "code",
   "execution_count": 4,
   "id": "d16641c0",
   "metadata": {},
   "outputs": [],
   "source": [
    "dict1 = {\n",
    "    'fruits' : ['Apple', 'Mango', 'Banana'],\n",
    "    'Prices' : [100, 80, 60],\n",
    "    'Vegies' : 'Pumpkin',\n",
    "    'Vegies' : 'Potato'\n",
    "}"
   ]
  },
  {
   "cell_type": "code",
   "execution_count": 5,
   "id": "4bcaa411",
   "metadata": {},
   "outputs": [
    {
     "data": {
      "text/plain": [
       "{'fruits': ['Apple', 'Mango', 'Banana'],\n",
       " 'Prices': [100, 80, 60],\n",
       " 'Vegies': 'Potato'}"
      ]
     },
     "execution_count": 5,
     "metadata": {},
     "output_type": "execute_result"
    }
   ],
   "source": [
    "dict1"
   ]
  },
  {
   "cell_type": "code",
   "execution_count": 27,
   "id": "5dacf5bf",
   "metadata": {},
   "outputs": [
    {
     "data": {
      "text/plain": [
       "dict_keys(['fruits', 'Prices', 'Vegies'])"
      ]
     },
     "execution_count": 27,
     "metadata": {},
     "output_type": "execute_result"
    }
   ],
   "source": [
    "dict1.keys()"
   ]
  },
  {
   "cell_type": "code",
   "execution_count": 7,
   "id": "84755cbd",
   "metadata": {},
   "outputs": [
    {
     "data": {
      "text/plain": [
       "['fruits', 'Prices', 'Vegies']"
      ]
     },
     "execution_count": 7,
     "metadata": {},
     "output_type": "execute_result"
    }
   ],
   "source": [
    "list(dict1.keys())"
   ]
  },
  {
   "cell_type": "code",
   "execution_count": 9,
   "id": "4fa0f8fe",
   "metadata": {},
   "outputs": [
    {
     "data": {
      "text/plain": [
       "dict_values([['Apple', 'Mango', 'Banana'], [100, 80, 60], 'Potato'])"
      ]
     },
     "execution_count": 9,
     "metadata": {},
     "output_type": "execute_result"
    }
   ],
   "source": [
    "dict1.values()"
   ]
  },
  {
   "cell_type": "code",
   "execution_count": 10,
   "id": "e79c84f5",
   "metadata": {},
   "outputs": [
    {
     "data": {
      "text/plain": [
       "dict_items([('fruits', ['Apple', 'Mango', 'Banana']), ('Prices', [100, 80, 60]), ('Vegies', 'Potato')])"
      ]
     },
     "execution_count": 10,
     "metadata": {},
     "output_type": "execute_result"
    }
   ],
   "source": [
    "dict1.items()"
   ]
  },
  {
   "cell_type": "code",
   "execution_count": 12,
   "id": "35057181",
   "metadata": {},
   "outputs": [],
   "source": [
    "res = list(dict1.items())"
   ]
  },
  {
   "cell_type": "code",
   "execution_count": 13,
   "id": "f6892cee",
   "metadata": {},
   "outputs": [
    {
     "data": {
      "text/plain": [
       "[('fruits', ['Apple', 'Mango', 'Banana']),\n",
       " ('Prices', [100, 80, 60]),\n",
       " ('Vegies', 'Potato')]"
      ]
     },
     "execution_count": 13,
     "metadata": {},
     "output_type": "execute_result"
    }
   ],
   "source": [
    "res"
   ]
  },
  {
   "cell_type": "code",
   "execution_count": 14,
   "id": "b5b74aa1",
   "metadata": {},
   "outputs": [
    {
     "data": {
      "text/plain": [
       "tuple"
      ]
     },
     "execution_count": 14,
     "metadata": {},
     "output_type": "execute_result"
    }
   ],
   "source": [
    "type(res[0])"
   ]
  },
  {
   "cell_type": "code",
   "execution_count": 15,
   "id": "57cef026",
   "metadata": {},
   "outputs": [
    {
     "data": {
      "text/plain": [
       "list"
      ]
     },
     "execution_count": 15,
     "metadata": {},
     "output_type": "execute_result"
    }
   ],
   "source": [
    "type(res[0][1])"
   ]
  },
  {
   "cell_type": "code",
   "execution_count": 16,
   "id": "925e735f",
   "metadata": {},
   "outputs": [
    {
     "data": {
      "text/plain": [
       "('fruits', ['Apple', 'Mango', 'Banana'])"
      ]
     },
     "execution_count": 16,
     "metadata": {},
     "output_type": "execute_result"
    }
   ],
   "source": [
    "res[0]"
   ]
  },
  {
   "cell_type": "code",
   "execution_count": 17,
   "id": "09e64da3",
   "metadata": {},
   "outputs": [
    {
     "data": {
      "text/plain": [
       "['Apple', 'Mango', 'Banana']"
      ]
     },
     "execution_count": 17,
     "metadata": {},
     "output_type": "execute_result"
    }
   ],
   "source": [
    "res[0][1]"
   ]
  },
  {
   "cell_type": "code",
   "execution_count": 19,
   "id": "57e06689",
   "metadata": {},
   "outputs": [
    {
     "data": {
      "text/plain": [
       "str"
      ]
     },
     "execution_count": 19,
     "metadata": {},
     "output_type": "execute_result"
    }
   ],
   "source": [
    "type(list(dict1.keys())[0])"
   ]
  },
  {
   "cell_type": "code",
   "execution_count": 21,
   "id": "4bc8ebde",
   "metadata": {},
   "outputs": [
    {
     "data": {
      "text/plain": [
       "str"
      ]
     },
     "execution_count": 21,
     "metadata": {},
     "output_type": "execute_result"
    }
   ],
   "source": [
    "type(res[0][0])"
   ]
  },
  {
   "cell_type": "code",
   "execution_count": 28,
   "id": "56a9dc85",
   "metadata": {},
   "outputs": [
    {
     "data": {
      "text/plain": [
       "{'fruits': ['Apple', 'Mango', 'Banana'],\n",
       " 'Prices': [100, 80, 60],\n",
       " 'Vegies': 'Potato'}"
      ]
     },
     "execution_count": 28,
     "metadata": {},
     "output_type": "execute_result"
    }
   ],
   "source": [
    "dict1"
   ]
  },
  {
   "cell_type": "code",
   "execution_count": 29,
   "id": "f1c3c8de",
   "metadata": {},
   "outputs": [],
   "source": [
    "dict1[99] = [9,99,999]"
   ]
  },
  {
   "cell_type": "code",
   "execution_count": 30,
   "id": "63f86b14",
   "metadata": {},
   "outputs": [
    {
     "data": {
      "text/plain": [
       "{'fruits': ['Apple', 'Mango', 'Banana'],\n",
       " 'Prices': [100, 80, 60],\n",
       " 'Vegies': 'Potato',\n",
       " 99: [9, 99, 999]}"
      ]
     },
     "execution_count": 30,
     "metadata": {},
     "output_type": "execute_result"
    }
   ],
   "source": [
    "dict1"
   ]
  },
  {
   "cell_type": "code",
   "execution_count": 31,
   "id": "1bc19a9b",
   "metadata": {},
   "outputs": [],
   "source": [
    "dict1['Vegies'] = 'spinach'"
   ]
  },
  {
   "cell_type": "code",
   "execution_count": 32,
   "id": "74d9ad87",
   "metadata": {},
   "outputs": [
    {
     "data": {
      "text/plain": [
       "{'fruits': ['Apple', 'Mango', 'Banana'],\n",
       " 'Prices': [100, 80, 60],\n",
       " 'Vegies': 'spinach',\n",
       " 99: [9, 99, 999]}"
      ]
     },
     "execution_count": 32,
     "metadata": {},
     "output_type": "execute_result"
    }
   ],
   "source": [
    "dict1"
   ]
  },
  {
   "cell_type": "code",
   "execution_count": 33,
   "id": "9b22601a",
   "metadata": {},
   "outputs": [],
   "source": [
    "dict1.update({'Names': 'Vijay'})"
   ]
  },
  {
   "cell_type": "code",
   "execution_count": 34,
   "id": "45ec8891",
   "metadata": {},
   "outputs": [
    {
     "data": {
      "text/plain": [
       "{'fruits': ['Apple', 'Mango', 'Banana'],\n",
       " 'Prices': [100, 80, 60],\n",
       " 'Vegies': 'spinach',\n",
       " 99: [9, 99, 999],\n",
       " 'Names': 'Vijay'}"
      ]
     },
     "execution_count": 34,
     "metadata": {},
     "output_type": "execute_result"
    }
   ],
   "source": [
    "dict1"
   ]
  },
  {
   "cell_type": "code",
   "execution_count": 35,
   "id": "bdb7a506",
   "metadata": {},
   "outputs": [],
   "source": [
    "del dict1[99]"
   ]
  },
  {
   "cell_type": "code",
   "execution_count": 36,
   "id": "adb31a6a",
   "metadata": {},
   "outputs": [
    {
     "data": {
      "text/plain": [
       "{'fruits': ['Apple', 'Mango', 'Banana'],\n",
       " 'Prices': [100, 80, 60],\n",
       " 'Vegies': 'spinach',\n",
       " 'Names': 'Vijay'}"
      ]
     },
     "execution_count": 36,
     "metadata": {},
     "output_type": "execute_result"
    }
   ],
   "source": [
    "dict1"
   ]
  },
  {
   "cell_type": "code",
   "execution_count": 37,
   "id": "e6918fe9",
   "metadata": {},
   "outputs": [
    {
     "ename": "TypeError",
     "evalue": "pop expected at least 1 argument, got 0",
     "output_type": "error",
     "traceback": [
      "\u001b[1;31m---------------------------------------------------------------------------\u001b[0m",
      "\u001b[1;31mTypeError\u001b[0m                                 Traceback (most recent call last)",
      "\u001b[1;32m~\\AppData\\Local\\Temp/ipykernel_10388/2756052640.py\u001b[0m in \u001b[0;36m<module>\u001b[1;34m\u001b[0m\n\u001b[1;32m----> 1\u001b[1;33m \u001b[0mdict1\u001b[0m\u001b[1;33m.\u001b[0m\u001b[0mpop\u001b[0m\u001b[1;33m(\u001b[0m\u001b[1;33m)\u001b[0m\u001b[1;33m\u001b[0m\u001b[1;33m\u001b[0m\u001b[0m\n\u001b[0m",
      "\u001b[1;31mTypeError\u001b[0m: pop expected at least 1 argument, got 0"
     ]
    }
   ],
   "source": [
    "dict1.pop()"
   ]
  },
  {
   "cell_type": "code",
   "execution_count": 38,
   "id": "440e59f4",
   "metadata": {},
   "outputs": [
    {
     "data": {
      "text/plain": [
       "'Vijay'"
      ]
     },
     "execution_count": 38,
     "metadata": {},
     "output_type": "execute_result"
    }
   ],
   "source": [
    "dict1.pop(\"Names\")"
   ]
  },
  {
   "cell_type": "code",
   "execution_count": 39,
   "id": "bfe442cd",
   "metadata": {
    "scrolled": true
   },
   "outputs": [
    {
     "data": {
      "text/plain": [
       "{'fruits': ['Apple', 'Mango', 'Banana'],\n",
       " 'Prices': [100, 80, 60],\n",
       " 'Vegies': 'spinach'}"
      ]
     },
     "execution_count": 39,
     "metadata": {},
     "output_type": "execute_result"
    }
   ],
   "source": [
    "dict1"
   ]
  },
  {
   "cell_type": "code",
   "execution_count": 47,
   "id": "205368e2",
   "metadata": {},
   "outputs": [],
   "source": [
    "dict1['Prices'][1] = 70"
   ]
  },
  {
   "cell_type": "code",
   "execution_count": 49,
   "id": "aa60c6b8",
   "metadata": {},
   "outputs": [
    {
     "ename": "KeyError",
     "evalue": "1",
     "output_type": "error",
     "traceback": [
      "\u001b[1;31m---------------------------------------------------------------------------\u001b[0m",
      "\u001b[1;31mKeyError\u001b[0m                                  Traceback (most recent call last)",
      "\u001b[1;32m~\\AppData\\Local\\Temp/ipykernel_10388/383547297.py\u001b[0m in \u001b[0;36m<module>\u001b[1;34m\u001b[0m\n\u001b[1;32m----> 1\u001b[1;33m \u001b[0mdict1\u001b[0m\u001b[1;33m[\u001b[0m\u001b[1;36m1\u001b[0m\u001b[1;33m]\u001b[0m\u001b[1;33m[\u001b[0m\u001b[1;36m1\u001b[0m\u001b[1;33m]\u001b[0m \u001b[1;33m=\u001b[0m \u001b[1;36m70\u001b[0m\u001b[1;33m\u001b[0m\u001b[1;33m\u001b[0m\u001b[0m\n\u001b[0m",
      "\u001b[1;31mKeyError\u001b[0m: 1"
     ]
    }
   ],
   "source": [
    "dict1[1][1] = 70"
   ]
  },
  {
   "cell_type": "code",
   "execution_count": 48,
   "id": "17db868d",
   "metadata": {},
   "outputs": [
    {
     "data": {
      "text/plain": [
       "{'fruits': ['Apple', 'Mango', 'Banana'],\n",
       " 'Prices': [100, 70, 60],\n",
       " 'Vegies': 'spinach'}"
      ]
     },
     "execution_count": 48,
     "metadata": {},
     "output_type": "execute_result"
    }
   ],
   "source": [
    "dict1"
   ]
  },
  {
   "cell_type": "code",
   "execution_count": 40,
   "id": "d155a4c4",
   "metadata": {},
   "outputs": [
    {
     "data": {
      "text/plain": [
       "'spinach'"
      ]
     },
     "execution_count": 40,
     "metadata": {},
     "output_type": "execute_result"
    }
   ],
   "source": [
    "dict1['Vegies']"
   ]
  },
  {
   "cell_type": "code",
   "execution_count": 41,
   "id": "90240cfb",
   "metadata": {},
   "outputs": [
    {
     "ename": "KeyError",
     "evalue": "99",
     "output_type": "error",
     "traceback": [
      "\u001b[1;31m---------------------------------------------------------------------------\u001b[0m",
      "\u001b[1;31mKeyError\u001b[0m                                  Traceback (most recent call last)",
      "\u001b[1;32m~\\AppData\\Local\\Temp/ipykernel_10388/2240642820.py\u001b[0m in \u001b[0;36m<module>\u001b[1;34m\u001b[0m\n\u001b[1;32m----> 1\u001b[1;33m \u001b[0mdict1\u001b[0m\u001b[1;33m[\u001b[0m\u001b[1;36m99\u001b[0m\u001b[1;33m]\u001b[0m\u001b[1;33m\u001b[0m\u001b[1;33m\u001b[0m\u001b[0m\n\u001b[0m",
      "\u001b[1;31mKeyError\u001b[0m: 99"
     ]
    }
   ],
   "source": [
    "dict1[99]"
   ]
  },
  {
   "cell_type": "code",
   "execution_count": 42,
   "id": "cd5b24e0",
   "metadata": {},
   "outputs": [],
   "source": [
    "dict1.get(99)"
   ]
  },
  {
   "cell_type": "code",
   "execution_count": 46,
   "id": "5ec2a4f2",
   "metadata": {},
   "outputs": [
    {
     "data": {
      "text/plain": [
       "'spinach'"
      ]
     },
     "execution_count": 46,
     "metadata": {},
     "output_type": "execute_result"
    }
   ],
   "source": [
    "dict1.get('Vegies')"
   ]
  },
  {
   "cell_type": "code",
   "execution_count": 43,
   "id": "ff39e439",
   "metadata": {},
   "outputs": [
    {
     "data": {
      "text/plain": [
       "['Apple', 'Mango', 'Banana']"
      ]
     },
     "execution_count": 43,
     "metadata": {},
     "output_type": "execute_result"
    }
   ],
   "source": [
    "res[0][1]"
   ]
  },
  {
   "cell_type": "code",
   "execution_count": 44,
   "id": "8033a267",
   "metadata": {},
   "outputs": [
    {
     "data": {
      "text/plain": [
       "True"
      ]
     },
     "execution_count": 44,
     "metadata": {},
     "output_type": "execute_result"
    }
   ],
   "source": [
    "'Mango' in res[0][1]"
   ]
  },
  {
   "cell_type": "code",
   "execution_count": 45,
   "id": "71f47eda",
   "metadata": {},
   "outputs": [
    {
     "data": {
      "text/plain": [
       "True"
      ]
     },
     "execution_count": 45,
     "metadata": {},
     "output_type": "execute_result"
    }
   ],
   "source": [
    "'Prices' in dict1"
   ]
  },
  {
   "cell_type": "markdown",
   "id": "c9ea94ce",
   "metadata": {},
   "source": [
    "# Conditional Statements"
   ]
  },
  {
   "cell_type": "code",
   "execution_count": 51,
   "id": "0bc81691",
   "metadata": {},
   "outputs": [
    {
     "name": "stdout",
     "output_type": "stream",
     "text": [
      "No\n"
     ]
    }
   ],
   "source": [
    "a = 10\n",
    "\n",
    "if a == 9:\n",
    "    print('Yes')\n",
    "else:\n",
    "    print('No')"
   ]
  },
  {
   "cell_type": "code",
   "execution_count": 53,
   "id": "7f1e09df",
   "metadata": {},
   "outputs": [
    {
     "name": "stdout",
     "output_type": "stream",
     "text": [
      "10\n"
     ]
    }
   ],
   "source": [
    "if a < 9:\n",
    "    print('Bad')\n",
    "    \n",
    "elif a > 10:\n",
    "    print('Good')\n",
    "    \n",
    "elif a == 10:\n",
    "    print(10)\n",
    "    \n",
    "else:\n",
    "    print('Awesome')"
   ]
  },
  {
   "cell_type": "code",
   "execution_count": 55,
   "id": "1f8add4d",
   "metadata": {},
   "outputs": [
    {
     "name": "stdout",
     "output_type": "stream",
     "text": [
      "Negative number\n"
     ]
    }
   ],
   "source": [
    "value = -20\n",
    "\n",
    "if value >= 0:\n",
    "    if value == 0:\n",
    "        print('Number is zero')\n",
    "    else:\n",
    "        print('Positive number')\n",
    "else:\n",
    "    print('Negative number')"
   ]
  },
  {
   "cell_type": "code",
   "execution_count": 56,
   "id": "27647d55",
   "metadata": {},
   "outputs": [
    {
     "name": "stdout",
     "output_type": "stream",
     "text": [
      "Positive number\n"
     ]
    }
   ],
   "source": [
    "value = 20\n",
    "\n",
    "if value >= 0:\n",
    "    if value == 0:\n",
    "        print('Number is zero')\n",
    "    else:\n",
    "        print('Positive number')\n",
    "else:\n",
    "    print('Negative number')"
   ]
  },
  {
   "cell_type": "code",
   "execution_count": 62,
   "id": "82ee298d",
   "metadata": {},
   "outputs": [
    {
     "name": "stdout",
     "output_type": "stream",
     "text": [
      "0.68\n",
      "Positive number\n"
     ]
    }
   ],
   "source": [
    "value = float(input())\n",
    "\n",
    "if value >= 0:\n",
    "    if value == 0:\n",
    "        print('Number is zero')\n",
    "    else:\n",
    "        print('Positive number')\n",
    "else:\n",
    "    print('Negative number')"
   ]
  },
  {
   "cell_type": "code",
   "execution_count": 63,
   "id": "16223f0b",
   "metadata": {},
   "outputs": [
    {
     "data": {
      "text/plain": [
       "True"
      ]
     },
     "execution_count": 63,
     "metadata": {},
     "output_type": "execute_result"
    }
   ],
   "source": [
    "10 % 2 == 0"
   ]
  },
  {
   "cell_type": "code",
   "execution_count": 66,
   "id": "83bfded0",
   "metadata": {},
   "outputs": [
    {
     "name": "stdout",
     "output_type": "stream",
     "text": [
      "11\n",
      "Odd\n"
     ]
    }
   ],
   "source": [
    "d=int(input())\n",
    "\n",
    "if d % 2==0:\n",
    "    print('Even')\n",
    "else:\n",
    "    print('Odd')\n"
   ]
  },
  {
   "cell_type": "code",
   "execution_count": 73,
   "id": "6eac40e3",
   "metadata": {},
   "outputs": [
    {
     "data": {
      "text/plain": [
       "[10, 20]"
      ]
     },
     "execution_count": 73,
     "metadata": {},
     "output_type": "execute_result"
    }
   ],
   "source": [
    "inputs = map(int, ['10', '20'])\n",
    "inputs"
   ]
  },
  {
   "cell_type": "code",
   "execution_count": 82,
   "id": "1304a822",
   "metadata": {},
   "outputs": [
    {
     "name": "stdout",
     "output_type": "stream",
     "text": [
      "10, 20 , 30\n"
     ]
    }
   ],
   "source": [
    "inputs = list(map(int, input().split(',')))                           # split  ['10', '20', '30']"
   ]
  },
  {
   "cell_type": "code",
   "execution_count": null,
   "id": "f3a1519d",
   "metadata": {},
   "outputs": [],
   "source": [
    "'10, 20 , 30'       ['10', '20', '30']"
   ]
  },
  {
   "cell_type": "code",
   "execution_count": 83,
   "id": "812fc30a",
   "metadata": {},
   "outputs": [
    {
     "data": {
      "text/plain": [
       "[10, 20, 30]"
      ]
     },
     "execution_count": 83,
     "metadata": {},
     "output_type": "execute_result"
    }
   ],
   "source": [
    "inputs"
   ]
  },
  {
   "cell_type": "code",
   "execution_count": 84,
   "id": "e3c10365",
   "metadata": {},
   "outputs": [],
   "source": [
    "a, b , c  = inputs"
   ]
  },
  {
   "cell_type": "code",
   "execution_count": 85,
   "id": "37a7abbb",
   "metadata": {},
   "outputs": [
    {
     "data": {
      "text/plain": [
       "30"
      ]
     },
     "execution_count": 85,
     "metadata": {},
     "output_type": "execute_result"
    }
   ],
   "source": [
    "c"
   ]
  },
  {
   "cell_type": "code",
   "execution_count": 86,
   "id": "66f342fb",
   "metadata": {},
   "outputs": [
    {
     "data": {
      "text/plain": [
       "20"
      ]
     },
     "execution_count": 86,
     "metadata": {},
     "output_type": "execute_result"
    }
   ],
   "source": [
    "b"
   ]
  },
  {
   "cell_type": "code",
   "execution_count": null,
   "id": "4e53b169",
   "metadata": {},
   "outputs": [],
   "source": [
    "inputs = list(map(int, input().split(',')))       # will take n number of integers as input\n",
    "a, b , c  = inputs"
   ]
  },
  {
   "cell_type": "code",
   "execution_count": 87,
   "id": "287989a9",
   "metadata": {},
   "outputs": [
    {
     "name": "stdout",
     "output_type": "stream",
     "text": [
      "Enter 1st number : 10\n",
      "Enter 2nd number : 20\n"
     ]
    }
   ],
   "source": [
    "a = int(input('Enter 1st number : '))\n",
    "b = int(input('Enter 2nd number : '))"
   ]
  },
  {
   "cell_type": "code",
   "execution_count": 88,
   "id": "48bf4d5b",
   "metadata": {},
   "outputs": [
    {
     "data": {
      "text/plain": [
       "20"
      ]
     },
     "execution_count": 88,
     "metadata": {},
     "output_type": "execute_result"
    }
   ],
   "source": [
    "b"
   ]
  },
  {
   "cell_type": "markdown",
   "id": "1aaa37f2",
   "metadata": {},
   "source": [
    "# Loops in Python"
   ]
  },
  {
   "cell_type": "markdown",
   "id": "a9c888a8",
   "metadata": {},
   "source": [
    "## For loop"
   ]
  },
  {
   "cell_type": "code",
   "execution_count": 93,
   "id": "eea3fc5b",
   "metadata": {
    "scrolled": true
   },
   "outputs": [
    {
     "name": "stdout",
     "output_type": "stream",
     "text": [
      "1\n",
      "2\n",
      "3\n",
      "4\n",
      "5\n",
      "6\n",
      "7\n",
      "8\n"
     ]
    }
   ],
   "source": [
    "lista = [1,2,3,4,5,6,7,8]\n",
    "\n",
    "for a in lista:\n",
    "    print(a)"
   ]
  },
  {
   "cell_type": "code",
   "execution_count": 98,
   "id": "1300465e",
   "metadata": {},
   "outputs": [
    {
     "data": {
      "text/plain": [
       "[1, 3, 5, 7, 9]"
      ]
     },
     "execution_count": 98,
     "metadata": {},
     "output_type": "execute_result"
    }
   ],
   "source": [
    "list(range(1, 11, 2))"
   ]
  },
  {
   "cell_type": "code",
   "execution_count": 97,
   "id": "d0190089",
   "metadata": {},
   "outputs": [
    {
     "name": "stdout",
     "output_type": "stream",
     "text": [
      "2\n",
      "4\n",
      "6\n",
      "8\n",
      "10\n",
      "12\n",
      "14\n",
      "16\n",
      "18\n",
      "20\n"
     ]
    }
   ],
   "source": [
    "for i in range(1,11):\n",
    "    print(i * 2)"
   ]
  },
  {
   "cell_type": "code",
   "execution_count": 101,
   "id": "63009dce",
   "metadata": {},
   "outputs": [
    {
     "name": "stdout",
     "output_type": "stream",
     "text": [
      "11\n",
      "21\n",
      "31\n",
      "41\n",
      "51\n",
      "61\n",
      "71\n",
      "81\n",
      "91\n",
      "101\n"
     ]
    }
   ],
   "source": [
    "for i in range(11,111, 10):\n",
    "    print(i)"
   ]
  },
  {
   "cell_type": "code",
   "execution_count": 102,
   "id": "59c7f2f5",
   "metadata": {},
   "outputs": [
    {
     "data": {
      "text/plain": [
       "dict_items([('fruits', ['Apple', 'Mango', 'Banana']), ('Prices', [100, 70, 60]), ('Vegies', 'spinach')])"
      ]
     },
     "execution_count": 102,
     "metadata": {},
     "output_type": "execute_result"
    }
   ],
   "source": [
    "dict1.items()"
   ]
  },
  {
   "cell_type": "code",
   "execution_count": 103,
   "id": "3d703550",
   "metadata": {},
   "outputs": [
    {
     "name": "stdout",
     "output_type": "stream",
     "text": [
      "fruits ['Apple', 'Mango', 'Banana']\n",
      "Prices [100, 70, 60]\n",
      "Vegies spinach\n"
     ]
    }
   ],
   "source": [
    "for key, value in dict1.items():                \n",
    "    print(key, value)  "
   ]
  },
  {
   "cell_type": "code",
   "execution_count": 104,
   "id": "d68f34aa",
   "metadata": {},
   "outputs": [
    {
     "data": {
      "text/plain": [
       "[1, 2, 3, 4, 5, 6, 7, 8, 9, 10]"
      ]
     },
     "execution_count": 104,
     "metadata": {},
     "output_type": "execute_result"
    }
   ],
   "source": [
    "list(range(1,11))"
   ]
  },
  {
   "cell_type": "code",
   "execution_count": 105,
   "id": "4cd7d42c",
   "metadata": {},
   "outputs": [
    {
     "name": "stdout",
     "output_type": "stream",
     "text": [
      "fruits\n",
      "Prices\n",
      "Vegies\n"
     ]
    }
   ],
   "source": [
    "for i in dict1.keys():\n",
    "    print(i)"
   ]
  },
  {
   "cell_type": "code",
   "execution_count": 108,
   "id": "a807f3cf",
   "metadata": {},
   "outputs": [
    {
     "data": {
      "text/plain": [
       "3"
      ]
     },
     "execution_count": 108,
     "metadata": {},
     "output_type": "execute_result"
    }
   ],
   "source": [
    "len(dict1)"
   ]
  },
  {
   "cell_type": "code",
   "execution_count": 116,
   "id": "4d410d7a",
   "metadata": {},
   "outputs": [],
   "source": [
    "dict2 = {\n",
    "    0 :  0,\n",
    "    1  :  10,\n",
    "    2  :  20,\n",
    "    3  : 30\n",
    "}"
   ]
  },
  {
   "cell_type": "code",
   "execution_count": 119,
   "id": "9a94999f",
   "metadata": {},
   "outputs": [
    {
     "name": "stdout",
     "output_type": "stream",
     "text": [
      "0\n",
      "10\n",
      "20\n",
      "30\n"
     ]
    }
   ],
   "source": [
    "for i in range(4):\n",
    "    print(dict2[i])"
   ]
  },
  {
   "cell_type": "markdown",
   "id": "40770935",
   "metadata": {},
   "source": [
    "# while loop"
   ]
  },
  {
   "cell_type": "code",
   "execution_count": 125,
   "id": "914e39b1",
   "metadata": {},
   "outputs": [
    {
     "name": "stdout",
     "output_type": "stream",
     "text": [
      "0\n",
      "1\n",
      "2\n",
      "3\n",
      "4\n",
      "5\n"
     ]
    }
   ],
   "source": [
    "a = 0\n",
    "\n",
    "while a <= 5:\n",
    "    print(a)\n",
    "    a = a + 1 "
   ]
  },
  {
   "cell_type": "code",
   "execution_count": 132,
   "id": "5ea1e11a",
   "metadata": {},
   "outputs": [
    {
     "name": "stdout",
     "output_type": "stream",
     "text": [
      "Enter a number : 5\n",
      "125\n",
      "Press Y to continue or and other key to stop : y\n",
      "Enter a number : 7\n",
      "343\n",
      "Press Y to continue or and other key to stop : d\n"
     ]
    }
   ],
   "source": [
    "flag = 'y'\n",
    "\n",
    "while flag == 'y' or flag == 'Y':\n",
    "    j = int(input(\"Enter a number : \"))\n",
    "    print(j*j*j)\n",
    "    \n",
    "    inp = input(\"Press Y to continue or and other key to stop : \")\n",
    "                \n",
    "    if inp == 'y':\n",
    "        pass\n",
    "    else:\n",
    "        flag = inp"
   ]
  },
  {
   "cell_type": "code",
   "execution_count": 131,
   "id": "ee04cc6a",
   "metadata": {},
   "outputs": [
    {
     "name": "stdout",
     "output_type": "stream",
     "text": [
      "1\n",
      "2\n",
      "3\n",
      "4\n",
      "5\n"
     ]
    }
   ],
   "source": [
    "for i in range(1,11):\n",
    "    print(i)\n",
    "    if i == 5:\n",
    "        break"
   ]
  },
  {
   "cell_type": "markdown",
   "id": "ae5fbeb8",
   "metadata": {},
   "source": [
    "# Functions"
   ]
  },
  {
   "cell_type": "code",
   "execution_count": 133,
   "id": "dc5bc03c",
   "metadata": {},
   "outputs": [],
   "source": [
    "def add(a, b):\n",
    "    result = a + b\n",
    "    print(result)"
   ]
  },
  {
   "cell_type": "code",
   "execution_count": 134,
   "id": "8e8aee7b",
   "metadata": {},
   "outputs": [
    {
     "name": "stdout",
     "output_type": "stream",
     "text": [
      "25\n"
     ]
    }
   ],
   "source": [
    "add(10, 15)"
   ]
  },
  {
   "cell_type": "code",
   "execution_count": 135,
   "id": "ea64c2ea",
   "metadata": {},
   "outputs": [
    {
     "name": "stdout",
     "output_type": "stream",
     "text": [
      "27\n"
     ]
    }
   ],
   "source": [
    "add(12, 15)"
   ]
  },
  {
   "cell_type": "code",
   "execution_count": 136,
   "id": "78029f35",
   "metadata": {},
   "outputs": [
    {
     "name": "stdout",
     "output_type": "stream",
     "text": [
      "35\n"
     ]
    }
   ],
   "source": [
    "add(10, 25)"
   ]
  },
  {
   "cell_type": "code",
   "execution_count": 137,
   "id": "6df8e5cc",
   "metadata": {},
   "outputs": [
    {
     "ename": "TypeError",
     "evalue": "add() missing 1 required positional argument: 'b'",
     "output_type": "error",
     "traceback": [
      "\u001b[1;31m---------------------------------------------------------------------------\u001b[0m",
      "\u001b[1;31mTypeError\u001b[0m                                 Traceback (most recent call last)",
      "\u001b[1;32m~\\AppData\\Local\\Temp/ipykernel_10388/53490253.py\u001b[0m in \u001b[0;36m<module>\u001b[1;34m\u001b[0m\n\u001b[1;32m----> 1\u001b[1;33m \u001b[0madd\u001b[0m\u001b[1;33m(\u001b[0m\u001b[1;36m10\u001b[0m\u001b[1;33m)\u001b[0m\u001b[1;33m\u001b[0m\u001b[1;33m\u001b[0m\u001b[0m\n\u001b[0m",
      "\u001b[1;31mTypeError\u001b[0m: add() missing 1 required positional argument: 'b'"
     ]
    }
   ],
   "source": [
    "add(10)"
   ]
  },
  {
   "cell_type": "code",
   "execution_count": 138,
   "id": "443147f6",
   "metadata": {},
   "outputs": [],
   "source": [
    "def product(a, b):\n",
    "    res = a * b\n",
    "    return res"
   ]
  },
  {
   "cell_type": "code",
   "execution_count": 139,
   "id": "78a66d99",
   "metadata": {},
   "outputs": [
    {
     "data": {
      "text/plain": [
       "6"
      ]
     },
     "execution_count": 139,
     "metadata": {},
     "output_type": "execute_result"
    }
   ],
   "source": [
    "result = product(2,3)\n",
    "result"
   ]
  },
  {
   "cell_type": "code",
   "execution_count": 140,
   "id": "dd27de67",
   "metadata": {},
   "outputs": [
    {
     "data": {
      "text/plain": [
       "20"
      ]
     },
     "execution_count": 140,
     "metadata": {},
     "output_type": "execute_result"
    }
   ],
   "source": [
    "result = product(2,10)\n",
    "result"
   ]
  },
  {
   "cell_type": "code",
   "execution_count": 141,
   "id": "d1a3bda6",
   "metadata": {},
   "outputs": [],
   "source": [
    "lista = [1,2,3,4,5,6,7,8,9]"
   ]
  },
  {
   "cell_type": "code",
   "execution_count": 144,
   "id": "aba75c1f",
   "metadata": {},
   "outputs": [],
   "source": [
    "def filter_even(li):\n",
    "    even_numbers = []\n",
    "    \n",
    "    for i in li:\n",
    "        if i % 2 == 0:\n",
    "            even_numbers.append(i)\n",
    "            \n",
    "    return even_numbers"
   ]
  },
  {
   "cell_type": "code",
   "execution_count": 143,
   "id": "d8bcd32a",
   "metadata": {},
   "outputs": [
    {
     "data": {
      "text/plain": [
       "[2, 4, 6, 8]"
      ]
     },
     "execution_count": 143,
     "metadata": {},
     "output_type": "execute_result"
    }
   ],
   "source": [
    "result = filter_even(lista)\n",
    "result"
   ]
  },
  {
   "cell_type": "code",
   "execution_count": 145,
   "id": "f3db7efc",
   "metadata": {},
   "outputs": [],
   "source": [
    "def filter_odd(li):\n",
    "    odd_numbers = []\n",
    "    \n",
    "    for i in li:\n",
    "        if i % 2 != 0:\n",
    "            odd_numbers.append(i)\n",
    "            \n",
    "    return odd_numbers"
   ]
  },
  {
   "cell_type": "code",
   "execution_count": 146,
   "id": "a61a4780",
   "metadata": {},
   "outputs": [
    {
     "data": {
      "text/plain": [
       "[1, 3, 5, 7, 9]"
      ]
     },
     "execution_count": 146,
     "metadata": {},
     "output_type": "execute_result"
    }
   ],
   "source": [
    "filter_odd(lista)"
   ]
  },
  {
   "cell_type": "code",
   "execution_count": null,
   "id": "dabb9aec",
   "metadata": {},
   "outputs": [],
   "source": [
    "args and kwargs"
   ]
  }
 ],
 "metadata": {
  "kernelspec": {
   "display_name": "Python 3 (ipykernel)",
   "language": "python",
   "name": "python3"
  },
  "language_info": {
   "codemirror_mode": {
    "name": "ipython",
    "version": 3
   },
   "file_extension": ".py",
   "mimetype": "text/x-python",
   "name": "python",
   "nbconvert_exporter": "python",
   "pygments_lexer": "ipython3",
   "version": "3.9.7"
  }
 },
 "nbformat": 4,
 "nbformat_minor": 5
}
