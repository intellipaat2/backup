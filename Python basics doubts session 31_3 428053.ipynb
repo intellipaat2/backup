{
 "cells": [
  {
   "cell_type": "code",
   "execution_count": 1,
   "id": "490341a2",
   "metadata": {},
   "outputs": [
    {
     "data": {
      "text/plain": [
       "[5, 15, 25, 35, 45, 55, 65, 75, 85, 95]"
      ]
     },
     "execution_count": 1,
     "metadata": {},
     "output_type": "execute_result"
    }
   ],
   "source": [
    "j = list(range(5,100,10))\n",
    "j"
   ]
  },
  {
   "cell_type": "raw",
   "id": "89352086",
   "metadata": {},
   "source": [
    "for loop"
   ]
  },
  {
   "cell_type": "code",
   "execution_count": 2,
   "id": "b7a6806b",
   "metadata": {},
   "outputs": [
    {
     "name": "stdout",
     "output_type": "stream",
     "text": [
      "5\n",
      "10\n",
      "125\n",
      "=========\n",
      "15\n",
      "30\n",
      "3375\n",
      "=========\n",
      "25\n",
      "50\n",
      "15625\n",
      "=========\n",
      "35\n",
      "70\n",
      "42875\n",
      "=========\n",
      "45\n",
      "90\n",
      "91125\n",
      "=========\n",
      "55\n",
      "110\n",
      "166375\n",
      "=========\n",
      "65\n",
      "130\n",
      "274625\n",
      "=========\n",
      "75\n",
      "150\n",
      "421875\n",
      "=========\n",
      "85\n",
      "170\n",
      "614125\n",
      "=========\n",
      "95\n",
      "190\n",
      "857375\n",
      "=========\n"
     ]
    }
   ],
   "source": [
    "for i in j:\n",
    "    print(i)\n",
    "    print(i*2)\n",
    "    print(i*i*i)\n",
    "    print(\"=========\")"
   ]
  },
  {
   "cell_type": "code",
   "execution_count": 3,
   "id": "dd62be93",
   "metadata": {},
   "outputs": [
    {
     "name": "stdout",
     "output_type": "stream",
     "text": [
      "1\n",
      "2\n",
      "1\n",
      "=========\n",
      "2\n",
      "4\n",
      "8\n",
      "=========\n",
      "3\n",
      "6\n",
      "27\n",
      "=========\n",
      "4\n",
      "8\n",
      "64\n",
      "=========\n",
      "5\n",
      "10\n",
      "125\n",
      "=========\n",
      "6\n",
      "12\n",
      "216\n",
      "=========\n",
      "7\n",
      "14\n",
      "343\n",
      "=========\n",
      "8\n",
      "16\n",
      "512\n",
      "=========\n",
      "9\n",
      "18\n",
      "729\n",
      "=========\n"
     ]
    }
   ],
   "source": [
    "for i in range(1,10):\n",
    "    print(i)\n",
    "    print(i*2)\n",
    "    print(i*i*i)\n",
    "    print(\"=========\")"
   ]
  },
  {
   "cell_type": "code",
   "execution_count": 4,
   "id": "4989db79",
   "metadata": {},
   "outputs": [
    {
     "name": "stdout",
     "output_type": "stream",
     "text": [
      "0\n",
      "1\n",
      "2\n",
      "3\n",
      "4\n",
      "5\n",
      "6\n",
      "7\n",
      "8\n",
      "9\n",
      "10\n"
     ]
    }
   ],
   "source": [
    "n = 0\n",
    "while n<=10:\n",
    "    print(n)\n",
    "    n = n + 1"
   ]
  },
  {
   "cell_type": "code",
   "execution_count": 8,
   "id": "ac522877",
   "metadata": {},
   "outputs": [],
   "source": [
    "def addnumbers(n,m):\n",
    "    print(n+m)"
   ]
  },
  {
   "cell_type": "code",
   "execution_count": 9,
   "id": "c5619628",
   "metadata": {},
   "outputs": [
    {
     "name": "stdout",
     "output_type": "stream",
     "text": [
      "3\n",
      "6\n",
      "9\n",
      "To continue pass y, else press pass any alpabety\n",
      "7\n",
      "8\n",
      "15\n",
      "To continue pass y, else press pass any alpabetf\n"
     ]
    }
   ],
   "source": [
    "j = 'y'\n",
    "while j == 'y':\n",
    "    n = int(input())\n",
    "    m = int(input())\n",
    "    addnumbers(n,m)\n",
    "    j = input(\"To continue pass y, else press pass any alpabet\")"
   ]
  },
  {
   "cell_type": "code",
   "execution_count": 19,
   "id": "8cac4953",
   "metadata": {},
   "outputs": [],
   "source": [
    "n = 65"
   ]
  },
  {
   "cell_type": "code",
   "execution_count": 20,
   "id": "5e22dd55",
   "metadata": {},
   "outputs": [
    {
     "name": "stdout",
     "output_type": "stream",
     "text": [
      "avg\n"
     ]
    }
   ],
   "source": [
    "if n >= 60 and n <=90:\n",
    "    print('avg')\n",
    "elif n >= 90:\n",
    "    print('good')\n",
    "else:\n",
    "    print('bad')"
   ]
  },
  {
   "cell_type": "code",
   "execution_count": 22,
   "id": "b7d02035",
   "metadata": {},
   "outputs": [
    {
     "name": "stdout",
     "output_type": "stream",
     "text": [
      "1\n",
      "2\n",
      "3\n",
      "4\n",
      "5\n"
     ]
    }
   ],
   "source": [
    "for i in range(1,9):\n",
    "    print(i)\n",
    "    if i == 5:\n",
    "        break"
   ]
  },
  {
   "cell_type": "code",
   "execution_count": 23,
   "id": "6dd252ec",
   "metadata": {},
   "outputs": [
    {
     "name": "stdout",
     "output_type": "stream",
     "text": [
      "97\n"
     ]
    }
   ],
   "source": [
    "for i in range(1,1000):\n",
    "    if i == 97:\n",
    "        print(i)\n",
    "        break"
   ]
  },
  {
   "cell_type": "code",
   "execution_count": 26,
   "id": "b36d3250",
   "metadata": {},
   "outputs": [
    {
     "name": "stdout",
     "output_type": "stream",
     "text": [
      "1\n",
      "2\n",
      "3\n",
      "4\n",
      "6\n",
      "7\n",
      "8\n"
     ]
    }
   ],
   "source": [
    "for i in range(1,9):\n",
    "    if i == 5:\n",
    "        continue\n",
    "    print(i)"
   ]
  },
  {
   "cell_type": "code",
   "execution_count": 27,
   "id": "2b35c3b8",
   "metadata": {},
   "outputs": [
    {
     "name": "stdout",
     "output_type": "stream",
     "text": [
      "5\n"
     ]
    }
   ],
   "source": [
    "for i in range(1,9):\n",
    "    if i != 5:\n",
    "        continue\n",
    "    print(i)"
   ]
  },
  {
   "cell_type": "code",
   "execution_count": 31,
   "id": "a04c15b5",
   "metadata": {},
   "outputs": [
    {
     "name": "stdout",
     "output_type": "stream",
     "text": [
      "1 * 1 = 1\n",
      "1 * 2 = 2\n",
      "1 * 3 = 3\n",
      "1 * 4 = 4\n",
      "1 * 5 = 5\n",
      "1 * 6 = 6\n",
      "1 * 7 = 7\n",
      "1 * 8 = 8\n",
      "1 * 9 = 9\n",
      "1 * 10 = 10\n",
      "==================\n",
      "2 * 1 = 2\n",
      "2 * 2 = 4\n",
      "2 * 3 = 6\n",
      "2 * 4 = 8\n",
      "2 * 5 = 10\n",
      "2 * 6 = 12\n",
      "2 * 7 = 14\n",
      "2 * 8 = 16\n",
      "2 * 9 = 18\n",
      "2 * 10 = 20\n",
      "==================\n"
     ]
    }
   ],
   "source": [
    "for i in range(1,3):\n",
    "    \n",
    "    for j in range(1,11):\n",
    "        print(i, \"*\", j, \"=\", i*j)\n",
    "    print('==================')\n",
    "        "
   ]
  },
  {
   "cell_type": "code",
   "execution_count": 32,
   "id": "fe7db64e",
   "metadata": {},
   "outputs": [],
   "source": [
    "dict1 = {\n",
    "    1: 'Veer',\n",
    "    2: 'Karan',\n",
    "    3: 'Swajit'\n",
    "}"
   ]
  },
  {
   "cell_type": "code",
   "execution_count": 33,
   "id": "49f13e4b",
   "metadata": {},
   "outputs": [
    {
     "data": {
      "text/plain": [
       "'Veer'"
      ]
     },
     "execution_count": 33,
     "metadata": {},
     "output_type": "execute_result"
    }
   ],
   "source": [
    "dict1[1]"
   ]
  },
  {
   "cell_type": "code",
   "execution_count": 34,
   "id": "5cb4b743",
   "metadata": {},
   "outputs": [
    {
     "data": {
      "text/plain": [
       "'Veer'"
      ]
     },
     "execution_count": 34,
     "metadata": {},
     "output_type": "execute_result"
    }
   ],
   "source": [
    "dict1.get(1)"
   ]
  },
  {
   "cell_type": "code",
   "execution_count": 40,
   "id": "5ea5818b",
   "metadata": {},
   "outputs": [
    {
     "name": "stdout",
     "output_type": "stream",
     "text": [
      "1\n"
     ]
    }
   ],
   "source": [
    "for i,j in dict1.items():\n",
    "    if j == 'Veer':\n",
    "        print(i)"
   ]
  },
  {
   "cell_type": "code",
   "execution_count": 37,
   "id": "39e8e253",
   "metadata": {},
   "outputs": [
    {
     "data": {
      "text/plain": [
       "dict_items([(1, 'Veer'), (2, 'Karan'), (3, 'Swajit')])"
      ]
     },
     "execution_count": 37,
     "metadata": {},
     "output_type": "execute_result"
    }
   ],
   "source": [
    "dict1.items()"
   ]
  },
  {
   "cell_type": "code",
   "execution_count": 41,
   "id": "fe182f32",
   "metadata": {},
   "outputs": [
    {
     "name": "stdout",
     "output_type": "stream",
     "text": [
      "1 Veer\n",
      "2 Karan\n",
      "3 Swajit\n"
     ]
    }
   ],
   "source": [
    "for i,j in dict1.items():\n",
    "        print(i,j)"
   ]
  },
  {
   "cell_type": "code",
   "execution_count": null,
   "id": "59de6180",
   "metadata": {},
   "outputs": [],
   "source": []
  }
 ],
 "metadata": {
  "kernelspec": {
   "display_name": "Python 3 (ipykernel)",
   "language": "python",
   "name": "python3"
  },
  "language_info": {
   "codemirror_mode": {
    "name": "ipython",
    "version": 3
   },
   "file_extension": ".py",
   "mimetype": "text/x-python",
   "name": "python",
   "nbconvert_exporter": "python",
   "pygments_lexer": "ipython3",
   "version": "3.9.7"
  }
 },
 "nbformat": 4,
 "nbformat_minor": 5
}
