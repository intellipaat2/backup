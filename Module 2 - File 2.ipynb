{
 "cells": [
  {
   "cell_type": "code",
   "execution_count": 8,
   "id": "b6609f09",
   "metadata": {},
   "outputs": [],
   "source": [
    "#file 2\n",
    "class parent_class:\n",
    "    def __init__(self):\n",
    "        self.num=10\n",
    "class Child_class(parent_class):\n",
    "    def __init__(self):\n",
    "        super().__init__()"
   ]
  },
  {
   "cell_type": "code",
   "execution_count": 9,
   "id": "9f3c5826",
   "metadata": {},
   "outputs": [],
   "source": [
    "o=Child_class()"
   ]
  },
  {
   "cell_type": "code",
   "execution_count": 10,
   "id": "43b46f41",
   "metadata": {},
   "outputs": [
    {
     "name": "stdout",
     "output_type": "stream",
     "text": [
      "10\n"
     ]
    }
   ],
   "source": [
    "print(o.m())"
   ]
  },
  {
   "cell_type": "code",
   "execution_count": 43,
   "id": "f727d5ab",
   "metadata": {},
   "outputs": [],
   "source": [
    "class A:\n",
    "    def __init__(self):\n",
    "        self.name='Rahul'\n",
    "        self.age=90\n",
    "    def details(self):\n",
    "        return self.name\n",
    "class B:\n",
    "    def __init__(self):\n",
    "        self.name='Shi'\n",
    "        self.id=909\n",
    "    def details(self):\n",
    "        return self.name\n",
    "class C(A,B):\n",
    "    def __init__(self):\n",
    "        A.__init__(self)\n",
    "    def get_details(self):\n",
    "        return self.name"
   ]
  },
  {
   "cell_type": "code",
   "execution_count": 44,
   "id": "6f801628",
   "metadata": {},
   "outputs": [],
   "source": [
    "ob=C()"
   ]
  },
  {
   "cell_type": "code",
   "execution_count": 45,
   "id": "c3336399",
   "metadata": {},
   "outputs": [
    {
     "data": {
      "text/plain": [
       "'Rahul'"
      ]
     },
     "execution_count": 45,
     "metadata": {},
     "output_type": "execute_result"
    }
   ],
   "source": [
    "ob.get_details()"
   ]
  },
  {
   "cell_type": "code",
   "execution_count": 11,
   "id": "f07e4058",
   "metadata": {},
   "outputs": [],
   "source": [
    "class Employee:\n",
    "    def __init__(self, name, salary):\n",
    "        self.name=name\n",
    "        self.salary=salary\n",
    "    def __str__(self):\n",
    "        print('Name: ',self.name)\n",
    "        print('Salary: ',self.salary)"
   ]
  },
  {
   "cell_type": "code",
   "execution_count": 10,
   "id": "25c748f6",
   "metadata": {},
   "outputs": [
    {
     "name": "stdout",
     "output_type": "stream",
     "text": [
      "Name:  kl\n",
      "Salary:  9999999\n"
     ]
    }
   ],
   "source": [
    "j = Employee('kl', '9999999')\n",
    "j.str1()"
   ]
  },
  {
   "cell_type": "code",
   "execution_count": 47,
   "id": "8aae1760",
   "metadata": {},
   "outputs": [
    {
     "name": "stdout",
     "output_type": "stream",
     "text": [
      "0\n",
      "1\n",
      "2\n",
      "3\n",
      "4\n",
      "5\n",
      "6\n",
      "7\n",
      "8\n",
      "9\n"
     ]
    }
   ],
   "source": [
    "for i in range(10):\n",
    "    print(i)"
   ]
  },
  {
   "cell_type": "code",
   "execution_count": null,
   "id": "c10efa58",
   "metadata": {},
   "outputs": [],
   "source": []
  }
 ],
 "metadata": {
  "kernelspec": {
   "display_name": "Python 3 (ipykernel)",
   "language": "python",
   "name": "python3"
  },
  "language_info": {
   "codemirror_mode": {
    "name": "ipython",
    "version": 3
   },
   "file_extension": ".py",
   "mimetype": "text/x-python",
   "name": "python",
   "nbconvert_exporter": "python",
   "pygments_lexer": "ipython3",
   "version": "3.9.7"
  }
 },
 "nbformat": 4,
 "nbformat_minor": 5
}
