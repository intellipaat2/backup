{
 "cells": [
  {
   "cell_type": "markdown",
   "id": "9463428f",
   "metadata": {},
   "source": [
    "# List in Python"
   ]
  },
  {
   "cell_type": "code",
   "execution_count": 1,
   "id": "d998e9da",
   "metadata": {},
   "outputs": [
    {
     "data": {
      "text/plain": [
       "[1, 2, 3, 4, 5, 6, 7, 8]"
      ]
     },
     "execution_count": 1,
     "metadata": {},
     "output_type": "execute_result"
    }
   ],
   "source": [
    "numbers = [1,2,3,4,5,6,7,8]\n",
    "numbers"
   ]
  },
  {
   "cell_type": "code",
   "execution_count": 2,
   "id": "879fdfb3",
   "metadata": {},
   "outputs": [
    {
     "data": {
      "text/plain": [
       "list"
      ]
     },
     "execution_count": 2,
     "metadata": {},
     "output_type": "execute_result"
    }
   ],
   "source": [
    "type(numbers)"
   ]
  },
  {
   "cell_type": "code",
   "execution_count": 3,
   "id": "fc14fddb",
   "metadata": {},
   "outputs": [
    {
     "data": {
      "text/plain": [
       "3"
      ]
     },
     "execution_count": 3,
     "metadata": {},
     "output_type": "execute_result"
    }
   ],
   "source": [
    "numbers[2]"
   ]
  },
  {
   "cell_type": "code",
   "execution_count": 4,
   "id": "ea2807db",
   "metadata": {},
   "outputs": [],
   "source": [
    "mixed = [24, 99.9, 'Python']"
   ]
  },
  {
   "cell_type": "code",
   "execution_count": 5,
   "id": "8a763470",
   "metadata": {},
   "outputs": [
    {
     "data": {
      "text/plain": [
       "'Python'"
      ]
     },
     "execution_count": 5,
     "metadata": {},
     "output_type": "execute_result"
    }
   ],
   "source": [
    "mixed[2]"
   ]
  },
  {
   "cell_type": "code",
   "execution_count": 6,
   "id": "5fb55108",
   "metadata": {},
   "outputs": [],
   "source": [
    "empty = []"
   ]
  },
  {
   "cell_type": "code",
   "execution_count": 7,
   "id": "aff4786f",
   "metadata": {},
   "outputs": [
    {
     "data": {
      "text/plain": [
       "list"
      ]
     },
     "execution_count": 7,
     "metadata": {},
     "output_type": "execute_result"
    }
   ],
   "source": [
    "type(empty)"
   ]
  },
  {
   "cell_type": "code",
   "execution_count": 10,
   "id": "404b6463",
   "metadata": {},
   "outputs": [
    {
     "ename": "TypeError",
     "evalue": "list.append() takes exactly one argument (2 given)",
     "output_type": "error",
     "traceback": [
      "\u001b[1;31m---------------------------------------------------------------------------\u001b[0m",
      "\u001b[1;31mTypeError\u001b[0m                                 Traceback (most recent call last)",
      "\u001b[1;32m~\\AppData\\Local\\Temp/ipykernel_10520/3355219227.py\u001b[0m in \u001b[0;36m<module>\u001b[1;34m\u001b[0m\n\u001b[1;32m----> 1\u001b[1;33m \u001b[0mnumbers\u001b[0m\u001b[1;33m.\u001b[0m\u001b[0mappend\u001b[0m\u001b[1;33m(\u001b[0m\u001b[1;36m9\u001b[0m\u001b[1;33m,\u001b[0m \u001b[1;36m10\u001b[0m\u001b[1;33m)\u001b[0m                    \u001b[1;31m# append adds one element at the end\u001b[0m\u001b[1;33m\u001b[0m\u001b[1;33m\u001b[0m\u001b[0m\n\u001b[0m",
      "\u001b[1;31mTypeError\u001b[0m: list.append() takes exactly one argument (2 given)"
     ]
    }
   ],
   "source": [
    "numbers.append(9, 10)                    # append adds one element at the end"
   ]
  },
  {
   "cell_type": "code",
   "execution_count": 11,
   "id": "bfade265",
   "metadata": {},
   "outputs": [
    {
     "data": {
      "text/plain": [
       "[1, 2, 3, 4, 5, 6, 7, 8, 9, 10]"
      ]
     },
     "execution_count": 11,
     "metadata": {},
     "output_type": "execute_result"
    }
   ],
   "source": [
    "numbers.append(10)\n",
    "numbers"
   ]
  },
  {
   "cell_type": "code",
   "execution_count": 12,
   "id": "6582c24b",
   "metadata": {},
   "outputs": [
    {
     "data": {
      "text/plain": [
       "10"
      ]
     },
     "execution_count": 12,
     "metadata": {},
     "output_type": "execute_result"
    }
   ],
   "source": [
    "numbers.pop()           # deletes and return last element from the list"
   ]
  },
  {
   "cell_type": "code",
   "execution_count": 13,
   "id": "5b96a91e",
   "metadata": {},
   "outputs": [
    {
     "data": {
      "text/plain": [
       "[1, 2, 3, 4, 5, 6, 7, 8, 9]"
      ]
     },
     "execution_count": 13,
     "metadata": {},
     "output_type": "execute_result"
    }
   ],
   "source": [
    "numbers"
   ]
  },
  {
   "cell_type": "code",
   "execution_count": 14,
   "id": "1d60d7a0",
   "metadata": {},
   "outputs": [],
   "source": [
    "p = numbers.pop()"
   ]
  },
  {
   "cell_type": "code",
   "execution_count": 15,
   "id": "967ff18a",
   "metadata": {},
   "outputs": [
    {
     "data": {
      "text/plain": [
       "9"
      ]
     },
     "execution_count": 15,
     "metadata": {},
     "output_type": "execute_result"
    }
   ],
   "source": [
    "p"
   ]
  },
  {
   "cell_type": "code",
   "execution_count": 16,
   "id": "f65b5bd4",
   "metadata": {},
   "outputs": [
    {
     "data": {
      "text/plain": [
       "[1, 2, 3, 4, 5, 6, 7, 8]"
      ]
     },
     "execution_count": 16,
     "metadata": {},
     "output_type": "execute_result"
    }
   ],
   "source": [
    "numbers"
   ]
  },
  {
   "cell_type": "code",
   "execution_count": 17,
   "id": "6cf402c3",
   "metadata": {},
   "outputs": [
    {
     "data": {
      "text/plain": [
       "3"
      ]
     },
     "execution_count": 17,
     "metadata": {},
     "output_type": "execute_result"
    }
   ],
   "source": [
    "numbers.pop(2)"
   ]
  },
  {
   "cell_type": "code",
   "execution_count": 18,
   "id": "e7372bd9",
   "metadata": {},
   "outputs": [
    {
     "data": {
      "text/plain": [
       "[1, 2, 4, 5, 6, 7, 8]"
      ]
     },
     "execution_count": 18,
     "metadata": {},
     "output_type": "execute_result"
    }
   ],
   "source": [
    "numbers"
   ]
  },
  {
   "cell_type": "code",
   "execution_count": 19,
   "id": "988e15ae",
   "metadata": {},
   "outputs": [
    {
     "data": {
      "text/plain": [
       "5"
      ]
     },
     "execution_count": 19,
     "metadata": {},
     "output_type": "execute_result"
    }
   ],
   "source": [
    "numbers.index(7)"
   ]
  },
  {
   "cell_type": "code",
   "execution_count": 25,
   "id": "f9364e5d",
   "metadata": {},
   "outputs": [
    {
     "data": {
      "text/plain": [
       "2"
      ]
     },
     "execution_count": 25,
     "metadata": {},
     "output_type": "execute_result"
    }
   ],
   "source": [
    "mixed.index('Python')"
   ]
  },
  {
   "cell_type": "code",
   "execution_count": 20,
   "id": "b47d79a5",
   "metadata": {},
   "outputs": [
    {
     "data": {
      "text/plain": [
       "7"
      ]
     },
     "execution_count": 20,
     "metadata": {},
     "output_type": "execute_result"
    }
   ],
   "source": [
    "numbers.pop(numbers.index(7))                #  numbers.pop(5) "
   ]
  },
  {
   "cell_type": "code",
   "execution_count": 21,
   "id": "d006e168",
   "metadata": {},
   "outputs": [
    {
     "data": {
      "text/plain": [
       "[1, 2, 4, 5, 6, 8]"
      ]
     },
     "execution_count": 21,
     "metadata": {},
     "output_type": "execute_result"
    }
   ],
   "source": [
    "numbers"
   ]
  },
  {
   "cell_type": "code",
   "execution_count": 26,
   "id": "d0cea46b",
   "metadata": {},
   "outputs": [
    {
     "data": {
      "text/plain": [
       "6"
      ]
     },
     "execution_count": 26,
     "metadata": {},
     "output_type": "execute_result"
    }
   ],
   "source": [
    "len(numbers)                   # gives length of list"
   ]
  },
  {
   "cell_type": "code",
   "execution_count": 23,
   "id": "9acb205a",
   "metadata": {},
   "outputs": [
    {
     "data": {
      "text/plain": [
       "1"
      ]
     },
     "execution_count": 23,
     "metadata": {},
     "output_type": "execute_result"
    }
   ],
   "source": [
    "numbers[-6]"
   ]
  },
  {
   "cell_type": "code",
   "execution_count": 24,
   "id": "58f89011",
   "metadata": {},
   "outputs": [
    {
     "data": {
      "text/plain": [
       "8"
      ]
     },
     "execution_count": 24,
     "metadata": {},
     "output_type": "execute_result"
    }
   ],
   "source": [
    "numbers[-1]"
   ]
  },
  {
   "cell_type": "code",
   "execution_count": 27,
   "id": "ed50280f",
   "metadata": {},
   "outputs": [
    {
     "data": {
      "text/plain": [
       "[1, 2, 4, 5, 6, 8]"
      ]
     },
     "execution_count": 27,
     "metadata": {},
     "output_type": "execute_result"
    }
   ],
   "source": [
    "numbers"
   ]
  },
  {
   "cell_type": "code",
   "execution_count": 28,
   "id": "ee0881a5",
   "metadata": {},
   "outputs": [
    {
     "data": {
      "text/plain": [
       "[24, 99.9, 'Python']"
      ]
     },
     "execution_count": 28,
     "metadata": {},
     "output_type": "execute_result"
    }
   ],
   "source": [
    "mixed"
   ]
  },
  {
   "cell_type": "code",
   "execution_count": 29,
   "id": "a76d9ed6",
   "metadata": {},
   "outputs": [],
   "source": [
    "mixed.append([1,2,3])"
   ]
  },
  {
   "cell_type": "code",
   "execution_count": 30,
   "id": "2877926f",
   "metadata": {},
   "outputs": [
    {
     "data": {
      "text/plain": [
       "[24, 99.9, 'Python', [1, 2, 3]]"
      ]
     },
     "execution_count": 30,
     "metadata": {},
     "output_type": "execute_result"
    }
   ],
   "source": [
    "mixed"
   ]
  },
  {
   "cell_type": "code",
   "execution_count": 31,
   "id": "197b4b82",
   "metadata": {},
   "outputs": [
    {
     "data": {
      "text/plain": [
       "4"
      ]
     },
     "execution_count": 31,
     "metadata": {},
     "output_type": "execute_result"
    }
   ],
   "source": [
    "len(mixed)"
   ]
  },
  {
   "cell_type": "code",
   "execution_count": 37,
   "id": "edadb162",
   "metadata": {},
   "outputs": [],
   "source": [
    "mixed.extend(numbers)"
   ]
  },
  {
   "cell_type": "code",
   "execution_count": 33,
   "id": "42e2f7a3",
   "metadata": {},
   "outputs": [
    {
     "data": {
      "text/plain": [
       "[24, 99.9, 'Python', [1, 2, 3], 1, 2, 4, 5, 6, 8]"
      ]
     },
     "execution_count": 33,
     "metadata": {},
     "output_type": "execute_result"
    }
   ],
   "source": [
    "mixed"
   ]
  },
  {
   "cell_type": "code",
   "execution_count": 35,
   "id": "71ed12b2",
   "metadata": {},
   "outputs": [
    {
     "data": {
      "text/plain": [
       "10"
      ]
     },
     "execution_count": 35,
     "metadata": {},
     "output_type": "execute_result"
    }
   ],
   "source": [
    "len(mixed)"
   ]
  },
  {
   "cell_type": "code",
   "execution_count": 47,
   "id": "a5d45985",
   "metadata": {},
   "outputs": [
    {
     "data": {
      "text/plain": [
       "[24, 99.9, 'Python', [1, 2, 3], 1, 2, 4, 5, 6]"
      ]
     },
     "execution_count": 47,
     "metadata": {},
     "output_type": "execute_result"
    }
   ],
   "source": [
    "mixed"
   ]
  },
  {
   "cell_type": "code",
   "execution_count": 36,
   "id": "70e80f12",
   "metadata": {},
   "outputs": [],
   "source": [
    "#count"
   ]
  },
  {
   "cell_type": "code",
   "execution_count": 54,
   "id": "20fdce77",
   "metadata": {},
   "outputs": [
    {
     "data": {
      "text/plain": [
       "1"
      ]
     },
     "execution_count": 54,
     "metadata": {},
     "output_type": "execute_result"
    }
   ],
   "source": [
    "mixed.count(6)                  # will tell how many times 8 is repeating"
   ]
  },
  {
   "cell_type": "code",
   "execution_count": 48,
   "id": "b7ea46bd",
   "metadata": {},
   "outputs": [],
   "source": [
    "mixed.insert(1, 100)"
   ]
  },
  {
   "cell_type": "code",
   "execution_count": 53,
   "id": "d23bd137",
   "metadata": {},
   "outputs": [
    {
     "data": {
      "text/plain": [
       "[24, 100, 99.9, 'Python', 'Sunday', [1, 2, 3], 1, 2, 4, 5, 6]"
      ]
     },
     "execution_count": 53,
     "metadata": {},
     "output_type": "execute_result"
    }
   ],
   "source": [
    "mixed"
   ]
  },
  {
   "cell_type": "code",
   "execution_count": 50,
   "id": "9131c8cd",
   "metadata": {},
   "outputs": [
    {
     "data": {
      "text/plain": [
       "[24, 100, 99.9, 'Python', 'Sunday', [1, 2, 3], 1, 2, 4, 5, 6]"
      ]
     },
     "execution_count": 50,
     "metadata": {},
     "output_type": "execute_result"
    }
   ],
   "source": [
    "mixed.insert(4,'Sunday')\n",
    "mixed"
   ]
  },
  {
   "cell_type": "markdown",
   "id": "793f62a6",
   "metadata": {},
   "source": [
    "## Slicing in list"
   ]
  },
  {
   "cell_type": "code",
   "execution_count": 52,
   "id": "3095690e",
   "metadata": {},
   "outputs": [
    {
     "data": {
      "text/plain": [
       "[24, 100, 99.9]"
      ]
     },
     "execution_count": 52,
     "metadata": {},
     "output_type": "execute_result"
    }
   ],
   "source": [
    "mixed[0:3]                        # list[n:m]            n to m-1th index"
   ]
  },
  {
   "cell_type": "code",
   "execution_count": 55,
   "id": "1bdeb111",
   "metadata": {},
   "outputs": [
    {
     "data": {
      "text/plain": [
       "[24, 100, 99.9]"
      ]
     },
     "execution_count": 55,
     "metadata": {},
     "output_type": "execute_result"
    }
   ],
   "source": [
    "mixed[:3]"
   ]
  },
  {
   "cell_type": "code",
   "execution_count": 56,
   "id": "3bf8ad37",
   "metadata": {},
   "outputs": [
    {
     "data": {
      "text/plain": [
       "['Python', 'Sunday']"
      ]
     },
     "execution_count": 56,
     "metadata": {},
     "output_type": "execute_result"
    }
   ],
   "source": [
    "mixed[3:5]"
   ]
  },
  {
   "cell_type": "code",
   "execution_count": 57,
   "id": "432343d9",
   "metadata": {},
   "outputs": [
    {
     "data": {
      "text/plain": [
       "['Python', 'Sunday', [1, 2, 3], 1, 2, 4, 5, 6]"
      ]
     },
     "execution_count": 57,
     "metadata": {},
     "output_type": "execute_result"
    }
   ],
   "source": [
    "mixed[3:]"
   ]
  },
  {
   "cell_type": "code",
   "execution_count": 59,
   "id": "3b0d159e",
   "metadata": {},
   "outputs": [
    {
     "data": {
      "text/plain": [
       "['Python']"
      ]
     },
     "execution_count": 59,
     "metadata": {},
     "output_type": "execute_result"
    }
   ],
   "source": [
    "mixed[3:4]"
   ]
  },
  {
   "cell_type": "code",
   "execution_count": 61,
   "id": "9ee489c8",
   "metadata": {},
   "outputs": [
    {
     "data": {
      "text/plain": [
       "['Python', 'Sunday', [1, 2, 3], 1, 2, 4, 5]"
      ]
     },
     "execution_count": 61,
     "metadata": {},
     "output_type": "execute_result"
    }
   ],
   "source": [
    "mixed[3:-1]                   # -1-1  =  -2"
   ]
  },
  {
   "cell_type": "code",
   "execution_count": 62,
   "id": "5e7540bc",
   "metadata": {},
   "outputs": [],
   "source": [
    "# insert multiple element in list\n",
    "\n",
    "j = range(10,13)\n",
    "\n",
    "mixed[1:1] = j"
   ]
  },
  {
   "cell_type": "code",
   "execution_count": 73,
   "id": "97c24d18",
   "metadata": {},
   "outputs": [
    {
     "data": {
      "text/plain": [
       "[10, 11, 12]"
      ]
     },
     "execution_count": 73,
     "metadata": {},
     "output_type": "execute_result"
    }
   ],
   "source": [
    "list(mixed[1])"
   ]
  },
  {
   "cell_type": "code",
   "execution_count": 65,
   "id": "96300e1a",
   "metadata": {},
   "outputs": [],
   "source": [
    "mixed.remove(10)"
   ]
  },
  {
   "cell_type": "code",
   "execution_count": 66,
   "id": "2064c283",
   "metadata": {},
   "outputs": [
    {
     "data": {
      "text/plain": [
       "[24, 11, 12, 100, 99.9, 'Python', 'Sunday', [1, 2, 3], 1, 2, 4, 5, 6]"
      ]
     },
     "execution_count": 66,
     "metadata": {},
     "output_type": "execute_result"
    }
   ],
   "source": [
    "mixed"
   ]
  },
  {
   "cell_type": "code",
   "execution_count": 69,
   "id": "89b59d79",
   "metadata": {},
   "outputs": [],
   "source": [
    "mixed.remove(12)"
   ]
  },
  {
   "cell_type": "code",
   "execution_count": 70,
   "id": "38e9409f",
   "metadata": {},
   "outputs": [
    {
     "data": {
      "text/plain": [
       "[24, 100, 99.9, 'Python', 'Sunday', [1, 2, 3], 1, 2, 4, 5, 6]"
      ]
     },
     "execution_count": 70,
     "metadata": {},
     "output_type": "execute_result"
    }
   ],
   "source": [
    "mixed"
   ]
  },
  {
   "cell_type": "markdown",
   "id": "4a043767",
   "metadata": {},
   "source": [
    "## Sorting list"
   ]
  },
  {
   "cell_type": "code",
   "execution_count": 74,
   "id": "651a3e0f",
   "metadata": {},
   "outputs": [],
   "source": [
    "randomlist =  [2,5,8,1,6,2,9]\n",
    "randomlist.sort()                    # sort will sort the original list"
   ]
  },
  {
   "cell_type": "code",
   "execution_count": 75,
   "id": "c204b49e",
   "metadata": {},
   "outputs": [
    {
     "data": {
      "text/plain": [
       "[1, 2, 2, 5, 6, 8, 9]"
      ]
     },
     "execution_count": 75,
     "metadata": {},
     "output_type": "execute_result"
    }
   ],
   "source": [
    "randomlist"
   ]
  },
  {
   "cell_type": "code",
   "execution_count": 76,
   "id": "f1a4ee44",
   "metadata": {},
   "outputs": [
    {
     "data": {
      "text/plain": [
       "[1, 2, 2, 5, 6, 8, 9]"
      ]
     },
     "execution_count": 76,
     "metadata": {},
     "output_type": "execute_result"
    }
   ],
   "source": [
    "randomlist2 =  [2,5,8,1,6,2,9]\n",
    "sorted(randomlist2)                  # sorted will return a sorted copy of original list, it will not sort the original list"
   ]
  },
  {
   "cell_type": "code",
   "execution_count": 77,
   "id": "13e60d2e",
   "metadata": {},
   "outputs": [
    {
     "data": {
      "text/plain": [
       "[2, 5, 8, 1, 6, 2, 9]"
      ]
     },
     "execution_count": 77,
     "metadata": {},
     "output_type": "execute_result"
    }
   ],
   "source": [
    "randomlist2"
   ]
  },
  {
   "cell_type": "code",
   "execution_count": 78,
   "id": "6b0276e9",
   "metadata": {},
   "outputs": [
    {
     "data": {
      "text/plain": [
       "[1, 2, 2, 5, 6, 8, 9]"
      ]
     },
     "execution_count": 78,
     "metadata": {},
     "output_type": "execute_result"
    }
   ],
   "source": [
    "sortedlist = sorted(randomlist2) \n",
    "sortedlist"
   ]
  },
  {
   "cell_type": "code",
   "execution_count": 80,
   "id": "bb0a82e1",
   "metadata": {},
   "outputs": [
    {
     "data": {
      "text/plain": [
       "[9, 8, 6, 5, 2, 2, 1]"
      ]
     },
     "execution_count": 80,
     "metadata": {},
     "output_type": "execute_result"
    }
   ],
   "source": [
    "randomlist.sort(reverse = True)  \n",
    "randomlist"
   ]
  },
  {
   "cell_type": "code",
   "execution_count": 91,
   "id": "edc5dc0c",
   "metadata": {},
   "outputs": [
    {
     "data": {
      "text/plain": [
       "[24, 99.9, 100]"
      ]
     },
     "execution_count": 91,
     "metadata": {},
     "output_type": "execute_result"
    }
   ],
   "source": [
    "newlist = [24, 100, 99.9]\n",
    "newlist.sort()\n",
    "newlist"
   ]
  },
  {
   "cell_type": "code",
   "execution_count": 93,
   "id": "af1567bd",
   "metadata": {},
   "outputs": [
    {
     "data": {
      "text/plain": [
       "['Apple', 'Python', 'Sunday']"
      ]
     },
     "execution_count": 93,
     "metadata": {},
     "output_type": "execute_result"
    }
   ],
   "source": [
    "nlist = ['Python', 'Sunday', 'Apple']\n",
    "nlist.sort()\n",
    "nlist"
   ]
  },
  {
   "cell_type": "code",
   "execution_count": 95,
   "id": "f6d64918",
   "metadata": {},
   "outputs": [
    {
     "data": {
      "text/plain": [
       "False"
      ]
     },
     "execution_count": 95,
     "metadata": {},
     "output_type": "execute_result"
    }
   ],
   "source": [
    "'python' in nlist"
   ]
  },
  {
   "cell_type": "markdown",
   "id": "14a84183",
   "metadata": {},
   "source": [
    "# Tuples in Python"
   ]
  },
  {
   "cell_type": "code",
   "execution_count": 96,
   "id": "ca085a17",
   "metadata": {},
   "outputs": [
    {
     "data": {
      "text/plain": [
       "(18, 19, 20)"
      ]
     },
     "execution_count": 96,
     "metadata": {},
     "output_type": "execute_result"
    }
   ],
   "source": [
    "tup = 18,19,20\n",
    "tup"
   ]
  },
  {
   "cell_type": "code",
   "execution_count": 97,
   "id": "749129e0",
   "metadata": {},
   "outputs": [
    {
     "data": {
      "text/plain": [
       "tuple"
      ]
     },
     "execution_count": 97,
     "metadata": {},
     "output_type": "execute_result"
    }
   ],
   "source": [
    "type(tup)"
   ]
  },
  {
   "cell_type": "code",
   "execution_count": 98,
   "id": "1af2939f",
   "metadata": {},
   "outputs": [
    {
     "data": {
      "text/plain": [
       "(2, 4, 6)"
      ]
     },
     "execution_count": 98,
     "metadata": {},
     "output_type": "execute_result"
    }
   ],
   "source": [
    "tuple1 = (2,4,6)\n",
    "tuple1"
   ]
  },
  {
   "cell_type": "code",
   "execution_count": 99,
   "id": "bb975b4a",
   "metadata": {},
   "outputs": [
    {
     "data": {
      "text/plain": [
       "()"
      ]
     },
     "execution_count": 99,
     "metadata": {},
     "output_type": "execute_result"
    }
   ],
   "source": [
    "emptytuple = ()\n",
    "emptytuple"
   ]
  },
  {
   "cell_type": "code",
   "execution_count": 100,
   "id": "7222e4e8",
   "metadata": {},
   "outputs": [
    {
     "data": {
      "text/plain": [
       "2"
      ]
     },
     "execution_count": 100,
     "metadata": {},
     "output_type": "execute_result"
    }
   ],
   "source": [
    "tuple_with_1_element = (2)\n",
    "tuple_with_1_element"
   ]
  },
  {
   "cell_type": "code",
   "execution_count": 102,
   "id": "3e9e535e",
   "metadata": {},
   "outputs": [
    {
     "data": {
      "text/plain": [
       "int"
      ]
     },
     "execution_count": 102,
     "metadata": {},
     "output_type": "execute_result"
    }
   ],
   "source": [
    "type(tuple_with_1_element)"
   ]
  },
  {
   "cell_type": "code",
   "execution_count": 103,
   "id": "d2235f45",
   "metadata": {},
   "outputs": [
    {
     "data": {
      "text/plain": [
       "(4,)"
      ]
     },
     "execution_count": 103,
     "metadata": {},
     "output_type": "execute_result"
    }
   ],
   "source": [
    "tuple_with_1_element2 = (4,)\n",
    "tuple_with_1_element2"
   ]
  },
  {
   "cell_type": "code",
   "execution_count": 104,
   "id": "d1d33780",
   "metadata": {},
   "outputs": [
    {
     "data": {
      "text/plain": [
       "tuple"
      ]
     },
     "execution_count": 104,
     "metadata": {},
     "output_type": "execute_result"
    }
   ],
   "source": [
    "type(tuple_with_1_element2)"
   ]
  },
  {
   "cell_type": "code",
   "execution_count": 105,
   "id": "8e1b6468",
   "metadata": {},
   "outputs": [
    {
     "data": {
      "text/plain": [
       "[2, 4, 6]"
      ]
     },
     "execution_count": 105,
     "metadata": {},
     "output_type": "execute_result"
    }
   ],
   "source": [
    "#Typecasting\n",
    "\n",
    "list(tuple1)"
   ]
  },
  {
   "cell_type": "code",
   "execution_count": 107,
   "id": "c09954ab",
   "metadata": {},
   "outputs": [],
   "source": [
    "# we can sort our tuple same as list\n",
    "# can use functions like count, index, sorted"
   ]
  },
  {
   "cell_type": "code",
   "execution_count": 108,
   "id": "385a14f6",
   "metadata": {},
   "outputs": [
    {
     "data": {
      "text/plain": [
       "(2, 4, 6, 2, 4, 6)"
      ]
     },
     "execution_count": 108,
     "metadata": {},
     "output_type": "execute_result"
    }
   ],
   "source": [
    "repeattuple = tuple1 + tuple1\n",
    "repeattuple"
   ]
  },
  {
   "cell_type": "code",
   "execution_count": 109,
   "id": "349cbb9c",
   "metadata": {},
   "outputs": [
    {
     "data": {
      "text/plain": [
       "(2, 4, 6, 2)"
      ]
     },
     "execution_count": 109,
     "metadata": {},
     "output_type": "execute_result"
    }
   ],
   "source": [
    "repeattuple2 = tuple1 + tuple1[:1]\n",
    "repeattuple2"
   ]
  },
  {
   "cell_type": "code",
   "execution_count": 110,
   "id": "4291f233",
   "metadata": {},
   "outputs": [
    {
     "data": {
      "text/plain": [
       "(2, 4, 6, 2, 2, 4, 6, 2, 2, 4, 6, 2)"
      ]
     },
     "execution_count": 110,
     "metadata": {},
     "output_type": "execute_result"
    }
   ],
   "source": [
    "repeattuple2 = repeattuple2 * 3\n",
    "repeattuple2"
   ]
  },
  {
   "cell_type": "markdown",
   "id": "cad487b6",
   "metadata": {},
   "source": [
    "# Sets in Python"
   ]
  },
  {
   "cell_type": "code",
   "execution_count": null,
   "id": "c4b10c47",
   "metadata": {},
   "outputs": [],
   "source": [
    "# Sets contains unique elements\n",
    "# Sets elements are unordered"
   ]
  },
  {
   "cell_type": "code",
   "execution_count": 111,
   "id": "5c0c969b",
   "metadata": {},
   "outputs": [
    {
     "data": {
      "text/plain": [
       "{1, 2, 3}"
      ]
     },
     "execution_count": 111,
     "metadata": {},
     "output_type": "execute_result"
    }
   ],
   "source": [
    "set1 = {1,2,3}\n",
    "set1"
   ]
  },
  {
   "cell_type": "code",
   "execution_count": 112,
   "id": "43abdd63",
   "metadata": {},
   "outputs": [
    {
     "data": {
      "text/plain": [
       "set"
      ]
     },
     "execution_count": 112,
     "metadata": {},
     "output_type": "execute_result"
    }
   ],
   "source": [
    "type(set1)"
   ]
  },
  {
   "cell_type": "code",
   "execution_count": 113,
   "id": "5ecb63f0",
   "metadata": {},
   "outputs": [
    {
     "data": {
      "text/plain": [
       "{1, 2, 3}"
      ]
     },
     "execution_count": 113,
     "metadata": {},
     "output_type": "execute_result"
    }
   ],
   "source": [
    "set2 = {1,2,3,2}\n",
    "set2"
   ]
  },
  {
   "cell_type": "code",
   "execution_count": 114,
   "id": "4fa76958",
   "metadata": {},
   "outputs": [
    {
     "data": {
      "text/plain": [
       "{1, 2, 3, 10}"
      ]
     },
     "execution_count": 114,
     "metadata": {},
     "output_type": "execute_result"
    }
   ],
   "source": [
    "# add element in Set\n",
    "\n",
    "set1.add(10)\n",
    "set1"
   ]
  },
  {
   "cell_type": "code",
   "execution_count": 115,
   "id": "7db38b61",
   "metadata": {},
   "outputs": [],
   "source": [
    "set1.remove(10)"
   ]
  },
  {
   "cell_type": "code",
   "execution_count": 116,
   "id": "3bf7accc",
   "metadata": {},
   "outputs": [
    {
     "data": {
      "text/plain": [
       "{1, 2, 3}"
      ]
     },
     "execution_count": 116,
     "metadata": {},
     "output_type": "execute_result"
    }
   ],
   "source": [
    "set1"
   ]
  },
  {
   "cell_type": "code",
   "execution_count": 117,
   "id": "82d6fc59",
   "metadata": {},
   "outputs": [
    {
     "ename": "TypeError",
     "evalue": "descriptor 'remove' for 'set' objects doesn't apply to a 'int' object",
     "output_type": "error",
     "traceback": [
      "\u001b[1;31m---------------------------------------------------------------------------\u001b[0m",
      "\u001b[1;31mTypeError\u001b[0m                                 Traceback (most recent call last)",
      "\u001b[1;32m~\\AppData\\Local\\Temp/ipykernel_10520/2566623723.py\u001b[0m in \u001b[0;36m<module>\u001b[1;34m\u001b[0m\n\u001b[1;32m----> 1\u001b[1;33m \u001b[0mset\u001b[0m\u001b[1;33m.\u001b[0m\u001b[0mremove\u001b[0m\u001b[1;33m(\u001b[0m\u001b[1;36m10\u001b[0m\u001b[1;33m)\u001b[0m\u001b[1;33m\u001b[0m\u001b[1;33m\u001b[0m\u001b[0m\n\u001b[0m",
      "\u001b[1;31mTypeError\u001b[0m: descriptor 'remove' for 'set' objects doesn't apply to a 'int' object"
     ]
    }
   ],
   "source": [
    "set.remove(10)"
   ]
  },
  {
   "cell_type": "code",
   "execution_count": 118,
   "id": "842d2ddc",
   "metadata": {},
   "outputs": [
    {
     "data": {
      "text/plain": [
       "{1, 3}"
      ]
     },
     "execution_count": 118,
     "metadata": {},
     "output_type": "execute_result"
    }
   ],
   "source": [
    "set1.discard(2)\n",
    "set1"
   ]
  },
  {
   "cell_type": "code",
   "execution_count": 119,
   "id": "c7a8a79f",
   "metadata": {},
   "outputs": [],
   "source": [
    "set1.discard(2)"
   ]
  },
  {
   "cell_type": "code",
   "execution_count": 121,
   "id": "9e6cfd71",
   "metadata": {},
   "outputs": [],
   "source": [
    "set1 = {1,2,5,7,9}\n",
    "set2 = {2,5,8,6,10}"
   ]
  },
  {
   "cell_type": "code",
   "execution_count": 122,
   "id": "c451f5c9",
   "metadata": {},
   "outputs": [
    {
     "data": {
      "text/plain": [
       "{2, 5}"
      ]
     },
     "execution_count": 122,
     "metadata": {},
     "output_type": "execute_result"
    }
   ],
   "source": [
    "set1.intersection(set2)"
   ]
  },
  {
   "cell_type": "code",
   "execution_count": 123,
   "id": "bd8ae8ac",
   "metadata": {},
   "outputs": [
    {
     "data": {
      "text/plain": [
       "{2, 5}"
      ]
     },
     "execution_count": 123,
     "metadata": {},
     "output_type": "execute_result"
    }
   ],
   "source": [
    "set1 & set2"
   ]
  },
  {
   "cell_type": "code",
   "execution_count": 124,
   "id": "246b640d",
   "metadata": {},
   "outputs": [
    {
     "data": {
      "text/plain": [
       "{1, 2, 5, 6, 7, 8, 9, 10}"
      ]
     },
     "execution_count": 124,
     "metadata": {},
     "output_type": "execute_result"
    }
   ],
   "source": [
    "set1.union(set2)"
   ]
  },
  {
   "cell_type": "code",
   "execution_count": 125,
   "id": "cd7a855a",
   "metadata": {},
   "outputs": [
    {
     "data": {
      "text/plain": [
       "{1, 2, 5, 6, 7, 8, 9, 10}"
      ]
     },
     "execution_count": 125,
     "metadata": {},
     "output_type": "execute_result"
    }
   ],
   "source": [
    "set1 | set2"
   ]
  },
  {
   "cell_type": "code",
   "execution_count": 127,
   "id": "a620dbc4",
   "metadata": {},
   "outputs": [
    {
     "data": {
      "text/plain": [
       "{1, 7, 9}"
      ]
     },
     "execution_count": 127,
     "metadata": {},
     "output_type": "execute_result"
    }
   ],
   "source": [
    "set1.difference(set2)"
   ]
  },
  {
   "cell_type": "code",
   "execution_count": 128,
   "id": "c2725140",
   "metadata": {},
   "outputs": [
    {
     "data": {
      "text/plain": [
       "{6, 8, 10}"
      ]
     },
     "execution_count": 128,
     "metadata": {},
     "output_type": "execute_result"
    }
   ],
   "source": [
    "set2.difference(set1)"
   ]
  },
  {
   "cell_type": "code",
   "execution_count": 129,
   "id": "21d0751c",
   "metadata": {},
   "outputs": [
    {
     "data": {
      "text/plain": [
       "{6, 8, 10}"
      ]
     },
     "execution_count": 129,
     "metadata": {},
     "output_type": "execute_result"
    }
   ],
   "source": [
    "set2 - set1"
   ]
  },
  {
   "cell_type": "code",
   "execution_count": 130,
   "id": "e9f87524",
   "metadata": {},
   "outputs": [
    {
     "data": {
      "text/plain": [
       "{2, 5, 'Python'}"
      ]
     },
     "execution_count": 130,
     "metadata": {},
     "output_type": "execute_result"
    }
   ],
   "source": [
    "set3 = {2,5,'Python'}\n",
    "set3"
   ]
  },
  {
   "cell_type": "markdown",
   "id": "4319e038",
   "metadata": {},
   "source": [
    "# Dictionaries in Python"
   ]
  },
  {
   "cell_type": "code",
   "execution_count": 131,
   "id": "b2893742",
   "metadata": {},
   "outputs": [],
   "source": [
    "Dict1 = {\n",
    "    'Fruits' : ['Apple', 'Mango', 'Banana'],\n",
    "    'Vegies' : ['Ladyfinger', 'Potato', 'Peas']\n",
    "}"
   ]
  },
  {
   "cell_type": "code",
   "execution_count": 132,
   "id": "823756ab",
   "metadata": {},
   "outputs": [
    {
     "data": {
      "text/plain": [
       "{'Fruits': ['Apple', 'Mango', 'Banana'],\n",
       " 'Vegies': ['Ladyfinger', 'Potato', 'Peas']}"
      ]
     },
     "execution_count": 132,
     "metadata": {},
     "output_type": "execute_result"
    }
   ],
   "source": [
    "Dict1"
   ]
  },
  {
   "cell_type": "code",
   "execution_count": 133,
   "id": "c5578e20",
   "metadata": {},
   "outputs": [
    {
     "data": {
      "text/plain": [
       "dict"
      ]
     },
     "execution_count": 133,
     "metadata": {},
     "output_type": "execute_result"
    }
   ],
   "source": [
    "type(Dict1)"
   ]
  },
  {
   "cell_type": "code",
   "execution_count": 137,
   "id": "e9d62fac",
   "metadata": {},
   "outputs": [],
   "source": [
    "Dict1 = {\n",
    "    'Fruits' : ['Apple', 'Mango', 'Banana'],\n",
    "    'Vegies' : ['Ladyfinger', 'Potato', 'Peas'],\n",
    "    'Vegies' : ['Ladyfinger', 'Potato', 'Spinach'],\n",
    "    'Number' : 100\n",
    "}"
   ]
  },
  {
   "cell_type": "code",
   "execution_count": 138,
   "id": "8a7ab9e5",
   "metadata": {},
   "outputs": [
    {
     "data": {
      "text/plain": [
       "{'Fruits': ['Apple', 'Mango', 'Banana'],\n",
       " 'Vegies': ['Ladyfinger', 'Potato', 'Spinach'],\n",
       " 'Number': 100}"
      ]
     },
     "execution_count": 138,
     "metadata": {},
     "output_type": "execute_result"
    }
   ],
   "source": [
    "Dict1"
   ]
  },
  {
   "cell_type": "code",
   "execution_count": 139,
   "id": "13297562",
   "metadata": {},
   "outputs": [],
   "source": [
    "Dict1['Number'] = 99"
   ]
  },
  {
   "cell_type": "code",
   "execution_count": 140,
   "id": "9bdbd20e",
   "metadata": {},
   "outputs": [
    {
     "data": {
      "text/plain": [
       "{'Fruits': ['Apple', 'Mango', 'Banana'],\n",
       " 'Vegies': ['Ladyfinger', 'Potato', 'Spinach'],\n",
       " 'Number': 99}"
      ]
     },
     "execution_count": 140,
     "metadata": {},
     "output_type": "execute_result"
    }
   ],
   "source": [
    "Dict1"
   ]
  },
  {
   "cell_type": "code",
   "execution_count": 141,
   "id": "28f61082",
   "metadata": {},
   "outputs": [
    {
     "data": {
      "text/plain": [
       "{'Fruits': ['Apple', 'Mango', 'Banana'],\n",
       " 'Vegies': ['Ladyfinger', 'Potato', 'Spinach'],\n",
       " 'Number': 99,\n",
       " 'Number2': 70}"
      ]
     },
     "execution_count": 141,
     "metadata": {},
     "output_type": "execute_result"
    }
   ],
   "source": [
    "Dict1['Number2'] = 70\n",
    "Dict1"
   ]
  },
  {
   "cell_type": "code",
   "execution_count": 142,
   "id": "af955356",
   "metadata": {},
   "outputs": [
    {
     "data": {
      "text/plain": [
       "{'Fruits': ['Apple', 'Mango', 'Banana'],\n",
       " 'Vegies': ['Ladyfinger', 'Potato', 'Spinach'],\n",
       " 'Number': 99,\n",
       " 'Number2': 70,\n",
       " 'Number3': 88}"
      ]
     },
     "execution_count": 142,
     "metadata": {},
     "output_type": "execute_result"
    }
   ],
   "source": [
    "Dict1.update({'Number3' : 88})\n",
    "Dict1"
   ]
  },
  {
   "cell_type": "code",
   "execution_count": 143,
   "id": "b282df54",
   "metadata": {},
   "outputs": [
    {
     "data": {
      "text/plain": [
       "dict_keys(['Fruits', 'Vegies', 'Number', 'Number2', 'Number3'])"
      ]
     },
     "execution_count": 143,
     "metadata": {},
     "output_type": "execute_result"
    }
   ],
   "source": [
    "Dict1.keys()"
   ]
  },
  {
   "cell_type": "code",
   "execution_count": 144,
   "id": "cb7b4266",
   "metadata": {},
   "outputs": [
    {
     "data": {
      "text/plain": [
       "dict_values([['Apple', 'Mango', 'Banana'], ['Ladyfinger', 'Potato', 'Spinach'], 99, 70, 88])"
      ]
     },
     "execution_count": 144,
     "metadata": {},
     "output_type": "execute_result"
    }
   ],
   "source": [
    "Dict1.values()"
   ]
  },
  {
   "cell_type": "code",
   "execution_count": 145,
   "id": "0993eb78",
   "metadata": {},
   "outputs": [
    {
     "data": {
      "text/plain": [
       "dict_items([('Fruits', ['Apple', 'Mango', 'Banana']), ('Vegies', ['Ladyfinger', 'Potato', 'Spinach']), ('Number', 99), ('Number2', 70), ('Number3', 88)])"
      ]
     },
     "execution_count": 145,
     "metadata": {},
     "output_type": "execute_result"
    }
   ],
   "source": [
    "Dict1.items()"
   ]
  },
  {
   "cell_type": "code",
   "execution_count": 146,
   "id": "b5fa4964",
   "metadata": {},
   "outputs": [
    {
     "data": {
      "text/plain": [
       "[('Fruits', ['Apple', 'Mango', 'Banana']),\n",
       " ('Vegies', ['Ladyfinger', 'Potato', 'Spinach']),\n",
       " ('Number', 99),\n",
       " ('Number2', 70),\n",
       " ('Number3', 88)]"
      ]
     },
     "execution_count": 146,
     "metadata": {},
     "output_type": "execute_result"
    }
   ],
   "source": [
    "list(Dict1.items())"
   ]
  },
  {
   "cell_type": "code",
   "execution_count": 152,
   "id": "dd5701da",
   "metadata": {},
   "outputs": [
    {
     "data": {
      "text/plain": [
       "['Ladyfinger', 'Peas', 'Spinach']"
      ]
     },
     "execution_count": 152,
     "metadata": {},
     "output_type": "execute_result"
    }
   ],
   "source": [
    "Dict1['Vegies']"
   ]
  },
  {
   "cell_type": "code",
   "execution_count": 150,
   "id": "e08a0d70",
   "metadata": {},
   "outputs": [
    {
     "data": {
      "text/plain": [
       "{'Fruits': ['Apple', 'Mango', 'Banana'],\n",
       " 'Vegies': ['Ladyfinger', 'Peas', 'Spinach'],\n",
       " 'Number': 99,\n",
       " 'Number2': 70,\n",
       " 'Number3': 88}"
      ]
     },
     "execution_count": 150,
     "metadata": {},
     "output_type": "execute_result"
    }
   ],
   "source": [
    "Dict1['Vegies'][1] = 'Peas'\n",
    "Dict1"
   ]
  },
  {
   "cell_type": "code",
   "execution_count": 153,
   "id": "b419fdf3",
   "metadata": {},
   "outputs": [
    {
     "data": {
      "text/plain": [
       "{'Fruits': ['Apple', 'Mango', 'Banana'],\n",
       " 'Vegies': ['Ladyfinger', 'Peas', 'Spinach'],\n",
       " 'Number': 99,\n",
       " 'Number2': 70}"
      ]
     },
     "execution_count": 153,
     "metadata": {},
     "output_type": "execute_result"
    }
   ],
   "source": [
    "del Dict1['Number3']\n",
    "Dict1"
   ]
  },
  {
   "cell_type": "code",
   "execution_count": 154,
   "id": "098b361a",
   "metadata": {},
   "outputs": [
    {
     "data": {
      "text/plain": [
       "{}"
      ]
     },
     "execution_count": 154,
     "metadata": {},
     "output_type": "execute_result"
    }
   ],
   "source": [
    "Dict1.clear()\n",
    "Dict1"
   ]
  },
  {
   "cell_type": "markdown",
   "id": "aa65b63e",
   "metadata": {},
   "source": [
    "# Nested"
   ]
  },
  {
   "cell_type": "code",
   "execution_count": 156,
   "id": "61a83962",
   "metadata": {},
   "outputs": [
    {
     "data": {
      "text/plain": [
       "[3, 8, [1, 2, 3], [2, 8, 16, 21]]"
      ]
     },
     "execution_count": 156,
     "metadata": {},
     "output_type": "execute_result"
    }
   ],
   "source": [
    "nestedlist = [3,8,[1,2,3],[2,8,16,21]]\n",
    "nestedlist"
   ]
  },
  {
   "cell_type": "code",
   "execution_count": 157,
   "id": "1f11ddf7",
   "metadata": {},
   "outputs": [
    {
     "data": {
      "text/plain": [
       "3"
      ]
     },
     "execution_count": 157,
     "metadata": {},
     "output_type": "execute_result"
    }
   ],
   "source": [
    "nestedlist[0]"
   ]
  },
  {
   "cell_type": "code",
   "execution_count": 159,
   "id": "8cb4a18b",
   "metadata": {},
   "outputs": [
    {
     "data": {
      "text/plain": [
       "2"
      ]
     },
     "execution_count": 159,
     "metadata": {},
     "output_type": "execute_result"
    }
   ],
   "source": [
    "nestedlist[2][1]"
   ]
  },
  {
   "cell_type": "code",
   "execution_count": 160,
   "id": "ac052501",
   "metadata": {},
   "outputs": [
    {
     "data": {
      "text/plain": [
       "[3, 8, [1, 2, 6], [2, 8, 16, 21]]"
      ]
     },
     "execution_count": 160,
     "metadata": {},
     "output_type": "execute_result"
    }
   ],
   "source": [
    "nestedlist[2][2]=6\n",
    "nestedlist"
   ]
  },
  {
   "cell_type": "code",
   "execution_count": 161,
   "id": "5ed6c304",
   "metadata": {},
   "outputs": [
    {
     "ename": "TypeError",
     "evalue": "cannot convert dictionary update sequence element #0 to a sequence",
     "output_type": "error",
     "traceback": [
      "\u001b[1;31m---------------------------------------------------------------------------\u001b[0m",
      "\u001b[1;31mTypeError\u001b[0m                                 Traceback (most recent call last)",
      "\u001b[1;32m~\\AppData\\Local\\Temp/ipykernel_10520/2290031047.py\u001b[0m in \u001b[0;36m<module>\u001b[1;34m\u001b[0m\n\u001b[1;32m----> 1\u001b[1;33m \u001b[0mdict\u001b[0m\u001b[1;33m(\u001b[0m\u001b[0mnestedlist\u001b[0m\u001b[1;33m)\u001b[0m\u001b[1;33m\u001b[0m\u001b[1;33m\u001b[0m\u001b[0m\n\u001b[0m",
      "\u001b[1;31mTypeError\u001b[0m: cannot convert dictionary update sequence element #0 to a sequence"
     ]
    }
   ],
   "source": [
    "dict(nestedlist)"
   ]
  },
  {
   "cell_type": "code",
   "execution_count": 162,
   "id": "ed85799b",
   "metadata": {},
   "outputs": [
    {
     "data": {
      "text/plain": [
       "{1: 'a', 2: 'b', 3: 'c'}"
      ]
     },
     "execution_count": 162,
     "metadata": {},
     "output_type": "execute_result"
    }
   ],
   "source": [
    "nest = [[1, 'a'], [2, 'b'], [3, 'c']]\n",
    "dict(nest)"
   ]
  },
  {
   "cell_type": "code",
   "execution_count": 164,
   "id": "f6b53a6c",
   "metadata": {},
   "outputs": [
    {
     "data": {
      "text/plain": [
       "{1: ['a', 'b', 'c'], 2: ['d', 'e', 'f']}"
      ]
     },
     "execution_count": 164,
     "metadata": {},
     "output_type": "execute_result"
    }
   ],
   "source": [
    "nest2 = [[1, ['a','b','c']], [2, ['d','e','f']]]\n",
    "dict(nest2)"
   ]
  },
  {
   "cell_type": "code",
   "execution_count": 168,
   "id": "095644e4",
   "metadata": {},
   "outputs": [],
   "source": [
    "big_dictionary = {\n",
    "    'dict1' : {'key' : 'value'},\n",
    "    'dict2' : {'key2' : 'value2'}\n",
    "}"
   ]
  },
  {
   "cell_type": "code",
   "execution_count": 167,
   "id": "583ad1a2",
   "metadata": {},
   "outputs": [
    {
     "data": {
      "text/plain": [
       "{'dict1': {'key': 'value'}, 'dict2': {'key2': 'value'}}"
      ]
     },
     "execution_count": 167,
     "metadata": {},
     "output_type": "execute_result"
    }
   ],
   "source": [
    "big_dictionary"
   ]
  },
  {
   "cell_type": "code",
   "execution_count": 170,
   "id": "e598858b",
   "metadata": {},
   "outputs": [
    {
     "data": {
      "text/plain": [
       "'value2'"
      ]
     },
     "execution_count": 170,
     "metadata": {},
     "output_type": "execute_result"
    }
   ],
   "source": [
    "big_dictionary['dict2']['key2']"
   ]
  },
  {
   "cell_type": "code",
   "execution_count": 171,
   "id": "9a6e15a1",
   "metadata": {},
   "outputs": [
    {
     "data": {
      "text/plain": [
       "[[1, 'a'], [2, 'b'], [3, 'c']]"
      ]
     },
     "execution_count": 171,
     "metadata": {},
     "output_type": "execute_result"
    }
   ],
   "source": [
    "nest"
   ]
  },
  {
   "cell_type": "code",
   "execution_count": 172,
   "id": "b7bf2a07",
   "metadata": {},
   "outputs": [
    {
     "data": {
      "text/plain": [
       "[[1, 'a'], [2, 'b', 2], [3, 'c']]"
      ]
     },
     "execution_count": 172,
     "metadata": {},
     "output_type": "execute_result"
    }
   ],
   "source": [
    "nest = [[1, 'a'], [2, 'b', 2], [3, 'c']]\n",
    "nest"
   ]
  },
  {
   "cell_type": "code",
   "execution_count": 173,
   "id": "a1db1367",
   "metadata": {},
   "outputs": [
    {
     "data": {
      "text/plain": [
       "2"
      ]
     },
     "execution_count": 173,
     "metadata": {},
     "output_type": "execute_result"
    }
   ],
   "source": [
    "nest[1].count(2)"
   ]
  },
  {
   "cell_type": "code",
   "execution_count": 175,
   "id": "ac66007b",
   "metadata": {},
   "outputs": [],
   "source": [
    "big_dictionary={\n",
    "'dict1':{'key':'value'},\n",
    "'dict2':{'key2':'value2'}\n",
    "}\n"
   ]
  },
  {
   "cell_type": "code",
   "execution_count": null,
   "id": "fba94aa3",
   "metadata": {},
   "outputs": [],
   "source": []
  }
 ],
 "metadata": {
  "kernelspec": {
   "display_name": "Python 3 (ipykernel)",
   "language": "python",
   "name": "python3"
  },
  "language_info": {
   "codemirror_mode": {
    "name": "ipython",
    "version": 3
   },
   "file_extension": ".py",
   "mimetype": "text/x-python",
   "name": "python",
   "nbconvert_exporter": "python",
   "pygments_lexer": "ipython3",
   "version": "3.9.7"
  }
 },
 "nbformat": 4,
 "nbformat_minor": 5
}
