{
 "cells": [
  {
   "cell_type": "code",
   "execution_count": 1,
   "id": "b4cde732",
   "metadata": {},
   "outputs": [],
   "source": [
    "import numpy as np"
   ]
  },
  {
   "cell_type": "markdown",
   "id": "12289999",
   "metadata": {},
   "source": [
    "# 1"
   ]
  },
  {
   "cell_type": "code",
   "execution_count": 111,
   "id": "dbc5ac85",
   "metadata": {},
   "outputs": [
    {
     "name": "stdout",
     "output_type": "stream",
     "text": [
      "[1.  2.  3.  4.4 6.6]\n"
     ]
    }
   ],
   "source": [
    "arr1= np.array([1,2,3,4.4,6.6])\n",
    "print(arr1)"
   ]
  },
  {
   "cell_type": "code",
   "execution_count": 3,
   "id": "14c94f9c",
   "metadata": {},
   "outputs": [
    {
     "data": {
      "text/plain": [
       "numpy.float64"
      ]
     },
     "execution_count": 3,
     "metadata": {},
     "output_type": "execute_result"
    }
   ],
   "source": [
    "type(arr1[0])"
   ]
  },
  {
   "cell_type": "code",
   "execution_count": 4,
   "id": "f308e179",
   "metadata": {},
   "outputs": [
    {
     "name": "stdout",
     "output_type": "stream",
     "text": [
      "[1 2 3 4 6]\n"
     ]
    }
   ],
   "source": [
    "arr2 = np.array([1,2,3,4,6,], dtype = int)\n",
    "print(arr2)"
   ]
  },
  {
   "cell_type": "code",
   "execution_count": 5,
   "id": "2815c5fc",
   "metadata": {},
   "outputs": [
    {
     "data": {
      "text/plain": [
       "numpy.int32"
      ]
     },
     "execution_count": 5,
     "metadata": {},
     "output_type": "execute_result"
    }
   ],
   "source": [
    "type(arr2[0])"
   ]
  },
  {
   "cell_type": "code",
   "execution_count": 6,
   "id": "6720dec2",
   "metadata": {},
   "outputs": [
    {
     "name": "stdout",
     "output_type": "stream",
     "text": [
      "[1. 2. 3. 4. 6.]\n"
     ]
    }
   ],
   "source": [
    "arr3 = np.array([1,2,3,4,6,], dtype = float)\n",
    "print(arr3)"
   ]
  },
  {
   "cell_type": "code",
   "execution_count": 7,
   "id": "e55226e5",
   "metadata": {},
   "outputs": [
    {
     "data": {
      "text/plain": [
       "numpy.float64"
      ]
     },
     "execution_count": 7,
     "metadata": {},
     "output_type": "execute_result"
    }
   ],
   "source": [
    "type(arr3[0])"
   ]
  },
  {
   "cell_type": "markdown",
   "id": "8f5bd1ed",
   "metadata": {},
   "source": [
    "# 2"
   ]
  },
  {
   "cell_type": "code",
   "execution_count": 8,
   "id": "12a8b764",
   "metadata": {},
   "outputs": [],
   "source": [
    "# 2. Create numpy arrays that have zero, one, two, three, Four dimensions respectively.\n",
    "#Also, print the shape and dimensions of the numpy arrays created above."
   ]
  },
  {
   "cell_type": "code",
   "execution_count": 113,
   "id": "a009552e",
   "metadata": {},
   "outputs": [
    {
     "name": "stdout",
     "output_type": "stream",
     "text": [
      "10\n",
      "0\n",
      "()\n"
     ]
    }
   ],
   "source": [
    "arr1 = np.array(10) #scaler\n",
    "print(arr1)\n",
    "print(arr1.ndim)\n",
    "print(arr1.shape)"
   ]
  },
  {
   "cell_type": "code",
   "execution_count": 10,
   "id": "30cf05f8",
   "metadata": {},
   "outputs": [
    {
     "name": "stdout",
     "output_type": "stream",
     "text": [
      "1\n",
      "(5,)\n"
     ]
    }
   ],
   "source": [
    "arr2 = np.array([1,2,3,4,5])\n",
    "print(arr2.ndim)\n",
    "print(arr2.shape)"
   ]
  },
  {
   "cell_type": "code",
   "execution_count": 11,
   "id": "8d1f5967",
   "metadata": {},
   "outputs": [
    {
     "name": "stdout",
     "output_type": "stream",
     "text": [
      "[[1 2 3]\n",
      " [4 5 6]]\n",
      "2\n",
      "(2, 3)\n"
     ]
    }
   ],
   "source": [
    "arr3 = np.array([[1,2,3],[4,5,6]])\n",
    "print(arr3)\n",
    "print(arr3.ndim)\n",
    "print(arr3.shape)"
   ]
  },
  {
   "cell_type": "code",
   "execution_count": 12,
   "id": "36612dad",
   "metadata": {},
   "outputs": [
    {
     "name": "stdout",
     "output_type": "stream",
     "text": [
      "[[[1 2 3]\n",
      "  [4 5 6]]]\n",
      "3\n",
      "(1, 2, 3)\n"
     ]
    }
   ],
   "source": [
    "arr4 = np.array([[[1,2,3],[4,5,6]]])\n",
    "print(arr4)\n",
    "print(arr4.ndim)\n",
    "print(arr4.shape)"
   ]
  },
  {
   "cell_type": "code",
   "execution_count": 13,
   "id": "350b8d25",
   "metadata": {},
   "outputs": [
    {
     "name": "stdout",
     "output_type": "stream",
     "text": [
      "[[[[1 2 3]\n",
      "   [4 5 6]]]]\n",
      "4\n",
      "(1, 1, 2, 3)\n"
     ]
    }
   ],
   "source": [
    "arr5 = np.array([[[[1,2,3],[4,5,6]]]])\n",
    "print(arr5)\n",
    "print(arr5.ndim)\n",
    "print(arr5.shape)"
   ]
  },
  {
   "cell_type": "code",
   "execution_count": 14,
   "id": "63015279",
   "metadata": {},
   "outputs": [
    {
     "data": {
      "text/plain": [
       "array([[[0, 1],\n",
       "        [2, 3]],\n",
       "\n",
       "       [[4, 5],\n",
       "        [6, 7]]])"
      ]
     },
     "execution_count": 14,
     "metadata": {},
     "output_type": "execute_result"
    }
   ],
   "source": [
    "A = np.arange(8).reshape(2, 2, 2)\n",
    "A"
   ]
  },
  {
   "cell_type": "code",
   "execution_count": 15,
   "id": "1fad064f",
   "metadata": {},
   "outputs": [],
   "source": [
    "# 3. Create a 2x3, 3x3, and 4x4 identity matrix using numpy."
   ]
  },
  {
   "cell_type": "code",
   "execution_count": 16,
   "id": "da79b5d5",
   "metadata": {},
   "outputs": [
    {
     "name": "stdout",
     "output_type": "stream",
     "text": [
      "[[1. 0.]\n",
      " [0. 1.]]\n"
     ]
    }
   ],
   "source": [
    "arr1 = np.identity(2)\n",
    "print(arr1)"
   ]
  },
  {
   "cell_type": "code",
   "execution_count": 17,
   "id": "2c0dc732",
   "metadata": {},
   "outputs": [
    {
     "name": "stdout",
     "output_type": "stream",
     "text": [
      "[[1 0]\n",
      " [0 1]]\n"
     ]
    }
   ],
   "source": [
    "arr1 = np.identity(2, dtype=int)\n",
    "print(arr1)"
   ]
  },
  {
   "cell_type": "code",
   "execution_count": 18,
   "id": "8f859d6e",
   "metadata": {},
   "outputs": [
    {
     "name": "stdout",
     "output_type": "stream",
     "text": [
      "[[1. 0. 0.]\n",
      " [0. 1. 0.]\n",
      " [0. 0. 1.]]\n"
     ]
    }
   ],
   "source": [
    "arr2 = np.identity(3)\n",
    "print(arr2)"
   ]
  },
  {
   "cell_type": "code",
   "execution_count": 19,
   "id": "05a7a1b7",
   "metadata": {},
   "outputs": [],
   "source": [
    "# 4. Create a numpy array with shape 2x5 that has all the elements as zero."
   ]
  },
  {
   "cell_type": "code",
   "execution_count": 20,
   "id": "b4407a54",
   "metadata": {},
   "outputs": [
    {
     "name": "stdout",
     "output_type": "stream",
     "text": [
      "[[0. 0. 0. 0. 0.]\n",
      " [0. 0. 0. 0. 0.]]\n"
     ]
    }
   ],
   "source": [
    "arr1 = np.zeros([2,5])\n",
    "print(arr1)"
   ]
  },
  {
   "cell_type": "code",
   "execution_count": 115,
   "id": "307df3a7",
   "metadata": {},
   "outputs": [
    {
     "name": "stdout",
     "output_type": "stream",
     "text": [
      "[[5 5 5 5 5]\n",
      " [5 5 5 5 5]\n",
      " [5 5 5 5 5]]\n"
     ]
    }
   ],
   "source": [
    "arr1 = np.full([3,5],5)\n",
    "print(arr1)"
   ]
  },
  {
   "cell_type": "code",
   "execution_count": 22,
   "id": "daedccbd",
   "metadata": {},
   "outputs": [],
   "source": [
    "#6. Create a numpy array with random integers in the range 0-100, and the sample size\n",
    "#should be 25."
   ]
  },
  {
   "cell_type": "code",
   "execution_count": 23,
   "id": "79af28f5",
   "metadata": {},
   "outputs": [
    {
     "name": "stdout",
     "output_type": "stream",
     "text": [
      "[47  4 45 93  1 79 47 60 24 44 71 65  1  6 99 18  7 95 98 69 87  0 59 32\n",
      " 29]\n"
     ]
    }
   ],
   "source": [
    "arr1 = np.random.randint(0, 100, size=25)\n",
    "print(arr1)"
   ]
  },
  {
   "cell_type": "code",
   "execution_count": 24,
   "id": "40f8c992",
   "metadata": {},
   "outputs": [
    {
     "data": {
      "text/plain": [
       "array([[47,  4, 45, 93,  1],\n",
       "       [79, 47, 60, 24, 44],\n",
       "       [71, 65,  1,  6, 99],\n",
       "       [18,  7, 95, 98, 69],\n",
       "       [87,  0, 59, 32, 29]])"
      ]
     },
     "execution_count": 24,
     "metadata": {},
     "output_type": "execute_result"
    }
   ],
   "source": [
    "arr1.reshape(5,5)"
   ]
  },
  {
   "cell_type": "code",
   "execution_count": 25,
   "id": "074473ba",
   "metadata": {},
   "outputs": [],
   "source": [
    "# 7. Create a numpy array with a shape 3x3 that has all elements as 1."
   ]
  },
  {
   "cell_type": "code",
   "execution_count": 26,
   "id": "b52014fd",
   "metadata": {},
   "outputs": [
    {
     "data": {
      "text/plain": [
       "array([[1, 1, 1],\n",
       "       [1, 1, 1],\n",
       "       [1, 1, 1]])"
      ]
     },
     "execution_count": 26,
     "metadata": {},
     "output_type": "execute_result"
    }
   ],
   "source": [
    "arr1 = np.full((3,3),1)\n",
    "arr1"
   ]
  },
  {
   "cell_type": "code",
   "execution_count": 27,
   "id": "77c2e117",
   "metadata": {},
   "outputs": [],
   "source": [
    "# 8. Create a numpy array in the shape 2x3 with random integers in the range 0-100.\n",
    "#Reshape the array in the shape 3x2 and print the updated shape of the resultant array."
   ]
  },
  {
   "cell_type": "code",
   "execution_count": 28,
   "id": "e178653a",
   "metadata": {},
   "outputs": [
    {
     "name": "stdout",
     "output_type": "stream",
     "text": [
      "[[28 13]\n",
      " [82 90]\n",
      " [72 75]]\n"
     ]
    }
   ],
   "source": [
    "arr1 = np.random.randint(0,100,(2,3)).reshape(3,2)\n",
    "print(arr1)"
   ]
  },
  {
   "cell_type": "code",
   "execution_count": 29,
   "id": "afcc04e5",
   "metadata": {},
   "outputs": [],
   "source": [
    "#9. Create a numpy array, with the range 0-1000, with and step 2. Perform thefollowing\n",
    "#operations on the same.\n",
    "#a. Print the first ten elements of the array.\n",
    "#b. Print the last ten elements of the array\n",
    "#c. Print the elements from the indexes 10-25\n",
    "#d. Print the element at the index 22\n",
    "#e. Print the array using negative indexing.\n",
    "#f. Print the last ten elements of the array, using negative indexing."
   ]
  },
  {
   "cell_type": "code",
   "execution_count": 30,
   "id": "4cfeaf6c",
   "metadata": {},
   "outputs": [
    {
     "name": "stdout",
     "output_type": "stream",
     "text": [
      "[  0   2   4   6   8  10  12  14  16  18  20  22  24  26  28  30  32  34\n",
      "  36  38  40  42  44  46  48  50  52  54  56  58  60  62  64  66  68  70\n",
      "  72  74  76  78  80  82  84  86  88  90  92  94  96  98 100 102 104 106\n",
      " 108 110 112 114 116 118 120 122 124 126 128 130 132 134 136 138 140 142\n",
      " 144 146 148 150 152 154 156 158 160 162 164 166 168 170 172 174 176 178\n",
      " 180 182 184 186 188 190 192 194 196 198 200 202 204 206 208 210 212 214\n",
      " 216 218 220 222 224 226 228 230 232 234 236 238 240 242 244 246 248 250\n",
      " 252 254 256 258 260 262 264 266 268 270 272 274 276 278 280 282 284 286\n",
      " 288 290 292 294 296 298 300 302 304 306 308 310 312 314 316 318 320 322\n",
      " 324 326 328 330 332 334 336 338 340 342 344 346 348 350 352 354 356 358\n",
      " 360 362 364 366 368 370 372 374 376 378 380 382 384 386 388 390 392 394\n",
      " 396 398 400 402 404 406 408 410 412 414 416 418 420 422 424 426 428 430\n",
      " 432 434 436 438 440 442 444 446 448 450 452 454 456 458 460 462 464 466\n",
      " 468 470 472 474 476 478 480 482 484 486 488 490 492 494 496 498 500 502\n",
      " 504 506 508 510 512 514 516 518 520 522 524 526 528 530 532 534 536 538\n",
      " 540 542 544 546 548 550 552 554 556 558 560 562 564 566 568 570 572 574\n",
      " 576 578 580 582 584 586 588 590 592 594 596 598 600 602 604 606 608 610\n",
      " 612 614 616 618 620 622 624 626 628 630 632 634 636 638 640 642 644 646\n",
      " 648 650 652 654 656 658 660 662 664 666 668 670 672 674 676 678 680 682\n",
      " 684 686 688 690 692 694 696 698 700 702 704 706 708 710 712 714 716 718\n",
      " 720 722 724 726 728 730 732 734 736 738 740 742 744 746 748 750 752 754\n",
      " 756 758 760 762 764 766 768 770 772 774 776 778 780 782 784 786 788 790\n",
      " 792 794 796 798 800 802 804 806 808 810 812 814 816 818 820 822 824 826\n",
      " 828 830 832 834 836 838 840 842 844 846 848 850 852 854 856 858 860 862\n",
      " 864 866 868 870 872 874 876 878 880 882 884 886 888 890 892 894 896 898\n",
      " 900 902 904 906 908 910 912 914 916 918 920 922 924 926 928 930 932 934\n",
      " 936 938 940 942 944 946 948 950 952 954 956 958 960 962 964 966 968 970\n",
      " 972 974 976 978 980 982 984 986 988 990 992 994 996 998]\n"
     ]
    }
   ],
   "source": [
    "arr1 = np.arange(start = 0, stop = 1000, step = 2)\n",
    "print(arr1)"
   ]
  },
  {
   "cell_type": "code",
   "execution_count": 31,
   "id": "6254f1e8",
   "metadata": {},
   "outputs": [
    {
     "name": "stdout",
     "output_type": "stream",
     "text": [
      "[980 982 984 986 988 990 992 994 996 998]\n"
     ]
    }
   ],
   "source": [
    "#b. Print the last ten elements of the array\n",
    "print(arr1[-10:])\n"
   ]
  },
  {
   "cell_type": "code",
   "execution_count": 32,
   "id": "40cc7d67",
   "metadata": {},
   "outputs": [
    {
     "name": "stdout",
     "output_type": "stream",
     "text": [
      "[20 22 24 26 28 30 32 34 36 38 40 42 44 46 48 50]\n"
     ]
    }
   ],
   "source": [
    "#c. Print the elements from the indexes 10-25\n",
    "print(arr1[10:26])"
   ]
  },
  {
   "cell_type": "code",
   "execution_count": 33,
   "id": "54f0c4f4",
   "metadata": {},
   "outputs": [
    {
     "name": "stdout",
     "output_type": "stream",
     "text": [
      "[956 958 960 962 964 966 968 970 972 974 976 978 980 982 984]\n"
     ]
    }
   ],
   "source": [
    "#e. Print the array using negative indexing.\n",
    "print(arr1[-22:-7])"
   ]
  },
  {
   "cell_type": "code",
   "execution_count": 34,
   "id": "a028e6f0",
   "metadata": {},
   "outputs": [],
   "source": [
    "#10. Given a numpy array that has values = [1,2,3,4,5]. Perform the following operations.\n",
    "#a. Insert the element 6 at the end of the array.\n",
    "#b. Insert the element 10 at the beginning of the array.\n",
    "#c. Insert the element 30, before 4.\n",
    "#d. Update the element 5 as 50.\n",
    "#e. Delete the element 50 in the updated array.\n",
    "#f. Create a function to search for the element 30.\n",
    "#g. Sort the array in ascending order."
   ]
  },
  {
   "cell_type": "code",
   "execution_count": 122,
   "id": "b1361d8f",
   "metadata": {},
   "outputs": [
    {
     "name": "stdout",
     "output_type": "stream",
     "text": [
      "[1 2 3 4 5]\n"
     ]
    }
   ],
   "source": [
    "arr1 = np.array([1,2,3,4,5])\n",
    "print(arr1)"
   ]
  },
  {
   "cell_type": "code",
   "execution_count": 123,
   "id": "0c3ed338",
   "metadata": {},
   "outputs": [
    {
     "data": {
      "text/plain": [
       "array([1, 2, 3, 4, 5, 6])"
      ]
     },
     "execution_count": 123,
     "metadata": {},
     "output_type": "execute_result"
    }
   ],
   "source": [
    "#a. Insert the element 6 at the end of the array.\n",
    "arr1 = np.append(arr1,6)\n",
    "arr1"
   ]
  },
  {
   "cell_type": "code",
   "execution_count": 124,
   "id": "8f5c4fc8",
   "metadata": {},
   "outputs": [
    {
     "data": {
      "text/plain": [
       "array([10,  1,  2,  3,  4,  5,  6])"
      ]
     },
     "execution_count": 124,
     "metadata": {},
     "output_type": "execute_result"
    }
   ],
   "source": [
    "arr1 = np.insert(arr1,0,10)\n",
    "arr1"
   ]
  },
  {
   "cell_type": "code",
   "execution_count": 127,
   "id": "03825dbd",
   "metadata": {},
   "outputs": [
    {
     "name": "stdout",
     "output_type": "stream",
     "text": [
      "[10  1  2  3  4  5 50]\n"
     ]
    }
   ],
   "source": [
    "arr1[6] = 50\n",
    "print(arr1)"
   ]
  },
  {
   "cell_type": "code",
   "execution_count": 128,
   "id": "11691842",
   "metadata": {},
   "outputs": [
    {
     "data": {
      "text/plain": [
       "6"
      ]
     },
     "execution_count": 128,
     "metadata": {},
     "output_type": "execute_result"
    }
   ],
   "source": [
    "#wow\n",
    "\n",
    "j = np.where(arr1 == 50)[0][0]\n",
    "j"
   ]
  },
  {
   "cell_type": "code",
   "execution_count": 40,
   "id": "3d7a2f3e",
   "metadata": {},
   "outputs": [
    {
     "data": {
      "text/plain": [
       "(array([6], dtype=int64),)"
      ]
     },
     "execution_count": 40,
     "metadata": {},
     "output_type": "execute_result"
    }
   ],
   "source": [
    "jp = np.where(arr1 == 50)\n",
    "jp"
   ]
  },
  {
   "cell_type": "code",
   "execution_count": 41,
   "id": "7320692d",
   "metadata": {},
   "outputs": [
    {
     "data": {
      "text/plain": [
       "tuple"
      ]
     },
     "execution_count": 41,
     "metadata": {},
     "output_type": "execute_result"
    }
   ],
   "source": [
    "type(jp)"
   ]
  },
  {
   "cell_type": "code",
   "execution_count": 129,
   "id": "503f93a0",
   "metadata": {},
   "outputs": [
    {
     "name": "stdout",
     "output_type": "stream",
     "text": [
      "[10  1  2  3  4  5]\n"
     ]
    }
   ],
   "source": [
    "#e. Delete the element 50 in the updated array.\n",
    "arr1 = np.delete(arr1, 6])\n",
    "print(arr1)"
   ]
  },
  {
   "cell_type": "code",
   "execution_count": 43,
   "id": "05285f10",
   "metadata": {},
   "outputs": [
    {
     "name": "stdout",
     "output_type": "stream",
     "text": [
      "10\n"
     ]
    }
   ],
   "source": [
    "#f. Create a function to search for the element 30.\n",
    "for i in arr1:\n",
    "    if i == 10:\n",
    "        print(i)"
   ]
  },
  {
   "cell_type": "code",
   "execution_count": 44,
   "id": "ca492f93",
   "metadata": {},
   "outputs": [
    {
     "name": "stdout",
     "output_type": "stream",
     "text": [
      "[ 1  2  3  4  5 10]\n"
     ]
    },
    {
     "data": {
      "text/plain": [
       "array([ 1,  2,  3,  4,  5, 10])"
      ]
     },
     "execution_count": 44,
     "metadata": {},
     "output_type": "execute_result"
    }
   ],
   "source": [
    "#g. Sort the array in ascending order.\n",
    "print(np.sort(arr1))\n",
    "arr2 = np.sort(arr1)\n",
    "arr2"
   ]
  },
  {
   "cell_type": "code",
   "execution_count": 45,
   "id": "d24d49bc",
   "metadata": {},
   "outputs": [
    {
     "data": {
      "text/plain": [
       "4"
      ]
     },
     "execution_count": 45,
     "metadata": {},
     "output_type": "execute_result"
    }
   ],
   "source": [
    "np.searchsorted(arr2, 5)"
   ]
  },
  {
   "cell_type": "markdown",
   "id": "e7622dbb",
   "metadata": {},
   "source": [
    "# --------------------------------------------------"
   ]
  },
  {
   "cell_type": "code",
   "execution_count": 116,
   "id": "0523a779",
   "metadata": {},
   "outputs": [
    {
     "data": {
      "text/plain": [
       "array([[ 11,  12,  13,  11],\n",
       "       [ 21,  22,  23,  24],\n",
       "       [ 31,  32,  33, 100]])"
      ]
     },
     "execution_count": 116,
     "metadata": {},
     "output_type": "execute_result"
    }
   ],
   "source": [
    "arr2D = np.array([[11 ,12, 13, 11],\n",
    "                  [21, 22, 23, 24],\n",
    "                  [31, 32, 33, 34]])\n",
    "arr2D[2,3] = 100\n",
    "arr2D"
   ]
  },
  {
   "cell_type": "code",
   "execution_count": 117,
   "id": "3d708313",
   "metadata": {},
   "outputs": [
    {
     "data": {
      "text/plain": [
       "array([[100, 100, 100, 100],\n",
       "       [100, 100, 100, 100],\n",
       "       [100, 100, 100, 100]])"
      ]
     },
     "execution_count": 117,
     "metadata": {},
     "output_type": "execute_result"
    }
   ],
   "source": [
    "arr2D[arr2D > 10] = 100\n",
    "arr2D"
   ]
  },
  {
   "cell_type": "markdown",
   "id": "cdf5be42",
   "metadata": {},
   "source": [
    "# ====================================================="
   ]
  },
  {
   "cell_type": "markdown",
   "id": "c38064eb",
   "metadata": {},
   "source": [
    "# Hands on 2"
   ]
  },
  {
   "cell_type": "code",
   "execution_count": 46,
   "id": "d39c531a",
   "metadata": {},
   "outputs": [
    {
     "data": {
      "text/plain": [
       "'1. Given two numpy arrays A and B that have values [1,2,3,4] and [5,6,7,8] respectively.\\nPerform the following operations.\\na. Add the two arrays\\nb. Subtract the two arrays\\nc. Multiply the two arrays:\\ni. With 5\\nii. With each other.\\nd. Divide the two arrays:\\ni. By 2\\nii. Divide A with B\\niii. Divide B with A.'"
      ]
     },
     "execution_count": 46,
     "metadata": {},
     "output_type": "execute_result"
    }
   ],
   "source": [
    "'''1. Given two numpy arrays A and B that have values [1,2,3,4] and [5,6,7,8] respectively.\n",
    "Perform the following operations.\n",
    "a. Add the two arrays\n",
    "b. Subtract the two arrays\n",
    "c. Multiply the two arrays:\n",
    "i. With 5\n",
    "ii. With each other.\n",
    "d. Divide the two arrays:\n",
    "i. By 2\n",
    "ii. Divide A with B\n",
    "iii. Divide B with A.'''"
   ]
  },
  {
   "cell_type": "code",
   "execution_count": 119,
   "id": "5f7efeb1",
   "metadata": {},
   "outputs": [
    {
     "data": {
      "text/plain": [
       "(array([1, 2, 3, 4]), array([5, 6, 7, 8]))"
      ]
     },
     "execution_count": 119,
     "metadata": {},
     "output_type": "execute_result"
    }
   ],
   "source": [
    "arr1 = np.array([1,2,3,4])\n",
    "arr2 = np.array([5,6,7,8])\n",
    "arr1, arr2"
   ]
  },
  {
   "cell_type": "code",
   "execution_count": 120,
   "id": "5c239bb6",
   "metadata": {},
   "outputs": [
    {
     "data": {
      "text/plain": [
       "array([ 6,  8, 10, 12])"
      ]
     },
     "execution_count": 120,
     "metadata": {},
     "output_type": "execute_result"
    }
   ],
   "source": [
    "arr1 + arr2"
   ]
  },
  {
   "cell_type": "code",
   "execution_count": 48,
   "id": "61162b13",
   "metadata": {},
   "outputs": [],
   "source": [
    "#a. Add the two arrays"
   ]
  },
  {
   "cell_type": "code",
   "execution_count": 121,
   "id": "3e1dae72",
   "metadata": {},
   "outputs": [
    {
     "data": {
      "text/plain": [
       "array([ 6,  8, 10, 12])"
      ]
     },
     "execution_count": 121,
     "metadata": {},
     "output_type": "execute_result"
    }
   ],
   "source": [
    "res = np.add(arr1, arr2)\n",
    "res"
   ]
  },
  {
   "cell_type": "code",
   "execution_count": 50,
   "id": "3b16d353",
   "metadata": {},
   "outputs": [
    {
     "data": {
      "text/plain": [
       "36"
      ]
     },
     "execution_count": 50,
     "metadata": {},
     "output_type": "execute_result"
    }
   ],
   "source": [
    "res = np.sum([arr1, arr2])\n",
    "res"
   ]
  },
  {
   "cell_type": "code",
   "execution_count": 51,
   "id": "22ddb345",
   "metadata": {},
   "outputs": [
    {
     "data": {
      "text/plain": [
       "array([10, 26])"
      ]
     },
     "execution_count": 51,
     "metadata": {},
     "output_type": "execute_result"
    }
   ],
   "source": [
    "res = np.sum([arr1, arr2], axis = 1)\n",
    "res"
   ]
  },
  {
   "cell_type": "code",
   "execution_count": 52,
   "id": "deafcaf2",
   "metadata": {},
   "outputs": [
    {
     "data": {
      "text/plain": [
       "array([ 6,  8, 10, 12])"
      ]
     },
     "execution_count": 52,
     "metadata": {},
     "output_type": "execute_result"
    }
   ],
   "source": [
    "res = np.sum([arr1, arr2], axis = 0)\n",
    "res"
   ]
  },
  {
   "cell_type": "code",
   "execution_count": 53,
   "id": "eba7328c",
   "metadata": {},
   "outputs": [
    {
     "data": {
      "text/plain": [
       "array([-4, -4, -4, -4])"
      ]
     },
     "execution_count": 53,
     "metadata": {},
     "output_type": "execute_result"
    }
   ],
   "source": [
    "res2 = np.subtract(arr1, arr2)\n",
    "res2"
   ]
  },
  {
   "cell_type": "code",
   "execution_count": 54,
   "id": "facfe7b5",
   "metadata": {},
   "outputs": [],
   "source": [
    "# Multiply the two arrays:\n",
    "# i. With 5\n",
    "# ii. With each other."
   ]
  },
  {
   "cell_type": "code",
   "execution_count": 55,
   "id": "784b4918",
   "metadata": {},
   "outputs": [
    {
     "data": {
      "text/plain": [
       "array([ 5, 10, 15, 20])"
      ]
     },
     "execution_count": 55,
     "metadata": {},
     "output_type": "execute_result"
    }
   ],
   "source": [
    "res3 = np.multiply(arr1, 5)\n",
    "res3"
   ]
  },
  {
   "cell_type": "code",
   "execution_count": 56,
   "id": "5f96875d",
   "metadata": {},
   "outputs": [
    {
     "data": {
      "text/plain": [
       "array([ 5, 12, 21, 32])"
      ]
     },
     "execution_count": 56,
     "metadata": {},
     "output_type": "execute_result"
    }
   ],
   "source": [
    "res3 = np.multiply(arr1, arr2)\n",
    "res3"
   ]
  },
  {
   "cell_type": "code",
   "execution_count": 57,
   "id": "6657aff0",
   "metadata": {},
   "outputs": [
    {
     "data": {
      "text/plain": [
       "array([0.5, 1. , 1.5, 2. ])"
      ]
     },
     "execution_count": 57,
     "metadata": {},
     "output_type": "execute_result"
    }
   ],
   "source": [
    "res4 = np.divide(arr1, 2)\n",
    "res4"
   ]
  },
  {
   "cell_type": "code",
   "execution_count": 58,
   "id": "e02d1ac0",
   "metadata": {},
   "outputs": [
    {
     "data": {
      "text/plain": [
       "array([5.        , 3.        , 2.33333333, 2.        ])"
      ]
     },
     "execution_count": 58,
     "metadata": {},
     "output_type": "execute_result"
    }
   ],
   "source": [
    "res4 = np.divide(arr2, arr1)\n",
    "res4"
   ]
  },
  {
   "cell_type": "code",
   "execution_count": 59,
   "id": "c8fb039e",
   "metadata": {},
   "outputs": [
    {
     "data": {
      "text/plain": [
       "3.0"
      ]
     },
     "execution_count": 59,
     "metadata": {},
     "output_type": "execute_result"
    }
   ],
   "source": [
    "res4[1]"
   ]
  },
  {
   "cell_type": "code",
   "execution_count": 60,
   "id": "35c56a7e",
   "metadata": {},
   "outputs": [
    {
     "data": {
      "text/plain": [
       "(array([[ 2,  9],\n",
       "        [ 6, 13]]),\n",
       " array([[ 1,  4],\n",
       "        [ 3, 11]]))"
      ]
     },
     "execution_count": 60,
     "metadata": {},
     "output_type": "execute_result"
    }
   ],
   "source": [
    "a = np.array([[2,9],[6,13]])\n",
    "b = np.array([[1,4],[3,11]])\n",
    "a,b"
   ]
  },
  {
   "cell_type": "code",
   "execution_count": 61,
   "id": "39c0a0ec",
   "metadata": {},
   "outputs": [
    {
     "data": {
      "text/plain": [
       "'Perform the following operations,\\na. Cross product of A and B.\\nb. Dot product of A and B.\\nc. Matrix multiplication of A and B.\\nd. Square root of A and B.'"
      ]
     },
     "execution_count": 61,
     "metadata": {},
     "output_type": "execute_result"
    }
   ],
   "source": [
    "'''Perform the following operations,\n",
    "a. Cross product of A and B.\n",
    "b. Dot product of A and B.\n",
    "c. Matrix multiplication of A and B.\n",
    "d. Square root of A and B.'''"
   ]
  },
  {
   "cell_type": "code",
   "execution_count": 62,
   "id": "af813e34",
   "metadata": {},
   "outputs": [
    {
     "data": {
      "text/plain": [
       "array([-1, 27])"
      ]
     },
     "execution_count": 62,
     "metadata": {},
     "output_type": "execute_result"
    }
   ],
   "source": [
    "np.cross(a, b)"
   ]
  },
  {
   "cell_type": "code",
   "execution_count": 63,
   "id": "8657f4ac",
   "metadata": {},
   "outputs": [
    {
     "data": {
      "text/plain": [
       "array([[ 29, 107],\n",
       "       [ 45, 167]])"
      ]
     },
     "execution_count": 63,
     "metadata": {},
     "output_type": "execute_result"
    }
   ],
   "source": [
    "np.dot(a,b)"
   ]
  },
  {
   "cell_type": "code",
   "execution_count": 64,
   "id": "00276ef6",
   "metadata": {},
   "outputs": [
    {
     "name": "stdout",
     "output_type": "stream",
     "text": [
      "6\n"
     ]
    }
   ],
   "source": [
    "A = [[6, 7],\n",
    "      [8, 9]]\n",
    " \n",
    "print(np.array(A) [0,0])"
   ]
  },
  {
   "cell_type": "code",
   "execution_count": 65,
   "id": "3912d074",
   "metadata": {},
   "outputs": [
    {
     "data": {
      "text/plain": [
       "array([[ 29, 107],\n",
       "       [ 45, 167]])"
      ]
     },
     "execution_count": 65,
     "metadata": {},
     "output_type": "execute_result"
    }
   ],
   "source": [
    "np.matmul(a, b)"
   ]
  },
  {
   "cell_type": "code",
   "execution_count": 66,
   "id": "575da70e",
   "metadata": {},
   "outputs": [
    {
     "data": {
      "text/plain": [
       "array([[1.41421356, 3.        ],\n",
       "       [2.44948974, 3.60555128]])"
      ]
     },
     "execution_count": 66,
     "metadata": {},
     "output_type": "execute_result"
    }
   ],
   "source": [
    "np.sqrt(a)"
   ]
  },
  {
   "cell_type": "code",
   "execution_count": 67,
   "id": "0e9c6358",
   "metadata": {},
   "outputs": [
    {
     "data": {
      "text/plain": [
       "array([[[1.41421356, 3.        ],\n",
       "        [2.44948974, 3.60555128]],\n",
       "\n",
       "       [[1.        , 2.        ],\n",
       "        [1.73205081, 3.31662479]]])"
      ]
     },
     "execution_count": 67,
     "metadata": {},
     "output_type": "execute_result"
    }
   ],
   "source": [
    "np.sqrt([a,b])"
   ]
  },
  {
   "cell_type": "code",
   "execution_count": 68,
   "id": "80b59ee8",
   "metadata": {},
   "outputs": [],
   "source": [
    "# Create a 3x3 matrix with random valus, flatten the array with the reshape() method and\n",
    "# print the shape of the flattened array and the resultant array."
   ]
  },
  {
   "cell_type": "code",
   "execution_count": 69,
   "id": "b553434c",
   "metadata": {},
   "outputs": [
    {
     "data": {
      "text/plain": [
       "array([[1, 2, 3, 4, 5, 6, 7, 8, 9]])"
      ]
     },
     "execution_count": 69,
     "metadata": {},
     "output_type": "execute_result"
    }
   ],
   "source": [
    "np.arange(1,10).reshape(3,3).reshape(1,9)"
   ]
  },
  {
   "cell_type": "code",
   "execution_count": 70,
   "id": "299c18f6",
   "metadata": {},
   "outputs": [
    {
     "data": {
      "text/plain": [
       "array([1, 2, 3, 4, 5, 6, 7, 8, 9])"
      ]
     },
     "execution_count": 70,
     "metadata": {},
     "output_type": "execute_result"
    }
   ],
   "source": [
    "#ravel\n",
    "np.ravel(np.arange(1,10).reshape(3,3))"
   ]
  },
  {
   "cell_type": "code",
   "execution_count": 71,
   "id": "2f9ed3ec",
   "metadata": {
    "scrolled": true
   },
   "outputs": [
    {
     "data": {
      "text/plain": [
       "array([1, 2, 3, 4, 5, 6, 7, 8, 9])"
      ]
     },
     "execution_count": 71,
     "metadata": {},
     "output_type": "execute_result"
    }
   ],
   "source": [
    "np.arange(1,10).reshape(3,3).reshape(1,9).reshape(-1)"
   ]
  },
  {
   "cell_type": "code",
   "execution_count": 72,
   "id": "cbce278e",
   "metadata": {},
   "outputs": [
    {
     "data": {
      "text/plain": [
       "array([1, 2, 3, 4, 5, 6, 7, 8, 9])"
      ]
     },
     "execution_count": 72,
     "metadata": {},
     "output_type": "execute_result"
    }
   ],
   "source": [
    "a = np.array([1, 2, 3, 4, 5, 6, 7, 8, 9]).reshape(3,3)\n",
    "a.flatten()"
   ]
  },
  {
   "cell_type": "code",
   "execution_count": 73,
   "id": "e8e83ba6",
   "metadata": {},
   "outputs": [
    {
     "name": "stdout",
     "output_type": "stream",
     "text": [
      "[[61 78 92]\n",
      " [52 43 63]\n",
      " [98 45 83]]\n"
     ]
    }
   ],
   "source": [
    "arr1 = np.random.randint(0, 100, size=9).reshape(3,3)\n",
    "print(arr1)"
   ]
  },
  {
   "cell_type": "code",
   "execution_count": 74,
   "id": "949305e4",
   "metadata": {},
   "outputs": [
    {
     "data": {
      "text/plain": [
       "'5. Given two arrays A and B, perform the following operations\\nA = np.array([[2,3],[6,4]])\\nB = np.array([[3,6],[4,9]])\\na. Horizontal stacking\\nb. Vertical Stacking\\nc. Row Stacking\\nd. Column Stacking\\ne. Depth Stacking\\nf. Append A to B\\ng. Concatenate A and B'"
      ]
     },
     "execution_count": 74,
     "metadata": {},
     "output_type": "execute_result"
    }
   ],
   "source": [
    "'''5. Given two arrays A and B, perform the following operations\n",
    "A = np.array([[2,3],[6,4]])\n",
    "B = np.array([[3,6],[4,9]])\n",
    "a. Horizontal stacking\n",
    "b. Vertical Stacking\n",
    "c. Row Stacking\n",
    "d. Column Stacking\n",
    "e. Depth Stacking\n",
    "f. Append A to B\n",
    "g. Concatenate A and B'''"
   ]
  },
  {
   "cell_type": "code",
   "execution_count": 75,
   "id": "670532f2",
   "metadata": {},
   "outputs": [
    {
     "data": {
      "text/plain": [
       "array([[2, 3],\n",
       "       [6, 4]])"
      ]
     },
     "execution_count": 75,
     "metadata": {},
     "output_type": "execute_result"
    }
   ],
   "source": [
    "A = np.array([[2,3],[6,4]])\n",
    "B = np.array([[3,6],[4,9]])\n",
    "A"
   ]
  },
  {
   "cell_type": "code",
   "execution_count": 76,
   "id": "64571f31",
   "metadata": {},
   "outputs": [
    {
     "name": "stdout",
     "output_type": "stream",
     "text": [
      "2022-04-24\n"
     ]
    }
   ],
   "source": [
    "print(np.datetime64('today', 'D'))"
   ]
  },
  {
   "cell_type": "code",
   "execution_count": 77,
   "id": "c83a37cd",
   "metadata": {},
   "outputs": [
    {
     "data": {
      "text/plain": [
       "array(['2022-03-01', '2022-03-02', '2022-03-03', '2022-03-04',\n",
       "       '2022-03-05', '2022-03-06', '2022-03-07', '2022-03-08',\n",
       "       '2022-03-09', '2022-03-10', '2022-03-11', '2022-03-12',\n",
       "       '2022-03-13', '2022-03-14', '2022-03-15', '2022-03-16',\n",
       "       '2022-03-17', '2022-03-18', '2022-03-19', '2022-03-20',\n",
       "       '2022-03-21', '2022-03-22', '2022-03-23', '2022-03-24',\n",
       "       '2022-03-25', '2022-03-26', '2022-03-27', '2022-03-28',\n",
       "       '2022-03-29', '2022-03-30', '2022-03-31', '2022-04-01',\n",
       "       '2022-04-02', '2022-04-03', '2022-04-04', '2022-04-05',\n",
       "       '2022-04-06', '2022-04-07', '2022-04-08', '2022-04-09',\n",
       "       '2022-04-10', '2022-04-11', '2022-04-12', '2022-04-13',\n",
       "       '2022-04-14', '2022-04-15', '2022-04-16', '2022-04-17',\n",
       "       '2022-04-18', '2022-04-19', '2022-04-20', '2022-04-21',\n",
       "       '2022-04-22', '2022-04-23', '2022-04-24', '2022-04-25',\n",
       "       '2022-04-26', '2022-04-27', '2022-04-28', '2022-04-29',\n",
       "       '2022-04-30', '2022-05-01', '2022-05-02', '2022-05-03',\n",
       "       '2022-05-04', '2022-05-05', '2022-05-06', '2022-05-07',\n",
       "       '2022-05-08', '2022-05-09', '2022-05-10', '2022-05-11',\n",
       "       '2022-05-12', '2022-05-13', '2022-05-14', '2022-05-15',\n",
       "       '2022-05-16', '2022-05-17', '2022-05-18', '2022-05-19',\n",
       "       '2022-05-20', '2022-05-21', '2022-05-22', '2022-05-23',\n",
       "       '2022-05-24', '2022-05-25', '2022-05-26', '2022-05-27',\n",
       "       '2022-05-28', '2022-05-29', '2022-05-30', '2022-05-31',\n",
       "       '2022-06-01', '2022-06-02', '2022-06-03', '2022-06-04',\n",
       "       '2022-06-05', '2022-06-06', '2022-06-07', '2022-06-08',\n",
       "       '2022-06-09', '2022-06-10', '2022-06-11', '2022-06-12',\n",
       "       '2022-06-13', '2022-06-14', '2022-06-15', '2022-06-16',\n",
       "       '2022-06-17', '2022-06-18', '2022-06-19', '2022-06-20',\n",
       "       '2022-06-21', '2022-06-22', '2022-06-23', '2022-06-24',\n",
       "       '2022-06-25', '2022-06-26', '2022-06-27', '2022-06-28',\n",
       "       '2022-06-29', '2022-06-30', '2022-07-01', '2022-07-02',\n",
       "       '2022-07-03', '2022-07-04', '2022-07-05', '2022-07-06',\n",
       "       '2022-07-07', '2022-07-08', '2022-07-09', '2022-07-10',\n",
       "       '2022-07-11', '2022-07-12', '2022-07-13', '2022-07-14',\n",
       "       '2022-07-15', '2022-07-16', '2022-07-17', '2022-07-18',\n",
       "       '2022-07-19', '2022-07-20', '2022-07-21', '2022-07-22',\n",
       "       '2022-07-23', '2022-07-24', '2022-07-25', '2022-07-26',\n",
       "       '2022-07-27', '2022-07-28', '2022-07-29', '2022-07-30',\n",
       "       '2022-07-31', '2022-08-01', '2022-08-02', '2022-08-03',\n",
       "       '2022-08-04', '2022-08-05', '2022-08-06', '2022-08-07',\n",
       "       '2022-08-08', '2022-08-09', '2022-08-10', '2022-08-11',\n",
       "       '2022-08-12', '2022-08-13', '2022-08-14', '2022-08-15',\n",
       "       '2022-08-16', '2022-08-17', '2022-08-18', '2022-08-19',\n",
       "       '2022-08-20', '2022-08-21', '2022-08-22', '2022-08-23',\n",
       "       '2022-08-24', '2022-08-25', '2022-08-26', '2022-08-27',\n",
       "       '2022-08-28', '2022-08-29', '2022-08-30', '2022-08-31',\n",
       "       '2022-09-01', '2022-09-02', '2022-09-03', '2022-09-04',\n",
       "       '2022-09-05', '2022-09-06', '2022-09-07', '2022-09-08',\n",
       "       '2022-09-09', '2022-09-10', '2022-09-11', '2022-09-12',\n",
       "       '2022-09-13', '2022-09-14', '2022-09-15', '2022-09-16',\n",
       "       '2022-09-17', '2022-09-18', '2022-09-19', '2022-09-20',\n",
       "       '2022-09-21', '2022-09-22', '2022-09-23', '2022-09-24',\n",
       "       '2022-09-25', '2022-09-26', '2022-09-27', '2022-09-28',\n",
       "       '2022-09-29', '2022-09-30', '2022-10-01', '2022-10-02',\n",
       "       '2022-10-03', '2022-10-04', '2022-10-05', '2022-10-06',\n",
       "       '2022-10-07', '2022-10-08', '2022-10-09', '2022-10-10',\n",
       "       '2022-10-11', '2022-10-12', '2022-10-13', '2022-10-14',\n",
       "       '2022-10-15', '2022-10-16', '2022-10-17', '2022-10-18',\n",
       "       '2022-10-19', '2022-10-20', '2022-10-21', '2022-10-22',\n",
       "       '2022-10-23', '2022-10-24', '2022-10-25', '2022-10-26',\n",
       "       '2022-10-27', '2022-10-28', '2022-10-29', '2022-10-30',\n",
       "       '2022-10-31', '2022-11-01', '2022-11-02', '2022-11-03',\n",
       "       '2022-11-04', '2022-11-05', '2022-11-06', '2022-11-07',\n",
       "       '2022-11-08', '2022-11-09', '2022-11-10', '2022-11-11',\n",
       "       '2022-11-12', '2022-11-13', '2022-11-14', '2022-11-15',\n",
       "       '2022-11-16', '2022-11-17', '2022-11-18', '2022-11-19',\n",
       "       '2022-11-20', '2022-11-21', '2022-11-22', '2022-11-23',\n",
       "       '2022-11-24', '2022-11-25', '2022-11-26', '2022-11-27',\n",
       "       '2022-11-28', '2022-11-29', '2022-11-30', '2022-12-01',\n",
       "       '2022-12-02', '2022-12-03', '2022-12-04', '2022-12-05',\n",
       "       '2022-12-06', '2022-12-07', '2022-12-08', '2022-12-09',\n",
       "       '2022-12-10', '2022-12-11', '2022-12-12', '2022-12-13',\n",
       "       '2022-12-14', '2022-12-15', '2022-12-16', '2022-12-17',\n",
       "       '2022-12-18', '2022-12-19', '2022-12-20', '2022-12-21',\n",
       "       '2022-12-22', '2022-12-23', '2022-12-24', '2022-12-25',\n",
       "       '2022-12-26', '2022-12-27', '2022-12-28', '2022-12-29',\n",
       "       '2022-12-30', '2022-12-31', '2023-01-01', '2023-01-02',\n",
       "       '2023-01-03', '2023-01-04', '2023-01-05', '2023-01-06',\n",
       "       '2023-01-07', '2023-01-08', '2023-01-09', '2023-01-10',\n",
       "       '2023-01-11', '2023-01-12', '2023-01-13', '2023-01-14',\n",
       "       '2023-01-15', '2023-01-16', '2023-01-17', '2023-01-18',\n",
       "       '2023-01-19', '2023-01-20', '2023-01-21', '2023-01-22',\n",
       "       '2023-01-23', '2023-01-24', '2023-01-25', '2023-01-26',\n",
       "       '2023-01-27', '2023-01-28', '2023-01-29', '2023-01-30',\n",
       "       '2023-01-31', '2023-02-01', '2023-02-02', '2023-02-03',\n",
       "       '2023-02-04', '2023-02-05', '2023-02-06', '2023-02-07',\n",
       "       '2023-02-08', '2023-02-09', '2023-02-10', '2023-02-11',\n",
       "       '2023-02-12', '2023-02-13', '2023-02-14', '2023-02-15',\n",
       "       '2023-02-16', '2023-02-17', '2023-02-18', '2023-02-19',\n",
       "       '2023-02-20', '2023-02-21', '2023-02-22', '2023-02-23',\n",
       "       '2023-02-24', '2023-02-25', '2023-02-26', '2023-02-27',\n",
       "       '2023-02-28'], dtype='datetime64[D]')"
      ]
     },
     "execution_count": 77,
     "metadata": {},
     "output_type": "execute_result"
    }
   ],
   "source": [
    "dates_of_year = np.arange('2022-03', '2023-03', dtype='datetime64[D]')\n",
    "dates_of_year"
   ]
  },
  {
   "cell_type": "code",
   "execution_count": 78,
   "id": "c0fe8256",
   "metadata": {},
   "outputs": [
    {
     "data": {
      "text/plain": [
       "array([4, 5])"
      ]
     },
     "execution_count": 78,
     "metadata": {},
     "output_type": "execute_result"
    }
   ],
   "source": [
    "arr2 = np.array([1,2,3,4,5])\n",
    "arr2[arr2 > 3]"
   ]
  },
  {
   "cell_type": "code",
   "execution_count": 79,
   "id": "32cf261c",
   "metadata": {},
   "outputs": [
    {
     "data": {
      "text/plain": [
       "array([False, False, False,  True,  True])"
      ]
     },
     "execution_count": 79,
     "metadata": {},
     "output_type": "execute_result"
    }
   ],
   "source": [
    "arr2 > 3"
   ]
  },
  {
   "cell_type": "code",
   "execution_count": 80,
   "id": "c406fe3a",
   "metadata": {},
   "outputs": [
    {
     "data": {
      "text/plain": [
       "array([1, 2, 3])"
      ]
     },
     "execution_count": 80,
     "metadata": {},
     "output_type": "execute_result"
    }
   ],
   "source": [
    "arr2 = np.array([1,2,3,4,5,6,7,8,9])\n",
    "x, y, z = np.array_split(arr2, 3)\n",
    "x"
   ]
  },
  {
   "cell_type": "code",
   "execution_count": 81,
   "id": "f079898d",
   "metadata": {},
   "outputs": [
    {
     "data": {
      "text/plain": [
       "array([4, 5, 6])"
      ]
     },
     "execution_count": 81,
     "metadata": {},
     "output_type": "execute_result"
    }
   ],
   "source": [
    "y"
   ]
  },
  {
   "cell_type": "code",
   "execution_count": 82,
   "id": "65dab916",
   "metadata": {},
   "outputs": [],
   "source": [
    "x = np.hsplit(arr2, 3)"
   ]
  },
  {
   "cell_type": "code",
   "execution_count": 83,
   "id": "d16d2c12",
   "metadata": {},
   "outputs": [
    {
     "data": {
      "text/plain": [
       "[array([1, 2, 3]), array([4, 5, 6]), array([7, 8, 9])]"
      ]
     },
     "execution_count": 83,
     "metadata": {},
     "output_type": "execute_result"
    }
   ],
   "source": [
    "x"
   ]
  },
  {
   "cell_type": "code",
   "execution_count": 84,
   "id": "0e36486b",
   "metadata": {},
   "outputs": [],
   "source": [
    "arr2 = np.array([1,2,3,4,5,6,7,8,9]).reshape(3,3)\n",
    "x = np.vsplit(arr2, 3)"
   ]
  },
  {
   "cell_type": "code",
   "execution_count": 85,
   "id": "d98b2e3a",
   "metadata": {},
   "outputs": [
    {
     "data": {
      "text/plain": [
       "[array([[1, 2, 3]]), array([[4, 5, 6]]), array([[7, 8, 9]])]"
      ]
     },
     "execution_count": 85,
     "metadata": {},
     "output_type": "execute_result"
    }
   ],
   "source": [
    "x"
   ]
  },
  {
   "cell_type": "code",
   "execution_count": 86,
   "id": "b94e02f8",
   "metadata": {},
   "outputs": [
    {
     "data": {
      "text/plain": [
       "array([[1, 2, 3],\n",
       "       [4, 5, 6],\n",
       "       [7, 8, 9]])"
      ]
     },
     "execution_count": 86,
     "metadata": {},
     "output_type": "execute_result"
    }
   ],
   "source": [
    "arr2"
   ]
  },
  {
   "cell_type": "code",
   "execution_count": 87,
   "id": "bc1dbc73",
   "metadata": {},
   "outputs": [],
   "source": [
    "y = x = np.hsplit(arr2, 3)"
   ]
  },
  {
   "cell_type": "code",
   "execution_count": 88,
   "id": "0d8e6f96",
   "metadata": {},
   "outputs": [
    {
     "data": {
      "text/plain": [
       "[array([[1],\n",
       "        [4],\n",
       "        [7]]),\n",
       " array([[2],\n",
       "        [5],\n",
       "        [8]]),\n",
       " array([[3],\n",
       "        [6],\n",
       "        [9]])]"
      ]
     },
     "execution_count": 88,
     "metadata": {},
     "output_type": "execute_result"
    }
   ],
   "source": [
    "y"
   ]
  },
  {
   "cell_type": "code",
   "execution_count": 89,
   "id": "8c8ba254",
   "metadata": {},
   "outputs": [
    {
     "data": {
      "text/plain": [
       "array([[[2, 3, 4]]])"
      ]
     },
     "execution_count": 89,
     "metadata": {},
     "output_type": "execute_result"
    }
   ],
   "source": [
    "j = np.array([[[2,3,4]]])\n",
    "j"
   ]
  },
  {
   "cell_type": "code",
   "execution_count": 90,
   "id": "92a247dd",
   "metadata": {},
   "outputs": [
    {
     "data": {
      "text/plain": [
       "array([[[2],\n",
       "        [3],\n",
       "        [4]]])"
      ]
     },
     "execution_count": 90,
     "metadata": {},
     "output_type": "execute_result"
    }
   ],
   "source": [
    "j.reshape(1,3,1)"
   ]
  },
  {
   "cell_type": "code",
   "execution_count": 100,
   "id": "b22eaf3e",
   "metadata": {
    "scrolled": true
   },
   "outputs": [
    {
     "data": {
      "text/plain": [
       "array([[ 1,  4,  7],\n",
       "       [ 3,  1,  9],\n",
       "       [ 2,  8, 11]])"
      ]
     },
     "execution_count": 100,
     "metadata": {},
     "output_type": "execute_result"
    }
   ],
   "source": [
    "A = np.array([[1,4,7],[3,1,9],[2,8,11]])\n",
    "A"
   ]
  },
  {
   "cell_type": "code",
   "execution_count": null,
   "id": "eed30d16",
   "metadata": {},
   "outputs": [],
   "source": []
  }
 ],
 "metadata": {
  "kernelspec": {
   "display_name": "Python 3 (ipykernel)",
   "language": "python",
   "name": "python3"
  },
  "language_info": {
   "codemirror_mode": {
    "name": "ipython",
    "version": 3
   },
   "file_extension": ".py",
   "mimetype": "text/x-python",
   "name": "python",
   "nbconvert_exporter": "python",
   "pygments_lexer": "ipython3",
   "version": "3.9.7"
  }
 },
 "nbformat": 4,
 "nbformat_minor": 5
}
