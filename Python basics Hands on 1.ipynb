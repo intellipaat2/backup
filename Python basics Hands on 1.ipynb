{
 "cells": [
  {
   "cell_type": "code",
   "execution_count": 1,
   "id": "84e2c6e4",
   "metadata": {},
   "outputs": [],
   "source": [
    "import calculator as c"
   ]
  },
  {
   "cell_type": "code",
   "execution_count": 2,
   "id": "e56949d1",
   "metadata": {},
   "outputs": [
    {
     "data": {
      "text/plain": [
       "9"
      ]
     },
     "execution_count": 2,
     "metadata": {},
     "output_type": "execute_result"
    }
   ],
   "source": [
    "c.addition(4,5)"
   ]
  },
  {
   "cell_type": "code",
   "execution_count": 3,
   "id": "f456ed70",
   "metadata": {},
   "outputs": [
    {
     "data": {
      "text/plain": [
       "20"
      ]
     },
     "execution_count": 3,
     "metadata": {},
     "output_type": "execute_result"
    }
   ],
   "source": [
    "c.multiplication(4,5)"
   ]
  },
  {
   "cell_type": "code",
   "execution_count": 4,
   "id": "3b9d21b3",
   "metadata": {},
   "outputs": [],
   "source": [
    "from calculator import addition"
   ]
  },
  {
   "cell_type": "code",
   "execution_count": 5,
   "id": "579cde99",
   "metadata": {},
   "outputs": [
    {
     "data": {
      "text/plain": [
       "11"
      ]
     },
     "execution_count": 5,
     "metadata": {},
     "output_type": "execute_result"
    }
   ],
   "source": [
    "addition(5,6)"
   ]
  },
  {
   "cell_type": "code",
   "execution_count": 6,
   "id": "9451a89a",
   "metadata": {},
   "outputs": [
    {
     "data": {
      "text/plain": [
       "42"
      ]
     },
     "execution_count": 6,
     "metadata": {},
     "output_type": "execute_result"
    }
   ],
   "source": [
    "from calculator import multiplication\n",
    "from calculator import division\n",
    "\n",
    "multiplication(6,7)"
   ]
  },
  {
   "cell_type": "code",
   "execution_count": 7,
   "id": "94863d62",
   "metadata": {},
   "outputs": [
    {
     "data": {
      "text/plain": [
       "3.0"
      ]
     },
     "execution_count": 7,
     "metadata": {},
     "output_type": "execute_result"
    }
   ],
   "source": [
    "division(6,2)"
   ]
  },
  {
   "cell_type": "code",
   "execution_count": 8,
   "id": "a059f6f4",
   "metadata": {},
   "outputs": [],
   "source": [
    "from calculator import multiplication, division"
   ]
  },
  {
   "cell_type": "markdown",
   "id": "109a633e",
   "metadata": {},
   "source": [
    "# 6"
   ]
  },
  {
   "cell_type": "code",
   "execution_count": 9,
   "id": "fb55d461",
   "metadata": {},
   "outputs": [],
   "source": [
    "li = [2,3,5,13,8,12]"
   ]
  },
  {
   "cell_type": "code",
   "execution_count": 10,
   "id": "1a82a5b1",
   "metadata": {},
   "outputs": [
    {
     "data": {
      "text/plain": [
       "13"
      ]
     },
     "execution_count": 10,
     "metadata": {},
     "output_type": "execute_result"
    }
   ],
   "source": [
    "max(li)"
   ]
  },
  {
   "cell_type": "code",
   "execution_count": 11,
   "id": "7214b112",
   "metadata": {},
   "outputs": [
    {
     "data": {
      "text/plain": [
       "[2, 3, 4, 5, 6, 7, 8, 9, 10, 11, 12]"
      ]
     },
     "execution_count": 11,
     "metadata": {},
     "output_type": "execute_result"
    }
   ],
   "source": [
    "list(range(2,13))"
   ]
  },
  {
   "cell_type": "code",
   "execution_count": 12,
   "id": "0fb3c93e",
   "metadata": {},
   "outputs": [],
   "source": [
    "def check_prime_number(x):\n",
    "    prime_numbers = []\n",
    "    \n",
    "    for i in x:                         # i =8\n",
    "        flag = False\n",
    "        \n",
    "        for j in range(2,i):\n",
    "            if i % j == 0:\n",
    "                flag = True\n",
    "                break\n",
    "            \n",
    "        if flag == False:\n",
    "            prime_numbers.append(i)\n",
    "            \n",
    "    return prime_numbers    "
   ]
  },
  {
   "cell_type": "code",
   "execution_count": 13,
   "id": "ad59759d",
   "metadata": {},
   "outputs": [
    {
     "data": {
      "text/plain": [
       "[2, 3, 5, 13]"
      ]
     },
     "execution_count": 13,
     "metadata": {},
     "output_type": "execute_result"
    }
   ],
   "source": [
    "check_prime_number(li)"
   ]
  },
  {
   "cell_type": "raw",
   "id": "b75f6cbf",
   "metadata": {},
   "source": [
    "a**3 + b**3 + c**3\n",
    "\n",
    "153 = 1**3 + 5**3 + 3**3\n",
    "153 = 1 + 125 + 27"
   ]
  },
  {
   "cell_type": "code",
   "execution_count": 14,
   "id": "4b74b246",
   "metadata": {},
   "outputs": [
    {
     "data": {
      "text/plain": [
       "153"
      ]
     },
     "execution_count": 14,
     "metadata": {},
     "output_type": "execute_result"
    }
   ],
   "source": [
    "1 + 125 + 27"
   ]
  },
  {
   "cell_type": "code",
   "execution_count": 15,
   "id": "b85a7ae9",
   "metadata": {},
   "outputs": [],
   "source": [
    "def check_armstrong_num(number):\n",
    "    \n",
    "    last_digit = number%10\n",
    "    middle_digit = (number//10) % 10\n",
    "    first_digit = number//100\n",
    "#     print (last_digit, middle_digit, first_digit)\n",
    "    \n",
    "    if number == last_digit**3 + middle_digit**3 + first_digit**3:\n",
    "        print('The number is armstrong number')\n",
    "        \n",
    "    else:\n",
    "        print('The number is not armstrong number')"
   ]
  },
  {
   "cell_type": "code",
   "execution_count": 16,
   "id": "08409b4a",
   "metadata": {},
   "outputs": [
    {
     "name": "stdout",
     "output_type": "stream",
     "text": [
      "The number is armstrong number\n"
     ]
    }
   ],
   "source": [
    "check_armstrong_num(371)"
   ]
  },
  {
   "cell_type": "code",
   "execution_count": 17,
   "id": "8c80eba4",
   "metadata": {},
   "outputs": [
    {
     "ename": "NameError",
     "evalue": "name 'check_armstrong' is not defined",
     "output_type": "error",
     "traceback": [
      "\u001b[1;31m---------------------------------------------------------------------------\u001b[0m",
      "\u001b[1;31mNameError\u001b[0m                                 Traceback (most recent call last)",
      "\u001b[1;32m~\\AppData\\Local\\Temp/ipykernel_18180/1107517991.py\u001b[0m in \u001b[0;36m<module>\u001b[1;34m\u001b[0m\n\u001b[1;32m----> 1\u001b[1;33m \u001b[0mcheck_armstrong\u001b[0m\u001b[1;33m(\u001b[0m\u001b[1;36m153\u001b[0m\u001b[1;33m)\u001b[0m\u001b[1;33m\u001b[0m\u001b[1;33m\u001b[0m\u001b[0m\n\u001b[0m",
      "\u001b[1;31mNameError\u001b[0m: name 'check_armstrong' is not defined"
     ]
    }
   ],
   "source": [
    "check_armstrong(153)"
   ]
  },
  {
   "cell_type": "code",
   "execution_count": 18,
   "id": "5d7b822e",
   "metadata": {},
   "outputs": [
    {
     "ename": "NameError",
     "evalue": "name 'check_armstrong' is not defined",
     "output_type": "error",
     "traceback": [
      "\u001b[1;31m---------------------------------------------------------------------------\u001b[0m",
      "\u001b[1;31mNameError\u001b[0m                                 Traceback (most recent call last)",
      "\u001b[1;32m~\\AppData\\Local\\Temp/ipykernel_18180/2786178863.py\u001b[0m in \u001b[0;36m<module>\u001b[1;34m\u001b[0m\n\u001b[1;32m----> 1\u001b[1;33m \u001b[0mcheck_armstrong\u001b[0m\u001b[1;33m(\u001b[0m\u001b[1;36m1634\u001b[0m\u001b[1;33m)\u001b[0m\u001b[1;33m\u001b[0m\u001b[1;33m\u001b[0m\u001b[0m\n\u001b[0m",
      "\u001b[1;31mNameError\u001b[0m: name 'check_armstrong' is not defined"
     ]
    }
   ],
   "source": [
    "check_armstrong(1634)"
   ]
  },
  {
   "cell_type": "raw",
   "id": "03b1bd6b",
   "metadata": {},
   "source": [
    "153 % 10   = 3\n",
    "153 // 10  = 15        15 % 10 = 5,,            15 // 10 == 1"
   ]
  },
  {
   "cell_type": "code",
   "execution_count": 22,
   "id": "4e774c19",
   "metadata": {},
   "outputs": [
    {
     "name": "stdout",
     "output_type": "stream",
     "text": [
      "153\n",
      "153 is a Armstrong number\n"
     ]
    }
   ],
   "source": [
    "num = int(input())\n",
    "\n",
    "temp = num\n",
    "Sum = 0\n",
    "\n",
    "l = len(str(num))              \n",
    "\n",
    "while temp > 0:\n",
    "    \n",
    "    digit = temp % 10                                     \n",
    "    Sum = Sum + digit ** l                      \n",
    "    temp = temp // 10                           \n",
    "    \n",
    "if Sum == num:\n",
    "    print(num, 'is a Armstrong number')\n",
    "else:\n",
    "    print(num, 'is not a Armstrong number')"
   ]
  },
  {
   "cell_type": "code",
   "execution_count": 23,
   "id": "0a4adc7a",
   "metadata": {},
   "outputs": [],
   "source": [
    "def addition(a,b):\n",
    "    return a+b\n",
    "def subtraction(a,b):\n",
    "    return a-b\n",
    "def multiplication(a,b):\n",
    "    return a*b\n",
    "def division(a,b):\n",
    "    return a/b"
   ]
  },
  {
   "cell_type": "code",
   "execution_count": 24,
   "id": "55b5b8fd",
   "metadata": {},
   "outputs": [
    {
     "name": "stdout",
     "output_type": "stream",
     "text": [
      "4\n",
      "5\n",
      "Press 1 for addition, press 2 for subtraction,1\n"
     ]
    }
   ],
   "source": [
    "a = int(input())\n",
    "b = int(input())\n",
    "\n",
    "calc = {\n",
    "    1 : addition,\n",
    "    2 : subtraction,\n",
    "    3 : multiplication,\n",
    "    4 : division\n",
    "\n",
    "}\n",
    "\n",
    "inp = int(input('Press 1 for addition, press 2 for subtraction,'))\n",
    "\n",
    "if inp in calc.keys():\n",
    "    calc[inp](a,b)\n",
    "else:\n",
    "    print('Enter a valid number')"
   ]
  },
  {
   "cell_type": "markdown",
   "id": "2765d853",
   "metadata": {},
   "source": [
    "# calc[1](4,5)"
   ]
  },
  {
   "cell_type": "code",
   "execution_count": 25,
   "id": "83c5fb50",
   "metadata": {},
   "outputs": [
    {
     "data": {
      "text/plain": [
       "49"
      ]
     },
     "execution_count": 25,
     "metadata": {},
     "output_type": "execute_result"
    }
   ],
   "source": [
    "addition(44,5)"
   ]
  },
  {
   "cell_type": "code",
   "execution_count": 26,
   "id": "4a45230e",
   "metadata": {},
   "outputs": [
    {
     "name": "stdout",
     "output_type": "stream",
     "text": [
      "Enter number of Fibonacci you want...(keep more than 2)8\n",
      "0  1 \n",
      "1\n",
      "2\n",
      "3\n",
      "5\n",
      "8\n",
      "13\n",
      "21\n"
     ]
    }
   ],
   "source": [
    "Number = int(input('Enter number of Fibonacci you want...(keep more than 2)'))\n",
    "\n",
    "print('0 ', '1 ')\n",
    "\n",
    "temp1 = 0\n",
    "temp2 = 1\n",
    "\n",
    "for i in range(1,Number):\n",
    "    \n",
    "    temp = temp1 + temp2\n",
    "    print(temp)\n",
    "    temp1 = temp2\n",
    "    temp2 = temp\n"
   ]
  },
  {
   "cell_type": "raw",
   "id": "975f2ea3",
   "metadata": {},
   "source": [
    "0 1 1 2 3 5 8 13 21\n",
    "\n",
    "n1 n2 nth             nth  =  n1 + n2  =  3           |  n1  = 1    | n2 = 2 "
   ]
  },
  {
   "cell_type": "code",
   "execution_count": 27,
   "id": "ba15b963",
   "metadata": {},
   "outputs": [
    {
     "name": "stdout",
     "output_type": "stream",
     "text": [
      "Enter a number8\n",
      "0\n",
      "1\n",
      "1\n",
      "2\n",
      "3\n",
      "5\n",
      "8\n",
      "13\n"
     ]
    }
   ],
   "source": [
    "x = int(input('Enter a number'))\n",
    "\n",
    "n1 = 0\n",
    "n2 = 1\n",
    "\n",
    "c = 0\n",
    "\n",
    "while c < x:\n",
    "    \n",
    "    print(n1)\n",
    "    \n",
    "    nth = n1 + n2\n",
    "    n1 = n2\n",
    "    n2 =  nth\n",
    "\n",
    "    c = c + 1"
   ]
  },
  {
   "cell_type": "code",
   "execution_count": 29,
   "id": "7598c90b",
   "metadata": {},
   "outputs": [
    {
     "data": {
      "text/plain": [
       "{5: {'a': [[1, 2], 3], 'b': [2, [3, 1]]},\n",
       " 4: {'c': [[1, 2], 3], 'd': [[2], 3, 1]}}"
      ]
     },
     "execution_count": 29,
     "metadata": {},
     "output_type": "execute_result"
    }
   ],
   "source": [
    "nested_dictionary = {\n",
    "    5: {'a': [[1,2],3], 'b': [2,[3,1]]},\n",
    "    4: {'c': [[1,2],3], 'd': [[2],3,1]}\n",
    "}\n",
    "\n",
    "\n",
    "nested_dictionary"
   ]
  },
  {
   "cell_type": "code",
   "execution_count": 30,
   "id": "da22e946",
   "metadata": {},
   "outputs": [
    {
     "data": {
      "text/plain": [
       "{2, 3, 4, 5, 6, 7, 8}"
      ]
     },
     "execution_count": 30,
     "metadata": {},
     "output_type": "execute_result"
    }
   ],
   "source": [
    "a={2,3,5,6,3,6,4,6,4,6,7,3}\n",
    "b={3,5,6,4,7,8,4,2,5,7,8,4}\n",
    "\n",
    "# a.intersection(b)\n",
    "a.union(b)"
   ]
  },
  {
   "cell_type": "code",
   "execution_count": 31,
   "id": "7bc3f687",
   "metadata": {},
   "outputs": [
    {
     "data": {
      "text/plain": [
       "{2, 3, 4, 5, 6, 7}"
      ]
     },
     "execution_count": 31,
     "metadata": {},
     "output_type": "execute_result"
    }
   ],
   "source": [
    "a & b"
   ]
  },
  {
   "cell_type": "code",
   "execution_count": 32,
   "id": "eb045b59",
   "metadata": {},
   "outputs": [
    {
     "data": {
      "text/plain": [
       "{2, 3, 4, 5, 6, 7, 8}"
      ]
     },
     "execution_count": 32,
     "metadata": {},
     "output_type": "execute_result"
    }
   ],
   "source": [
    "a | b"
   ]
  },
  {
   "cell_type": "code",
   "execution_count": 33,
   "id": "f5e273ab",
   "metadata": {},
   "outputs": [
    {
     "data": {
      "text/plain": [
       "{'John': 10, 'Mary': 15, 'Stella': 20}"
      ]
     },
     "execution_count": 33,
     "metadata": {},
     "output_type": "execute_result"
    }
   ],
   "source": [
    "list1 = [10,15,20]\n",
    "\n",
    "dict1 = { \"John\": list1[0],\n",
    "         \"Mary\": list1[1],\n",
    "        \"Stella\": list1[2]\n",
    "       }\n",
    "dict1"
   ]
  },
  {
   "cell_type": "code",
   "execution_count": 34,
   "id": "88fa374c",
   "metadata": {},
   "outputs": [
    {
     "data": {
      "text/plain": [
       "('John', 'Mary', 'Stella')"
      ]
     },
     "execution_count": 34,
     "metadata": {},
     "output_type": "execute_result"
    }
   ],
   "source": [
    "tuple(dict1)"
   ]
  },
  {
   "cell_type": "code",
   "execution_count": 35,
   "id": "9c0fcf88",
   "metadata": {},
   "outputs": [
    {
     "data": {
      "text/plain": [
       "(('John', 10), ('Mary', 15), ('Stella', 20))"
      ]
     },
     "execution_count": 35,
     "metadata": {},
     "output_type": "execute_result"
    }
   ],
   "source": [
    "tuple(dict1.items())"
   ]
  },
  {
   "cell_type": "code",
   "execution_count": 36,
   "id": "7d134044",
   "metadata": {},
   "outputs": [
    {
     "name": "stdout",
     "output_type": "stream",
     "text": [
      "[2, 4, 6, 8, 10, 12, 14, 16, 18, 20, 22, 24, 26, 28, 30, 32, 34, 36, 38, 40, 42, 44, 46, 48, 50, 52, 54, 56, 58, 60, 62, 64, 66, 68, 70, 72, 74, 76, 78, 80, 82, 84, 86, 88, 90, 92, 94, 96, 98]\n"
     ]
    }
   ],
   "source": [
    "c=[]\n",
    "for i in range(1,100):\n",
    "    if i%2==0:\n",
    "        c.append(i)\n",
    "print(c)"
   ]
  },
  {
   "cell_type": "code",
   "execution_count": 41,
   "id": "c3aa118f",
   "metadata": {},
   "outputs": [],
   "source": [
    "even_50 = list(range(2,101, 2))"
   ]
  },
  {
   "cell_type": "code",
   "execution_count": 42,
   "id": "2f44e517",
   "metadata": {},
   "outputs": [
    {
     "data": {
      "text/plain": [
       "50"
      ]
     },
     "execution_count": 42,
     "metadata": {},
     "output_type": "execute_result"
    }
   ],
   "source": [
    "len(even_50)"
   ]
  },
  {
   "cell_type": "code",
   "execution_count": 43,
   "id": "7ebc912f",
   "metadata": {},
   "outputs": [
    {
     "data": {
      "text/plain": [
       "[100,\n",
       " 98,\n",
       " 96,\n",
       " 94,\n",
       " 92,\n",
       " 90,\n",
       " 88,\n",
       " 86,\n",
       " 84,\n",
       " 82,\n",
       " 80,\n",
       " 78,\n",
       " 76,\n",
       " 74,\n",
       " 72,\n",
       " 70,\n",
       " 68,\n",
       " 66,\n",
       " 64,\n",
       " 62,\n",
       " 60,\n",
       " 58,\n",
       " 56,\n",
       " 54,\n",
       " 52,\n",
       " 50,\n",
       " 48,\n",
       " 46,\n",
       " 44,\n",
       " 42,\n",
       " 40,\n",
       " 38,\n",
       " 36,\n",
       " 34,\n",
       " 32,\n",
       " 30,\n",
       " 28,\n",
       " 26,\n",
       " 24,\n",
       " 22,\n",
       " 20,\n",
       " 18,\n",
       " 16,\n",
       " 14,\n",
       " 12,\n",
       " 10,\n",
       " 8,\n",
       " 6,\n",
       " 4,\n",
       " 2]"
      ]
     },
     "execution_count": 43,
     "metadata": {},
     "output_type": "execute_result"
    }
   ],
   "source": [
    "even_50[::-1]"
   ]
  },
  {
   "cell_type": "code",
   "execution_count": 48,
   "id": "c2939dcd",
   "metadata": {},
   "outputs": [],
   "source": [
    "even_50.sort(reverse=False)"
   ]
  },
  {
   "cell_type": "code",
   "execution_count": 45,
   "id": "6065c8e3",
   "metadata": {},
   "outputs": [
    {
     "data": {
      "text/plain": [
       "[2,\n",
       " 4,\n",
       " 6,\n",
       " 8,\n",
       " 10,\n",
       " 12,\n",
       " 14,\n",
       " 16,\n",
       " 18,\n",
       " 20,\n",
       " 22,\n",
       " 24,\n",
       " 26,\n",
       " 28,\n",
       " 30,\n",
       " 32,\n",
       " 34,\n",
       " 36,\n",
       " 38,\n",
       " 40,\n",
       " 42,\n",
       " 44,\n",
       " 46,\n",
       " 48,\n",
       " 50,\n",
       " 52,\n",
       " 54,\n",
       " 56,\n",
       " 58,\n",
       " 60,\n",
       " 62,\n",
       " 64,\n",
       " 66,\n",
       " 68,\n",
       " 70,\n",
       " 72,\n",
       " 74,\n",
       " 76,\n",
       " 78,\n",
       " 80,\n",
       " 82,\n",
       " 84,\n",
       " 86,\n",
       " 88,\n",
       " 90,\n",
       " 92,\n",
       " 94,\n",
       " 96,\n",
       " 98,\n",
       " 100]"
      ]
     },
     "execution_count": 45,
     "metadata": {},
     "output_type": "execute_result"
    }
   ],
   "source": [
    "even_50"
   ]
  },
  {
   "cell_type": "code",
   "execution_count": 46,
   "id": "5aa04cf9",
   "metadata": {},
   "outputs": [],
   "source": [
    "even_50.sort(reverse=True)"
   ]
  },
  {
   "cell_type": "code",
   "execution_count": 47,
   "id": "4b861bc2",
   "metadata": {},
   "outputs": [
    {
     "data": {
      "text/plain": [
       "[100,\n",
       " 98,\n",
       " 96,\n",
       " 94,\n",
       " 92,\n",
       " 90,\n",
       " 88,\n",
       " 86,\n",
       " 84,\n",
       " 82,\n",
       " 80,\n",
       " 78,\n",
       " 76,\n",
       " 74,\n",
       " 72,\n",
       " 70,\n",
       " 68,\n",
       " 66,\n",
       " 64,\n",
       " 62,\n",
       " 60,\n",
       " 58,\n",
       " 56,\n",
       " 54,\n",
       " 52,\n",
       " 50,\n",
       " 48,\n",
       " 46,\n",
       " 44,\n",
       " 42,\n",
       " 40,\n",
       " 38,\n",
       " 36,\n",
       " 34,\n",
       " 32,\n",
       " 30,\n",
       " 28,\n",
       " 26,\n",
       " 24,\n",
       " 22,\n",
       " 20,\n",
       " 18,\n",
       " 16,\n",
       " 14,\n",
       " 12,\n",
       " 10,\n",
       " 8,\n",
       " 6,\n",
       " 4,\n",
       " 2]"
      ]
     },
     "execution_count": 47,
     "metadata": {},
     "output_type": "execute_result"
    }
   ],
   "source": [
    "even_50"
   ]
  },
  {
   "cell_type": "code",
   "execution_count": 49,
   "id": "b86e4dac",
   "metadata": {},
   "outputs": [
    {
     "data": {
      "text/plain": [
       "[2,\n",
       " 4,\n",
       " 6,\n",
       " 8,\n",
       " 10,\n",
       " 12,\n",
       " 14,\n",
       " 16,\n",
       " 18,\n",
       " 20,\n",
       " 22,\n",
       " 24,\n",
       " 26,\n",
       " 28,\n",
       " 30,\n",
       " 32,\n",
       " 34,\n",
       " 36,\n",
       " 38,\n",
       " 40,\n",
       " 42,\n",
       " 44,\n",
       " 46,\n",
       " 48,\n",
       " 50,\n",
       " 52,\n",
       " 54,\n",
       " 56,\n",
       " 58,\n",
       " 60,\n",
       " 62,\n",
       " 64,\n",
       " 66,\n",
       " 68,\n",
       " 70,\n",
       " 72,\n",
       " 74,\n",
       " 76,\n",
       " 78,\n",
       " 80,\n",
       " 82,\n",
       " 84,\n",
       " 86,\n",
       " 88,\n",
       " 90,\n",
       " 92,\n",
       " 94,\n",
       " 96,\n",
       " 98,\n",
       " 100]"
      ]
     },
     "execution_count": 49,
     "metadata": {},
     "output_type": "execute_result"
    }
   ],
   "source": [
    "even_50"
   ]
  },
  {
   "cell_type": "code",
   "execution_count": 50,
   "id": "3ed25c0f",
   "metadata": {},
   "outputs": [
    {
     "data": {
      "text/plain": [
       "21"
      ]
     },
     "execution_count": 50,
     "metadata": {},
     "output_type": "execute_result"
    }
   ],
   "source": [
    "even_50.index(44)"
   ]
  },
  {
   "cell_type": "code",
   "execution_count": 51,
   "id": "bd63d29c",
   "metadata": {},
   "outputs": [],
   "source": [
    "even_50[21] = 100"
   ]
  },
  {
   "cell_type": "code",
   "execution_count": 52,
   "id": "def57d58",
   "metadata": {},
   "outputs": [
    {
     "data": {
      "text/plain": [
       "[2,\n",
       " 4,\n",
       " 6,\n",
       " 8,\n",
       " 10,\n",
       " 12,\n",
       " 14,\n",
       " 16,\n",
       " 18,\n",
       " 20,\n",
       " 22,\n",
       " 24,\n",
       " 26,\n",
       " 28,\n",
       " 30,\n",
       " 32,\n",
       " 34,\n",
       " 36,\n",
       " 38,\n",
       " 40,\n",
       " 42,\n",
       " 100,\n",
       " 46,\n",
       " 48,\n",
       " 50,\n",
       " 52,\n",
       " 54,\n",
       " 56,\n",
       " 58,\n",
       " 60,\n",
       " 62,\n",
       " 64,\n",
       " 66,\n",
       " 68,\n",
       " 70,\n",
       " 72,\n",
       " 74,\n",
       " 76,\n",
       " 78,\n",
       " 80,\n",
       " 82,\n",
       " 84,\n",
       " 86,\n",
       " 88,\n",
       " 90,\n",
       " 92,\n",
       " 94,\n",
       " 96,\n",
       " 98,\n",
       " 100]"
      ]
     },
     "execution_count": 52,
     "metadata": {},
     "output_type": "execute_result"
    }
   ],
   "source": [
    "even_50"
   ]
  },
  {
   "cell_type": "code",
   "execution_count": 53,
   "id": "b6005d29",
   "metadata": {},
   "outputs": [
    {
     "name": "stdout",
     "output_type": "stream",
     "text": [
      "[4, 16, 36, 64, 100, 144, 196, 256, 324, 400, 484, 576, 676, 784, 900, 1024, 1156, 1296, 1444, 1600, 1764, 1936, 2116, 2304, 2500, 2704, 2916, 3136, 3364, 3600, 3844, 4096, 4356, 4624, 4900, 5184, 5476, 5776, 6084, 6400, 6724, 7056, 7396, 7744, 8100, 8464, 8836, 9216, 9604]\n"
     ]
    }
   ],
   "source": [
    "c=[]\n",
    "for i in range(1,100):\n",
    "    if i%2==0:\n",
    "        c.append(i*i)\n",
    "print(c)\n"
   ]
  },
  {
   "cell_type": "code",
   "execution_count": 55,
   "id": "cbddf7e5",
   "metadata": {},
   "outputs": [
    {
     "data": {
      "text/plain": [
       "[4,\n",
       " 16,\n",
       " 36,\n",
       " 64,\n",
       " 100,\n",
       " 144,\n",
       " 196,\n",
       " 256,\n",
       " 324,\n",
       " 400,\n",
       " 484,\n",
       " 576,\n",
       " 676,\n",
       " 784,\n",
       " 900,\n",
       " 1024,\n",
       " 1156,\n",
       " 1296,\n",
       " 1444,\n",
       " 1600,\n",
       " 1764,\n",
       " 10000,\n",
       " 2116,\n",
       " 2304,\n",
       " 2500,\n",
       " 2704,\n",
       " 2916,\n",
       " 3136,\n",
       " 3364,\n",
       " 3600,\n",
       " 3844,\n",
       " 4096,\n",
       " 4356,\n",
       " 4624,\n",
       " 4900,\n",
       " 5184,\n",
       " 5476,\n",
       " 5776,\n",
       " 6084,\n",
       " 6400,\n",
       " 6724,\n",
       " 7056,\n",
       " 7396,\n",
       " 7744,\n",
       " 8100,\n",
       " 8464,\n",
       " 8836,\n",
       " 9216,\n",
       " 9604,\n",
       " 10000]"
      ]
     },
     "execution_count": 55,
     "metadata": {},
     "output_type": "execute_result"
    }
   ],
   "source": [
    "c=[]\n",
    "for i in even_50:\n",
    "    c.append(i*i)\n",
    "c"
   ]
  },
  {
   "cell_type": "code",
   "execution_count": null,
   "id": "f60c112b",
   "metadata": {},
   "outputs": [],
   "source": []
  }
 ],
 "metadata": {
  "kernelspec": {
   "display_name": "Python 3 (ipykernel)",
   "language": "python",
   "name": "python3"
  },
  "language_info": {
   "codemirror_mode": {
    "name": "ipython",
    "version": 3
   },
   "file_extension": ".py",
   "mimetype": "text/x-python",
   "name": "python",
   "nbconvert_exporter": "python",
   "pygments_lexer": "ipython3",
   "version": "3.9.7"
  }
 },
 "nbformat": 4,
 "nbformat_minor": 5
}
