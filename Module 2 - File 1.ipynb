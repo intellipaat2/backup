{
 "cells": [
  {
   "cell_type": "code",
   "execution_count": 2,
   "id": "ebbe2254",
   "metadata": {
    "executionInfo": {
     "elapsed": 366,
     "status": "ok",
     "timestamp": 1649513453572,
     "user": {
      "displayName": "Prashant Shaileshkumar Soitawala",
      "userId": "15714232067920075698"
     },
     "user_tz": -330
    },
    "id": "ebbe2254"
   },
   "outputs": [],
   "source": [
    "def factor(num):\n",
    "\n",
    "    factorial = 1\n",
    "\n",
    "# check if the number is negative, positive or zero\n",
    "    if num < 0:\n",
    "        print(\"Sorry, factorial does not exist for negative numbers\")\n",
    "    elif num == 0:\n",
    "        print(\"The factorial of 0 is 1\")\n",
    "    else:\n",
    "        for i in range(1,num + 1):\n",
    "            factorial = factorial*i\n",
    "        print(\"The factorial of\",num,\"is\",factorial)"
   ]
  },
  {
   "cell_type": "code",
   "execution_count": 5,
   "id": "ddad2488",
   "metadata": {
    "colab": {
     "base_uri": "https://localhost:8080/"
    },
    "executionInfo": {
     "elapsed": 6,
     "status": "ok",
     "timestamp": 1649513471482,
     "user": {
      "displayName": "Prashant Shaileshkumar Soitawala",
      "userId": "15714232067920075698"
     },
     "user_tz": -330
    },
    "id": "ddad2488",
    "outputId": "015ad47f-44ba-42aa-c1bf-def1fe237496"
   },
   "outputs": [
    {
     "name": "stdout",
     "output_type": "stream",
     "text": [
      "The factorial of 3 is 6\n"
     ]
    }
   ],
   "source": [
    "factor(3)"
   ]
  },
  {
   "cell_type": "code",
   "execution_count": null,
   "id": "ff372e97",
   "metadata": {
    "id": "ff372e97"
   },
   "outputs": [],
   "source": [
    "def check_string():\n",
    "    s=input('Enter a string: ')\n",
    "    for i in s:\n",
    "        if i=='s':\n",
    "            print('The sting contains s')\n",
    "        else:\n",
    "            print('The sting doesnot contains s')"
   ]
  },
  {
   "cell_type": "code",
   "execution_count": null,
   "id": "c35d743d",
   "metadata": {
    "id": "c35d743d",
    "outputId": "c8952329-e7e3-4c60-d376-286b6f0c094a"
   },
   "outputs": [
    {
     "name": "stdout",
     "output_type": "stream",
     "text": [
      "Enter a string: pythin\n",
      "The sting doesnot contains s\n",
      "The sting doesnot contains s\n",
      "The sting doesnot contains s\n",
      "The sting doesnot contains s\n",
      "The sting doesnot contains s\n",
      "The sting doesnot contains s\n"
     ]
    }
   ],
   "source": [
    "check_string()"
   ]
  },
  {
   "cell_type": "code",
   "execution_count": null,
   "id": "553dc197",
   "metadata": {
    "id": "553dc197"
   },
   "outputs": [],
   "source": [
    "class student:\n",
    "    def fun1(self):\n",
    "        n=int(input('enter a value'))\n",
    "        return n\n",
    "    def message(self):\n",
    "        k=self.fun1()\n",
    "        return k"
   ]
  },
  {
   "cell_type": "code",
   "execution_count": null,
   "id": "959f7c08",
   "metadata": {
    "id": "959f7c08"
   },
   "outputs": [],
   "source": [
    "o=student()"
   ]
  },
  {
   "cell_type": "code",
   "execution_count": null,
   "id": "93087f33",
   "metadata": {
    "id": "93087f33",
    "outputId": "612b46b8-cc29-4098-8b3f-fbbf00481570"
   },
   "outputs": [
    {
     "name": "stdout",
     "output_type": "stream",
     "text": [
      "enter a value9\n"
     ]
    },
    {
     "data": {
      "text/plain": [
       "9"
      ]
     },
     "execution_count": 12,
     "metadata": {},
     "output_type": "execute_result"
    }
   ],
   "source": [
    "o.message()"
   ]
  },
  {
   "cell_type": "code",
   "execution_count": null,
   "id": "7ec2c060",
   "metadata": {
    "id": "7ec2c060"
   },
   "outputs": [],
   "source": [
    "double_num=lambda s:s*2"
   ]
  },
  {
   "cell_type": "code",
   "execution_count": null,
   "id": "bf0e94db",
   "metadata": {
    "id": "bf0e94db",
    "outputId": "59391b8e-a6c4-4a85-a9e4-96d1790144e4"
   },
   "outputs": [
    {
     "data": {
      "text/plain": [
       "6"
      ]
     },
     "execution_count": 15,
     "metadata": {},
     "output_type": "execute_result"
    }
   ],
   "source": [
    "double_num(3)"
   ]
  },
  {
   "cell_type": "code",
   "execution_count": null,
   "id": "75b7a0b6",
   "metadata": {
    "id": "75b7a0b6",
    "outputId": "19b851fd-c558-46e4-b136-e5168ffefcd3"
   },
   "outputs": [
    {
     "name": "stdout",
     "output_type": "stream",
     "text": [
      "enter a stringuidhw\n",
      "string is not palindrome\n"
     ]
    }
   ],
   "source": [
    "    s=input('enter a string')\n",
    "    if s==s[::-1]:\n",
    "        print('Sting is palindrome')\n",
    "    else:\n",
    "        print('string is not palindrome')"
   ]
  },
  {
   "cell_type": "code",
   "execution_count": null,
   "id": "0bc66038",
   "metadata": {
    "id": "0bc66038"
   },
   "outputs": [],
   "source": [
    "class Super:\n",
    "    def fun1(self):\n",
    "        print('This is function1 in the Super class')\n"
   ]
  },
  {
   "cell_type": "code",
   "execution_count": null,
   "id": "3ba38392",
   "metadata": {
    "id": "3ba38392"
   },
   "outputs": [],
   "source": [
    "class Modified_Super(Super):\n",
    "    def fun1(self):\n",
    "        print('This is function1 in the modified super class')\n",
    "    def fun2(self):\n",
    "        print('This is function2 in the modified super class')\n"
   ]
  },
  {
   "cell_type": "code",
   "execution_count": null,
   "id": "f61aef96",
   "metadata": {
    "id": "f61aef96"
   },
   "outputs": [],
   "source": [
    "o=Modified_Super()"
   ]
  },
  {
   "cell_type": "code",
   "execution_count": null,
   "id": "dbc89b1e",
   "metadata": {
    "id": "dbc89b1e",
    "outputId": "6fb856a5-1128-4e41-8e07-212ad915a945"
   },
   "outputs": [
    {
     "name": "stdout",
     "output_type": "stream",
     "text": [
      "This is function1 in the modified super class\n"
     ]
    }
   ],
   "source": [
    "o.fun1()"
   ]
  },
  {
   "cell_type": "code",
   "execution_count": null,
   "id": "6d215f0f",
   "metadata": {
    "id": "6d215f0f"
   },
   "outputs": [],
   "source": [
    "def Hello(h):\n",
    "    print('This function only has 1 argument')\n",
    "def Hello(h1,h2):\n",
    "    print('This function has 2 arguments')"
   ]
  },
  {
   "cell_type": "code",
   "execution_count": null,
   "id": "c3028cd5",
   "metadata": {
    "id": "c3028cd5",
    "outputId": "2bf4defe-ab1b-429a-e51f-d79cef9e4f98"
   },
   "outputs": [
    {
     "ename": "TypeError",
     "evalue": "Hello() missing 1 required positional argument: 'h2'",
     "output_type": "error",
     "traceback": [
      "\u001b[1;31m---------------------------------------------------------------------------\u001b[0m",
      "\u001b[1;31mTypeError\u001b[0m                                 Traceback (most recent call last)",
      "\u001b[1;32m<ipython-input-25-09fb1ee27306>\u001b[0m in \u001b[0;36m<module>\u001b[1;34m\u001b[0m\n\u001b[1;32m----> 1\u001b[1;33m \u001b[0mHello\u001b[0m\u001b[1;33m(\u001b[0m\u001b[1;36m3\u001b[0m\u001b[1;33m)\u001b[0m\u001b[1;33m\u001b[0m\u001b[1;33m\u001b[0m\u001b[0m\n\u001b[0m",
      "\u001b[1;31mTypeError\u001b[0m: Hello() missing 1 required positional argument: 'h2'"
     ]
    }
   ],
   "source": [
    "Hello(3)"
   ]
  },
  {
   "cell_type": "code",
   "execution_count": null,
   "id": "d2f4990a",
   "metadata": {
    "id": "d2f4990a",
    "outputId": "b2b08507-4b41-439f-bc93-3372ed532e14"
   },
   "outputs": [
    {
     "name": "stdout",
     "output_type": "stream",
     "text": [
      "This function has 2 arguments\n"
     ]
    }
   ],
   "source": [
    "Hello(3,4)"
   ]
  },
  {
   "cell_type": "code",
   "execution_count": null,
   "id": "e667a217",
   "metadata": {
    "id": "e667a217"
   },
   "outputs": [],
   "source": [
    "def sum(*args):\n",
    "    total=0\n",
    "    for ele in range(0, len(args)):\n",
    "        total = total + args[ele]\n",
    "    return total"
   ]
  },
  {
   "cell_type": "code",
   "execution_count": null,
   "id": "a91ec324",
   "metadata": {
    "id": "a91ec324",
    "outputId": "dd529ebc-f58c-45fc-e827-4ae5653a59eb"
   },
   "outputs": [
    {
     "data": {
      "text/plain": [
       "19"
      ]
     },
     "execution_count": 32,
     "metadata": {},
     "output_type": "execute_result"
    }
   ],
   "source": [
    "sum(4,5,3,4,3)"
   ]
  },
  {
   "cell_type": "code",
   "execution_count": null,
   "id": "309bd52f",
   "metadata": {
    "id": "309bd52f"
   },
   "outputs": [],
   "source": [
    "class Encapsulation:\n",
    "    def __init__(self):\n",
    "        originalValue=10\n",
    "    def Value(self):\n",
    "        return self.originalValue\n",
    "    def setValue(self,newValue):\n",
    "        self.originalValue=newValue\n",
    "        "
   ]
  },
  {
   "cell_type": "code",
   "execution_count": null,
   "id": "6fdad60e",
   "metadata": {},
   "outputs": [],
   "source": []
  }
 ],
 "metadata": {
  "colab": {
   "name": "Module 2 - File 1.ipynb",
   "provenance": []
  },
  "kernelspec": {
   "display_name": "Python 3 (ipykernel)",
   "language": "python",
   "name": "python3"
  },
  "language_info": {
   "codemirror_mode": {
    "name": "ipython",
    "version": 3
   },
   "file_extension": ".py",
   "mimetype": "text/x-python",
   "name": "python",
   "nbconvert_exporter": "python",
   "pygments_lexer": "ipython3",
   "version": "3.9.7"
  }
 },
 "nbformat": 4,
 "nbformat_minor": 5
}
