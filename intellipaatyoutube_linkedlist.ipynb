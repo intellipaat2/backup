{
 "cells": [
  {
   "cell_type": "code",
   "execution_count": 1,
   "id": "34bcb9a3",
   "metadata": {},
   "outputs": [
    {
     "name": "stdout",
     "output_type": "stream",
     "text": [
      "100\n",
      "20\n",
      "130\n",
      "40\n",
      "120\n",
      "60\n",
      "70\n",
      "80\n",
      "\n",
      "20\n",
      "40\n",
      "60\n",
      "70\n",
      "80\n",
      "100\n",
      "120\n",
      "130\n"
     ]
    }
   ],
   "source": [
    "class Node:\n",
    "    def __init__(self,data,next=None):\n",
    "        self.data=data\n",
    "        self.next=next\n",
    "class LinkedList:\n",
    "    def __init__(self,head=None):\n",
    "        self.head=head\n",
    "    def add(self,data):\n",
    "        new=Node(data)\n",
    "        if (self.head):\n",
    "            temp=self.head\n",
    "            while(temp.next !=None):\n",
    "                temp=temp.next\n",
    "            temp.next=new\n",
    "        else:\n",
    "            self.head=new \n",
    "    def List(self,first=None):\n",
    "        self.first=first\n",
    "        first=self.head\n",
    "        while(first):\n",
    "            print(first.data)\n",
    "            first=first.next\n",
    "    def sort(self):\n",
    "        print()\n",
    "        temp=self.head\n",
    "        a=[]\n",
    "        while(temp):\n",
    "            a.append(temp.data)\n",
    "            temp=temp.next\n",
    "        a.sort()\n",
    "        new=LinkedList()\n",
    "        for i in a:\n",
    "            new.add(i)\n",
    "        new.List()\n",
    "obj=LinkedList()\n",
    "obj.add(100)\n",
    "obj.add(20)\n",
    "obj.add(130)\n",
    "obj.add(40)\n",
    "obj.add(120)\n",
    "obj.add(60)\n",
    "obj.add(70)\n",
    "obj.add(80)\n",
    "obj.List()\n",
    "obj.sort()"
   ]
  },
  {
   "cell_type": "code",
   "execution_count": 2,
   "id": "3253638c",
   "metadata": {},
   "outputs": [
    {
     "name": "stdout",
     "output_type": "stream",
     "text": [
      "100 20 50 40 30 5 60 80 "
     ]
    }
   ],
   "source": [
    "class Node:\n",
    "    def __init__(self, data):\n",
    "        self.data = data  # Assign data\n",
    "        self.next = None  # Initialize next as null\n",
    "class Sll:  #LinkedList class\n",
    "    def __init__(self):\n",
    "        self.head = None\n",
    "    def traversal(self):\n",
    "        if self.head is None:\n",
    "            print(\"singly linked list is empty\")\n",
    "        else:\n",
    "            a=self.head\n",
    "            while a is not None:\n",
    "                print(a.data,end=\" \")\n",
    "                a=a.next\n",
    "    \n",
    "    \n",
    "sll=Sll()\n",
    "n1=Node(100)\n",
    "sll=Sll()\n",
    "sll.head=n1\n",
    "n2=Node(20)\n",
    "n1.next=n2\n",
    "n3=Node(50)\n",
    "n2.next=n3\n",
    "n4=Node(40)\n",
    "n3.next=n4\n",
    "n5=Node(30)\n",
    "n4.next=n5\n",
    "n6=Node(5)\n",
    "n5.next=n6\n",
    "n7=Node(60)\n",
    "n6.next=n7\n",
    "n8=Node(80)\n",
    "n7.next=n8\n",
    "sll.traversal()\n"
   ]
  },
  {
   "cell_type": "code",
   "execution_count": 5,
   "id": "c1eae1ac",
   "metadata": {},
   "outputs": [
    {
     "ename": "AttributeError",
     "evalue": "'Sll' object has no attribute 'sort'",
     "output_type": "error",
     "traceback": [
      "\u001b[1;31m---------------------------------------------------------------------------\u001b[0m",
      "\u001b[1;31mAttributeError\u001b[0m                            Traceback (most recent call last)",
      "\u001b[1;32m~\\AppData\\Local\\Temp/ipykernel_6504/925078009.py\u001b[0m in \u001b[0;36m<module>\u001b[1;34m\u001b[0m\n\u001b[0;32m     11\u001b[0m     \u001b[0mnew\u001b[0m\u001b[1;33m.\u001b[0m\u001b[0mtraversal\u001b[0m\u001b[1;33m(\u001b[0m\u001b[1;33m)\u001b[0m\u001b[1;33m\u001b[0m\u001b[1;33m\u001b[0m\u001b[0m\n\u001b[0;32m     12\u001b[0m \u001b[1;33m\u001b[0m\u001b[0m\n\u001b[1;32m---> 13\u001b[1;33m \u001b[0msll\u001b[0m\u001b[1;33m.\u001b[0m\u001b[0msort\u001b[0m\u001b[1;33m(\u001b[0m\u001b[1;33m)\u001b[0m\u001b[1;33m\u001b[0m\u001b[1;33m\u001b[0m\u001b[0m\n\u001b[0m\u001b[0;32m     14\u001b[0m \u001b[0msll\u001b[0m\u001b[1;33m.\u001b[0m\u001b[0mtraversal\u001b[0m\u001b[1;33m(\u001b[0m\u001b[1;33m)\u001b[0m\u001b[1;33m\u001b[0m\u001b[1;33m\u001b[0m\u001b[0m\n",
      "\u001b[1;31mAttributeError\u001b[0m: 'Sll' object has no attribute 'sort'"
     ]
    }
   ],
   "source": [
    "def sort(self):\n",
    "    a=a.head\n",
    "    p=[]\n",
    "    while(a):\n",
    "        p.append(a.data)\n",
    "        a=a.next\n",
    "    p.sort()\n",
    "    new=Sll()\n",
    "    for i in p:\n",
    "        new.traversal(i)\n",
    "    new.traversal()\n",
    "    \n",
    "sll.sort()\n",
    "sll.traversal()"
   ]
  },
  {
   "cell_type": "code",
   "execution_count": null,
   "id": "1181c818",
   "metadata": {},
   "outputs": [],
   "source": []
  }
 ],
 "metadata": {
  "kernelspec": {
   "display_name": "Python 3 (ipykernel)",
   "language": "python",
   "name": "python3"
  },
  "language_info": {
   "codemirror_mode": {
    "name": "ipython",
    "version": 3
   },
   "file_extension": ".py",
   "mimetype": "text/x-python",
   "name": "python",
   "nbconvert_exporter": "python",
   "pygments_lexer": "ipython3",
   "version": "3.9.7"
  }
 },
 "nbformat": 4,
 "nbformat_minor": 5
}
