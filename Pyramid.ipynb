{
 "cells": [
  {
   "cell_type": "code",
   "execution_count": 6,
   "id": "2d427987",
   "metadata": {},
   "outputs": [
    {
     "name": "stdout",
     "output_type": "stream",
     "text": [
      "Enter number of rows: 20\n",
      "                                       * \n",
      "                                     * * * \n",
      "                                   * * * * * \n",
      "                                 * * * * * * * \n",
      "                               * * * * * * * * * \n",
      "                             * * * * * * * * * * * \n",
      "                           * * * * * * * * * * * * * \n",
      "                         * * * * * * * * * * * * * * * \n",
      "                       * * * * * * * * * * * * * * * * * \n",
      "                     * * * * * * * * * * * * * * * * * * * \n",
      "                   * * * * * * * * * * * * * * * * * * * * * \n",
      "                 * * * * * * * * * * * * * * * * * * * * * * * \n",
      "               * * * * * * * * * * * * * * * * * * * * * * * * * \n",
      "             * * * * * * * * * * * * * * * * * * * * * * * * * * * \n",
      "           * * * * * * * * * * * * * * * * * * * * * * * * * * * * * \n",
      "         * * * * * * * * * * * * * * * * * * * * * * * * * * * * * * * \n",
      "       * * * * * * * * * * * * * * * * * * * * * * * * * * * * * * * * * \n",
      "     * * * * * * * * * * * * * * * * * * * * * * * * * * * * * * * * * * * \n",
      "   * * * * * * * * * * * * * * * * * * * * * * * * * * * * * * * * * * * * * \n",
      " * * * * * * * * * * * * * * * * * * * * * * * * * * * * * * * * * * * * * * * \n"
     ]
    }
   ],
   "source": [
    "n = int(input(\"Enter number of rows: \"))\n",
    "for i in range(1,n+1):\n",
    "    j = (n-i)*2\n",
    "    print(j * \" \", (2*i-1) *  \"* \")"
   ]
  },
  {
   "cell_type": "code",
   "execution_count": null,
   "id": "d61c2301",
   "metadata": {},
   "outputs": [],
   "source": []
  }
 ],
 "metadata": {
  "kernelspec": {
   "display_name": "Python 3 (ipykernel)",
   "language": "python",
   "name": "python3"
  },
  "language_info": {
   "codemirror_mode": {
    "name": "ipython",
    "version": 3
   },
   "file_extension": ".py",
   "mimetype": "text/x-python",
   "name": "python",
   "nbconvert_exporter": "python",
   "pygments_lexer": "ipython3",
   "version": "3.9.7"
  }
 },
 "nbformat": 4,
 "nbformat_minor": 5
}
