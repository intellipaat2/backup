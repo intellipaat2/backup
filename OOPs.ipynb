{
 "cells": [
  {
   "cell_type": "code",
   "execution_count": 15,
   "id": "00903724",
   "metadata": {},
   "outputs": [],
   "source": [
    "class Dog:\n",
    "    def __init__(elf, name):\n",
    "        elf.name = name\n",
    "        \n",
    "        \n",
    "    def printname(elf):\n",
    "        print(elf.name)"
   ]
  },
  {
   "cell_type": "code",
   "execution_count": 16,
   "id": "83a6c247",
   "metadata": {},
   "outputs": [
    {
     "name": "stdout",
     "output_type": "stream",
     "text": [
      "Tommy\n"
     ]
    }
   ],
   "source": [
    "dog1 = Dog('Tommy')\n",
    "dog1.printname()"
   ]
  },
  {
   "cell_type": "code",
   "execution_count": null,
   "id": "b1f0d5ec",
   "metadata": {},
   "outputs": [],
   "source": []
  }
 ],
 "metadata": {
  "kernelspec": {
   "display_name": "Python 3 (ipykernel)",
   "language": "python",
   "name": "python3"
  },
  "language_info": {
   "codemirror_mode": {
    "name": "ipython",
    "version": 3
   },
   "file_extension": ".py",
   "mimetype": "text/x-python",
   "name": "python",
   "nbconvert_exporter": "python",
   "pygments_lexer": "ipython3",
   "version": "3.9.7"
  }
 },
 "nbformat": 4,
 "nbformat_minor": 5
}
