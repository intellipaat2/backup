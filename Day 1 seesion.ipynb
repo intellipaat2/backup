{
 "cells": [
  {
   "cell_type": "code",
   "execution_count": 9,
   "id": "8f5b5fb9",
   "metadata": {},
   "outputs": [
    {
     "ename": "NameError",
     "evalue": "name 'X' is not defined",
     "output_type": "error",
     "traceback": [
      "\u001b[1;31m---------------------------------------------------------------------------\u001b[0m",
      "\u001b[1;31mNameError\u001b[0m                                 Traceback (most recent call last)",
      "\u001b[1;32m~\\AppData\\Local\\Temp/ipykernel_9796/2195124231.py\u001b[0m in \u001b[0;36m<module>\u001b[1;34m\u001b[0m\n\u001b[0;32m      1\u001b[0m \u001b[0mx\u001b[0m \u001b[1;33m=\u001b[0m \u001b[1;36m10\u001b[0m\u001b[1;33m\u001b[0m\u001b[1;33m\u001b[0m\u001b[0m\n\u001b[1;32m----> 2\u001b[1;33m \u001b[0mprint\u001b[0m\u001b[1;33m(\u001b[0m\u001b[0mX\u001b[0m\u001b[1;33m)\u001b[0m\u001b[1;33m\u001b[0m\u001b[1;33m\u001b[0m\u001b[0m\n\u001b[0m",
      "\u001b[1;31mNameError\u001b[0m: name 'X' is not defined"
     ]
    }
   ],
   "source": [
    "x = 10\n",
    "print(X)"
   ]
  },
  {
   "cell_type": "code",
   "execution_count": 10,
   "id": "d1c506cb",
   "metadata": {},
   "outputs": [
    {
     "name": "stdout",
     "output_type": "stream",
     "text": [
      "10\n"
     ]
    }
   ],
   "source": [
    "print(x)"
   ]
  },
  {
   "cell_type": "code",
   "execution_count": 3,
   "id": "a2139024",
   "metadata": {},
   "outputs": [
    {
     "data": {
      "text/plain": [
       "12"
      ]
     },
     "execution_count": 3,
     "metadata": {},
     "output_type": "execute_result"
    }
   ],
   "source": [
    "a6 =  12\n",
    "a6"
   ]
  },
  {
   "cell_type": "code",
   "execution_count": 4,
   "id": "93f38ffa",
   "metadata": {},
   "outputs": [
    {
     "ename": "SyntaxError",
     "evalue": "invalid syntax (Temp/ipykernel_9796/2454634540.py, line 1)",
     "output_type": "error",
     "traceback": [
      "\u001b[1;36m  File \u001b[1;32m\"C:\\Users\\Admin\\AppData\\Local\\Temp/ipykernel_9796/2454634540.py\"\u001b[1;36m, line \u001b[1;32m1\u001b[0m\n\u001b[1;33m    6a = 12\u001b[0m\n\u001b[1;37m     ^\u001b[0m\n\u001b[1;31mSyntaxError\u001b[0m\u001b[1;31m:\u001b[0m invalid syntax\n"
     ]
    }
   ],
   "source": [
    "6a = 12\n",
    "6a"
   ]
  },
  {
   "cell_type": "code",
   "execution_count": 5,
   "id": "c4dbf104",
   "metadata": {},
   "outputs": [
    {
     "data": {
      "text/plain": [
       "100"
      ]
     },
     "execution_count": 5,
     "metadata": {},
     "output_type": "execute_result"
    }
   ],
   "source": [
    "a = b = c = 100\n",
    "b"
   ]
  },
  {
   "cell_type": "code",
   "execution_count": 6,
   "id": "2a30cf72",
   "metadata": {},
   "outputs": [
    {
     "data": {
      "text/plain": [
       "100"
      ]
     },
     "execution_count": 6,
     "metadata": {},
     "output_type": "execute_result"
    }
   ],
   "source": [
    "a"
   ]
  },
  {
   "cell_type": "code",
   "execution_count": 7,
   "id": "1757ff69",
   "metadata": {},
   "outputs": [
    {
     "data": {
      "text/plain": [
       "100"
      ]
     },
     "execution_count": 7,
     "metadata": {},
     "output_type": "execute_result"
    }
   ],
   "source": [
    "c"
   ]
  },
  {
   "cell_type": "code",
   "execution_count": 11,
   "id": "8b909ca9",
   "metadata": {},
   "outputs": [
    {
     "data": {
      "text/plain": [
       "2676758899280"
      ]
     },
     "execution_count": 11,
     "metadata": {},
     "output_type": "execute_result"
    }
   ],
   "source": [
    "id(x)"
   ]
  },
  {
   "cell_type": "code",
   "execution_count": 12,
   "id": "6c92a40f",
   "metadata": {},
   "outputs": [
    {
     "data": {
      "text/plain": [
       "2676759090640"
      ]
     },
     "execution_count": 12,
     "metadata": {},
     "output_type": "execute_result"
    }
   ],
   "source": [
    "id(a)"
   ]
  },
  {
   "cell_type": "code",
   "execution_count": 13,
   "id": "9ee82207",
   "metadata": {},
   "outputs": [
    {
     "data": {
      "text/plain": [
       "2676759090640"
      ]
     },
     "execution_count": 13,
     "metadata": {},
     "output_type": "execute_result"
    }
   ],
   "source": [
    "id(b)"
   ]
  },
  {
   "cell_type": "code",
   "execution_count": 14,
   "id": "d704097c",
   "metadata": {},
   "outputs": [
    {
     "data": {
      "text/plain": [
       "2676759090640"
      ]
     },
     "execution_count": 14,
     "metadata": {},
     "output_type": "execute_result"
    }
   ],
   "source": [
    "id(c)"
   ]
  },
  {
   "cell_type": "code",
   "execution_count": 15,
   "id": "4328f194",
   "metadata": {},
   "outputs": [],
   "source": [
    "b = 200"
   ]
  },
  {
   "cell_type": "code",
   "execution_count": 22,
   "id": "f0be3385",
   "metadata": {},
   "outputs": [
    {
     "name": "stdout",
     "output_type": "stream",
     "text": [
      "2676759093904\n"
     ]
    }
   ],
   "source": [
    "print(id(b))"
   ]
  },
  {
   "cell_type": "code",
   "execution_count": 17,
   "id": "5c60b884",
   "metadata": {},
   "outputs": [],
   "source": [
    "j,k,l = 10,20,30"
   ]
  },
  {
   "cell_type": "code",
   "execution_count": 18,
   "id": "e02df026",
   "metadata": {},
   "outputs": [
    {
     "data": {
      "text/plain": [
       "10"
      ]
     },
     "execution_count": 18,
     "metadata": {},
     "output_type": "execute_result"
    }
   ],
   "source": [
    "j"
   ]
  },
  {
   "cell_type": "code",
   "execution_count": 19,
   "id": "3d4d06fd",
   "metadata": {},
   "outputs": [
    {
     "data": {
      "text/plain": [
       "20"
      ]
     },
     "execution_count": 19,
     "metadata": {},
     "output_type": "execute_result"
    }
   ],
   "source": [
    "k"
   ]
  },
  {
   "cell_type": "code",
   "execution_count": 20,
   "id": "c0c7eac7",
   "metadata": {},
   "outputs": [
    {
     "data": {
      "text/plain": [
       "30"
      ]
     },
     "execution_count": 20,
     "metadata": {},
     "output_type": "execute_result"
    }
   ],
   "source": [
    "l"
   ]
  },
  {
   "cell_type": "code",
   "execution_count": 21,
   "id": "0f4854ac",
   "metadata": {},
   "outputs": [
    {
     "name": "stdout",
     "output_type": "stream",
     "text": [
      "10 20 30\n"
     ]
    }
   ],
   "source": [
    "print(j,k,l)"
   ]
  },
  {
   "cell_type": "markdown",
   "id": "8d2f6723",
   "metadata": {},
   "source": [
    "#pascal case\n",
    "CalculateSum"
   ]
  },
  {
   "cell_type": "code",
   "execution_count": null,
   "id": "e5a551e8",
   "metadata": {},
   "outputs": [],
   "source": [
    "#camel case\n",
    "calculateSumOfArray "
   ]
  },
  {
   "cell_type": "code",
   "execution_count": null,
   "id": "ec7de7a2",
   "metadata": {},
   "outputs": [],
   "source": [
    "#snake case\n",
    "calculate_Sum_Of_Array "
   ]
  },
  {
   "cell_type": "code",
   "execution_count": 23,
   "id": "59d5ae64",
   "metadata": {},
   "outputs": [
    {
     "ename": "SyntaxError",
     "evalue": "cannot assign to operator (Temp/ipykernel_9796/3324140087.py, line 1)",
     "output_type": "error",
     "traceback": [
      "\u001b[1;36m  File \u001b[1;32m\"C:\\Users\\Admin\\AppData\\Local\\Temp/ipykernel_9796/3324140087.py\"\u001b[1;36m, line \u001b[1;32m1\u001b[0m\n\u001b[1;33m    sum-array = 10\u001b[0m\n\u001b[1;37m    ^\u001b[0m\n\u001b[1;31mSyntaxError\u001b[0m\u001b[1;31m:\u001b[0m cannot assign to operator\n"
     ]
    }
   ],
   "source": [
    "sum-array = 10"
   ]
  },
  {
   "cell_type": "code",
   "execution_count": 24,
   "id": "60491cd6",
   "metadata": {},
   "outputs": [
    {
     "data": {
      "text/plain": [
       "[2, 3, 4]"
      ]
     },
     "execution_count": 24,
     "metadata": {},
     "output_type": "execute_result"
    }
   ],
   "source": [
    "calculateSumOfArray = [2,3,4]\n",
    "calculateSumOfArray"
   ]
  },
  {
   "cell_type": "code",
   "execution_count": 27,
   "id": "fbd2b0fe",
   "metadata": {},
   "outputs": [
    {
     "ename": "SyntaxError",
     "evalue": "invalid syntax (Temp/ipykernel_9796/191355952.py, line 1)",
     "output_type": "error",
     "traceback": [
      "\u001b[1;36m  File \u001b[1;32m\"C:\\Users\\Admin\\AppData\\Local\\Temp/ipykernel_9796/191355952.py\"\u001b[1;36m, line \u001b[1;32m1\u001b[0m\n\u001b[1;33m    for = 3\u001b[0m\n\u001b[1;37m        ^\u001b[0m\n\u001b[1;31mSyntaxError\u001b[0m\u001b[1;31m:\u001b[0m invalid syntax\n"
     ]
    }
   ],
   "source": [
    "for = 3"
   ]
  },
  {
   "cell_type": "code",
   "execution_count": 28,
   "id": "7b878992",
   "metadata": {},
   "outputs": [],
   "source": [
    "a = 10"
   ]
  },
  {
   "cell_type": "code",
   "execution_count": 29,
   "id": "513e5e85",
   "metadata": {},
   "outputs": [
    {
     "data": {
      "text/plain": [
       "10"
      ]
     },
     "execution_count": 29,
     "metadata": {},
     "output_type": "execute_result"
    }
   ],
   "source": [
    "a"
   ]
  },
  {
   "cell_type": "code",
   "execution_count": 30,
   "id": "e7296547",
   "metadata": {},
   "outputs": [
    {
     "data": {
      "text/plain": [
       "10"
      ]
     },
     "execution_count": 30,
     "metadata": {},
     "output_type": "execute_result"
    }
   ],
   "source": [
    "a = x\n",
    "x"
   ]
  },
  {
   "cell_type": "markdown",
   "id": "1071b197",
   "metadata": {},
   "source": [
    "# =======================Operators======================="
   ]
  },
  {
   "cell_type": "code",
   "execution_count": null,
   "id": "4c652ec4",
   "metadata": {},
   "outputs": [],
   "source": [
    "Arithmetic operators\n",
    "Assignment operators\n",
    "Comparison operators\n",
    "Logical operators\n",
    "Identity operators\n",
    "Membership operators\n",
    "Bitwise operators"
   ]
  },
  {
   "cell_type": "code",
   "execution_count": null,
   "id": "6809b5e8",
   "metadata": {},
   "outputs": [],
   "source": [
    "+ - * ? % ** //"
   ]
  },
  {
   "cell_type": "code",
   "execution_count": 31,
   "id": "d9673e7e",
   "metadata": {},
   "outputs": [
    {
     "data": {
      "text/plain": [
       "210"
      ]
     },
     "execution_count": 31,
     "metadata": {},
     "output_type": "execute_result"
    }
   ],
   "source": [
    "a + b"
   ]
  },
  {
   "cell_type": "code",
   "execution_count": 32,
   "id": "8b9346ce",
   "metadata": {},
   "outputs": [
    {
     "data": {
      "text/plain": [
       "210"
      ]
     },
     "execution_count": 32,
     "metadata": {},
     "output_type": "execute_result"
    }
   ],
   "source": [
    "sum = a + b\n",
    "sum"
   ]
  },
  {
   "cell_type": "code",
   "execution_count": 33,
   "id": "f7269bed",
   "metadata": {},
   "outputs": [
    {
     "data": {
      "text/plain": [
       "190"
      ]
     },
     "execution_count": 33,
     "metadata": {},
     "output_type": "execute_result"
    }
   ],
   "source": [
    "diff = b - a\n",
    "diff"
   ]
  },
  {
   "cell_type": "code",
   "execution_count": 34,
   "id": "5629fd8d",
   "metadata": {},
   "outputs": [
    {
     "data": {
      "text/plain": [
       "19.2"
      ]
     },
     "execution_count": 34,
     "metadata": {},
     "output_type": "execute_result"
    }
   ],
   "source": [
    "192/10"
   ]
  },
  {
   "cell_type": "code",
   "execution_count": 35,
   "id": "fcde1100",
   "metadata": {},
   "outputs": [
    {
     "data": {
      "text/plain": [
       "19"
      ]
     },
     "execution_count": 35,
     "metadata": {},
     "output_type": "execute_result"
    }
   ],
   "source": [
    "192//10   #floor divison gives quotient"
   ]
  },
  {
   "cell_type": "code",
   "execution_count": 36,
   "id": "ee910782",
   "metadata": {},
   "outputs": [
    {
     "data": {
      "text/plain": [
       "2"
      ]
     },
     "execution_count": 36,
     "metadata": {},
     "output_type": "execute_result"
    }
   ],
   "source": [
    "192%10    #modlous operator gives remainder"
   ]
  },
  {
   "cell_type": "code",
   "execution_count": 38,
   "id": "d534f7a4",
   "metadata": {},
   "outputs": [
    {
     "data": {
      "text/plain": [
       "8"
      ]
     },
     "execution_count": 38,
     "metadata": {},
     "output_type": "execute_result"
    }
   ],
   "source": [
    "2**3      #2 raise to power 3"
   ]
  },
  {
   "cell_type": "code",
   "execution_count": 43,
   "id": "dcc62441",
   "metadata": {},
   "outputs": [],
   "source": [
    "g = 3"
   ]
  },
  {
   "cell_type": "code",
   "execution_count": 41,
   "id": "7be27755",
   "metadata": {},
   "outputs": [],
   "source": [
    "a = 10"
   ]
  },
  {
   "cell_type": "code",
   "execution_count": 44,
   "id": "4fb4d4b8",
   "metadata": {},
   "outputs": [
    {
     "data": {
      "text/plain": [
       "1000"
      ]
     },
     "execution_count": 44,
     "metadata": {},
     "output_type": "execute_result"
    }
   ],
   "source": [
    "a**g"
   ]
  },
  {
   "cell_type": "code",
   "execution_count": 45,
   "id": "6b9622a9",
   "metadata": {},
   "outputs": [
    {
     "data": {
      "text/plain": [
       "1000"
      ]
     },
     "execution_count": 45,
     "metadata": {},
     "output_type": "execute_result"
    }
   ],
   "source": [
    "10*10*10"
   ]
  },
  {
   "cell_type": "code",
   "execution_count": 46,
   "id": "2e20b2e4",
   "metadata": {},
   "outputs": [],
   "source": [
    "# Assignment operators"
   ]
  },
  {
   "cell_type": "code",
   "execution_count": 47,
   "id": "dbc12bb7",
   "metadata": {},
   "outputs": [],
   "source": [
    "a = 10"
   ]
  },
  {
   "cell_type": "code",
   "execution_count": 48,
   "id": "d7e61922",
   "metadata": {},
   "outputs": [
    {
     "data": {
      "text/plain": [
       "20"
      ]
     },
     "execution_count": 48,
     "metadata": {},
     "output_type": "execute_result"
    }
   ],
   "source": [
    "a = a + 10\n",
    "a"
   ]
  },
  {
   "cell_type": "code",
   "execution_count": 49,
   "id": "2462affe",
   "metadata": {},
   "outputs": [
    {
     "data": {
      "text/plain": [
       "30"
      ]
     },
     "execution_count": 49,
     "metadata": {},
     "output_type": "execute_result"
    }
   ],
   "source": [
    "a += 10    # is equal to a = a + 10\n",
    "a"
   ]
  },
  {
   "cell_type": "code",
   "execution_count": 50,
   "id": "80dd4084",
   "metadata": {},
   "outputs": [],
   "source": [
    "a -= 10"
   ]
  },
  {
   "cell_type": "code",
   "execution_count": 51,
   "id": "e47fc9fd",
   "metadata": {},
   "outputs": [
    {
     "data": {
      "text/plain": [
       "20"
      ]
     },
     "execution_count": 51,
     "metadata": {},
     "output_type": "execute_result"
    }
   ],
   "source": [
    "a"
   ]
  },
  {
   "cell_type": "code",
   "execution_count": 52,
   "id": "a5a29ced",
   "metadata": {},
   "outputs": [
    {
     "data": {
      "text/plain": [
       "200"
      ]
     },
     "execution_count": 52,
     "metadata": {},
     "output_type": "execute_result"
    }
   ],
   "source": [
    "a *= 10  # is equal to a = a * 10\n",
    "a"
   ]
  },
  {
   "cell_type": "code",
   "execution_count": 53,
   "id": "85370920",
   "metadata": {},
   "outputs": [],
   "source": [
    "# comparision operators"
   ]
  },
  {
   "cell_type": "code",
   "execution_count": 55,
   "id": "328b5b8e",
   "metadata": {},
   "outputs": [
    {
     "data": {
      "text/plain": [
       "True"
      ]
     },
     "execution_count": 55,
     "metadata": {},
     "output_type": "execute_result"
    }
   ],
   "source": [
    "#equal to\n",
    "10 == 10"
   ]
  },
  {
   "cell_type": "code",
   "execution_count": 56,
   "id": "7891a830",
   "metadata": {},
   "outputs": [],
   "source": [
    "a = b = 20"
   ]
  },
  {
   "cell_type": "code",
   "execution_count": 57,
   "id": "e2cf7c7d",
   "metadata": {},
   "outputs": [
    {
     "data": {
      "text/plain": [
       "True"
      ]
     },
     "execution_count": 57,
     "metadata": {},
     "output_type": "execute_result"
    }
   ],
   "source": [
    "a == b"
   ]
  },
  {
   "cell_type": "code",
   "execution_count": 58,
   "id": "a065a489",
   "metadata": {},
   "outputs": [
    {
     "data": {
      "text/plain": [
       "False"
      ]
     },
     "execution_count": 58,
     "metadata": {},
     "output_type": "execute_result"
    }
   ],
   "source": [
    "#equal to  !=\n",
    "a != b"
   ]
  },
  {
   "cell_type": "code",
   "execution_count": 60,
   "id": "0a8afbf9",
   "metadata": {},
   "outputs": [
    {
     "data": {
      "text/plain": [
       "True"
      ]
     },
     "execution_count": 60,
     "metadata": {},
     "output_type": "execute_result"
    }
   ],
   "source": [
    "j = 'Python'\n",
    "k = 'Python'\n",
    "j == k"
   ]
  },
  {
   "cell_type": "code",
   "execution_count": 61,
   "id": "eb214710",
   "metadata": {},
   "outputs": [
    {
     "data": {
      "text/plain": [
       "False"
      ]
     },
     "execution_count": 61,
     "metadata": {},
     "output_type": "execute_result"
    }
   ],
   "source": [
    "j != k"
   ]
  },
  {
   "cell_type": "code",
   "execution_count": 62,
   "id": "70367aad",
   "metadata": {},
   "outputs": [
    {
     "data": {
      "text/plain": [
       "True"
      ]
     },
     "execution_count": 62,
     "metadata": {},
     "output_type": "execute_result"
    }
   ],
   "source": [
    "#greater than  >\n",
    "10 > 6"
   ]
  },
  {
   "cell_type": "code",
   "execution_count": 63,
   "id": "c2c87f49",
   "metadata": {},
   "outputs": [
    {
     "data": {
      "text/plain": [
       "False"
      ]
     },
     "execution_count": 63,
     "metadata": {},
     "output_type": "execute_result"
    }
   ],
   "source": [
    "10 > 66"
   ]
  },
  {
   "cell_type": "code",
   "execution_count": 65,
   "id": "f2d7f1b8",
   "metadata": {},
   "outputs": [
    {
     "data": {
      "text/plain": [
       "False"
      ]
     },
     "execution_count": 65,
     "metadata": {},
     "output_type": "execute_result"
    }
   ],
   "source": [
    "10 >= 11"
   ]
  },
  {
   "cell_type": "code",
   "execution_count": 66,
   "id": "45f44b80",
   "metadata": {},
   "outputs": [
    {
     "data": {
      "text/plain": [
       "True"
      ]
     },
     "execution_count": 66,
     "metadata": {},
     "output_type": "execute_result"
    }
   ],
   "source": [
    "10 >= 10"
   ]
  },
  {
   "cell_type": "code",
   "execution_count": 67,
   "id": "33706920",
   "metadata": {},
   "outputs": [
    {
     "data": {
      "text/plain": [
       "True"
      ]
     },
     "execution_count": 67,
     "metadata": {},
     "output_type": "execute_result"
    }
   ],
   "source": [
    "10 <= 10"
   ]
  },
  {
   "cell_type": "code",
   "execution_count": 68,
   "id": "6f5d0570",
   "metadata": {},
   "outputs": [
    {
     "data": {
      "text/plain": [
       "True"
      ]
     },
     "execution_count": 68,
     "metadata": {},
     "output_type": "execute_result"
    }
   ],
   "source": [
    "9 <= 10"
   ]
  },
  {
   "cell_type": "code",
   "execution_count": 69,
   "id": "4dd8a395",
   "metadata": {},
   "outputs": [],
   "source": [
    "# logiacl operators"
   ]
  },
  {
   "cell_type": "code",
   "execution_count": 82,
   "id": "aaa0e20e",
   "metadata": {},
   "outputs": [],
   "source": [
    "a = 10\n",
    "v = None"
   ]
  },
  {
   "cell_type": "code",
   "execution_count": 84,
   "id": "e386c1de",
   "metadata": {},
   "outputs": [
    {
     "name": "stdout",
     "output_type": "stream",
     "text": [
      "no\n"
     ]
    }
   ],
   "source": [
    "if a and v:\n",
    "    print('yes')\n",
    "else:\n",
    "    print('no')"
   ]
  },
  {
   "cell_type": "code",
   "execution_count": 75,
   "id": "fc184317",
   "metadata": {},
   "outputs": [
    {
     "data": {
      "text/plain": [
       "True"
      ]
     },
     "execution_count": 75,
     "metadata": {},
     "output_type": "execute_result"
    }
   ],
   "source": [
    "True and True"
   ]
  },
  {
   "cell_type": "code",
   "execution_count": 76,
   "id": "7ab063ee",
   "metadata": {},
   "outputs": [
    {
     "data": {
      "text/plain": [
       "False"
      ]
     },
     "execution_count": 76,
     "metadata": {},
     "output_type": "execute_result"
    }
   ],
   "source": [
    "True and False"
   ]
  },
  {
   "cell_type": "code",
   "execution_count": 77,
   "id": "cc22d270",
   "metadata": {},
   "outputs": [
    {
     "data": {
      "text/plain": [
       "0"
      ]
     },
     "execution_count": 77,
     "metadata": {},
     "output_type": "execute_result"
    }
   ],
   "source": [
    "1 and 0"
   ]
  },
  {
   "cell_type": "code",
   "execution_count": 78,
   "id": "d4dfd357",
   "metadata": {},
   "outputs": [
    {
     "data": {
      "text/plain": [
       "1"
      ]
     },
     "execution_count": 78,
     "metadata": {},
     "output_type": "execute_result"
    }
   ],
   "source": [
    "1 and 1 "
   ]
  },
  {
   "cell_type": "code",
   "execution_count": 79,
   "id": "4cea69a5",
   "metadata": {},
   "outputs": [
    {
     "data": {
      "text/plain": [
       "True"
      ]
     },
     "execution_count": 79,
     "metadata": {},
     "output_type": "execute_result"
    }
   ],
   "source": [
    "True or False"
   ]
  },
  {
   "cell_type": "code",
   "execution_count": 80,
   "id": "b837bd9c",
   "metadata": {},
   "outputs": [
    {
     "data": {
      "text/plain": [
       "True"
      ]
     },
     "execution_count": 80,
     "metadata": {},
     "output_type": "execute_result"
    }
   ],
   "source": [
    "False or True"
   ]
  },
  {
   "cell_type": "code",
   "execution_count": 81,
   "id": "0f3ac55f",
   "metadata": {},
   "outputs": [
    {
     "data": {
      "text/plain": [
       "False"
      ]
     },
     "execution_count": 81,
     "metadata": {},
     "output_type": "execute_result"
    }
   ],
   "source": [
    "False or False"
   ]
  },
  {
   "cell_type": "code",
   "execution_count": 85,
   "id": "9d333bbb",
   "metadata": {},
   "outputs": [
    {
     "name": "stdout",
     "output_type": "stream",
     "text": [
      "No\n"
     ]
    }
   ],
   "source": [
    "if 10 > 6 and 10 > 90:\n",
    "    print('yes')\n",
    "else:\n",
    "    print('No')"
   ]
  },
  {
   "cell_type": "code",
   "execution_count": null,
   "id": "1dab1c05",
   "metadata": {},
   "outputs": [],
   "source": [
    "#and\n",
    "True and True will give True\n",
    "True and False will give False\n",
    "\n",
    "#or\n",
    "True or True will give True\n",
    "True or False will give True\n",
    "Fasle or False will give False"
   ]
  },
  {
   "cell_type": "code",
   "execution_count": 86,
   "id": "da08aeaf",
   "metadata": {},
   "outputs": [
    {
     "name": "stdout",
     "output_type": "stream",
     "text": [
      "No\n"
     ]
    }
   ],
   "source": [
    "if a and v:\n",
    "    print('yes')\n",
    "else:\n",
    "    print ('No')"
   ]
  },
  {
   "cell_type": "code",
   "execution_count": null,
   "id": "7b595b91",
   "metadata": {},
   "outputs": [],
   "source": [
    "#bitwise operator"
   ]
  },
  {
   "cell_type": "code",
   "execution_count": null,
   "id": "40e897b0",
   "metadata": {},
   "outputs": [],
   "source": [
    "8 in binary is 1000"
   ]
  },
  {
   "cell_type": "code",
   "execution_count": null,
   "id": "91761ef9",
   "metadata": {},
   "outputs": [],
   "source": []
  },
  {
   "cell_type": "code",
   "execution_count": null,
   "id": "74bb8f77",
   "metadata": {},
   "outputs": [],
   "source": []
  },
  {
   "cell_type": "code",
   "execution_count": null,
   "id": "89ecb298",
   "metadata": {},
   "outputs": [],
   "source": []
  },
  {
   "cell_type": "code",
   "execution_count": null,
   "id": "09e26e11",
   "metadata": {},
   "outputs": [],
   "source": []
  },
  {
   "cell_type": "code",
   "execution_count": null,
   "id": "a76116d4",
   "metadata": {},
   "outputs": [],
   "source": []
  },
  {
   "cell_type": "code",
   "execution_count": null,
   "id": "bb912478",
   "metadata": {},
   "outputs": [],
   "source": []
  },
  {
   "cell_type": "code",
   "execution_count": null,
   "id": "86dcca5e",
   "metadata": {},
   "outputs": [],
   "source": []
  },
  {
   "cell_type": "code",
   "execution_count": null,
   "id": "672faf8a",
   "metadata": {},
   "outputs": [],
   "source": []
  },
  {
   "cell_type": "code",
   "execution_count": 102,
   "id": "4f351a77",
   "metadata": {},
   "outputs": [
    {
     "data": {
      "text/plain": [
       "5"
      ]
     },
     "execution_count": 102,
     "metadata": {},
     "output_type": "execute_result"
    }
   ],
   "source": [
    "10 >> 1"
   ]
  },
  {
   "cell_type": "code",
   "execution_count": 97,
   "id": "6b968c8c",
   "metadata": {},
   "outputs": [],
   "source": [
    "def decimaltobinary(num):\n",
    "    if num>=1:\n",
    "        decimaltobinary(num//2)\n",
    "        print(num%2, end = '')"
   ]
  },
  {
   "cell_type": "code",
   "execution_count": 104,
   "id": "2911d558",
   "metadata": {},
   "outputs": [
    {
     "name": "stdout",
     "output_type": "stream",
     "text": [
      "1010"
     ]
    }
   ],
   "source": [
    "decimaltobinary(10)"
   ]
  },
  {
   "cell_type": "code",
   "execution_count": null,
   "id": "24b73da1",
   "metadata": {},
   "outputs": [],
   "source": [
    "1010 >>  1 ............    0101"
   ]
  },
  {
   "cell_type": "code",
   "execution_count": 105,
   "id": "23eb6a97",
   "metadata": {},
   "outputs": [
    {
     "name": "stdout",
     "output_type": "stream",
     "text": [
      "101"
     ]
    }
   ],
   "source": [
    "decimaltobinary(5)"
   ]
  },
  {
   "cell_type": "code",
   "execution_count": 106,
   "id": "44715d4a",
   "metadata": {},
   "outputs": [
    {
     "name": "stdout",
     "output_type": "stream",
     "text": [
      "1111110010"
     ]
    }
   ],
   "source": [
    "decimaltobinary(1010)"
   ]
  },
  {
   "cell_type": "code",
   "execution_count": null,
   "id": "d79e91d4",
   "metadata": {},
   "outputs": [],
   "source": [
    "0111111001"
   ]
  },
  {
   "cell_type": "code",
   "execution_count": 108,
   "id": "1d974b68",
   "metadata": {},
   "outputs": [
    {
     "name": "stdout",
     "output_type": "stream",
     "text": [
      "111111001"
     ]
    }
   ],
   "source": [
    "decimaltobinary(505)"
   ]
  },
  {
   "cell_type": "code",
   "execution_count": 115,
   "id": "8b22a50e",
   "metadata": {},
   "outputs": [
    {
     "name": "stdout",
     "output_type": "stream",
     "text": [
      "101000"
     ]
    }
   ],
   "source": [
    "decimaltobinary(40)"
   ]
  },
  {
   "cell_type": "code",
   "execution_count": 109,
   "id": "e6ba6c19",
   "metadata": {},
   "outputs": [
    {
     "data": {
      "text/plain": [
       "2"
      ]
     },
     "execution_count": 109,
     "metadata": {},
     "output_type": "execute_result"
    }
   ],
   "source": [
    "10 >> 2"
   ]
  },
  {
   "cell_type": "code",
   "execution_count": null,
   "id": "6e4eecf7",
   "metadata": {},
   "outputs": [],
   "source": [
    "1010"
   ]
  },
  {
   "cell_type": "code",
   "execution_count": 111,
   "id": "c83a305e",
   "metadata": {},
   "outputs": [
    {
     "data": {
      "text/plain": [
       "'0b1010'"
      ]
     },
     "execution_count": 111,
     "metadata": {},
     "output_type": "execute_result"
    }
   ],
   "source": [
    "bin(10)"
   ]
  },
  {
   "cell_type": "code",
   "execution_count": 112,
   "id": "85c653cf",
   "metadata": {},
   "outputs": [
    {
     "data": {
      "text/plain": [
       "10"
      ]
     },
     "execution_count": 112,
     "metadata": {},
     "output_type": "execute_result"
    }
   ],
   "source": [
    "rfjeidjskfsksjisjpijdkjdkddedf = 10\n",
    "rfjeidjskfsksjisjpijdkjdkddedf"
   ]
  },
  {
   "cell_type": "code",
   "execution_count": 113,
   "id": "9f2a94a9",
   "metadata": {},
   "outputs": [
    {
     "data": {
      "text/plain": [
       "'pkj'"
      ]
     },
     "execution_count": 113,
     "metadata": {},
     "output_type": "execute_result"
    }
   ],
   "source": [
    "j = \"pk\"\n",
    "j = j + \"j\"\n",
    "j"
   ]
  },
  {
   "cell_type": "code",
   "execution_count": 114,
   "id": "ee186a22",
   "metadata": {},
   "outputs": [
    {
     "data": {
      "text/plain": [
       "40"
      ]
     },
     "execution_count": 114,
     "metadata": {},
     "output_type": "execute_result"
    }
   ],
   "source": [
    "10 << 2"
   ]
  },
  {
   "cell_type": "code",
   "execution_count": null,
   "id": "8838fc4d",
   "metadata": {},
   "outputs": [],
   "source": [
    "101000"
   ]
  }
 ],
 "metadata": {
  "kernelspec": {
   "display_name": "Python 3 (ipykernel)",
   "language": "python",
   "name": "python3"
  },
  "language_info": {
   "codemirror_mode": {
    "name": "ipython",
    "version": 3
   },
   "file_extension": ".py",
   "mimetype": "text/x-python",
   "name": "python",
   "nbconvert_exporter": "python",
   "pygments_lexer": "ipython3",
   "version": "3.9.7"
  }
 },
 "nbformat": 4,
 "nbformat_minor": 5
}
