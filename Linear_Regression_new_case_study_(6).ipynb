{
 "cells": [
  {
   "cell_type": "code",
   "execution_count": 1,
   "id": "538c5c40",
   "metadata": {
    "id": "538c5c40"
   },
   "outputs": [],
   "source": [
    "import pandas as pd\n",
    "import numpy as np\n",
    "import matplotlib.pyplot as plt"
   ]
  },
  {
   "cell_type": "code",
   "execution_count": 2,
   "id": "c901842e",
   "metadata": {
    "id": "c901842e"
   },
   "outputs": [],
   "source": [
    "insurance=pd.read_csv('new_insurance_data.csv')"
   ]
  },
  {
   "cell_type": "code",
   "execution_count": 3,
   "id": "db7cd5cf",
   "metadata": {
    "id": "db7cd5cf",
    "outputId": "ac641da2-e7f5-494c-c50a-46a3b0918756",
    "scrolled": true
   },
   "outputs": [
    {
     "data": {
      "text/html": [
       "<div>\n",
       "<style scoped>\n",
       "    .dataframe tbody tr th:only-of-type {\n",
       "        vertical-align: middle;\n",
       "    }\n",
       "\n",
       "    .dataframe tbody tr th {\n",
       "        vertical-align: top;\n",
       "    }\n",
       "\n",
       "    .dataframe thead th {\n",
       "        text-align: right;\n",
       "    }\n",
       "</style>\n",
       "<table border=\"1\" class=\"dataframe\">\n",
       "  <thead>\n",
       "    <tr style=\"text-align: right;\">\n",
       "      <th></th>\n",
       "      <th>age</th>\n",
       "      <th>sex</th>\n",
       "      <th>bmi</th>\n",
       "      <th>children</th>\n",
       "      <th>smoker</th>\n",
       "      <th>Claim_Amount</th>\n",
       "      <th>past_consultations</th>\n",
       "      <th>num_of_steps</th>\n",
       "      <th>Hospital_expenditure</th>\n",
       "      <th>NUmber_of_past_hospitalizations</th>\n",
       "      <th>Anual_Salary</th>\n",
       "      <th>region</th>\n",
       "      <th>charges</th>\n",
       "    </tr>\n",
       "  </thead>\n",
       "  <tbody>\n",
       "    <tr>\n",
       "      <th>0</th>\n",
       "      <td>18.0</td>\n",
       "      <td>male</td>\n",
       "      <td>23.21</td>\n",
       "      <td>0.0</td>\n",
       "      <td>no</td>\n",
       "      <td>29087.54313</td>\n",
       "      <td>17.0</td>\n",
       "      <td>715428.0</td>\n",
       "      <td>4720920.992</td>\n",
       "      <td>0.0</td>\n",
       "      <td>55784970.05</td>\n",
       "      <td>southeast</td>\n",
       "      <td>1121.8739</td>\n",
       "    </tr>\n",
       "    <tr>\n",
       "      <th>1</th>\n",
       "      <td>18.0</td>\n",
       "      <td>male</td>\n",
       "      <td>30.14</td>\n",
       "      <td>0.0</td>\n",
       "      <td>no</td>\n",
       "      <td>39053.67437</td>\n",
       "      <td>7.0</td>\n",
       "      <td>699157.0</td>\n",
       "      <td>4329831.676</td>\n",
       "      <td>0.0</td>\n",
       "      <td>13700885.19</td>\n",
       "      <td>southeast</td>\n",
       "      <td>1131.5066</td>\n",
       "    </tr>\n",
       "    <tr>\n",
       "      <th>2</th>\n",
       "      <td>18.0</td>\n",
       "      <td>male</td>\n",
       "      <td>33.33</td>\n",
       "      <td>0.0</td>\n",
       "      <td>no</td>\n",
       "      <td>39023.62759</td>\n",
       "      <td>19.0</td>\n",
       "      <td>702341.0</td>\n",
       "      <td>6884860.774</td>\n",
       "      <td>0.0</td>\n",
       "      <td>73523107.27</td>\n",
       "      <td>southeast</td>\n",
       "      <td>1135.9407</td>\n",
       "    </tr>\n",
       "    <tr>\n",
       "      <th>3</th>\n",
       "      <td>18.0</td>\n",
       "      <td>male</td>\n",
       "      <td>33.66</td>\n",
       "      <td>0.0</td>\n",
       "      <td>no</td>\n",
       "      <td>28185.39332</td>\n",
       "      <td>11.0</td>\n",
       "      <td>700250.0</td>\n",
       "      <td>4274773.550</td>\n",
       "      <td>0.0</td>\n",
       "      <td>75819679.60</td>\n",
       "      <td>southeast</td>\n",
       "      <td>1136.3994</td>\n",
       "    </tr>\n",
       "    <tr>\n",
       "      <th>4</th>\n",
       "      <td>18.0</td>\n",
       "      <td>male</td>\n",
       "      <td>34.10</td>\n",
       "      <td>0.0</td>\n",
       "      <td>no</td>\n",
       "      <td>14697.85941</td>\n",
       "      <td>16.0</td>\n",
       "      <td>711584.0</td>\n",
       "      <td>3787293.921</td>\n",
       "      <td>0.0</td>\n",
       "      <td>23012320.01</td>\n",
       "      <td>southeast</td>\n",
       "      <td>1137.0110</td>\n",
       "    </tr>\n",
       "  </tbody>\n",
       "</table>\n",
       "</div>"
      ],
      "text/plain": [
       "    age   sex    bmi  children smoker  Claim_Amount  past_consultations  \\\n",
       "0  18.0  male  23.21       0.0     no   29087.54313                17.0   \n",
       "1  18.0  male  30.14       0.0     no   39053.67437                 7.0   \n",
       "2  18.0  male  33.33       0.0     no   39023.62759                19.0   \n",
       "3  18.0  male  33.66       0.0     no   28185.39332                11.0   \n",
       "4  18.0  male  34.10       0.0     no   14697.85941                16.0   \n",
       "\n",
       "   num_of_steps  Hospital_expenditure  NUmber_of_past_hospitalizations  \\\n",
       "0      715428.0           4720920.992                              0.0   \n",
       "1      699157.0           4329831.676                              0.0   \n",
       "2      702341.0           6884860.774                              0.0   \n",
       "3      700250.0           4274773.550                              0.0   \n",
       "4      711584.0           3787293.921                              0.0   \n",
       "\n",
       "   Anual_Salary     region    charges  \n",
       "0   55784970.05  southeast  1121.8739  \n",
       "1   13700885.19  southeast  1131.5066  \n",
       "2   73523107.27  southeast  1135.9407  \n",
       "3   75819679.60  southeast  1136.3994  \n",
       "4   23012320.01  southeast  1137.0110  "
      ]
     },
     "execution_count": 3,
     "metadata": {},
     "output_type": "execute_result"
    }
   ],
   "source": [
    "insurance.head()"
   ]
  },
  {
   "cell_type": "code",
   "execution_count": null,
   "id": "469ea83d",
   "metadata": {
    "id": "469ea83d"
   },
   "outputs": [],
   "source": []
  },
  {
   "cell_type": "code",
   "execution_count": 4,
   "id": "fc0c2381",
   "metadata": {
    "id": "fc0c2381",
    "outputId": "01847cf5-07de-4522-f81e-18f28513ed3f"
   },
   "outputs": [
    {
     "name": "stdout",
     "output_type": "stream",
     "text": [
      "<class 'pandas.core.frame.DataFrame'>\n",
      "RangeIndex: 1338 entries, 0 to 1337\n",
      "Data columns (total 13 columns):\n",
      " #   Column                           Non-Null Count  Dtype  \n",
      "---  ------                           --------------  -----  \n",
      " 0   age                              1329 non-null   float64\n",
      " 1   sex                              1338 non-null   object \n",
      " 2   bmi                              1335 non-null   float64\n",
      " 3   children                         1333 non-null   float64\n",
      " 4   smoker                           1338 non-null   object \n",
      " 5   Claim_Amount                     1324 non-null   float64\n",
      " 6   past_consultations               1332 non-null   float64\n",
      " 7   num_of_steps                     1335 non-null   float64\n",
      " 8   Hospital_expenditure             1334 non-null   float64\n",
      " 9   NUmber_of_past_hospitalizations  1336 non-null   float64\n",
      " 10  Anual_Salary                     1332 non-null   float64\n",
      " 11  region                           1338 non-null   object \n",
      " 12  charges                          1338 non-null   float64\n",
      "dtypes: float64(10), object(3)\n",
      "memory usage: 136.0+ KB\n"
     ]
    }
   ],
   "source": [
    "insurance.info()"
   ]
  },
  {
   "cell_type": "code",
   "execution_count": 5,
   "id": "c7c161c9",
   "metadata": {
    "id": "c7c161c9",
    "outputId": "9d34c844-a894-4db3-fa63-b04464b52856"
   },
   "outputs": [
    {
     "data": {
      "text/html": [
       "<div>\n",
       "<style scoped>\n",
       "    .dataframe tbody tr th:only-of-type {\n",
       "        vertical-align: middle;\n",
       "    }\n",
       "\n",
       "    .dataframe tbody tr th {\n",
       "        vertical-align: top;\n",
       "    }\n",
       "\n",
       "    .dataframe thead th {\n",
       "        text-align: right;\n",
       "    }\n",
       "</style>\n",
       "<table border=\"1\" class=\"dataframe\">\n",
       "  <thead>\n",
       "    <tr style=\"text-align: right;\">\n",
       "      <th></th>\n",
       "      <th>age</th>\n",
       "      <th>sex</th>\n",
       "      <th>bmi</th>\n",
       "      <th>children</th>\n",
       "      <th>smoker</th>\n",
       "      <th>Claim_Amount</th>\n",
       "      <th>past_consultations</th>\n",
       "      <th>num_of_steps</th>\n",
       "      <th>Hospital_expenditure</th>\n",
       "      <th>NUmber_of_past_hospitalizations</th>\n",
       "      <th>Anual_Salary</th>\n",
       "      <th>region</th>\n",
       "      <th>charges</th>\n",
       "    </tr>\n",
       "  </thead>\n",
       "  <tbody>\n",
       "    <tr>\n",
       "      <th>0</th>\n",
       "      <td>False</td>\n",
       "      <td>False</td>\n",
       "      <td>False</td>\n",
       "      <td>False</td>\n",
       "      <td>False</td>\n",
       "      <td>False</td>\n",
       "      <td>False</td>\n",
       "      <td>False</td>\n",
       "      <td>False</td>\n",
       "      <td>False</td>\n",
       "      <td>False</td>\n",
       "      <td>False</td>\n",
       "      <td>False</td>\n",
       "    </tr>\n",
       "    <tr>\n",
       "      <th>1</th>\n",
       "      <td>False</td>\n",
       "      <td>False</td>\n",
       "      <td>False</td>\n",
       "      <td>False</td>\n",
       "      <td>False</td>\n",
       "      <td>False</td>\n",
       "      <td>False</td>\n",
       "      <td>False</td>\n",
       "      <td>False</td>\n",
       "      <td>False</td>\n",
       "      <td>False</td>\n",
       "      <td>False</td>\n",
       "      <td>False</td>\n",
       "    </tr>\n",
       "    <tr>\n",
       "      <th>2</th>\n",
       "      <td>False</td>\n",
       "      <td>False</td>\n",
       "      <td>False</td>\n",
       "      <td>False</td>\n",
       "      <td>False</td>\n",
       "      <td>False</td>\n",
       "      <td>False</td>\n",
       "      <td>False</td>\n",
       "      <td>False</td>\n",
       "      <td>False</td>\n",
       "      <td>False</td>\n",
       "      <td>False</td>\n",
       "      <td>False</td>\n",
       "    </tr>\n",
       "    <tr>\n",
       "      <th>3</th>\n",
       "      <td>False</td>\n",
       "      <td>False</td>\n",
       "      <td>False</td>\n",
       "      <td>False</td>\n",
       "      <td>False</td>\n",
       "      <td>False</td>\n",
       "      <td>False</td>\n",
       "      <td>False</td>\n",
       "      <td>False</td>\n",
       "      <td>False</td>\n",
       "      <td>False</td>\n",
       "      <td>False</td>\n",
       "      <td>False</td>\n",
       "    </tr>\n",
       "    <tr>\n",
       "      <th>4</th>\n",
       "      <td>False</td>\n",
       "      <td>False</td>\n",
       "      <td>False</td>\n",
       "      <td>False</td>\n",
       "      <td>False</td>\n",
       "      <td>False</td>\n",
       "      <td>False</td>\n",
       "      <td>False</td>\n",
       "      <td>False</td>\n",
       "      <td>False</td>\n",
       "      <td>False</td>\n",
       "      <td>False</td>\n",
       "      <td>False</td>\n",
       "    </tr>\n",
       "    <tr>\n",
       "      <th>...</th>\n",
       "      <td>...</td>\n",
       "      <td>...</td>\n",
       "      <td>...</td>\n",
       "      <td>...</td>\n",
       "      <td>...</td>\n",
       "      <td>...</td>\n",
       "      <td>...</td>\n",
       "      <td>...</td>\n",
       "      <td>...</td>\n",
       "      <td>...</td>\n",
       "      <td>...</td>\n",
       "      <td>...</td>\n",
       "      <td>...</td>\n",
       "    </tr>\n",
       "    <tr>\n",
       "      <th>1333</th>\n",
       "      <td>False</td>\n",
       "      <td>False</td>\n",
       "      <td>False</td>\n",
       "      <td>False</td>\n",
       "      <td>False</td>\n",
       "      <td>False</td>\n",
       "      <td>False</td>\n",
       "      <td>False</td>\n",
       "      <td>False</td>\n",
       "      <td>False</td>\n",
       "      <td>False</td>\n",
       "      <td>False</td>\n",
       "      <td>False</td>\n",
       "    </tr>\n",
       "    <tr>\n",
       "      <th>1334</th>\n",
       "      <td>False</td>\n",
       "      <td>False</td>\n",
       "      <td>False</td>\n",
       "      <td>False</td>\n",
       "      <td>False</td>\n",
       "      <td>False</td>\n",
       "      <td>False</td>\n",
       "      <td>False</td>\n",
       "      <td>False</td>\n",
       "      <td>False</td>\n",
       "      <td>False</td>\n",
       "      <td>False</td>\n",
       "      <td>False</td>\n",
       "    </tr>\n",
       "    <tr>\n",
       "      <th>1335</th>\n",
       "      <td>False</td>\n",
       "      <td>False</td>\n",
       "      <td>False</td>\n",
       "      <td>False</td>\n",
       "      <td>False</td>\n",
       "      <td>False</td>\n",
       "      <td>False</td>\n",
       "      <td>False</td>\n",
       "      <td>False</td>\n",
       "      <td>False</td>\n",
       "      <td>False</td>\n",
       "      <td>False</td>\n",
       "      <td>False</td>\n",
       "    </tr>\n",
       "    <tr>\n",
       "      <th>1336</th>\n",
       "      <td>False</td>\n",
       "      <td>False</td>\n",
       "      <td>False</td>\n",
       "      <td>False</td>\n",
       "      <td>False</td>\n",
       "      <td>False</td>\n",
       "      <td>False</td>\n",
       "      <td>False</td>\n",
       "      <td>False</td>\n",
       "      <td>False</td>\n",
       "      <td>False</td>\n",
       "      <td>False</td>\n",
       "      <td>False</td>\n",
       "    </tr>\n",
       "    <tr>\n",
       "      <th>1337</th>\n",
       "      <td>False</td>\n",
       "      <td>False</td>\n",
       "      <td>False</td>\n",
       "      <td>False</td>\n",
       "      <td>False</td>\n",
       "      <td>False</td>\n",
       "      <td>False</td>\n",
       "      <td>False</td>\n",
       "      <td>False</td>\n",
       "      <td>False</td>\n",
       "      <td>False</td>\n",
       "      <td>False</td>\n",
       "      <td>False</td>\n",
       "    </tr>\n",
       "  </tbody>\n",
       "</table>\n",
       "<p>1338 rows × 13 columns</p>\n",
       "</div>"
      ],
      "text/plain": [
       "        age    sex    bmi  children  smoker  Claim_Amount  past_consultations  \\\n",
       "0     False  False  False     False   False         False               False   \n",
       "1     False  False  False     False   False         False               False   \n",
       "2     False  False  False     False   False         False               False   \n",
       "3     False  False  False     False   False         False               False   \n",
       "4     False  False  False     False   False         False               False   \n",
       "...     ...    ...    ...       ...     ...           ...                 ...   \n",
       "1333  False  False  False     False   False         False               False   \n",
       "1334  False  False  False     False   False         False               False   \n",
       "1335  False  False  False     False   False         False               False   \n",
       "1336  False  False  False     False   False         False               False   \n",
       "1337  False  False  False     False   False         False               False   \n",
       "\n",
       "      num_of_steps  Hospital_expenditure  NUmber_of_past_hospitalizations  \\\n",
       "0            False                 False                            False   \n",
       "1            False                 False                            False   \n",
       "2            False                 False                            False   \n",
       "3            False                 False                            False   \n",
       "4            False                 False                            False   \n",
       "...            ...                   ...                              ...   \n",
       "1333         False                 False                            False   \n",
       "1334         False                 False                            False   \n",
       "1335         False                 False                            False   \n",
       "1336         False                 False                            False   \n",
       "1337         False                 False                            False   \n",
       "\n",
       "      Anual_Salary  region  charges  \n",
       "0            False   False    False  \n",
       "1            False   False    False  \n",
       "2            False   False    False  \n",
       "3            False   False    False  \n",
       "4            False   False    False  \n",
       "...            ...     ...      ...  \n",
       "1333         False   False    False  \n",
       "1334         False   False    False  \n",
       "1335         False   False    False  \n",
       "1336         False   False    False  \n",
       "1337         False   False    False  \n",
       "\n",
       "[1338 rows x 13 columns]"
      ]
     },
     "execution_count": 5,
     "metadata": {},
     "output_type": "execute_result"
    }
   ],
   "source": [
    "insurance.isnull()"
   ]
  },
  {
   "cell_type": "code",
   "execution_count": 6,
   "id": "964ee215",
   "metadata": {
    "id": "964ee215",
    "outputId": "54b11fcc-e812-4f91-aee2-eb2e48457fc2"
   },
   "outputs": [
    {
     "data": {
      "text/plain": [
       "age                                 9\n",
       "sex                                 0\n",
       "bmi                                 3\n",
       "children                            5\n",
       "smoker                              0\n",
       "Claim_Amount                       14\n",
       "past_consultations                  6\n",
       "num_of_steps                        3\n",
       "Hospital_expenditure                4\n",
       "NUmber_of_past_hospitalizations     2\n",
       "Anual_Salary                        6\n",
       "region                              0\n",
       "charges                             0\n",
       "dtype: int64"
      ]
     },
     "execution_count": 6,
     "metadata": {},
     "output_type": "execute_result"
    }
   ],
   "source": [
    "insurance.isnull().sum()"
   ]
  },
  {
   "cell_type": "code",
   "execution_count": 7,
   "id": "8810aa7d",
   "metadata": {
    "id": "8810aa7d",
    "outputId": "88f796b1-bae5-4e30-9c58-5a43c0aab331"
   },
   "outputs": [
    {
     "data": {
      "text/html": [
       "<div>\n",
       "<style scoped>\n",
       "    .dataframe tbody tr th:only-of-type {\n",
       "        vertical-align: middle;\n",
       "    }\n",
       "\n",
       "    .dataframe tbody tr th {\n",
       "        vertical-align: top;\n",
       "    }\n",
       "\n",
       "    .dataframe thead th {\n",
       "        text-align: right;\n",
       "    }\n",
       "</style>\n",
       "<table border=\"1\" class=\"dataframe\">\n",
       "  <thead>\n",
       "    <tr style=\"text-align: right;\">\n",
       "      <th></th>\n",
       "      <th>age</th>\n",
       "      <th>sex</th>\n",
       "      <th>bmi</th>\n",
       "      <th>children</th>\n",
       "      <th>smoker</th>\n",
       "      <th>Claim_Amount</th>\n",
       "      <th>past_consultations</th>\n",
       "      <th>num_of_steps</th>\n",
       "      <th>Hospital_expenditure</th>\n",
       "      <th>NUmber_of_past_hospitalizations</th>\n",
       "      <th>Anual_Salary</th>\n",
       "      <th>region</th>\n",
       "      <th>charges</th>\n",
       "    </tr>\n",
       "  </thead>\n",
       "  <tbody>\n",
       "    <tr>\n",
       "      <th>1333</th>\n",
       "      <td>33.0</td>\n",
       "      <td>female</td>\n",
       "      <td>35.530</td>\n",
       "      <td>0.0</td>\n",
       "      <td>yes</td>\n",
       "      <td>63142.25346</td>\n",
       "      <td>32.0</td>\n",
       "      <td>1091267.0</td>\n",
       "      <td>170380500.5</td>\n",
       "      <td>2.0</td>\n",
       "      <td>3.101107e+09</td>\n",
       "      <td>northwest</td>\n",
       "      <td>55135.40209</td>\n",
       "    </tr>\n",
       "    <tr>\n",
       "      <th>1334</th>\n",
       "      <td>31.0</td>\n",
       "      <td>female</td>\n",
       "      <td>38.095</td>\n",
       "      <td>1.0</td>\n",
       "      <td>yes</td>\n",
       "      <td>43419.95227</td>\n",
       "      <td>31.0</td>\n",
       "      <td>1107872.0</td>\n",
       "      <td>201515184.8</td>\n",
       "      <td>2.0</td>\n",
       "      <td>3.484216e+09</td>\n",
       "      <td>northeast</td>\n",
       "      <td>58571.07448</td>\n",
       "    </tr>\n",
       "    <tr>\n",
       "      <th>1335</th>\n",
       "      <td>52.0</td>\n",
       "      <td>male</td>\n",
       "      <td>34.485</td>\n",
       "      <td>3.0</td>\n",
       "      <td>yes</td>\n",
       "      <td>52458.92353</td>\n",
       "      <td>25.0</td>\n",
       "      <td>1092005.0</td>\n",
       "      <td>223644981.3</td>\n",
       "      <td>2.0</td>\n",
       "      <td>3.640807e+09</td>\n",
       "      <td>northwest</td>\n",
       "      <td>60021.39897</td>\n",
       "    </tr>\n",
       "    <tr>\n",
       "      <th>1336</th>\n",
       "      <td>45.0</td>\n",
       "      <td>male</td>\n",
       "      <td>30.360</td>\n",
       "      <td>0.0</td>\n",
       "      <td>yes</td>\n",
       "      <td>69927.51664</td>\n",
       "      <td>34.0</td>\n",
       "      <td>1106821.0</td>\n",
       "      <td>252892382.6</td>\n",
       "      <td>3.0</td>\n",
       "      <td>4.006359e+09</td>\n",
       "      <td>southeast</td>\n",
       "      <td>62592.87309</td>\n",
       "    </tr>\n",
       "    <tr>\n",
       "      <th>1337</th>\n",
       "      <td>54.0</td>\n",
       "      <td>female</td>\n",
       "      <td>47.410</td>\n",
       "      <td>0.0</td>\n",
       "      <td>yes</td>\n",
       "      <td>63982.80926</td>\n",
       "      <td>31.0</td>\n",
       "      <td>1100328.0</td>\n",
       "      <td>261631699.3</td>\n",
       "      <td>3.0</td>\n",
       "      <td>4.117197e+09</td>\n",
       "      <td>southeast</td>\n",
       "      <td>63770.42801</td>\n",
       "    </tr>\n",
       "  </tbody>\n",
       "</table>\n",
       "</div>"
      ],
      "text/plain": [
       "       age     sex     bmi  children smoker  Claim_Amount  past_consultations  \\\n",
       "1333  33.0  female  35.530       0.0    yes   63142.25346                32.0   \n",
       "1334  31.0  female  38.095       1.0    yes   43419.95227                31.0   \n",
       "1335  52.0    male  34.485       3.0    yes   52458.92353                25.0   \n",
       "1336  45.0    male  30.360       0.0    yes   69927.51664                34.0   \n",
       "1337  54.0  female  47.410       0.0    yes   63982.80926                31.0   \n",
       "\n",
       "      num_of_steps  Hospital_expenditure  NUmber_of_past_hospitalizations  \\\n",
       "1333     1091267.0           170380500.5                              2.0   \n",
       "1334     1107872.0           201515184.8                              2.0   \n",
       "1335     1092005.0           223644981.3                              2.0   \n",
       "1336     1106821.0           252892382.6                              3.0   \n",
       "1337     1100328.0           261631699.3                              3.0   \n",
       "\n",
       "      Anual_Salary     region      charges  \n",
       "1333  3.101107e+09  northwest  55135.40209  \n",
       "1334  3.484216e+09  northeast  58571.07448  \n",
       "1335  3.640807e+09  northwest  60021.39897  \n",
       "1336  4.006359e+09  southeast  62592.87309  \n",
       "1337  4.117197e+09  southeast  63770.42801  "
      ]
     },
     "execution_count": 7,
     "metadata": {},
     "output_type": "execute_result"
    }
   ],
   "source": [
    "insurance.tail()"
   ]
  },
  {
   "cell_type": "code",
   "execution_count": 8,
   "id": "36f8177b",
   "metadata": {
    "id": "36f8177b",
    "outputId": "4676ab2a-864b-43dd-f595-14d1f4e1e1e8"
   },
   "outputs": [
    {
     "data": {
      "text/html": [
       "<div>\n",
       "<style scoped>\n",
       "    .dataframe tbody tr th:only-of-type {\n",
       "        vertical-align: middle;\n",
       "    }\n",
       "\n",
       "    .dataframe tbody tr th {\n",
       "        vertical-align: top;\n",
       "    }\n",
       "\n",
       "    .dataframe thead th {\n",
       "        text-align: right;\n",
       "    }\n",
       "</style>\n",
       "<table border=\"1\" class=\"dataframe\">\n",
       "  <thead>\n",
       "    <tr style=\"text-align: right;\">\n",
       "      <th></th>\n",
       "      <th>age</th>\n",
       "      <th>sex</th>\n",
       "      <th>bmi</th>\n",
       "      <th>children</th>\n",
       "      <th>smoker</th>\n",
       "      <th>Claim_Amount</th>\n",
       "      <th>past_consultations</th>\n",
       "      <th>num_of_steps</th>\n",
       "      <th>Hospital_expenditure</th>\n",
       "      <th>NUmber_of_past_hospitalizations</th>\n",
       "      <th>Anual_Salary</th>\n",
       "      <th>region</th>\n",
       "      <th>charges</th>\n",
       "    </tr>\n",
       "  </thead>\n",
       "  <tbody>\n",
       "    <tr>\n",
       "      <th>0</th>\n",
       "      <td>18.0</td>\n",
       "      <td>male</td>\n",
       "      <td>23.210</td>\n",
       "      <td>0.0</td>\n",
       "      <td>no</td>\n",
       "      <td>29087.54313</td>\n",
       "      <td>17.0</td>\n",
       "      <td>715428.0</td>\n",
       "      <td>4.720921e+06</td>\n",
       "      <td>0.0</td>\n",
       "      <td>5.578497e+07</td>\n",
       "      <td>southeast</td>\n",
       "      <td>1121.87390</td>\n",
       "    </tr>\n",
       "    <tr>\n",
       "      <th>1</th>\n",
       "      <td>18.0</td>\n",
       "      <td>male</td>\n",
       "      <td>30.140</td>\n",
       "      <td>0.0</td>\n",
       "      <td>no</td>\n",
       "      <td>39053.67437</td>\n",
       "      <td>7.0</td>\n",
       "      <td>699157.0</td>\n",
       "      <td>4.329832e+06</td>\n",
       "      <td>0.0</td>\n",
       "      <td>1.370089e+07</td>\n",
       "      <td>southeast</td>\n",
       "      <td>1131.50660</td>\n",
       "    </tr>\n",
       "    <tr>\n",
       "      <th>2</th>\n",
       "      <td>18.0</td>\n",
       "      <td>male</td>\n",
       "      <td>33.330</td>\n",
       "      <td>0.0</td>\n",
       "      <td>no</td>\n",
       "      <td>39023.62759</td>\n",
       "      <td>19.0</td>\n",
       "      <td>702341.0</td>\n",
       "      <td>6.884861e+06</td>\n",
       "      <td>0.0</td>\n",
       "      <td>7.352311e+07</td>\n",
       "      <td>southeast</td>\n",
       "      <td>1135.94070</td>\n",
       "    </tr>\n",
       "    <tr>\n",
       "      <th>3</th>\n",
       "      <td>18.0</td>\n",
       "      <td>male</td>\n",
       "      <td>33.660</td>\n",
       "      <td>0.0</td>\n",
       "      <td>no</td>\n",
       "      <td>28185.39332</td>\n",
       "      <td>11.0</td>\n",
       "      <td>700250.0</td>\n",
       "      <td>4.274774e+06</td>\n",
       "      <td>0.0</td>\n",
       "      <td>7.581968e+07</td>\n",
       "      <td>southeast</td>\n",
       "      <td>1136.39940</td>\n",
       "    </tr>\n",
       "    <tr>\n",
       "      <th>4</th>\n",
       "      <td>18.0</td>\n",
       "      <td>male</td>\n",
       "      <td>34.100</td>\n",
       "      <td>0.0</td>\n",
       "      <td>no</td>\n",
       "      <td>14697.85941</td>\n",
       "      <td>16.0</td>\n",
       "      <td>711584.0</td>\n",
       "      <td>3.787294e+06</td>\n",
       "      <td>0.0</td>\n",
       "      <td>2.301232e+07</td>\n",
       "      <td>southeast</td>\n",
       "      <td>1137.01100</td>\n",
       "    </tr>\n",
       "    <tr>\n",
       "      <th>...</th>\n",
       "      <td>...</td>\n",
       "      <td>...</td>\n",
       "      <td>...</td>\n",
       "      <td>...</td>\n",
       "      <td>...</td>\n",
       "      <td>...</td>\n",
       "      <td>...</td>\n",
       "      <td>...</td>\n",
       "      <td>...</td>\n",
       "      <td>...</td>\n",
       "      <td>...</td>\n",
       "      <td>...</td>\n",
       "      <td>...</td>\n",
       "    </tr>\n",
       "    <tr>\n",
       "      <th>1333</th>\n",
       "      <td>33.0</td>\n",
       "      <td>female</td>\n",
       "      <td>35.530</td>\n",
       "      <td>0.0</td>\n",
       "      <td>yes</td>\n",
       "      <td>63142.25346</td>\n",
       "      <td>32.0</td>\n",
       "      <td>1091267.0</td>\n",
       "      <td>1.703805e+08</td>\n",
       "      <td>2.0</td>\n",
       "      <td>3.101107e+09</td>\n",
       "      <td>northwest</td>\n",
       "      <td>55135.40209</td>\n",
       "    </tr>\n",
       "    <tr>\n",
       "      <th>1334</th>\n",
       "      <td>31.0</td>\n",
       "      <td>female</td>\n",
       "      <td>38.095</td>\n",
       "      <td>1.0</td>\n",
       "      <td>yes</td>\n",
       "      <td>43419.95227</td>\n",
       "      <td>31.0</td>\n",
       "      <td>1107872.0</td>\n",
       "      <td>2.015152e+08</td>\n",
       "      <td>2.0</td>\n",
       "      <td>3.484216e+09</td>\n",
       "      <td>northeast</td>\n",
       "      <td>58571.07448</td>\n",
       "    </tr>\n",
       "    <tr>\n",
       "      <th>1335</th>\n",
       "      <td>52.0</td>\n",
       "      <td>male</td>\n",
       "      <td>34.485</td>\n",
       "      <td>3.0</td>\n",
       "      <td>yes</td>\n",
       "      <td>52458.92353</td>\n",
       "      <td>25.0</td>\n",
       "      <td>1092005.0</td>\n",
       "      <td>2.236450e+08</td>\n",
       "      <td>2.0</td>\n",
       "      <td>3.640807e+09</td>\n",
       "      <td>northwest</td>\n",
       "      <td>60021.39897</td>\n",
       "    </tr>\n",
       "    <tr>\n",
       "      <th>1336</th>\n",
       "      <td>45.0</td>\n",
       "      <td>male</td>\n",
       "      <td>30.360</td>\n",
       "      <td>0.0</td>\n",
       "      <td>yes</td>\n",
       "      <td>69927.51664</td>\n",
       "      <td>34.0</td>\n",
       "      <td>1106821.0</td>\n",
       "      <td>2.528924e+08</td>\n",
       "      <td>3.0</td>\n",
       "      <td>4.006359e+09</td>\n",
       "      <td>southeast</td>\n",
       "      <td>62592.87309</td>\n",
       "    </tr>\n",
       "    <tr>\n",
       "      <th>1337</th>\n",
       "      <td>54.0</td>\n",
       "      <td>female</td>\n",
       "      <td>47.410</td>\n",
       "      <td>0.0</td>\n",
       "      <td>yes</td>\n",
       "      <td>63982.80926</td>\n",
       "      <td>31.0</td>\n",
       "      <td>1100328.0</td>\n",
       "      <td>2.616317e+08</td>\n",
       "      <td>3.0</td>\n",
       "      <td>4.117197e+09</td>\n",
       "      <td>southeast</td>\n",
       "      <td>63770.42801</td>\n",
       "    </tr>\n",
       "  </tbody>\n",
       "</table>\n",
       "<p>1338 rows × 13 columns</p>\n",
       "</div>"
      ],
      "text/plain": [
       "       age     sex     bmi  children smoker  Claim_Amount  past_consultations  \\\n",
       "0     18.0    male  23.210       0.0     no   29087.54313                17.0   \n",
       "1     18.0    male  30.140       0.0     no   39053.67437                 7.0   \n",
       "2     18.0    male  33.330       0.0     no   39023.62759                19.0   \n",
       "3     18.0    male  33.660       0.0     no   28185.39332                11.0   \n",
       "4     18.0    male  34.100       0.0     no   14697.85941                16.0   \n",
       "...    ...     ...     ...       ...    ...           ...                 ...   \n",
       "1333  33.0  female  35.530       0.0    yes   63142.25346                32.0   \n",
       "1334  31.0  female  38.095       1.0    yes   43419.95227                31.0   \n",
       "1335  52.0    male  34.485       3.0    yes   52458.92353                25.0   \n",
       "1336  45.0    male  30.360       0.0    yes   69927.51664                34.0   \n",
       "1337  54.0  female  47.410       0.0    yes   63982.80926                31.0   \n",
       "\n",
       "      num_of_steps  Hospital_expenditure  NUmber_of_past_hospitalizations  \\\n",
       "0         715428.0          4.720921e+06                              0.0   \n",
       "1         699157.0          4.329832e+06                              0.0   \n",
       "2         702341.0          6.884861e+06                              0.0   \n",
       "3         700250.0          4.274774e+06                              0.0   \n",
       "4         711584.0          3.787294e+06                              0.0   \n",
       "...            ...                   ...                              ...   \n",
       "1333     1091267.0          1.703805e+08                              2.0   \n",
       "1334     1107872.0          2.015152e+08                              2.0   \n",
       "1335     1092005.0          2.236450e+08                              2.0   \n",
       "1336     1106821.0          2.528924e+08                              3.0   \n",
       "1337     1100328.0          2.616317e+08                              3.0   \n",
       "\n",
       "      Anual_Salary     region      charges  \n",
       "0     5.578497e+07  southeast   1121.87390  \n",
       "1     1.370089e+07  southeast   1131.50660  \n",
       "2     7.352311e+07  southeast   1135.94070  \n",
       "3     7.581968e+07  southeast   1136.39940  \n",
       "4     2.301232e+07  southeast   1137.01100  \n",
       "...            ...        ...          ...  \n",
       "1333  3.101107e+09  northwest  55135.40209  \n",
       "1334  3.484216e+09  northeast  58571.07448  \n",
       "1335  3.640807e+09  northwest  60021.39897  \n",
       "1336  4.006359e+09  southeast  62592.87309  \n",
       "1337  4.117197e+09  southeast  63770.42801  \n",
       "\n",
       "[1338 rows x 13 columns]"
      ]
     },
     "execution_count": 8,
     "metadata": {},
     "output_type": "execute_result"
    }
   ],
   "source": [
    "insurance"
   ]
  },
  {
   "cell_type": "code",
   "execution_count": 9,
   "id": "dde2fb0d",
   "metadata": {
    "id": "dde2fb0d",
    "outputId": "2e4c6f28-d55a-4d3e-e1da-bd4fa359781f"
   },
   "outputs": [
    {
     "data": {
      "text/plain": [
       "Index(['age', 'sex', 'bmi', 'children', 'smoker', 'Claim_Amount',\n",
       "       'past_consultations', 'num_of_steps', 'Hospital_expenditure',\n",
       "       'NUmber_of_past_hospitalizations', 'Anual_Salary', 'region', 'charges'],\n",
       "      dtype='object')"
      ]
     },
     "execution_count": 9,
     "metadata": {},
     "output_type": "execute_result"
    }
   ],
   "source": [
    "insurance.columns"
   ]
  },
  {
   "cell_type": "code",
   "execution_count": 10,
   "id": "6f308235",
   "metadata": {
    "id": "6f308235"
   },
   "outputs": [],
   "source": [
    "col=list(insurance.columns)"
   ]
  },
  {
   "cell_type": "code",
   "execution_count": 11,
   "id": "d628b87a",
   "metadata": {
    "id": "d628b87a",
    "outputId": "a3aac687-80be-4be9-e0f1-44b4bee03c36"
   },
   "outputs": [
    {
     "data": {
      "text/plain": [
       "['age',\n",
       " 'sex',\n",
       " 'bmi',\n",
       " 'children',\n",
       " 'smoker',\n",
       " 'Claim_Amount',\n",
       " 'past_consultations',\n",
       " 'num_of_steps',\n",
       " 'Hospital_expenditure',\n",
       " 'NUmber_of_past_hospitalizations',\n",
       " 'Anual_Salary',\n",
       " 'region',\n",
       " 'charges']"
      ]
     },
     "execution_count": 11,
     "metadata": {},
     "output_type": "execute_result"
    }
   ],
   "source": [
    "col"
   ]
  },
  {
   "cell_type": "code",
   "execution_count": 12,
   "id": "2cc9da65",
   "metadata": {
    "id": "2cc9da65"
   },
   "outputs": [],
   "source": [
    "#10,30,40,70,5,3, ,60,78"
   ]
  },
  {
   "cell_type": "code",
   "execution_count": 13,
   "id": "b808e24c",
   "metadata": {
    "id": "b808e24c"
   },
   "outputs": [],
   "source": [
    "#"
   ]
  },
  {
   "cell_type": "code",
   "execution_count": 14,
   "id": "ee0b8314",
   "metadata": {
    "id": "ee0b8314",
    "outputId": "b67ab6de-03b2-48e5-9501-0205a158750d"
   },
   "outputs": [
    {
     "data": {
      "text/plain": [
       "0    no\n",
       "dtype: object"
      ]
     },
     "execution_count": 14,
     "metadata": {},
     "output_type": "execute_result"
    }
   ],
   "source": [
    "insurance['smoker'].mode()"
   ]
  },
  {
   "cell_type": "code",
   "execution_count": 15,
   "id": "fb724242",
   "metadata": {
    "id": "fb724242",
    "outputId": "df2388f5-4b6d-4b68-ed5f-adc462d5accc"
   },
   "outputs": [
    {
     "data": {
      "text/plain": [
       "'no'"
      ]
     },
     "execution_count": 15,
     "metadata": {},
     "output_type": "execute_result"
    }
   ],
   "source": [
    "insurance['smoker'].mode()[0]"
   ]
  },
  {
   "cell_type": "code",
   "execution_count": 16,
   "id": "23df7962",
   "metadata": {
    "id": "23df7962",
    "outputId": "44d4877d-d158-4d20-d23a-582a27c3e672"
   },
   "outputs": [
    {
     "data": {
      "text/plain": [
       "39.31000752445448"
      ]
     },
     "execution_count": 16,
     "metadata": {},
     "output_type": "execute_result"
    }
   ],
   "source": [
    "insurance['age'].mean()"
   ]
  },
  {
   "cell_type": "code",
   "execution_count": 17,
   "id": "924c0c04",
   "metadata": {
    "id": "924c0c04"
   },
   "outputs": [],
   "source": [
    "for col_name in col:\n",
    "    if insurance[col_name].dtypes=='object':\n",
    "        #print('ob')\n",
    "        insurance[col_name] = insurance[col_name].fillna(insurance[col_name].mode()[0])\n",
    "    else:\n",
    "        #print('num')\n",
    "        insurance[col_name] = insurance[col_name].fillna(insurance[col_name].mean())"
   ]
  },
  {
   "cell_type": "code",
   "execution_count": 18,
   "id": "2c34477b",
   "metadata": {
    "id": "2c34477b",
    "outputId": "2c7f3633-2f56-439f-8dd6-2eb6466a5902"
   },
   "outputs": [
    {
     "data": {
      "text/plain": [
       "age                                0\n",
       "sex                                0\n",
       "bmi                                0\n",
       "children                           0\n",
       "smoker                             0\n",
       "Claim_Amount                       0\n",
       "past_consultations                 0\n",
       "num_of_steps                       0\n",
       "Hospital_expenditure               0\n",
       "NUmber_of_past_hospitalizations    0\n",
       "Anual_Salary                       0\n",
       "region                             0\n",
       "charges                            0\n",
       "dtype: int64"
      ]
     },
     "execution_count": 18,
     "metadata": {},
     "output_type": "execute_result"
    }
   ],
   "source": [
    "insurance.isnull().sum()"
   ]
  },
  {
   "cell_type": "code",
   "execution_count": 19,
   "id": "9c5789c1",
   "metadata": {
    "id": "9c5789c1",
    "outputId": "b0c55746-af06-4e7d-cdd1-acb4d681b60b"
   },
   "outputs": [
    {
     "data": {
      "text/plain": [
       "(1338, 13)"
      ]
     },
     "execution_count": 19,
     "metadata": {},
     "output_type": "execute_result"
    }
   ],
   "source": [
    "insurance.shape"
   ]
  },
  {
   "cell_type": "code",
   "execution_count": 20,
   "id": "dead1233",
   "metadata": {
    "id": "dead1233",
    "outputId": "b05c6318-308f-4c0f-c76b-12fdd46b2528"
   },
   "outputs": [
    {
     "data": {
      "text/plain": [
       "dtype('float64')"
      ]
     },
     "execution_count": 20,
     "metadata": {},
     "output_type": "execute_result"
    }
   ],
   "source": [
    "insurance['age'].dtype"
   ]
  },
  {
   "cell_type": "code",
   "execution_count": 21,
   "id": "c169fbcf",
   "metadata": {
    "id": "c169fbcf",
    "outputId": "97c29d5a-8ff3-4223-ab01-7ec305e187a6"
   },
   "outputs": [
    {
     "data": {
      "text/html": [
       "<div>\n",
       "<style scoped>\n",
       "    .dataframe tbody tr th:only-of-type {\n",
       "        vertical-align: middle;\n",
       "    }\n",
       "\n",
       "    .dataframe tbody tr th {\n",
       "        vertical-align: top;\n",
       "    }\n",
       "\n",
       "    .dataframe thead th {\n",
       "        text-align: right;\n",
       "    }\n",
       "</style>\n",
       "<table border=\"1\" class=\"dataframe\">\n",
       "  <thead>\n",
       "    <tr style=\"text-align: right;\">\n",
       "      <th></th>\n",
       "      <th>age</th>\n",
       "      <th>sex</th>\n",
       "      <th>bmi</th>\n",
       "      <th>children</th>\n",
       "      <th>smoker</th>\n",
       "      <th>Claim_Amount</th>\n",
       "      <th>past_consultations</th>\n",
       "      <th>num_of_steps</th>\n",
       "      <th>Hospital_expenditure</th>\n",
       "      <th>NUmber_of_past_hospitalizations</th>\n",
       "      <th>Anual_Salary</th>\n",
       "      <th>region</th>\n",
       "      <th>charges</th>\n",
       "    </tr>\n",
       "  </thead>\n",
       "  <tbody>\n",
       "    <tr>\n",
       "      <th>0</th>\n",
       "      <td>18.0</td>\n",
       "      <td>male</td>\n",
       "      <td>23.21</td>\n",
       "      <td>0.0</td>\n",
       "      <td>no</td>\n",
       "      <td>29087.54313</td>\n",
       "      <td>17.0</td>\n",
       "      <td>715428.0</td>\n",
       "      <td>4720920.992</td>\n",
       "      <td>0.0</td>\n",
       "      <td>55784970.05</td>\n",
       "      <td>southeast</td>\n",
       "      <td>1121.8739</td>\n",
       "    </tr>\n",
       "    <tr>\n",
       "      <th>1</th>\n",
       "      <td>18.0</td>\n",
       "      <td>male</td>\n",
       "      <td>30.14</td>\n",
       "      <td>0.0</td>\n",
       "      <td>no</td>\n",
       "      <td>39053.67437</td>\n",
       "      <td>7.0</td>\n",
       "      <td>699157.0</td>\n",
       "      <td>4329831.676</td>\n",
       "      <td>0.0</td>\n",
       "      <td>13700885.19</td>\n",
       "      <td>southeast</td>\n",
       "      <td>1131.5066</td>\n",
       "    </tr>\n",
       "    <tr>\n",
       "      <th>2</th>\n",
       "      <td>18.0</td>\n",
       "      <td>male</td>\n",
       "      <td>33.33</td>\n",
       "      <td>0.0</td>\n",
       "      <td>no</td>\n",
       "      <td>39023.62759</td>\n",
       "      <td>19.0</td>\n",
       "      <td>702341.0</td>\n",
       "      <td>6884860.774</td>\n",
       "      <td>0.0</td>\n",
       "      <td>73523107.27</td>\n",
       "      <td>southeast</td>\n",
       "      <td>1135.9407</td>\n",
       "    </tr>\n",
       "    <tr>\n",
       "      <th>3</th>\n",
       "      <td>18.0</td>\n",
       "      <td>male</td>\n",
       "      <td>33.66</td>\n",
       "      <td>0.0</td>\n",
       "      <td>no</td>\n",
       "      <td>28185.39332</td>\n",
       "      <td>11.0</td>\n",
       "      <td>700250.0</td>\n",
       "      <td>4274773.550</td>\n",
       "      <td>0.0</td>\n",
       "      <td>75819679.60</td>\n",
       "      <td>southeast</td>\n",
       "      <td>1136.3994</td>\n",
       "    </tr>\n",
       "    <tr>\n",
       "      <th>4</th>\n",
       "      <td>18.0</td>\n",
       "      <td>male</td>\n",
       "      <td>34.10</td>\n",
       "      <td>0.0</td>\n",
       "      <td>no</td>\n",
       "      <td>14697.85941</td>\n",
       "      <td>16.0</td>\n",
       "      <td>711584.0</td>\n",
       "      <td>3787293.921</td>\n",
       "      <td>0.0</td>\n",
       "      <td>23012320.01</td>\n",
       "      <td>southeast</td>\n",
       "      <td>1137.0110</td>\n",
       "    </tr>\n",
       "  </tbody>\n",
       "</table>\n",
       "</div>"
      ],
      "text/plain": [
       "    age   sex    bmi  children smoker  Claim_Amount  past_consultations  \\\n",
       "0  18.0  male  23.21       0.0     no   29087.54313                17.0   \n",
       "1  18.0  male  30.14       0.0     no   39053.67437                 7.0   \n",
       "2  18.0  male  33.33       0.0     no   39023.62759                19.0   \n",
       "3  18.0  male  33.66       0.0     no   28185.39332                11.0   \n",
       "4  18.0  male  34.10       0.0     no   14697.85941                16.0   \n",
       "\n",
       "   num_of_steps  Hospital_expenditure  NUmber_of_past_hospitalizations  \\\n",
       "0      715428.0           4720920.992                              0.0   \n",
       "1      699157.0           4329831.676                              0.0   \n",
       "2      702341.0           6884860.774                              0.0   \n",
       "3      700250.0           4274773.550                              0.0   \n",
       "4      711584.0           3787293.921                              0.0   \n",
       "\n",
       "   Anual_Salary     region    charges  \n",
       "0   55784970.05  southeast  1121.8739  \n",
       "1   13700885.19  southeast  1131.5066  \n",
       "2   73523107.27  southeast  1135.9407  \n",
       "3   75819679.60  southeast  1136.3994  \n",
       "4   23012320.01  southeast  1137.0110  "
      ]
     },
     "execution_count": 21,
     "metadata": {},
     "output_type": "execute_result"
    }
   ],
   "source": [
    "insurance.head()"
   ]
  },
  {
   "cell_type": "code",
   "execution_count": 22,
   "id": "73e61a07",
   "metadata": {
    "id": "73e61a07",
    "outputId": "ce7839d9-ed4d-498a-e441-edaa0faaba8c"
   },
   "outputs": [
    {
     "data": {
      "text/plain": [
       "['age',\n",
       " 'sex',\n",
       " 'bmi',\n",
       " 'children',\n",
       " 'smoker',\n",
       " 'Claim_Amount',\n",
       " 'past_consultations',\n",
       " 'num_of_steps',\n",
       " 'Hospital_expenditure',\n",
       " 'NUmber_of_past_hospitalizations',\n",
       " 'Anual_Salary',\n",
       " 'region',\n",
       " 'charges']"
      ]
     },
     "execution_count": 22,
     "metadata": {},
     "output_type": "execute_result"
    }
   ],
   "source": [
    "col"
   ]
  },
  {
   "cell_type": "code",
   "execution_count": 23,
   "id": "f2e2c157",
   "metadata": {
    "id": "f2e2c157"
   },
   "outputs": [],
   "source": [
    "#seaborn"
   ]
  },
  {
   "cell_type": "code",
   "execution_count": 24,
   "id": "7f32ba9b",
   "metadata": {
    "id": "7f32ba9b",
    "outputId": "d4fbd01c-b9ad-4f2d-c11c-98e1b37f4c9f"
   },
   "outputs": [
    {
     "data": {
      "image/png": "[encoded data removed]",
      "text/plain": [
       "<Figure size 432x288 with 1 Axes>"
      ]
     },
     "metadata": {
      "needs_background": "light"
     },
     "output_type": "display_data"
    },
    {
     "data": {
      "image/png": "[encoded data removed]",
      "text/plain": [
       "<Figure size 432x288 with 1 Axes>"
      ]
     },
     "metadata": {
      "needs_background": "light"
     },
     "output_type": "display_data"
    },
    {
     "data": {
      "image/png": "[encoded data removed]",
      "text/plain": [
       "<Figure size 432x288 with 1 Axes>"
      ]
     },
     "metadata": {
      "needs_background": "light"
     },
     "output_type": "display_data"
    },
    {
     "data": {
      "image/png": "[encoded data removed]",
      "text/plain": [
       "<Figure size 432x288 with 1 Axes>"
      ]
     },
     "metadata": {
      "needs_background": "light"
     },
     "output_type": "display_data"
    },
    {
     "data": {
      "image/png": "[encoded data removed]",
      "text/plain": [
       "<Figure size 432x288 with 1 Axes>"
      ]
     },
     "metadata": {
      "needs_background": "light"
     },
     "output_type": "display_data"
    },
    {
     "data": {
      "image/png": "[encoded data removed]",
      "text/plain": [
       "<Figure size 432x288 with 1 Axes>"
      ]
     },
     "metadata": {
      "needs_background": "light"
     },
     "output_type": "display_data"
    },
    {
     "data": {
      "image/png": "[encoded data removed]",
      "text/plain": [
       "<Figure size 432x288 with 1 Axes>"
      ]
     },
     "metadata": {
      "needs_background": "light"
     },
     "output_type": "display_data"
    },
    {
     "data": {
      "image/png": "[encoded data removed]",
      "text/plain": [
       "<Figure size 432x288 with 1 Axes>"
      ]
     },
     "metadata": {
      "needs_background": "light"
     },
     "output_type": "display_data"
    },
    {
     "data": {
      "image/png": "[encoded data removed]",
      "text/plain": [
       "<Figure size 432x288 with 1 Axes>"
      ]
     },
     "metadata": {
      "needs_background": "light"
     },
     "output_type": "display_data"
    },
    {
     "data": {
      "image/png": "[encoded data removed]",
      "text/plain": [
       "<Figure size 432x288 with 1 Axes>"
      ]
     },
     "metadata": {
      "needs_background": "light"
     },
     "output_type": "display_data"
    }
   ],
   "source": [
    "for col_name in col:\n",
    "    if(insurance[col_name].dtypes=='int64' or insurance[col_name].dtypes=='float64'):\n",
    "        plt.hist(insurance[col_name])\n",
    "        plt.xlabel(col_name)\n",
    "        plt.ylabel('count')\n",
    "        plt.show()"
   ]
  },
  {
   "cell_type": "code",
   "execution_count": 25,
   "id": "298b7a30",
   "metadata": {
    "id": "298b7a30",
    "outputId": "3356d343-1cdd-4fbe-84ee-270a92f6bb9a"
   },
   "outputs": [
    {
     "data": {
      "image/png": "[encoded data removed]",
      "text/plain": [
       "<Figure size 432x288 with 1 Axes>"
      ]
     },
     "metadata": {
      "needs_background": "light"
     },
     "output_type": "display_data"
    },
    {
     "data": {
      "image/png": "[encoded data removed]",
      "text/plain": [
       "<Figure size 432x288 with 1 Axes>"
      ]
     },
     "metadata": {
      "needs_background": "light"
     },
     "output_type": "display_data"
    },
    {
     "data": {
      "image/png": "[encoded data removed]",
      "text/plain": [
       "<Figure size 432x288 with 1 Axes>"
      ]
     },
     "metadata": {
      "needs_background": "light"
     },
     "output_type": "display_data"
    },
    {
     "data": {
      "image/png": "[encoded data removed]",
      "text/plain": [
       "<Figure size 432x288 with 1 Axes>"
      ]
     },
     "metadata": {
      "needs_background": "light"
     },
     "output_type": "display_data"
    },
    {
     "data": {
      "image/png": "[encoded data removed]",
      "text/plain": [
       "<Figure size 432x288 with 1 Axes>"
      ]
     },
     "metadata": {
      "needs_background": "light"
     },
     "output_type": "display_data"
    },
    {
     "data": {
      "image/png": "[encoded data removed]",
      "text/plain": [
       "<Figure size 432x288 with 1 Axes>"
      ]
     },
     "metadata": {
      "needs_background": "light"
     },
     "output_type": "display_data"
    },
    {
     "data": {
      "image/png": "[encoded data removed]",
      "text/plain": [
       "<Figure size 432x288 with 1 Axes>"
      ]
     },
     "metadata": {
      "needs_background": "light"
     },
     "output_type": "display_data"
    },
    {
     "data": {
      "image/png": "[encoded data removed]",
      "text/plain": [
       "<Figure size 432x288 with 1 Axes>"
      ]
     },
     "metadata": {
      "needs_background": "light"
     },
     "output_type": "display_data"
    },
    {
     "data": {
      "image/png": "[encoded data removed]",
      "text/plain": [
       "<Figure size 432x288 with 1 Axes>"
      ]
     },
     "metadata": {
      "needs_background": "light"
     },
     "output_type": "display_data"
    },
    {
     "data": {
      "image/png": "[encoded data removed]",
      "text/plain": [
       "<Figure size 432x288 with 1 Axes>"
      ]
     },
     "metadata": {
      "needs_background": "light"
     },
     "output_type": "display_data"
    }
   ],
   "source": [
    "for col_name in col:\n",
    "    if(insurance[col_name].dtypes=='int64' or insurance[col_name].dtypes=='float64'):\n",
    "        plt.boxplot(insurance[col_name])\n",
    "        plt.xlabel(col_name)\n",
    "        plt.ylabel('count')\n",
    "        plt.show()"
   ]
  },
  {
   "cell_type": "code",
   "execution_count": 26,
   "id": "63898c19",
   "metadata": {
    "id": "63898c19"
   },
   "outputs": [],
   "source": [
    "#treating outliers"
   ]
  },
  {
   "cell_type": "code",
   "execution_count": 27,
   "id": "4dea2210",
   "metadata": {
    "id": "4dea2210"
   },
   "outputs": [],
   "source": [
    "Q1 = insurance.bmi.quantile(0.25)\n",
    "Q3 = insurance.bmi.quantile(0.75)"
   ]
  },
  {
   "cell_type": "code",
   "execution_count": 28,
   "id": "5627bc40",
   "metadata": {
    "id": "5627bc40",
    "outputId": "2f9cdc11-3e6f-483a-c101-75c18325646d"
   },
   "outputs": [
    {
     "data": {
      "text/plain": [
       "26.315"
      ]
     },
     "execution_count": 28,
     "metadata": {},
     "output_type": "execute_result"
    }
   ],
   "source": [
    "Q1"
   ]
  },
  {
   "cell_type": "code",
   "execution_count": 29,
   "id": "81df2c33",
   "metadata": {
    "id": "81df2c33",
    "outputId": "362b1869-eb7c-4c7a-ab36-4a10ed5d1a34"
   },
   "outputs": [
    {
     "data": {
      "text/plain": [
       "34.65625"
      ]
     },
     "execution_count": 29,
     "metadata": {},
     "output_type": "execute_result"
    }
   ],
   "source": [
    "Q3"
   ]
  },
  {
   "cell_type": "code",
   "execution_count": 30,
   "id": "0a8197cc",
   "metadata": {
    "id": "0a8197cc",
    "outputId": "341186e8-eb7c-4f2a-fb19-4615ae880ec9"
   },
   "outputs": [
    {
     "data": {
      "text/plain": [
       "8.341249999999999"
      ]
     },
     "execution_count": 30,
     "metadata": {},
     "output_type": "execute_result"
    }
   ],
   "source": [
    "IQR = Q3 - Q1\n",
    "IQR"
   ]
  },
  {
   "cell_type": "code",
   "execution_count": 31,
   "id": "a68185ef",
   "metadata": {
    "id": "a68185ef",
    "outputId": "ba4bc24c-8bd3-4c09-ee22-0d4570e90153"
   },
   "outputs": [
    {
     "data": {
      "text/plain": [
       "13.803125000000003"
      ]
     },
     "execution_count": 31,
     "metadata": {},
     "output_type": "execute_result"
    }
   ],
   "source": [
    "Q1 - 1.5*IQR"
   ]
  },
  {
   "cell_type": "code",
   "execution_count": 32,
   "id": "ce8609d9",
   "metadata": {
    "id": "ce8609d9",
    "outputId": "4987e80e-3003-4fdf-b5fa-4df254baa4fe"
   },
   "outputs": [
    {
     "data": {
      "text/plain": [
       "47.168124999999996"
      ]
     },
     "execution_count": 32,
     "metadata": {},
     "output_type": "execute_result"
    }
   ],
   "source": [
    "Q3 + 1.5*IQR"
   ]
  },
  {
   "cell_type": "code",
   "execution_count": 33,
   "id": "024f22bc",
   "metadata": {
    "id": "024f22bc",
    "outputId": "e6ce40dd-89df-46f5-a553-a09b74e79cf9",
    "scrolled": true
   },
   "outputs": [
    {
     "data": {
      "image/png": "[encoded data removed]",
      "text/plain": [
       "<Figure size 432x288 with 1 Axes>"
      ]
     },
     "metadata": {
      "needs_background": "light"
     },
     "output_type": "display_data"
    }
   ],
   "source": [
    "plt.boxplot(insurance['bmi'])\n",
    "plt.show()"
   ]
  },
  {
   "cell_type": "code",
   "execution_count": 34,
   "id": "196a9864",
   "metadata": {
    "id": "196a9864"
   },
   "outputs": [],
   "source": [
    "#insurance[(insurance['sex']=='male') & (insurance['smoker']=='no')]"
   ]
  },
  {
   "cell_type": "code",
   "execution_count": 35,
   "id": "d829ef22",
   "metadata": {
    "id": "d829ef22"
   },
   "outputs": [],
   "source": [
    "\n",
    "Q1 = insurance.bmi.quantile(0.25)\n",
    "Q3 = insurance.bmi.quantile(0.75)\n",
    "IQR = Q3 - Q1\n",
    "insurance = insurance[(insurance.bmi >= Q1 - 1.5*IQR) & (insurance.bmi <= Q3 + 1.5*IQR)]\n",
    "\n",
    "Q1 = insurance.past_consultations.quantile(0.25)\n",
    "Q3 = insurance.past_consultations.quantile(0.75)\n",
    "IQR = Q3 - Q1\n",
    "insurance = insurance[(insurance.past_consultations >= Q1 - 1.5*IQR) & (insurance.past_consultations <= Q3 + 1.5*IQR)]\n",
    "\n",
    "Q1 = insurance.Hospital_expenditure.quantile(0.25)\n",
    "Q3 = insurance.Hospital_expenditure.quantile(0.75)\n",
    "IQR = Q3 - Q1\n",
    "insurance = insurance[(insurance.Hospital_expenditure >= Q1 - 1.5*IQR) & (insurance.Hospital_expenditure <= Q3 + 1.5*IQR)]\n",
    "\n",
    "Q1 = insurance.Anual_Salary.quantile(0.25)\n",
    "Q3 = insurance.Anual_Salary.quantile(0.75)\n",
    "IQR = Q3 - Q1\n",
    "insurance = insurance[(insurance.Anual_Salary >= Q1 - 1.5*IQR) & (insurance.Anual_Salary <= Q3 + 1.5*IQR)]\n"
   ]
  },
  {
   "cell_type": "code",
   "execution_count": 36,
   "id": "e2e60944",
   "metadata": {
    "id": "e2e60944",
    "outputId": "4d1bf32c-dbd3-4f04-9d00-0bb0c3e09dce"
   },
   "outputs": [
    {
     "data": {
      "text/plain": [
       "(1030, 13)"
      ]
     },
     "execution_count": 36,
     "metadata": {},
     "output_type": "execute_result"
    }
   ],
   "source": [
    "insurance.shape"
   ]
  },
  {
   "cell_type": "code",
   "execution_count": null,
   "id": "9ff5a161",
   "metadata": {
    "id": "9ff5a161"
   },
   "outputs": [],
   "source": []
  },
  {
   "cell_type": "code",
   "execution_count": 37,
   "id": "6d60c950",
   "metadata": {
    "id": "6d60c950",
    "outputId": "62ebcb5f-945f-4d92-eb8b-3a3b04b90803"
   },
   "outputs": [
    {
     "data": {
      "text/html": [
       "<div>\n",
       "<style scoped>\n",
       "    .dataframe tbody tr th:only-of-type {\n",
       "        vertical-align: middle;\n",
       "    }\n",
       "\n",
       "    .dataframe tbody tr th {\n",
       "        vertical-align: top;\n",
       "    }\n",
       "\n",
       "    .dataframe thead th {\n",
       "        text-align: right;\n",
       "    }\n",
       "</style>\n",
       "<table border=\"1\" class=\"dataframe\">\n",
       "  <thead>\n",
       "    <tr style=\"text-align: right;\">\n",
       "      <th></th>\n",
       "      <th>age</th>\n",
       "      <th>bmi</th>\n",
       "      <th>children</th>\n",
       "      <th>Claim_Amount</th>\n",
       "      <th>past_consultations</th>\n",
       "      <th>num_of_steps</th>\n",
       "      <th>Hospital_expenditure</th>\n",
       "      <th>NUmber_of_past_hospitalizations</th>\n",
       "      <th>Anual_Salary</th>\n",
       "      <th>charges</th>\n",
       "    </tr>\n",
       "  </thead>\n",
       "  <tbody>\n",
       "    <tr>\n",
       "      <th>age</th>\n",
       "      <td>1.000000</td>\n",
       "      <td>0.155957</td>\n",
       "      <td>0.045371</td>\n",
       "      <td>0.117750</td>\n",
       "      <td>0.172063</td>\n",
       "      <td>0.749468</td>\n",
       "      <td>0.160555</td>\n",
       "      <td>0.519538</td>\n",
       "      <td>0.490802</td>\n",
       "      <td>0.676071</td>\n",
       "    </tr>\n",
       "    <tr>\n",
       "      <th>bmi</th>\n",
       "      <td>0.155957</td>\n",
       "      <td>1.000000</td>\n",
       "      <td>0.006477</td>\n",
       "      <td>0.008343</td>\n",
       "      <td>0.023543</td>\n",
       "      <td>0.040324</td>\n",
       "      <td>0.013992</td>\n",
       "      <td>0.016121</td>\n",
       "      <td>0.004105</td>\n",
       "      <td>0.010248</td>\n",
       "    </tr>\n",
       "    <tr>\n",
       "      <th>children</th>\n",
       "      <td>0.045371</td>\n",
       "      <td>0.006477</td>\n",
       "      <td>1.000000</td>\n",
       "      <td>0.041716</td>\n",
       "      <td>0.045472</td>\n",
       "      <td>0.228830</td>\n",
       "      <td>-0.007494</td>\n",
       "      <td>0.316622</td>\n",
       "      <td>0.064840</td>\n",
       "      <td>0.138470</td>\n",
       "    </tr>\n",
       "    <tr>\n",
       "      <th>Claim_Amount</th>\n",
       "      <td>0.117750</td>\n",
       "      <td>0.008343</td>\n",
       "      <td>0.041716</td>\n",
       "      <td>1.000000</td>\n",
       "      <td>0.071569</td>\n",
       "      <td>0.185434</td>\n",
       "      <td>0.054111</td>\n",
       "      <td>0.109748</td>\n",
       "      <td>0.157826</td>\n",
       "      <td>0.192601</td>\n",
       "    </tr>\n",
       "    <tr>\n",
       "      <th>past_consultations</th>\n",
       "      <td>0.172063</td>\n",
       "      <td>0.023543</td>\n",
       "      <td>0.045472</td>\n",
       "      <td>0.071569</td>\n",
       "      <td>1.000000</td>\n",
       "      <td>0.259401</td>\n",
       "      <td>0.088466</td>\n",
       "      <td>0.135498</td>\n",
       "      <td>0.265710</td>\n",
       "      <td>0.278131</td>\n",
       "    </tr>\n",
       "    <tr>\n",
       "      <th>num_of_steps</th>\n",
       "      <td>0.749468</td>\n",
       "      <td>0.040324</td>\n",
       "      <td>0.228830</td>\n",
       "      <td>0.185434</td>\n",
       "      <td>0.259401</td>\n",
       "      <td>1.000000</td>\n",
       "      <td>0.299554</td>\n",
       "      <td>0.714983</td>\n",
       "      <td>0.767247</td>\n",
       "      <td>0.936946</td>\n",
       "    </tr>\n",
       "    <tr>\n",
       "      <th>Hospital_expenditure</th>\n",
       "      <td>0.160555</td>\n",
       "      <td>0.013992</td>\n",
       "      <td>-0.007494</td>\n",
       "      <td>0.054111</td>\n",
       "      <td>0.088466</td>\n",
       "      <td>0.299554</td>\n",
       "      <td>1.000000</td>\n",
       "      <td>0.129334</td>\n",
       "      <td>0.366809</td>\n",
       "      <td>0.358378</td>\n",
       "    </tr>\n",
       "    <tr>\n",
       "      <th>NUmber_of_past_hospitalizations</th>\n",
       "      <td>0.519538</td>\n",
       "      <td>0.016121</td>\n",
       "      <td>0.316622</td>\n",
       "      <td>0.109748</td>\n",
       "      <td>0.135498</td>\n",
       "      <td>0.714983</td>\n",
       "      <td>0.129334</td>\n",
       "      <td>1.000000</td>\n",
       "      <td>0.359422</td>\n",
       "      <td>0.538116</td>\n",
       "    </tr>\n",
       "    <tr>\n",
       "      <th>Anual_Salary</th>\n",
       "      <td>0.490802</td>\n",
       "      <td>0.004105</td>\n",
       "      <td>0.064840</td>\n",
       "      <td>0.157826</td>\n",
       "      <td>0.265710</td>\n",
       "      <td>0.767247</td>\n",
       "      <td>0.366809</td>\n",
       "      <td>0.359422</td>\n",
       "      <td>1.000000</td>\n",
       "      <td>0.892308</td>\n",
       "    </tr>\n",
       "    <tr>\n",
       "      <th>charges</th>\n",
       "      <td>0.676071</td>\n",
       "      <td>0.010248</td>\n",
       "      <td>0.138470</td>\n",
       "      <td>0.192601</td>\n",
       "      <td>0.278131</td>\n",
       "      <td>0.936946</td>\n",
       "      <td>0.358378</td>\n",
       "      <td>0.538116</td>\n",
       "      <td>0.892308</td>\n",
       "      <td>1.000000</td>\n",
       "    </tr>\n",
       "  </tbody>\n",
       "</table>\n",
       "</div>"
      ],
      "text/plain": [
       "                                      age       bmi  children  Claim_Amount  \\\n",
       "age                              1.000000  0.155957  0.045371      0.117750   \n",
       "bmi                              0.155957  1.000000  0.006477      0.008343   \n",
       "children                         0.045371  0.006477  1.000000      0.041716   \n",
       "Claim_Amount                     0.117750  0.008343  0.041716      1.000000   \n",
       "past_consultations               0.172063  0.023543  0.045472      0.071569   \n",
       "num_of_steps                     0.749468  0.040324  0.228830      0.185434   \n",
       "Hospital_expenditure             0.160555  0.013992 -0.007494      0.054111   \n",
       "NUmber_of_past_hospitalizations  0.519538  0.016121  0.316622      0.109748   \n",
       "Anual_Salary                     0.490802  0.004105  0.064840      0.157826   \n",
       "charges                          0.676071  0.010248  0.138470      0.192601   \n",
       "\n",
       "                                 past_consultations  num_of_steps  \\\n",
       "age                                        0.172063      0.749468   \n",
       "bmi                                        0.023543      0.040324   \n",
       "children                                   0.045472      0.228830   \n",
       "Claim_Amount                               0.071569      0.185434   \n",
       "past_consultations                         1.000000      0.259401   \n",
       "num_of_steps                               0.259401      1.000000   \n",
       "Hospital_expenditure                       0.088466      0.299554   \n",
       "NUmber_of_past_hospitalizations            0.135498      0.714983   \n",
       "Anual_Salary                               0.265710      0.767247   \n",
       "charges                                    0.278131      0.936946   \n",
       "\n",
       "                                 Hospital_expenditure  \\\n",
       "age                                          0.160555   \n",
       "bmi                                          0.013992   \n",
       "children                                    -0.007494   \n",
       "Claim_Amount                                 0.054111   \n",
       "past_consultations                           0.088466   \n",
       "num_of_steps                                 0.299554   \n",
       "Hospital_expenditure                         1.000000   \n",
       "NUmber_of_past_hospitalizations              0.129334   \n",
       "Anual_Salary                                 0.366809   \n",
       "charges                                      0.358378   \n",
       "\n",
       "                                 NUmber_of_past_hospitalizations  \\\n",
       "age                                                     0.519538   \n",
       "bmi                                                     0.016121   \n",
       "children                                                0.316622   \n",
       "Claim_Amount                                            0.109748   \n",
       "past_consultations                                      0.135498   \n",
       "num_of_steps                                            0.714983   \n",
       "Hospital_expenditure                                    0.129334   \n",
       "NUmber_of_past_hospitalizations                         1.000000   \n",
       "Anual_Salary                                            0.359422   \n",
       "charges                                                 0.538116   \n",
       "\n",
       "                                 Anual_Salary   charges  \n",
       "age                                  0.490802  0.676071  \n",
       "bmi                                  0.004105  0.010248  \n",
       "children                             0.064840  0.138470  \n",
       "Claim_Amount                         0.157826  0.192601  \n",
       "past_consultations                   0.265710  0.278131  \n",
       "num_of_steps                         0.767247  0.936946  \n",
       "Hospital_expenditure                 0.366809  0.358378  \n",
       "NUmber_of_past_hospitalizations      0.359422  0.538116  \n",
       "Anual_Salary                         1.000000  0.892308  \n",
       "charges                              0.892308  1.000000  "
      ]
     },
     "execution_count": 37,
     "metadata": {},
     "output_type": "execute_result"
    }
   ],
   "source": [
    "insurance.corr()"
   ]
  },
  {
   "cell_type": "code",
   "execution_count": 38,
   "id": "d8485224",
   "metadata": {
    "id": "d8485224"
   },
   "outputs": [],
   "source": [
    "#age, date of birth, 10th_year, 12th_year,--- anual expediture of the customer"
   ]
  },
  {
   "cell_type": "code",
   "execution_count": 39,
   "id": "b1f601d8",
   "metadata": {
    "id": "b1f601d8"
   },
   "outputs": [],
   "source": [
    "from sklearn.linear_model import LinearRegression"
   ]
  },
  {
   "cell_type": "code",
   "execution_count": 40,
   "id": "8b93388a",
   "metadata": {
    "id": "8b93388a"
   },
   "outputs": [],
   "source": [
    "from sklearn.model_selection import train_test_split"
   ]
  },
  {
   "cell_type": "code",
   "execution_count": 41,
   "id": "b8078c49",
   "metadata": {
    "id": "b8078c49"
   },
   "outputs": [],
   "source": [
    "from statsmodels.stats.outliers_influence import variance_inflation_factor \n",
    "col_list = []\n",
    "for col in insurance.columns:\n",
    "    if ((insurance[col].dtype != 'object') & (col != 'charges') ):#only num cols except for the charges column\n",
    "        col_list.append(col)"
   ]
  },
  {
   "cell_type": "code",
   "execution_count": 42,
   "id": "912e2bd3",
   "metadata": {
    "id": "912e2bd3",
    "outputId": "0793ce36-923d-4c06-a5db-46f9fdca0993"
   },
   "outputs": [
    {
     "data": {
      "text/plain": [
       "['age',\n",
       " 'bmi',\n",
       " 'children',\n",
       " 'Claim_Amount',\n",
       " 'past_consultations',\n",
       " 'num_of_steps',\n",
       " 'Hospital_expenditure',\n",
       " 'NUmber_of_past_hospitalizations',\n",
       " 'Anual_Salary']"
      ]
     },
     "execution_count": 42,
     "metadata": {},
     "output_type": "execute_result"
    }
   ],
   "source": [
    "col_list"
   ]
  },
  {
   "cell_type": "code",
   "execution_count": 43,
   "id": "e2f3c8c9",
   "metadata": {
    "id": "e2f3c8c9",
    "outputId": "e00d8d15-10c3-486d-b387-f2d0169aa565"
   },
   "outputs": [
    {
     "data": {
      "text/html": [
       "<div>\n",
       "<style scoped>\n",
       "    .dataframe tbody tr th:only-of-type {\n",
       "        vertical-align: middle;\n",
       "    }\n",
       "\n",
       "    .dataframe tbody tr th {\n",
       "        vertical-align: top;\n",
       "    }\n",
       "\n",
       "    .dataframe thead th {\n",
       "        text-align: right;\n",
       "    }\n",
       "</style>\n",
       "<table border=\"1\" class=\"dataframe\">\n",
       "  <thead>\n",
       "    <tr style=\"text-align: right;\">\n",
       "      <th></th>\n",
       "      <th>age</th>\n",
       "      <th>bmi</th>\n",
       "      <th>children</th>\n",
       "      <th>Claim_Amount</th>\n",
       "      <th>past_consultations</th>\n",
       "      <th>num_of_steps</th>\n",
       "      <th>Hospital_expenditure</th>\n",
       "      <th>NUmber_of_past_hospitalizations</th>\n",
       "      <th>Anual_Salary</th>\n",
       "    </tr>\n",
       "  </thead>\n",
       "  <tbody>\n",
       "    <tr>\n",
       "      <th>0</th>\n",
       "      <td>18.0</td>\n",
       "      <td>23.210</td>\n",
       "      <td>0.0</td>\n",
       "      <td>29087.54313</td>\n",
       "      <td>17.0</td>\n",
       "      <td>715428.0</td>\n",
       "      <td>4.720921e+06</td>\n",
       "      <td>0.0</td>\n",
       "      <td>5.578497e+07</td>\n",
       "    </tr>\n",
       "    <tr>\n",
       "      <th>1</th>\n",
       "      <td>18.0</td>\n",
       "      <td>30.140</td>\n",
       "      <td>0.0</td>\n",
       "      <td>39053.67437</td>\n",
       "      <td>7.0</td>\n",
       "      <td>699157.0</td>\n",
       "      <td>4.329832e+06</td>\n",
       "      <td>0.0</td>\n",
       "      <td>1.370089e+07</td>\n",
       "    </tr>\n",
       "    <tr>\n",
       "      <th>2</th>\n",
       "      <td>18.0</td>\n",
       "      <td>33.330</td>\n",
       "      <td>0.0</td>\n",
       "      <td>39023.62759</td>\n",
       "      <td>19.0</td>\n",
       "      <td>702341.0</td>\n",
       "      <td>6.884861e+06</td>\n",
       "      <td>0.0</td>\n",
       "      <td>7.352311e+07</td>\n",
       "    </tr>\n",
       "    <tr>\n",
       "      <th>3</th>\n",
       "      <td>18.0</td>\n",
       "      <td>33.660</td>\n",
       "      <td>0.0</td>\n",
       "      <td>28185.39332</td>\n",
       "      <td>11.0</td>\n",
       "      <td>700250.0</td>\n",
       "      <td>4.274774e+06</td>\n",
       "      <td>0.0</td>\n",
       "      <td>7.581968e+07</td>\n",
       "    </tr>\n",
       "    <tr>\n",
       "      <th>4</th>\n",
       "      <td>18.0</td>\n",
       "      <td>34.100</td>\n",
       "      <td>0.0</td>\n",
       "      <td>14697.85941</td>\n",
       "      <td>16.0</td>\n",
       "      <td>711584.0</td>\n",
       "      <td>3.787294e+06</td>\n",
       "      <td>0.0</td>\n",
       "      <td>2.301232e+07</td>\n",
       "    </tr>\n",
       "    <tr>\n",
       "      <th>...</th>\n",
       "      <td>...</td>\n",
       "      <td>...</td>\n",
       "      <td>...</td>\n",
       "      <td>...</td>\n",
       "      <td>...</td>\n",
       "      <td>...</td>\n",
       "      <td>...</td>\n",
       "      <td>...</td>\n",
       "      <td>...</td>\n",
       "    </tr>\n",
       "    <tr>\n",
       "      <th>1046</th>\n",
       "      <td>29.0</td>\n",
       "      <td>27.940</td>\n",
       "      <td>1.0</td>\n",
       "      <td>51168.25474</td>\n",
       "      <td>23.0</td>\n",
       "      <td>993751.0</td>\n",
       "      <td>1.665982e+07</td>\n",
       "      <td>1.0</td>\n",
       "      <td>3.712188e+08</td>\n",
       "    </tr>\n",
       "    <tr>\n",
       "      <th>1048</th>\n",
       "      <td>31.0</td>\n",
       "      <td>25.900</td>\n",
       "      <td>3.0</td>\n",
       "      <td>46619.40230</td>\n",
       "      <td>27.0</td>\n",
       "      <td>989387.0</td>\n",
       "      <td>1.361938e+07</td>\n",
       "      <td>1.0</td>\n",
       "      <td>3.812895e+08</td>\n",
       "    </tr>\n",
       "    <tr>\n",
       "      <th>1050</th>\n",
       "      <td>31.0</td>\n",
       "      <td>29.810</td>\n",
       "      <td>0.0</td>\n",
       "      <td>24382.58056</td>\n",
       "      <td>21.0</td>\n",
       "      <td>973924.0</td>\n",
       "      <td>1.028991e+07</td>\n",
       "      <td>1.0</td>\n",
       "      <td>3.745310e+08</td>\n",
       "    </tr>\n",
       "    <tr>\n",
       "      <th>1062</th>\n",
       "      <td>43.0</td>\n",
       "      <td>20.045</td>\n",
       "      <td>2.0</td>\n",
       "      <td>21596.43846</td>\n",
       "      <td>10.0</td>\n",
       "      <td>994419.0</td>\n",
       "      <td>1.083030e+07</td>\n",
       "      <td>1.0</td>\n",
       "      <td>3.696849e+08</td>\n",
       "    </tr>\n",
       "    <tr>\n",
       "      <th>1069</th>\n",
       "      <td>35.0</td>\n",
       "      <td>28.025</td>\n",
       "      <td>0.0</td>\n",
       "      <td>17200.14586</td>\n",
       "      <td>15.0</td>\n",
       "      <td>993979.0</td>\n",
       "      <td>1.247744e+07</td>\n",
       "      <td>1.0</td>\n",
       "      <td>3.696849e+08</td>\n",
       "    </tr>\n",
       "  </tbody>\n",
       "</table>\n",
       "<p>1030 rows × 9 columns</p>\n",
       "</div>"
      ],
      "text/plain": [
       "       age     bmi  children  Claim_Amount  past_consultations  num_of_steps  \\\n",
       "0     18.0  23.210       0.0   29087.54313                17.0      715428.0   \n",
       "1     18.0  30.140       0.0   39053.67437                 7.0      699157.0   \n",
       "2     18.0  33.330       0.0   39023.62759                19.0      702341.0   \n",
       "3     18.0  33.660       0.0   28185.39332                11.0      700250.0   \n",
       "4     18.0  34.100       0.0   14697.85941                16.0      711584.0   \n",
       "...    ...     ...       ...           ...                 ...           ...   \n",
       "1046  29.0  27.940       1.0   51168.25474                23.0      993751.0   \n",
       "1048  31.0  25.900       3.0   46619.40230                27.0      989387.0   \n",
       "1050  31.0  29.810       0.0   24382.58056                21.0      973924.0   \n",
       "1062  43.0  20.045       2.0   21596.43846                10.0      994419.0   \n",
       "1069  35.0  28.025       0.0   17200.14586                15.0      993979.0   \n",
       "\n",
       "      Hospital_expenditure  NUmber_of_past_hospitalizations  Anual_Salary  \n",
       "0             4.720921e+06                              0.0  5.578497e+07  \n",
       "1             4.329832e+06                              0.0  1.370089e+07  \n",
       "2             6.884861e+06                              0.0  7.352311e+07  \n",
       "3             4.274774e+06                              0.0  7.581968e+07  \n",
       "4             3.787294e+06                              0.0  2.301232e+07  \n",
       "...                    ...                              ...           ...  \n",
       "1046          1.665982e+07                              1.0  3.712188e+08  \n",
       "1048          1.361938e+07                              1.0  3.812895e+08  \n",
       "1050          1.028991e+07                              1.0  3.745310e+08  \n",
       "1062          1.083030e+07                              1.0  3.696849e+08  \n",
       "1069          1.247744e+07                              1.0  3.696849e+08  \n",
       "\n",
       "[1030 rows x 9 columns]"
      ]
     },
     "execution_count": 43,
     "metadata": {},
     "output_type": "execute_result"
    }
   ],
   "source": [
    "X = insurance[col_list]\n",
    "X"
   ]
  },
  {
   "cell_type": "code",
   "execution_count": 44,
   "id": "aaa80713",
   "metadata": {
    "id": "aaa80713",
    "outputId": "a1950a87-87b4-4aca-d691-5e13a754dbb9"
   },
   "outputs": [
    {
     "data": {
      "text/plain": [
       "array([[1.80000000e+01, 2.32100000e+01, 0.00000000e+00, ...,\n",
       "        4.72092099e+06, 0.00000000e+00, 5.57849700e+07],\n",
       "       [1.80000000e+01, 3.01400000e+01, 0.00000000e+00, ...,\n",
       "        4.32983168e+06, 0.00000000e+00, 1.37008852e+07],\n",
       "       [1.80000000e+01, 3.33300000e+01, 0.00000000e+00, ...,\n",
       "        6.88486077e+06, 0.00000000e+00, 7.35231073e+07],\n",
       "       ...,\n",
       "       [3.10000000e+01, 2.98100000e+01, 0.00000000e+00, ...,\n",
       "        1.02899068e+07, 1.00000000e+00, 3.74530951e+08],\n",
       "       [4.30000000e+01, 2.00450000e+01, 2.00000000e+00, ...,\n",
       "        1.08303011e+07, 1.00000000e+00, 3.69684860e+08],\n",
       "       [3.50000000e+01, 2.80250000e+01, 0.00000000e+00, ...,\n",
       "        1.24774431e+07, 1.00000000e+00, 3.69684860e+08]])"
      ]
     },
     "execution_count": 44,
     "metadata": {},
     "output_type": "execute_result"
    }
   ],
   "source": [
    "X.values"
   ]
  },
  {
   "cell_type": "code",
   "execution_count": 45,
   "id": "558e17ca",
   "metadata": {
    "id": "558e17ca",
    "outputId": "8315ae94-6f76-4473-cfa9-473e140850dc"
   },
   "outputs": [
    {
     "name": "stdout",
     "output_type": "stream",
     "text": [
      "0\n",
      "1\n",
      "2\n",
      "3\n",
      "4\n",
      "5\n",
      "6\n",
      "7\n",
      "8\n"
     ]
    }
   ],
   "source": [
    "for i in range(len(X.columns)):\n",
    "    print(i)"
   ]
  },
  {
   "cell_type": "code",
   "execution_count": 46,
   "id": "6ec6768b",
   "metadata": {
    "id": "6ec6768b",
    "outputId": "ffc4401e-524b-42da-d7be-86e0356bf253"
   },
   "outputs": [
    {
     "name": "stdout",
     "output_type": "stream",
     "text": [
      "                           feature        VIF\n",
      "0                              age  15.452095\n",
      "1                              bmi  26.330788\n",
      "2                         children   2.029618\n",
      "3                     Claim_Amount   5.678660\n",
      "4               past_consultations   6.258017\n",
      "5                     num_of_steps  61.574692\n",
      "6             Hospital_expenditure   5.204376\n",
      "7  NUmber_of_past_hospitalizations  12.052060\n",
      "8                     Anual_Salary   5.481823\n"
     ]
    }
   ],
   "source": [
    "from statsmodels.stats.outliers_influence import variance_inflation_factor \n",
    "col_list = []\n",
    "for col in insurance.columns:\n",
    "    if ((insurance[col].dtype != 'object') & (col != 'charges') ):\n",
    "        col_list.append(col)\n",
    "\n",
    "X = insurance[col_list]\n",
    "vif_data = pd.DataFrame() \n",
    "vif_data[\"feature\"] = X.columns \n",
    "vif_data[\"VIF\"] = [variance_inflation_factor(X.values, i) for i in range(len(X.columns))] \n",
    "print(vif_data)"
   ]
  },
  {
   "cell_type": "code",
   "execution_count": 47,
   "id": "b47a1312",
   "metadata": {
    "id": "b47a1312",
    "outputId": "ce7b34b7-0d3c-439e-a933-4dccc294f680"
   },
   "outputs": [
    {
     "data": {
      "text/plain": [
       "9"
      ]
     },
     "execution_count": 47,
     "metadata": {},
     "output_type": "execute_result"
    }
   ],
   "source": [
    "len(X.columns)"
   ]
  },
  {
   "cell_type": "code",
   "execution_count": 48,
   "id": "8462d5aa",
   "metadata": {
    "id": "8462d5aa"
   },
   "outputs": [],
   "source": [
    "#1/1-R2"
   ]
  },
  {
   "cell_type": "code",
   "execution_count": 49,
   "id": "087626a6",
   "metadata": {
    "id": "087626a6"
   },
   "outputs": [],
   "source": [
    "insurance=insurance.drop(['num_of_steps'], axis = 1)"
   ]
  },
  {
   "cell_type": "code",
   "execution_count": 50,
   "id": "7ba11e54",
   "metadata": {
    "id": "7ba11e54",
    "outputId": "bd691747-e70a-4692-a35e-3c81ea1487f9"
   },
   "outputs": [
    {
     "name": "stdout",
     "output_type": "stream",
     "text": [
      "                           feature        VIF\n",
      "0                              age  14.484893\n",
      "1                              bmi  12.261123\n",
      "2                         children   2.017441\n",
      "3                     Claim_Amount   5.243640\n",
      "4               past_consultations   5.842169\n",
      "5             Hospital_expenditure   4.929952\n",
      "6  NUmber_of_past_hospitalizations  10.687768\n",
      "7                     Anual_Salary   5.380679\n"
     ]
    }
   ],
   "source": [
    "col_list = []\n",
    "for col in insurance.columns:\n",
    "    if ((insurance[col].dtype != 'object') & (col != 'charges') ):\n",
    "        col_list.append(col)\n",
    "\n",
    "X = insurance[col_list]\n",
    "vif_data = pd.DataFrame() \n",
    "vif_data[\"feature\"] = X.columns \n",
    "vif_data[\"VIF\"] = [variance_inflation_factor(X.values, i) \n",
    "                          for i in range(len(X.columns))] \n",
    "print(vif_data)"
   ]
  },
  {
   "cell_type": "code",
   "execution_count": 51,
   "id": "c11fb567",
   "metadata": {
    "id": "c11fb567"
   },
   "outputs": [],
   "source": [
    "insurance=insurance.drop(['age'], axis=1)"
   ]
  },
  {
   "cell_type": "code",
   "execution_count": 52,
   "id": "c9e5b600",
   "metadata": {
    "id": "c9e5b600",
    "outputId": "5aff33a6-e878-447d-fe52-f4aa11ceb53f"
   },
   "outputs": [
    {
     "name": "stdout",
     "output_type": "stream",
     "text": [
      "                           feature        VIF\n",
      "0                              bmi  10.323093\n",
      "1                         children   1.978843\n",
      "2                     Claim_Amount   5.228284\n",
      "3               past_consultations   5.821933\n",
      "4             Hospital_expenditure   4.929287\n",
      "5  NUmber_of_past_hospitalizations   8.310570\n",
      "6                     Anual_Salary   4.723495\n"
     ]
    }
   ],
   "source": [
    "col_list = []\n",
    "for col in insurance.columns:\n",
    "    if ((insurance[col].dtype != 'object') & (col != 'charges') ):\n",
    "        col_list.append(col)\n",
    "\n",
    "X = insurance[col_list]\n",
    "vif_data = pd.DataFrame() \n",
    "vif_data[\"feature\"] = X.columns \n",
    "vif_data[\"VIF\"] = [variance_inflation_factor(X.values, i) \n",
    "                          for i in range(len(X.columns))] \n",
    "print(vif_data)"
   ]
  },
  {
   "cell_type": "code",
   "execution_count": 53,
   "id": "66c4111d",
   "metadata": {
    "id": "66c4111d"
   },
   "outputs": [],
   "source": [
    "insurance=insurance.drop(['bmi'], axis=1)"
   ]
  },
  {
   "cell_type": "code",
   "execution_count": 54,
   "id": "3b35d176",
   "metadata": {
    "id": "3b35d176",
    "outputId": "01fc5293-76ee-4fed-ee87-be7330d6fc80"
   },
   "outputs": [
    {
     "name": "stdout",
     "output_type": "stream",
     "text": [
      "                           feature       VIF\n",
      "0                         children  1.977037\n",
      "1                     Claim_Amount  4.547332\n",
      "2               past_consultations  5.049165\n",
      "3             Hospital_expenditure  4.492630\n",
      "4  NUmber_of_past_hospitalizations  7.245972\n",
      "5                     Anual_Salary  4.688833\n"
     ]
    }
   ],
   "source": [
    "col_list = []\n",
    "for col in insurance.columns:\n",
    "    if ((insurance[col].dtype != 'object') & (col != 'charges') ):\n",
    "        col_list.append(col)\n",
    "\n",
    "X = insurance[col_list]\n",
    "vif_data = pd.DataFrame() \n",
    "vif_data[\"feature\"] = X.columns \n",
    "vif_data[\"VIF\"] = [variance_inflation_factor(X.values, i) \n",
    "                          for i in range(len(X.columns))] \n",
    "print(vif_data)"
   ]
  },
  {
   "cell_type": "code",
   "execution_count": 55,
   "id": "a1e46a2c",
   "metadata": {
    "id": "a1e46a2c"
   },
   "outputs": [],
   "source": [
    "insurance=insurance.drop(['NUmber_of_past_hospitalizations'], axis=1)"
   ]
  },
  {
   "cell_type": "code",
   "execution_count": null,
   "id": "9adca449",
   "metadata": {
    "id": "9adca449",
    "outputId": "9a52d1c2-fbe0-4f6c-a1f5-aa9fbd69bacc"
   },
   "outputs": [
    {
     "name": "stdout",
     "output_type": "stream",
     "text": [
      "                feature       VIF\n",
      "0              children  1.713101\n",
      "1          Claim_Amount  4.152224\n",
      "2    past_consultations  4.670212\n",
      "3  Hospital_expenditure  4.320876\n",
      "4          Anual_Salary  4.279483\n"
     ]
    }
   ],
   "source": [
    "col_list = []\n",
    "for col in insurance.columns:\n",
    "    if ((insurance[col].dtype != 'object') & (col != 'charges') ):\n",
    "        col_list.append(col)\n",
    "\n",
    "X = insurance[col_list]\n",
    "vif_data = pd.DataFrame() \n",
    "vif_data[\"feature\"] = X.columns \n",
    "vif_data[\"VIF\"] = [variance_inflation_factor(X.values, i) \n",
    "                          for i in range(len(X.columns))] \n",
    "print(vif_data)"
   ]
  },
  {
   "cell_type": "code",
   "execution_count": null,
   "id": "65e1e027",
   "metadata": {
    "id": "65e1e027"
   },
   "outputs": [],
   "source": [
    "x=insurance.loc[:,['children','Claim_Amount','past_consultations','Hospital_expenditure','Anual_Salary']]\n",
    "y=insurance.iloc[:,-1]"
   ]
  },
  {
   "cell_type": "code",
   "execution_count": null,
   "id": "23451c11",
   "metadata": {
    "id": "23451c11"
   },
   "outputs": [],
   "source": [
    "x_train, x_test, y_train, y_test=train_test_split(x,y,train_size=0.8, random_state=0)"
   ]
  },
  {
   "cell_type": "code",
   "execution_count": null,
   "id": "fe467b96",
   "metadata": {
    "id": "fe467b96",
    "outputId": "4a78b87c-bdd8-46aa-b286-ccdd89e4c515"
   },
   "outputs": [
    {
     "name": "stdout",
     "output_type": "stream",
     "text": [
      "(824, 5)\n",
      "(824,)\n",
      "(206, 5)\n",
      "(206,)\n"
     ]
    }
   ],
   "source": [
    "print(x_train.shape)\n",
    "print(y_train.shape)\n",
    "print(x_test.shape)\n",
    "print(y_test.shape)"
   ]
  },
  {
   "cell_type": "code",
   "execution_count": null,
   "id": "f82e3274",
   "metadata": {
    "id": "f82e3274"
   },
   "outputs": [],
   "source": [
    "l_model=LinearRegression()"
   ]
  },
  {
   "cell_type": "code",
   "execution_count": null,
   "id": "ee2dafdb",
   "metadata": {
    "id": "ee2dafdb",
    "outputId": "1630ecc4-632c-4b3a-990f-87f4c59751f6"
   },
   "outputs": [
    {
     "data": {
      "text/plain": [
       "LinearRegression()"
      ]
     },
     "execution_count": 61,
     "metadata": {},
     "output_type": "execute_result"
    }
   ],
   "source": [
    "l_model.fit(x_train, y_train)"
   ]
  },
  {
   "cell_type": "code",
   "execution_count": null,
   "id": "de0b93a7",
   "metadata": {
    "id": "de0b93a7"
   },
   "outputs": [],
   "source": [
    "predictions=l_model.predict(x_test)"
   ]
  },
  {
   "cell_type": "code",
   "execution_count": null,
   "id": "387c24c7",
   "metadata": {
    "id": "387c24c7",
    "outputId": "122fa320-45e3-4742-d91c-1beda7ac1760"
   },
   "outputs": [
    {
     "data": {
      "text/plain": [
       "array([ 7410.79368293, 10525.46032915,  4225.68186835, 11784.67064226,\n",
       "        9710.44769939,  2920.28422479,  7675.02920952,  3974.05235592,\n",
       "        1998.90729711,  1644.33779821,  9355.99422159,  6212.23827286,\n",
       "        7039.69058406,  6913.4106462 ,  7297.05052731,  8116.21854338,\n",
       "        5359.21098611, 11610.94654975, 10731.85265303,  4125.98535049,\n",
       "        4978.27582414,  7076.11959566,  5297.22536168, 10517.54532016,\n",
       "        7970.32302538,  9134.27913297,  3195.07752332,  2030.84851755,\n",
       "        7974.53183192,  6784.21935489,  9063.13892274,  9603.83277346,\n",
       "        7310.54589067,  3127.05229652, 10815.26325585,  6390.86195988,\n",
       "        2959.6122486 ,  5861.07915275,  8191.78215091,  3550.84253839,\n",
       "        2770.66188065,  7533.68996882,  9234.00165879,  4599.21923178,\n",
       "        7080.4581291 ,  6040.26489711,  9148.59452643,  9621.34374208,\n",
       "        1845.77904491,  4786.94915214, 10787.39907085, 10725.71531506,\n",
       "       10417.07991618,  4695.22528891,  7214.06291724,  4625.56717868,\n",
       "        7070.97071416,  4832.79229408,  4921.6645236 ,  5390.73490964,\n",
       "       12157.57282626,  5842.57056696,  5743.69269364,  3322.41361323,\n",
       "        5241.38796184,  5197.03180732, 12653.2736581 , 12330.61447211,\n",
       "       13146.8973651 , 10610.86174981,  5343.85665226,  5192.63095827,\n",
       "        2798.50864679,  7021.71170606,  5953.25286472,  7750.53776609,\n",
       "        3695.64413672,  9979.30782225,  9140.15977684,  5668.68647813,\n",
       "        7492.02711475,  5387.23905602,  7223.62153603,  4819.64692758,\n",
       "        5274.28601603,  9500.76335614,  8425.37847892,  6088.46443308,\n",
       "       17382.08115559,  4410.38971863,  7681.81845598, 11811.01314018,\n",
       "        2847.58654187,  7149.38115333, 12118.90030746,  5218.18164639,\n",
       "        8498.94921926, 18736.06282214,  8374.18288578, 11761.80964658,\n",
       "        6817.38169363,  7419.06962725,  6943.81378551, 15318.22331685,\n",
       "        4082.3526408 ,  9967.7891119 ,  4724.73502641,  4982.02483868,\n",
       "        8141.38248823, 15130.76274566,  9988.88380677,  3183.70063998,\n",
       "        9215.91516381,  4274.70522625, 16525.78880011, 11553.07539794,\n",
       "       12180.44821735, 18729.20706773,  9852.65803542,  5369.1270617 ,\n",
       "        8091.955761  , 15196.45857579,  5444.20577558,  4079.32115207,\n",
       "       13076.34151516,  7445.10746273, 10830.27714957,  6369.85142804,\n",
       "        4542.9064519 , 11411.1496782 ,  4709.91345622,  3528.20093325,\n",
       "        3487.87204914, 12257.00243487,  6256.80091319,  5009.68002786,\n",
       "       10089.25495932,  6116.31502399,  8280.43438669,  7031.72556368,\n",
       "        9930.75519416,  3817.30935557,  4048.44285506, 11907.05298702,\n",
       "        6686.9169283 ,  9807.20047298,  5232.32852199, 10347.06713295,\n",
       "       11601.69659174,  8131.79034824,  5683.7071156 , 16387.38483129,\n",
       "        5464.06534313,  4244.00545447,  7264.97043063, 17023.64917215,\n",
       "        3260.27395254,  7385.10498573,  3021.5509367 ,  7859.13012524,\n",
       "        4654.88456066,  9096.89847871, 14803.6230348 ,  6155.00653325,\n",
       "       17144.28142723,  2417.39102399,  4006.110796  ,  5390.03227281,\n",
       "        1196.76765808, 10475.72412494, 11314.248146  ,  7035.90576038,\n",
       "       10439.81357375,  8530.47197745,  4897.2029884 ,  4789.69132357,\n",
       "       10411.41435708,  6285.14938641,  8396.08173083,  7137.34612038,\n",
       "        7024.10339038, 12696.94870272, 10249.7622798 ,  5206.9652089 ,\n",
       "        6026.04223446,  6395.05136151,  8192.26491728, 19892.85307792,\n",
       "        6797.6784389 ,  7628.25112571, 10469.76556039,  2429.6289456 ,\n",
       "       13001.99976997,  6795.73148932,  7917.71058934,  8232.89888415,\n",
       "       11229.86987182, 11936.16097121,  7674.07424506,  2631.98869905,\n",
       "        8297.23725025,  5781.93758286, 14969.26273668,  4926.60219651,\n",
       "       11617.1272109 ,  2520.96344644])"
      ]
     },
     "execution_count": 63,
     "metadata": {},
     "output_type": "execute_result"
    }
   ],
   "source": [
    "predictions"
   ]
  },
  {
   "cell_type": "code",
   "execution_count": null,
   "id": "265d03b7",
   "metadata": {
    "id": "265d03b7"
   },
   "outputs": [],
   "source": [
    "error_pred=pd.DataFrame(columns={'Actual_data','Prediction_data'})"
   ]
  },
  {
   "cell_type": "code",
   "execution_count": null,
   "id": "a3213faf",
   "metadata": {
    "id": "a3213faf",
    "outputId": "943fda5c-9e61-449e-d141-66323a010807"
   },
   "outputs": [
    {
     "data": {
      "text/html": [
       "<div>\n",
       "<style scoped>\n",
       "    .dataframe tbody tr th:only-of-type {\n",
       "        vertical-align: middle;\n",
       "    }\n",
       "\n",
       "    .dataframe tbody tr th {\n",
       "        vertical-align: top;\n",
       "    }\n",
       "\n",
       "    .dataframe thead th {\n",
       "        text-align: right;\n",
       "    }\n",
       "</style>\n",
       "<table border=\"1\" class=\"dataframe\">\n",
       "  <thead>\n",
       "    <tr style=\"text-align: right;\">\n",
       "      <th></th>\n",
       "      <th>Actual_data</th>\n",
       "      <th>Prediction_data</th>\n",
       "    </tr>\n",
       "  </thead>\n",
       "  <tbody>\n",
       "  </tbody>\n",
       "</table>\n",
       "</div>"
      ],
      "text/plain": [
       "Empty DataFrame\n",
       "Columns: [Actual_data, Prediction_data]\n",
       "Index: []"
      ]
     },
     "execution_count": 65,
     "metadata": {},
     "output_type": "execute_result"
    }
   ],
   "source": [
    "error_pred"
   ]
  },
  {
   "cell_type": "code",
   "execution_count": null,
   "id": "d92d06a5",
   "metadata": {
    "id": "d92d06a5"
   },
   "outputs": [],
   "source": [
    "error_pred['Actual_data']=y_test"
   ]
  },
  {
   "cell_type": "code",
   "execution_count": null,
   "id": "28be00fd",
   "metadata": {
    "id": "28be00fd",
    "outputId": "c2bdeb4a-e5c9-433e-928b-9e402403c2cc"
   },
   "outputs": [
    {
     "data": {
      "text/html": [
       "<div>\n",
       "<style scoped>\n",
       "    .dataframe tbody tr th:only-of-type {\n",
       "        vertical-align: middle;\n",
       "    }\n",
       "\n",
       "    .dataframe tbody tr th {\n",
       "        vertical-align: top;\n",
       "    }\n",
       "\n",
       "    .dataframe thead th {\n",
       "        text-align: right;\n",
       "    }\n",
       "</style>\n",
       "<table border=\"1\" class=\"dataframe\">\n",
       "  <thead>\n",
       "    <tr style=\"text-align: right;\">\n",
       "      <th></th>\n",
       "      <th>Actual_data</th>\n",
       "      <th>Prediction_data</th>\n",
       "    </tr>\n",
       "  </thead>\n",
       "  <tbody>\n",
       "    <tr>\n",
       "      <th>752</th>\n",
       "      <td>10704.47000</td>\n",
       "      <td>NaN</td>\n",
       "    </tr>\n",
       "    <tr>\n",
       "      <th>723</th>\n",
       "      <td>10197.77220</td>\n",
       "      <td>NaN</td>\n",
       "    </tr>\n",
       "    <tr>\n",
       "      <th>177</th>\n",
       "      <td>2801.25880</td>\n",
       "      <td>NaN</td>\n",
       "    </tr>\n",
       "    <tr>\n",
       "      <th>834</th>\n",
       "      <td>11848.14100</td>\n",
       "      <td>NaN</td>\n",
       "    </tr>\n",
       "    <tr>\n",
       "      <th>718</th>\n",
       "      <td>10107.22060</td>\n",
       "      <td>NaN</td>\n",
       "    </tr>\n",
       "    <tr>\n",
       "      <th>...</th>\n",
       "      <td>...</td>\n",
       "      <td>...</td>\n",
       "    </tr>\n",
       "    <tr>\n",
       "      <th>627</th>\n",
       "      <td>8688.85885</td>\n",
       "      <td>NaN</td>\n",
       "    </tr>\n",
       "    <tr>\n",
       "      <th>993</th>\n",
       "      <td>16085.12750</td>\n",
       "      <td>NaN</td>\n",
       "    </tr>\n",
       "    <tr>\n",
       "      <th>426</th>\n",
       "      <td>5976.83110</td>\n",
       "      <td>NaN</td>\n",
       "    </tr>\n",
       "    <tr>\n",
       "      <th>895</th>\n",
       "      <td>12925.88600</td>\n",
       "      <td>NaN</td>\n",
       "    </tr>\n",
       "    <tr>\n",
       "      <th>251</th>\n",
       "      <td>3766.88380</td>\n",
       "      <td>NaN</td>\n",
       "    </tr>\n",
       "  </tbody>\n",
       "</table>\n",
       "<p>206 rows × 2 columns</p>\n",
       "</div>"
      ],
      "text/plain": [
       "     Actual_data Prediction_data\n",
       "752  10704.47000             NaN\n",
       "723  10197.77220             NaN\n",
       "177   2801.25880             NaN\n",
       "834  11848.14100             NaN\n",
       "718  10107.22060             NaN\n",
       "..           ...             ...\n",
       "627   8688.85885             NaN\n",
       "993  16085.12750             NaN\n",
       "426   5976.83110             NaN\n",
       "895  12925.88600             NaN\n",
       "251   3766.88380             NaN\n",
       "\n",
       "[206 rows x 2 columns]"
      ]
     },
     "execution_count": 67,
     "metadata": {},
     "output_type": "execute_result"
    }
   ],
   "source": [
    "error_pred"
   ]
  },
  {
   "cell_type": "code",
   "execution_count": null,
   "id": "7e0c867d",
   "metadata": {
    "id": "7e0c867d"
   },
   "outputs": [],
   "source": [
    "error_pred['Prediction_data']=predictions"
   ]
  },
  {
   "cell_type": "code",
   "execution_count": null,
   "id": "7b9207b3",
   "metadata": {
    "id": "7b9207b3",
    "outputId": "5e69200d-f5a5-430f-9d66-1630c89a20e7"
   },
   "outputs": [
    {
     "data": {
      "text/html": [
       "<div>\n",
       "<style scoped>\n",
       "    .dataframe tbody tr th:only-of-type {\n",
       "        vertical-align: middle;\n",
       "    }\n",
       "\n",
       "    .dataframe tbody tr th {\n",
       "        vertical-align: top;\n",
       "    }\n",
       "\n",
       "    .dataframe thead th {\n",
       "        text-align: right;\n",
       "    }\n",
       "</style>\n",
       "<table border=\"1\" class=\"dataframe\">\n",
       "  <thead>\n",
       "    <tr style=\"text-align: right;\">\n",
       "      <th></th>\n",
       "      <th>Actual_data</th>\n",
       "      <th>Prediction_data</th>\n",
       "    </tr>\n",
       "  </thead>\n",
       "  <tbody>\n",
       "    <tr>\n",
       "      <th>752</th>\n",
       "      <td>10704.4700</td>\n",
       "      <td>7410.793683</td>\n",
       "    </tr>\n",
       "    <tr>\n",
       "      <th>723</th>\n",
       "      <td>10197.7722</td>\n",
       "      <td>10525.460329</td>\n",
       "    </tr>\n",
       "    <tr>\n",
       "      <th>177</th>\n",
       "      <td>2801.2588</td>\n",
       "      <td>4225.681868</td>\n",
       "    </tr>\n",
       "    <tr>\n",
       "      <th>834</th>\n",
       "      <td>11848.1410</td>\n",
       "      <td>11784.670642</td>\n",
       "    </tr>\n",
       "    <tr>\n",
       "      <th>718</th>\n",
       "      <td>10107.2206</td>\n",
       "      <td>9710.447699</td>\n",
       "    </tr>\n",
       "  </tbody>\n",
       "</table>\n",
       "</div>"
      ],
      "text/plain": [
       "     Actual_data  Prediction_data\n",
       "752   10704.4700      7410.793683\n",
       "723   10197.7722     10525.460329\n",
       "177    2801.2588      4225.681868\n",
       "834   11848.1410     11784.670642\n",
       "718   10107.2206      9710.447699"
      ]
     },
     "execution_count": 69,
     "metadata": {},
     "output_type": "execute_result"
    }
   ],
   "source": [
    "error_pred.head()"
   ]
  },
  {
   "cell_type": "code",
   "execution_count": null,
   "id": "d1e932a4",
   "metadata": {
    "id": "d1e932a4",
    "outputId": "c2de07ae-f024-4231-e5b4-b4fd76fac9ed"
   },
   "outputs": [
    {
     "data": {
      "text/plain": [
       "(206, 2)"
      ]
     },
     "execution_count": 70,
     "metadata": {},
     "output_type": "execute_result"
    }
   ],
   "source": [
    "error_pred.shape"
   ]
  },
  {
   "cell_type": "code",
   "execution_count": null,
   "id": "d2f2eb80",
   "metadata": {
    "id": "d2f2eb80"
   },
   "outputs": [],
   "source": [
    "error_pred['Error']=error_pred['Actual_data']-error_pred['Prediction_data']"
   ]
  },
  {
   "cell_type": "code",
   "execution_count": null,
   "id": "05d308c4",
   "metadata": {
    "id": "05d308c4",
    "outputId": "107465b1-e35e-4a96-f614-183fbf6986b9"
   },
   "outputs": [
    {
     "data": {
      "text/html": [
       "<div>\n",
       "<style scoped>\n",
       "    .dataframe tbody tr th:only-of-type {\n",
       "        vertical-align: middle;\n",
       "    }\n",
       "\n",
       "    .dataframe tbody tr th {\n",
       "        vertical-align: top;\n",
       "    }\n",
       "\n",
       "    .dataframe thead th {\n",
       "        text-align: right;\n",
       "    }\n",
       "</style>\n",
       "<table border=\"1\" class=\"dataframe\">\n",
       "  <thead>\n",
       "    <tr style=\"text-align: right;\">\n",
       "      <th></th>\n",
       "      <th>Actual_data</th>\n",
       "      <th>Prediction_data</th>\n",
       "      <th>Error</th>\n",
       "    </tr>\n",
       "  </thead>\n",
       "  <tbody>\n",
       "    <tr>\n",
       "      <th>752</th>\n",
       "      <td>10704.4700</td>\n",
       "      <td>7410.793683</td>\n",
       "      <td>3293.676317</td>\n",
       "    </tr>\n",
       "    <tr>\n",
       "      <th>723</th>\n",
       "      <td>10197.7722</td>\n",
       "      <td>10525.460329</td>\n",
       "      <td>-327.688129</td>\n",
       "    </tr>\n",
       "    <tr>\n",
       "      <th>177</th>\n",
       "      <td>2801.2588</td>\n",
       "      <td>4225.681868</td>\n",
       "      <td>-1424.423068</td>\n",
       "    </tr>\n",
       "    <tr>\n",
       "      <th>834</th>\n",
       "      <td>11848.1410</td>\n",
       "      <td>11784.670642</td>\n",
       "      <td>63.470358</td>\n",
       "    </tr>\n",
       "    <tr>\n",
       "      <th>718</th>\n",
       "      <td>10107.2206</td>\n",
       "      <td>9710.447699</td>\n",
       "      <td>396.772901</td>\n",
       "    </tr>\n",
       "  </tbody>\n",
       "</table>\n",
       "</div>"
      ],
      "text/plain": [
       "     Actual_data  Prediction_data        Error\n",
       "752   10704.4700      7410.793683  3293.676317\n",
       "723   10197.7722     10525.460329  -327.688129\n",
       "177    2801.2588      4225.681868 -1424.423068\n",
       "834   11848.1410     11784.670642    63.470358\n",
       "718   10107.2206      9710.447699   396.772901"
      ]
     },
     "execution_count": 72,
     "metadata": {},
     "output_type": "execute_result"
    }
   ],
   "source": [
    "error_pred.head()"
   ]
  },
  {
   "cell_type": "code",
   "execution_count": null,
   "id": "fa4cdf35",
   "metadata": {
    "id": "fa4cdf35"
   },
   "outputs": [],
   "source": []
  },
  {
   "cell_type": "code",
   "execution_count": null,
   "id": "6719e1a6",
   "metadata": {
    "id": "6719e1a6"
   },
   "outputs": [],
   "source": [
    "from sklearn.metrics import *"
   ]
  },
  {
   "cell_type": "code",
   "execution_count": null,
   "id": "d4383466",
   "metadata": {
    "id": "d4383466",
    "outputId": "516089b4-396b-4d56-f357-b347ad58ae4b"
   },
   "outputs": [
    {
     "data": {
      "text/plain": [
       "array([ 8636.77102077,  5889.89113882, 15510.15506332,  4534.92941326,\n",
       "       11476.89239221,  4790.24544067,  2226.4301962 , 14580.40311237,\n",
       "       18281.06573486,  5779.13917532,  9971.98821712,  8280.80960393,\n",
       "       12273.87781544, 17551.84469935,  2094.55275059,  5142.38710765,\n",
       "       12387.39416342,  6423.03514024,  9022.97286232,  5124.91472945,\n",
       "       15186.68881153,  3390.02964113,  7783.52737648, 12373.40805558,\n",
       "        7044.87450697, 12537.01546367,  1984.92004358,  5292.93806287,\n",
       "        5677.81955858,  6669.72484715, 18550.08823458, 12171.85956404,\n",
       "        3015.25403533,  5723.10604429,  1893.90076271,  4878.70389424,\n",
       "       10253.08347322,  6787.55544862,  4519.08995661,  5930.20374602,\n",
       "        8546.66285509,  3020.70144388,  7596.74648983,  4651.49079174,\n",
       "        8319.6957918 , 11814.77524627, 18159.61248909,  5380.4824588 ,\n",
       "       10795.88105083,  9205.23720252, 12884.63090351,  2313.04971677,\n",
       "        2290.56603928,  3408.29277406,  3780.0987899 ,  2099.40617415,\n",
       "        7774.8923554 , 16572.81470145,  4143.23459352,  6053.05097277,\n",
       "        5569.71011744,  8716.73350879,  8234.83637789,  5681.97410612,\n",
       "        5699.57376179,  4770.82159174, 11927.81122689,  5397.17031698,\n",
       "       17534.8260545 ,  8812.51412644,  5373.24830543,  5012.17478074,\n",
       "        3882.40152771,  7181.36016962,  3111.06679719,  4718.52366902,\n",
       "        4320.35928325,  6686.92144071,  3604.48721229,  5772.45098389,\n",
       "        6659.13462957,  5768.47641942,  3883.92749389,  9645.90370009,\n",
       "        5267.24023686,  4945.21051644, 17026.68556368, 16526.06617664,\n",
       "        2549.29212837, 10687.84905459,  5905.70573501,  4655.09804931,\n",
       "       16559.24025183, 10280.21731621, 13817.64173931,  5488.24740381,\n",
       "        7257.07725396, 15815.21492029,  5605.15203751,  5752.24381464,\n",
       "        6264.26956146,  1784.61509642,  7312.62305891,  7454.26112858,\n",
       "       15990.14890664,  9479.51730561,  1940.19032561,  7480.1014532 ,\n",
       "        8229.65393953,  4619.47307445,  1210.30190854,  3765.42909331,\n",
       "        4011.57193097, 10823.36248766,  8350.49042153, 10372.49400956,\n",
       "        6075.69435001, 11225.93375185,  6972.84994694,  2358.85164632,\n",
       "       11746.49663299, 16973.16903905, 13331.38636074,  7724.51400549,\n",
       "        5210.12298397,  6201.36983524, 12884.14418985,  5477.55458598,\n",
       "        6369.02203663,  6869.70966748,  2054.75732871,   851.39827065,\n",
       "        4611.26578119,  5345.89780968,  7730.67044974,  2449.39475387,\n",
       "        5655.74335425,  3360.12854785,  4649.46106919, 14611.88631901,\n",
       "        4572.16232047, 18908.91300882,  9362.86995139,  7271.16703403,\n",
       "        5939.95352815,  2145.41414443, 10328.46378815,  5568.83172657,\n",
       "       11056.14491038,  3710.71891449,  7408.67805464,  5798.13334159,\n",
       "        5506.01257878, 17001.25666052,  4952.93113503,  5354.39252103,\n",
       "        3963.00678465,  5361.6326375 ,  4508.81602256,  3966.65066257,\n",
       "        5268.11365098,  3946.41523179,  8616.42122388,  3368.74981196,\n",
       "        9696.60166388,  8330.64525955,  6224.87631281, 15826.14357424,\n",
       "       12820.08943873,  7865.81527451,  3847.76924827, 12221.4651232 ,\n",
       "       10758.1396063 ,  5730.41855538,  7779.92107075,  4933.40012849,\n",
       "        2725.22831535, 12967.95177012,  5362.75941936,  6082.41273878,\n",
       "        8705.27527543, 10852.50661667,  7666.47110843,  4060.09510696,\n",
       "        5669.24584048,  5164.64131802,  1738.45994489,  5037.27048827,\n",
       "       12248.80881772,  5085.40508564,  3678.02056208, 19515.50816508,\n",
       "       10327.37207514,  2253.2676512 ,  2636.01076119,  9348.61730109,\n",
       "        4667.8925088 , 20380.94203256,  3032.96459415,  3732.31825102,\n",
       "        4520.27189361,  9778.31015505,  6684.55791736, 15529.48018786,\n",
       "        9307.49991057,  5680.84538239,  6366.48194701,  2839.68443021,\n",
       "        8464.22583538,  8304.09491655,  5768.75822157,  3714.2832512 ,\n",
       "        5032.83022602, 10422.25552683,  5214.21363648,  3669.71455087,\n",
       "        3589.01500214, 10365.84353908,  6407.55948538, 11560.92428155,\n",
       "        7079.21791977,  9801.39685321,  1776.33853607, 10876.5838798 ,\n",
       "        3686.83031221, 10318.22568997, 11911.14370655,  2612.42721977,\n",
       "       11090.50909496,  9897.41175267,  7114.67230984,  8771.36827333,\n",
       "        4974.70727491,  9480.20605987, 19769.43173318, 15915.88464658,\n",
       "        3981.02477495,  5472.13089017,  5182.51590746,  6030.01814527,\n",
       "        5451.74530706,  6736.28784837,  7143.92094476,  6146.95574803,\n",
       "        9717.14781621, 14858.29476295,  6030.78824748,  7548.95181422,\n",
       "        9630.57686764,  1858.94071278,  9393.10649099,  8462.873242  ,\n",
       "       13964.05401831,  3431.98173353,  3591.85058262,  3835.53579727,\n",
       "       12799.74017394,  2545.4731812 ,  5000.2850621 ,  3384.75389763,\n",
       "        4022.90179032,  8024.53471529,  8776.86520058,  8919.5838239 ,\n",
       "        2326.97346345,  6278.44549406,  3256.75574426,  2057.41650955,\n",
       "       18996.75546985,  8561.59958957,  5791.68239998,  4300.38748496,\n",
       "        5609.36287607, 11167.39312419, 16065.87744405,  9703.9603907 ,\n",
       "       15799.55554067,  4291.93969004,  3436.83642297, 11674.23917248,\n",
       "        6233.86490723,  3014.29023146,  8204.22438558, 18599.23224874,\n",
       "        1870.71874371,  5493.73980842,  3889.13302182, 11226.70864597,\n",
       "        4388.83887168,  8156.51166474,  7326.55606823,  6172.42209335,\n",
       "        8889.07344836,  8166.58578488,  5622.72045325,  3170.34256669,\n",
       "        4809.54915431,  4405.21985131,  6567.84997652,  3020.70159851,\n",
       "        5660.89903681, 18796.34467353,  3554.75989908,  4263.00941845,\n",
       "        5556.29821218,  7135.46661372,  8197.08717081,  4229.27757795,\n",
       "        6848.32245981,  3917.91461467,  7725.05062352,  5719.25886244,\n",
       "        8161.51299333,  4317.72415299, 16185.32250552,  5230.93267824,\n",
       "        7225.23364378,  7110.98676714,  6494.13121645,  5007.51042008,\n",
       "        7564.48260296,  7318.84161494,  6820.92189565,  9236.64096646,\n",
       "        7323.2170767 ,  5856.63803342,  2662.075447  ,  4895.85664326,\n",
       "        7024.11036181, 18561.00867   , 10798.92721452,  6011.44984944,\n",
       "        5119.89585534, 10110.22884341,  7103.94846629,  5057.42103772,\n",
       "        5934.72588065,  9106.40027607,  4088.22778319,  5577.90314697,\n",
       "        5270.26161033, 12119.34225831,  8208.48702523,  4535.48790187,\n",
       "        8627.09368792, 10218.0215645 ,  3755.19921686,  3998.32486507,\n",
       "        3709.6974128 , 10761.37002008,  5012.10969747,  6539.78477525,\n",
       "        4432.10666724,  5471.22607612, 16413.41995282,  7984.24554082,\n",
       "        7063.46368442,  6585.35145586,  5429.16208006, 10822.56686674,\n",
       "        2223.45937329, 10183.5239394 ,  4202.71490217,  6556.10293482,\n",
       "        5654.24287133,  4777.38192064,  5584.79321059,  7261.06113627,\n",
       "       12353.90441726,  9135.73056083, 10096.01322734, 13328.12931202,\n",
       "        9575.51055988,  4734.67523339, 17735.21354873,  4570.82379919,\n",
       "       10149.63983075,  3259.86077023,  5793.12081868, 13284.85109012,\n",
       "       15428.78754866,  7285.38100938,  2194.37462418,  9347.55665431,\n",
       "        5400.43211108,  4664.96186471,  1836.61783529,  7768.25621885,\n",
       "        8290.74937641,  4676.19898191,  3377.16723475,  5053.88729812,\n",
       "        9505.43633252, 10230.4954423 ,  6055.77217652,  6038.6775126 ,\n",
       "        3819.03263215,  9528.75984652,  9755.1874787 , 10702.0842285 ,\n",
       "        7118.19894532, 11107.90131616,  7158.71848806,  4571.22422373,\n",
       "        7887.94916085,  7361.31491057,  4250.06622628, 14707.58691621,\n",
       "       10138.45938879,  6241.16891547, 10117.69341268,  4974.91270652,\n",
       "        5900.12733194,  7983.7792512 ,  5389.45597543,  5309.74582052,\n",
       "       10153.64960224,  8223.64755436,  6407.95587676, 12149.16843282,\n",
       "       12041.28395251, 13191.72273575,  4842.33426326,  9277.01444513,\n",
       "        9980.95010837,  7544.33096909,  5506.10823109,  7000.14793212,\n",
       "        2525.0395073 , 18903.02235114, 11868.80346329,  5231.55928637,\n",
       "       12294.41175518,  8657.21555335, 10698.52633753,  6005.56736185,\n",
       "        8532.2420973 ,  8857.8862697 , 10065.68710582,  4707.52746212,\n",
       "        7293.85650974,  8066.85672325,  3006.9525871 ,  6453.99869425,\n",
       "        7416.92155634,  2323.38038723,  9755.15244068,  3476.25362976,\n",
       "       11715.02175006,  9985.96733824, 17894.03321569,  8467.98637716,\n",
       "        8416.27559431,  6882.62345829,  5867.08329142, 12110.34820152,\n",
       "       12501.67103129,  6301.36975066, 10512.10974218,  4480.15580924,\n",
       "        4269.26092174,  7884.40830168,  6669.70030499,  6009.26353437,\n",
       "        2042.56955412,  5770.02148083, 18043.94558879,  2279.97273115,\n",
       "        9274.46037912,  5621.4357834 ,  5081.48179055, 16656.23001686,\n",
       "        5870.48564439, 19314.12782068, 10585.43476966,  9811.6649833 ,\n",
       "       10099.47831688,  5357.80496588,  5150.42073895,  7826.23623914,\n",
       "        5196.4210022 , 10340.16099569,  4717.3645297 ,  2833.99284436,\n",
       "        2657.19376088,  9236.69158021, 15674.62229217,  8068.87007185,\n",
       "        7964.04830685,  4657.26984172,  7942.76155281,  4674.88237615,\n",
       "       11319.41247295,  6335.61635068,  9209.83195092,  5387.4915282 ,\n",
       "        7294.98972732,  5124.77136233, 10143.6835252 , 13036.05937649,\n",
       "        6154.27116868,  3559.9605627 ,  9956.83608141, 18007.58018661,\n",
       "       12072.20841223, 10232.01319438, 12563.04537506, 10682.74012034,\n",
       "        7398.42192682,  5528.67194947,  4715.75797332,  5266.2312084 ,\n",
       "        5265.1859528 ,  7196.05391317,  5578.15949687,  2673.04903837,\n",
       "       14947.84398562,  1729.10540596,  6510.87117275,  5673.51099433,\n",
       "        3541.52458274,  7965.16760586, 10898.80933585, 18001.21955951,\n",
       "        6456.00774585,  4271.67193046,  4992.30520008,  4075.24600445,\n",
       "        8480.344426  , 14303.87724393, 11902.21030644,  9711.82856601,\n",
       "        2229.59642658,  3938.97599487,  7163.45189909, 12030.41289797,\n",
       "        6409.78509482, 10925.75151228,  2790.94319713, 19391.86149585,\n",
       "       10590.35156488,  5338.28534494,  7761.30716944,  2685.0879268 ,\n",
       "        3052.99994577,  5624.82536379,  4335.33475479,  2236.61318299,\n",
       "       15824.35203871,  2408.74951093,  5576.08989204, 10458.54389353,\n",
       "        4675.70689844,  9675.66353467,  4490.45753765,  5091.56875354,\n",
       "        3851.19664221,  5501.15675332,  6570.72766212,  7112.17128243,\n",
       "       10348.52195304,  9409.41174115,  9287.87535509,  9755.86856804,\n",
       "        4390.64349248,  4975.43784176, 11734.04547436,  9261.58623898,\n",
       "        8429.93100081,  9189.51993446, 10284.2544494 ,  5612.16986711,\n",
       "        7923.97135785,  2241.62813042,  2854.84104495,  8217.06158655,\n",
       "       12822.75477081, 12308.92196437, 12776.07498826, 10367.14048943,\n",
       "       19593.9843411 ,  9679.62199681,  6950.2350215 , 13593.1242704 ,\n",
       "       10278.19813617,  4385.41312142, 10291.74104517,  1153.81384454,\n",
       "        5473.45923166,  7991.21227266,  5932.80660987,  7758.50976479,\n",
       "        2097.43517933,  7007.97266236,  3621.72803687,  4584.03805202,\n",
       "       13886.31849909,  2703.75582685,  7097.4800252 ,  8017.81339382,\n",
       "        4985.04884712, 10113.83349052,  8978.31558957, 10843.20932965,\n",
       "       10268.93874351,  7503.29816403,  5398.01914464,  3605.42781192,\n",
       "        4730.59614496,  3477.36915905, 20854.33306468,  5077.44661913,\n",
       "        4839.32350199,  9452.96114234,  7723.5837333 ,  7584.72258433,\n",
       "        5390.65064056,  4421.12108689,  2912.18341717,  2525.11297958,\n",
       "        4200.89350371,  2640.1724442 ,  6405.3415499 ,  8964.83362199,\n",
       "        7807.59522194,  8153.62870841,  5816.11882999,  3948.23009778,\n",
       "       11197.22528373,  4755.50333634, 10862.25515557,  8057.4698414 ,\n",
       "        6716.86804321, 11189.56629865,  3276.66204006,  5078.54503205,\n",
       "        7315.14405081,  9827.11927766,  8237.69870444,  5441.71380719,\n",
       "        6802.79061806,  6816.91399947,  4637.93837734,  5017.91390831,\n",
       "        4127.48856227,  5376.55003444, 12818.1436443 ,  9546.17525599,\n",
       "        3727.19599803,  6384.62723557,  5588.93456655, 15832.38823686,\n",
       "        6984.25811054,  3979.07019046,  4213.36242828, 13949.27815185,\n",
       "       17101.13672939,  6202.83767144,  9822.94947502, 12628.99521726,\n",
       "        5867.11509142,  3169.98916667,  3227.40240132,  6154.07225773,\n",
       "        7466.25026871,  5138.67010924, 12952.99588426,  3409.0174824 ,\n",
       "        2862.19761541,  9115.24237672,  3454.14731059, 18805.30415662,\n",
       "        5792.42466871,  3189.10592784, 12632.52649992,  6006.32702183,\n",
       "        8335.46260448,  4870.78980489,  2753.55851071, 10337.05582046,\n",
       "        6301.23396828,  4184.02946771, 10421.61885088,  7459.11833315,\n",
       "        6028.39665058,  6733.42025476,  2790.30109712,  6775.09054271,\n",
       "        4297.65041084, 13336.13588488,  6736.04834101,  2883.53262133,\n",
       "        5403.72780976,  3199.73425544,  4963.91281738,  7555.76677098,\n",
       "        6721.99760289,  5833.42033206,  3176.32427945, 12302.65589779,\n",
       "        8513.26556534,  7358.97205902,  8523.13802835,  9872.75793172,\n",
       "        6180.77179096,  7318.79333436,  5389.54933418,  2528.81945439,\n",
       "       19431.72522731, 17113.75761588,  1824.3835942 ,  8193.11733337,\n",
       "        4877.88904554,  8474.74557307, 10045.16509297,  4169.55279923,\n",
       "       12655.63454398,  7344.69629127,  9014.85883796,  3032.36042335,\n",
       "        6514.14025142,  6162.62704567,  8786.44686045,  5407.81018032,\n",
       "        9838.9487578 ,  1955.08889973, 16895.68247281,  4532.21504818,\n",
       "       10788.3141747 ,  4891.57996967,  4266.16800453,  2343.40254751,\n",
       "       15196.82949979,  7438.04463804, 13845.53116197,  8909.69536012,\n",
       "        9437.81883781,  4180.77515855, 10879.5537922 ,  6245.97590207,\n",
       "        4264.87254562,  5422.18429763,  9873.9929433 ,  4662.57993154,\n",
       "       10944.41774239,  3165.52460253,  3165.31353612, 11808.35873548,\n",
       "        5550.83941439,  5093.23509845, 11120.82334669, 17900.45713098,\n",
       "        4837.9069142 ,  1944.04487435,  5726.97907884,  4159.64417078,\n",
       "        3041.18304223,  6664.22835013,  8164.82756843,  8274.52025593,\n",
       "        5101.82598647, 10279.66762972,  5010.61952997, 13996.59046221,\n",
       "       16184.40059926,  2417.55651984, 10633.87290931,  5254.14112345,\n",
       "        3545.00619999,  9514.01711453,  7574.66040053,  7510.88800631,\n",
       "        7594.68700849,  3651.29450262,  5734.36071823,  9394.27105851,\n",
       "        7908.18271371,  8851.07827511, 10034.83635559,  8395.7955024 ,\n",
       "        4981.89672554, 12731.89409472,  6673.6853275 ,  5279.01029917,\n",
       "       12403.32279202,  2993.41577758,  8307.48773788, 11425.46641757,\n",
       "       16091.02494433,  5214.35761671, 15986.5880329 ,  1702.21103086,\n",
       "       10915.11103275,  5463.04829949,  6964.03619506, 12197.33796932,\n",
       "       10092.97661144, 10643.04312004, 14309.85631388,  3931.38168115,\n",
       "       13619.13861968, 12055.41304352,  4731.30114112, 13570.6567764 ,\n",
       "        4649.65954354,  7157.04361057,  9127.5215806 , 18399.08684423,\n",
       "        4165.29880531,  2196.09385317,  9267.67673728,  7421.48644789,\n",
       "        6257.92708532,  6359.98860382,  3727.96515487,  5496.79658252,\n",
       "        4841.04311227,  1771.26440017,  7913.84413159,  4107.57814311,\n",
       "        9849.27270658, 11321.91091624,  7374.67841787, 10210.42542272])"
      ]
     },
     "execution_count": 74,
     "metadata": {},
     "output_type": "execute_result"
    }
   ],
   "source": [
    "train_predict=l_model.predict(x_train)\n",
    "train_predict"
   ]
  },
  {
   "cell_type": "code",
   "execution_count": null,
   "id": "d1521074",
   "metadata": {
    "id": "d1521074",
    "outputId": "18da9b23-075e-407f-80f6-a47d062be1a4"
   },
   "outputs": [
    {
     "data": {
      "text/plain": [
       "0.7996945806512533"
      ]
     },
     "execution_count": 75,
     "metadata": {},
     "output_type": "execute_result"
    }
   ],
   "source": [
    "r2_on_train=r2_score(y_train, train_predict)\n",
    "r2_on_train"
   ]
  },
  {
   "cell_type": "code",
   "execution_count": null,
   "id": "6dc34792",
   "metadata": {
    "id": "6dc34792",
    "outputId": "a5ac17f6-9883-483d-846a-920a059ff895"
   },
   "outputs": [
    {
     "data": {
      "text/plain": [
       "0.8436003409638432"
      ]
     },
     "execution_count": 76,
     "metadata": {},
     "output_type": "execute_result"
    }
   ],
   "source": [
    "r2_on_test=r2_score(y_test, predictions)\n",
    "r2_on_test"
   ]
  },
  {
   "cell_type": "code",
   "execution_count": null,
   "id": "0e23c768",
   "metadata": {
    "id": "0e23c768"
   },
   "outputs": [],
   "source": [
    "#insurance.describe()"
   ]
  },
  {
   "cell_type": "code",
   "execution_count": null,
   "id": "6ecc0e8f",
   "metadata": {
    "id": "6ecc0e8f"
   },
   "outputs": [],
   "source": []
  }
 ],
 "metadata": {
  "colab": {
   "name": "Linear Regression new case study (6).ipynb",
   "provenance": []
  },
  "kernelspec": {
   "display_name": "Python 3 (ipykernel)",
   "language": "python",
   "name": "python3"
  },
  "language_info": {
   "codemirror_mode": {
    "name": "ipython",
    "version": 3
   },
   "file_extension": ".py",
   "mimetype": "text/x-python",
   "name": "python",
   "nbconvert_exporter": "python",
   "pygments_lexer": "ipython3",
   "version": "3.9.7"
  }
 },
 "nbformat": 4,
 "nbformat_minor": 5
}
