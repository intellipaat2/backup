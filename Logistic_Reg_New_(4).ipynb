{
  "cells": [
    {
      "cell_type": "code",
      "execution_count": null,
      "id": "9e30780e",
      "metadata": {
        "id": "9e30780e"
      },
      "outputs": [],
      "source": [
        "import pandas as pd\n",
        "import numpy as np\n",
        "import warnings\n",
        "warnings.filterwarnings(\"ignore\")"
      ]
    },
    {
      "cell_type": "code",
      "execution_count": null,
      "id": "d098a572",
      "metadata": {
        "id": "d098a572"
      },
      "outputs": [],
      "source": [
        "#pd.read_excel()-- .xls file, .xlsx file\n",
        "#sqlite3"
      ]
    },
    {
      "cell_type": "code",
      "execution_count": null,
      "id": "45d6056b",
      "metadata": {
        "id": "45d6056b"
      },
      "outputs": [],
      "source": [
        "data=pd.read_csv('bank-additional-full.csv', sep=';')"
      ]
    },
    {
      "cell_type": "code",
      "execution_count": null,
      "id": "0bbde914",
      "metadata": {
        "id": "0bbde914"
      },
      "outputs": [],
      "source": [
        "data.head(20)"
      ]
    },
    {
      "cell_type": "code",
      "execution_count": null,
      "id": "c407f91b",
      "metadata": {
        "id": "c407f91b"
      },
      "outputs": [],
      "source": [
        ""
      ]
    },
    {
      "cell_type": "code",
      "execution_count": null,
      "id": "32ce3e9b",
      "metadata": {
        "id": "32ce3e9b"
      },
      "outputs": [],
      "source": [
        "data.shape"
      ]
    },
    {
      "cell_type": "code",
      "execution_count": null,
      "id": "1a35f35b",
      "metadata": {
        "id": "1a35f35b"
      },
      "outputs": [],
      "source": [
        "data.describe()"
      ]
    },
    {
      "cell_type": "code",
      "execution_count": null,
      "id": "0d0ee000",
      "metadata": {
        "id": "0d0ee000"
      },
      "outputs": [],
      "source": [
        "data.dtypes"
      ]
    },
    {
      "cell_type": "code",
      "execution_count": null,
      "id": "2373b3da",
      "metadata": {
        "id": "2373b3da"
      },
      "outputs": [],
      "source": [
        ""
      ]
    },
    {
      "cell_type": "code",
      "execution_count": null,
      "id": "a7f539d2",
      "metadata": {
        "id": "a7f539d2"
      },
      "outputs": [],
      "source": [
        ""
      ]
    },
    {
      "cell_type": "code",
      "execution_count": null,
      "id": "b1a0e707",
      "metadata": {
        "id": "b1a0e707"
      },
      "outputs": [],
      "source": [
        "data['y'] = np.where(data['y'] == 'yes',1,0)\n",
        "data['y'] = data['y'].astype(str)"
      ]
    },
    {
      "cell_type": "code",
      "execution_count": null,
      "id": "6dfdcd4c",
      "metadata": {
        "id": "6dfdcd4c"
      },
      "outputs": [],
      "source": [
        "data.head(10)"
      ]
    },
    {
      "cell_type": "code",
      "execution_count": null,
      "id": "41d43460",
      "metadata": {
        "id": "41d43460"
      },
      "outputs": [],
      "source": [
        "data.isna().sum()"
      ]
    },
    {
      "cell_type": "code",
      "execution_count": null,
      "id": "f06dab13",
      "metadata": {
        "id": "f06dab13"
      },
      "outputs": [],
      "source": [
        "data.info()"
      ]
    },
    {
      "cell_type": "code",
      "execution_count": null,
      "id": "752780ce",
      "metadata": {
        "id": "752780ce"
      },
      "outputs": [],
      "source": [
        ""
      ]
    },
    {
      "cell_type": "code",
      "execution_count": null,
      "id": "0bdfa2e0",
      "metadata": {
        "id": "0bdfa2e0"
      },
      "outputs": [],
      "source": [
        "print(data['job'].mode())"
      ]
    },
    {
      "cell_type": "code",
      "execution_count": null,
      "id": "4792d7f2",
      "metadata": {
        "id": "4792d7f2"
      },
      "outputs": [],
      "source": [
        "data.tail()"
      ]
    },
    {
      "cell_type": "code",
      "execution_count": null,
      "id": "97d9a05c",
      "metadata": {
        "id": "97d9a05c"
      },
      "outputs": [],
      "source": [
        "data.isna().sum()"
      ]
    },
    {
      "cell_type": "code",
      "execution_count": null,
      "id": "88defd3f",
      "metadata": {
        "id": "88defd3f"
      },
      "outputs": [],
      "source": [
        "#outliers"
      ]
    },
    {
      "cell_type": "code",
      "execution_count": null,
      "id": "1cf0068f",
      "metadata": {
        "id": "1cf0068f"
      },
      "outputs": [],
      "source": [
        "import seaborn as sns\n",
        "sns.boxplot(x=data['age'])"
      ]
    },
    {
      "cell_type": "code",
      "execution_count": null,
      "id": "63db4281",
      "metadata": {
        "id": "63db4281"
      },
      "outputs": [],
      "source": [
        "sns.boxplot(x=data['duration'])"
      ]
    },
    {
      "cell_type": "code",
      "execution_count": null,
      "id": "53a54994",
      "metadata": {
        "id": "53a54994"
      },
      "outputs": [],
      "source": [
        "data.describe()"
      ]
    },
    {
      "cell_type": "code",
      "execution_count": null,
      "id": "713b6fa2",
      "metadata": {
        "id": "713b6fa2"
      },
      "outputs": [],
      "source": [
        "print(\"Highest allowed\",data['age'].mean() + 3*data['age'].std())\n",
        "print(\"Lowest allowed\",data['age'].mean() - 3*data['age'].std())"
      ]
    },
    {
      "cell_type": "code",
      "execution_count": null,
      "id": "70f2602a",
      "metadata": {
        "id": "70f2602a"
      },
      "outputs": [],
      "source": [
        "data[(data['age'] > 71.28) | (data['age'] < 8.76)]"
      ]
    },
    {
      "cell_type": "code",
      "execution_count": null,
      "id": "c64b2a21",
      "metadata": {
        "id": "c64b2a21"
      },
      "outputs": [],
      "source": [
        "new_df = data[(data['age'] > 71.28) | (data['age'] < 8.76)]\n",
        "new_df"
      ]
    },
    {
      "cell_type": "code",
      "execution_count": null,
      "id": "bd05408f",
      "metadata": {
        "id": "bd05408f"
      },
      "outputs": [],
      "source": [
        "Q1 = data.quantile(0.25)\n",
        "Q3 = data.quantile(0.75)\n",
        "IQR = Q3 - Q1\n",
        "print(IQR)"
      ]
    },
    {
      "cell_type": "code",
      "execution_count": null,
      "id": "40ff8ff1",
      "metadata": {
        "id": "40ff8ff1"
      },
      "outputs": [],
      "source": [
        "#print(data < (Q1 - 1.5 * IQR)) |(data > (Q3 + 1.5 * IQR))"
      ]
    },
    {
      "cell_type": "code",
      "execution_count": null,
      "id": "9f359b86",
      "metadata": {
        "id": "9f359b86"
      },
      "outputs": [],
      "source": [
        "data = data[~((data < (Q1 - 1.5 * IQR)) |(data > (Q3 + 1.5 * IQR))).any(axis=1)]"
      ]
    },
    {
      "cell_type": "code",
      "execution_count": null,
      "id": "e68919a5",
      "metadata": {
        "id": "e68919a5"
      },
      "outputs": [],
      "source": [
        "data.head(10)"
      ]
    },
    {
      "cell_type": "code",
      "execution_count": null,
      "id": "30cd5410",
      "metadata": {
        "id": "30cd5410"
      },
      "outputs": [],
      "source": [
        "data.shape"
      ]
    },
    {
      "cell_type": "code",
      "execution_count": null,
      "id": "d4ae99cf",
      "metadata": {
        "id": "d4ae99cf"
      },
      "outputs": [],
      "source": [
        "col_list = list(data.columns)"
      ]
    },
    {
      "cell_type": "code",
      "execution_count": null,
      "id": "1a4d7f14",
      "metadata": {
        "id": "1a4d7f14"
      },
      "outputs": [],
      "source": [
        "col_list.remove('y')"
      ]
    },
    {
      "cell_type": "code",
      "execution_count": null,
      "id": "ebe7cce7",
      "metadata": {
        "id": "ebe7cce7"
      },
      "outputs": [],
      "source": [
        "col_list"
      ]
    },
    {
      "cell_type": "code",
      "execution_count": null,
      "id": "fc685060",
      "metadata": {
        "id": "fc685060"
      },
      "outputs": [],
      "source": [
        "for col in col_list:\n",
        "    if data[col].dtypes=='object':\n",
        "        #print('ob')\n",
        "        data[col] = data[col].fillna(data[col].mode()[0])\n",
        "    else:\n",
        "        #print('num')\n",
        "        data[col] = data[col].fillna(data[col].mean())"
      ]
    },
    {
      "cell_type": "code",
      "execution_count": null,
      "id": "46721736",
      "metadata": {
        "id": "46721736"
      },
      "outputs": [],
      "source": [
        "data.isna().sum()"
      ]
    },
    {
      "cell_type": "code",
      "execution_count": null,
      "id": "6010a3ef",
      "metadata": {
        "id": "6010a3ef"
      },
      "outputs": [],
      "source": [
        ""
      ]
    },
    {
      "cell_type": "code",
      "execution_count": null,
      "id": "c028662a",
      "metadata": {
        "id": "c028662a"
      },
      "outputs": [],
      "source": [
        "data.head()"
      ]
    },
    {
      "cell_type": "code",
      "execution_count": null,
      "id": "c729a6eb",
      "metadata": {
        "id": "c729a6eb"
      },
      "outputs": [],
      "source": [
        "##Binning of Age##\n",
        "bins = [0, 1, 5, 10, 25, 50, 100]\n",
        "data['age'] = pd.cut(data['age'], bins)\n",
        "data['age'] = data.age.astype(str)"
      ]
    },
    {
      "cell_type": "code",
      "execution_count": null,
      "id": "bf87b761",
      "metadata": {
        "id": "bf87b761"
      },
      "outputs": [],
      "source": [
        ""
      ]
    },
    {
      "cell_type": "code",
      "execution_count": null,
      "id": "be4e4a67",
      "metadata": {
        "id": "be4e4a67"
      },
      "outputs": [],
      "source": [
        "data['age'].unique()"
      ]
    },
    {
      "cell_type": "code",
      "execution_count": null,
      "id": "fe9fb456",
      "metadata": {
        "id": "fe9fb456"
      },
      "outputs": [],
      "source": [
        "data.head(10)"
      ]
    },
    {
      "cell_type": "code",
      "execution_count": null,
      "id": "44ab47f9",
      "metadata": {
        "id": "44ab47f9"
      },
      "outputs": [],
      "source": [
        ""
      ]
    },
    {
      "cell_type": "code",
      "execution_count": null,
      "id": "721d0cf2",
      "metadata": {
        "id": "721d0cf2"
      },
      "outputs": [],
      "source": [
        "col_list = []\n",
        "for col in data.columns:\n",
        "    if ((data[col].dtype == 'object') & (col != 'y') ):\n",
        "        col_list.append(col)"
      ]
    },
    {
      "cell_type": "code",
      "execution_count": null,
      "id": "cfabdd7b",
      "metadata": {
        "id": "cfabdd7b"
      },
      "outputs": [],
      "source": [
        "col_list"
      ]
    },
    {
      "cell_type": "code",
      "execution_count": null,
      "id": "0a47d2a2",
      "metadata": {
        "id": "0a47d2a2"
      },
      "outputs": [],
      "source": [
        "data.head()"
      ]
    },
    {
      "cell_type": "code",
      "execution_count": null,
      "id": "1164cdef",
      "metadata": {
        "id": "1164cdef"
      },
      "outputs": [],
      "source": [
        "col_list"
      ]
    },
    {
      "cell_type": "code",
      "execution_count": null,
      "id": "67a88ffe",
      "metadata": {
        "id": "67a88ffe"
      },
      "outputs": [],
      "source": [
        "from sklearn.preprocessing import LabelEncoder\n",
        "labelencoder = LabelEncoder()\n",
        "for i in col_list:\n",
        "    data[i]=labelencoder.fit_transform(data[i])"
      ]
    },
    {
      "cell_type": "code",
      "execution_count": null,
      "id": "143db05a",
      "metadata": {
        "id": "143db05a"
      },
      "outputs": [],
      "source": [
        "data.head()"
      ]
    },
    {
      "cell_type": "code",
      "execution_count": null,
      "id": "1d1fa46e",
      "metadata": {
        "id": "1d1fa46e"
      },
      "outputs": [],
      "source": [
        "pd.options.display.float_format = '{:,.2f}'.format"
      ]
    },
    {
      "cell_type": "code",
      "execution_count": null,
      "id": "b964c332",
      "metadata": {
        "id": "b964c332"
      },
      "outputs": [],
      "source": [
        "#a-'red','blue'\n",
        "#b-'true','false'\n",
        "#num1\n",
        "#num2\n",
        "#after applying get_dummies()--\n",
        "\n",
        "#a_red a_blue b_true b_false-- as a seperate column\n",
        "\n",
        "#after combining--\n",
        "\n",
        "#num1 num2 a_red a_blue b_true b_false \n"
      ]
    },
    {
      "cell_type": "code",
      "execution_count": null,
      "id": "306827bc",
      "metadata": {
        "id": "306827bc"
      },
      "outputs": [],
      "source": [
        "from statsmodels.stats.outliers_influence import variance_inflation_factor \n",
        "col_list = []\n",
        "for col in data.columns:\n",
        "    if ((data[col].dtype != 'object') & (col != 'y') ):\n",
        "        col_list.append(col)"
      ]
    },
    {
      "cell_type": "code",
      "execution_count": null,
      "id": "3b9ded71",
      "metadata": {
        "id": "3b9ded71"
      },
      "outputs": [],
      "source": [
        "col_list"
      ]
    },
    {
      "cell_type": "code",
      "execution_count": null,
      "id": "4962a64a",
      "metadata": {
        "id": "4962a64a"
      },
      "outputs": [],
      "source": [
        "X=data[col_list]\n",
        "X"
      ]
    },
    {
      "cell_type": "code",
      "execution_count": null,
      "id": "d498d806",
      "metadata": {
        "id": "d498d806"
      },
      "outputs": [],
      "source": [
        "for i in range(len(X.columns)):\n",
        "    print(i)"
      ]
    },
    {
      "cell_type": "code",
      "execution_count": null,
      "id": "cfb18f56",
      "metadata": {
        "id": "cfb18f56"
      },
      "outputs": [],
      "source": [
        "#1/(1-R2)"
      ]
    },
    {
      "cell_type": "code",
      "execution_count": null,
      "id": "05c2fcfb",
      "metadata": {
        "id": "05c2fcfb"
      },
      "outputs": [],
      "source": [
        "from statsmodels.stats.outliers_influence import variance_inflation_factor \n",
        "col_list = []\n",
        "for col in data.columns:\n",
        "    if ((data[col].dtype != 'object') & (col != 'y') ):\n",
        "        col_list.append(col)\n",
        "\n",
        "X = data[col_list]\n",
        "vif_data = pd.DataFrame() \n",
        "vif_data[\"feature\"] = X.columns \n",
        "vif_data[\"VIF\"] = [variance_inflation_factor(X.values, i) for i in range(len(X.columns))]  \n",
        "vif_data"
      ]
    },
    {
      "cell_type": "code",
      "execution_count": null,
      "id": "b8b2923b",
      "metadata": {
        "id": "b8b2923b"
      },
      "outputs": [],
      "source": [
        "data=data.drop(['pdays'], axis = 1) "
      ]
    },
    {
      "cell_type": "code",
      "execution_count": null,
      "id": "f385bc6a",
      "metadata": {
        "id": "f385bc6a"
      },
      "outputs": [],
      "source": [
        "col_list = []\n",
        "for col in data.columns:\n",
        "    if ((data[col].dtype != 'object') & (col != 'y') ):\n",
        "        col_list.append(col)\n",
        "\n",
        "X = data[col_list]\n",
        "vif_data = pd.DataFrame() \n",
        "vif_data[\"feature\"] = X.columns \n",
        "vif_data[\"VIF\"] = [variance_inflation_factor(X.values, i) \n",
        "                          for i in range(len(X.columns))] \n",
        "print(vif_data)"
      ]
    },
    {
      "cell_type": "code",
      "execution_count": null,
      "id": "978fb6f5",
      "metadata": {
        "id": "978fb6f5"
      },
      "outputs": [],
      "source": [
        "data=data.drop(['nr.employed'], axis = 1)"
      ]
    },
    {
      "cell_type": "code",
      "execution_count": null,
      "id": "1288471b",
      "metadata": {
        "id": "1288471b"
      },
      "outputs": [],
      "source": [
        "col_list = []\n",
        "for col in data.columns:\n",
        "    if ((data[col].dtype != 'object') & (col != 'y') ):\n",
        "        col_list.append(col)\n",
        "\n",
        "X = data[col_list]\n",
        "vif_data = pd.DataFrame() \n",
        "vif_data[\"feature\"] = X.columns \n",
        "vif_data[\"VIF\"] = [variance_inflation_factor(X.values, i) \n",
        "                          for i in range(len(X.columns))] \n",
        "print(vif_data)"
      ]
    },
    {
      "cell_type": "code",
      "execution_count": null,
      "id": "84a1ac62",
      "metadata": {
        "id": "84a1ac62"
      },
      "outputs": [],
      "source": [
        "data=data.drop(['cons.price.idx'], axis = 1)"
      ]
    },
    {
      "cell_type": "code",
      "execution_count": null,
      "id": "499a1878",
      "metadata": {
        "id": "499a1878"
      },
      "outputs": [],
      "source": [
        "col_list = []\n",
        "for col in data.columns:\n",
        "    if ((data[col].dtype != 'object') & (col != 'y') ):\n",
        "        col_list.append(col)\n",
        "\n",
        "X = data[col_list]\n",
        "vif_data = pd.DataFrame() \n",
        "vif_data[\"feature\"] = X.columns \n",
        "vif_data[\"VIF\"] = [variance_inflation_factor(X.values, i) \n",
        "                          for i in range(len(X.columns))] \n",
        "print(vif_data)"
      ]
    },
    {
      "cell_type": "code",
      "execution_count": null,
      "id": "307129a3",
      "metadata": {
        "id": "307129a3"
      },
      "outputs": [],
      "source": [
        "data=data.drop(['euribor3m'], axis = 1)"
      ]
    },
    {
      "cell_type": "code",
      "execution_count": null,
      "id": "32028fa6",
      "metadata": {
        "id": "32028fa6"
      },
      "outputs": [],
      "source": [
        "col_list = []\n",
        "for col in data.columns:\n",
        "    if ((data[col].dtype != 'object') & (col != 'y') ):\n",
        "        col_list.append(col)\n",
        "\n",
        "X = data[col_list]\n",
        "vif_data = pd.DataFrame() \n",
        "vif_data[\"feature\"] = X.columns \n",
        "vif_data[\"VIF\"] = [variance_inflation_factor(X.values, i) \n",
        "                          for i in range(len(X.columns))] \n",
        "print(vif_data)"
      ]
    },
    {
      "cell_type": "code",
      "execution_count": null,
      "id": "68d31ab8",
      "metadata": {
        "id": "68d31ab8"
      },
      "outputs": [],
      "source": [
        "data=data.drop(['cons.conf.idx'], axis = 1)"
      ]
    },
    {
      "cell_type": "code",
      "execution_count": null,
      "id": "e0fcca49",
      "metadata": {
        "id": "e0fcca49"
      },
      "outputs": [],
      "source": [
        "col_list = []\n",
        "for col in data.columns:\n",
        "    if ((data[col].dtype != 'object') & (col != 'y') ):\n",
        "        col_list.append(col)\n",
        "\n",
        "X = data[col_list]\n",
        "vif_data = pd.DataFrame() \n",
        "vif_data[\"feature\"] = X.columns \n",
        "vif_data[\"VIF\"] = [variance_inflation_factor(X.values, i) \n",
        "                          for i in range(len(X.columns))] \n",
        "print(vif_data)"
      ]
    },
    {
      "cell_type": "code",
      "execution_count": null,
      "id": "d045e35a",
      "metadata": {
        "id": "d045e35a"
      },
      "outputs": [],
      "source": [
        "data=data.drop(['previous','poutcome'], axis = 1)"
      ]
    },
    {
      "cell_type": "code",
      "execution_count": null,
      "id": "9753a0cc",
      "metadata": {
        "id": "9753a0cc"
      },
      "outputs": [],
      "source": [
        "col_list = []\n",
        "for col in data.columns:\n",
        "    if ((data[col].dtype != 'object') & (col != 'y') ):\n",
        "        col_list.append(col)\n",
        "\n",
        "X = data[col_list]\n",
        "vif_data = pd.DataFrame() \n",
        "vif_data[\"feature\"] = X.columns \n",
        "vif_data[\"VIF\"] = [variance_inflation_factor(X.values, i) \n",
        "                          for i in range(len(X.columns))] \n",
        "print(vif_data)"
      ]
    },
    {
      "cell_type": "code",
      "execution_count": null,
      "id": "4f53a926",
      "metadata": {
        "id": "4f53a926"
      },
      "outputs": [],
      "source": [
        "#data.to_csv('C:\\\\Users\\\\lenovo\\\\Downloads\\\\new_data.csv')\n",
        "#export csv file to the system"
      ]
    },
    {
      "cell_type": "code",
      "execution_count": null,
      "id": "44336641",
      "metadata": {
        "id": "44336641"
      },
      "outputs": [],
      "source": [
        "vif_data.feature"
      ]
    },
    {
      "cell_type": "code",
      "execution_count": null,
      "id": "68d6f219",
      "metadata": {
        "id": "68d6f219"
      },
      "outputs": [],
      "source": [
        "Ind_Features = list(vif_data.feature)\n",
        "Ind_Features"
      ]
    },
    {
      "cell_type": "code",
      "execution_count": null,
      "id": "fe9bcae5",
      "metadata": {
        "id": "fe9bcae5"
      },
      "outputs": [],
      "source": [
        "df_ind = data[Ind_Features]\n",
        "df_ind"
      ]
    },
    {
      "cell_type": "code",
      "execution_count": null,
      "id": "118be5af",
      "metadata": {
        "id": "118be5af"
      },
      "outputs": [],
      "source": [
        "df_dep = data['y']\n",
        "df_dep"
      ]
    },
    {
      "cell_type": "code",
      "execution_count": null,
      "id": "70da8aed",
      "metadata": {
        "id": "70da8aed"
      },
      "outputs": [],
      "source": [
        "df_ind.dtypes"
      ]
    },
    {
      "cell_type": "code",
      "execution_count": null,
      "id": "3c4089f5",
      "metadata": {
        "id": "3c4089f5"
      },
      "outputs": [],
      "source": [
        "from sklearn.model_selection import train_test_split\n",
        "x_train, x_test, y_train, y_test = train_test_split(df_ind, df_dep, test_size=0.25, random_state=0)"
      ]
    },
    {
      "cell_type": "code",
      "execution_count": null,
      "id": "ed9520c9",
      "metadata": {
        "id": "ed9520c9"
      },
      "outputs": [],
      "source": [
        "x_train.head()"
      ]
    },
    {
      "cell_type": "code",
      "execution_count": null,
      "id": "e3d1e098",
      "metadata": {
        "id": "e3d1e098"
      },
      "outputs": [],
      "source": [
        ""
      ]
    },
    {
      "cell_type": "code",
      "execution_count": null,
      "id": "99232246",
      "metadata": {
        "id": "99232246"
      },
      "outputs": [],
      "source": [
        ""
      ]
    },
    {
      "cell_type": "code",
      "execution_count": null,
      "id": "4db94565",
      "metadata": {
        "id": "4db94565"
      },
      "outputs": [],
      "source": [
        "x_train.shape"
      ]
    },
    {
      "cell_type": "code",
      "execution_count": null,
      "id": "3fc4d1aa",
      "metadata": {
        "id": "3fc4d1aa"
      },
      "outputs": [],
      "source": [
        "x_test.shape"
      ]
    },
    {
      "cell_type": "code",
      "execution_count": null,
      "id": "13006698",
      "metadata": {
        "id": "13006698"
      },
      "outputs": [],
      "source": [
        "from sklearn.linear_model import LogisticRegression"
      ]
    },
    {
      "cell_type": "code",
      "execution_count": null,
      "id": "98b4b44c",
      "metadata": {
        "id": "98b4b44c"
      },
      "outputs": [],
      "source": [
        "logisticRegr = LogisticRegression()"
      ]
    },
    {
      "cell_type": "code",
      "execution_count": null,
      "id": "13922609",
      "metadata": {
        "id": "13922609"
      },
      "outputs": [],
      "source": [
        "#####Model Fitting/Training###\n",
        "logisticRegr.fit(x_train, y_train)"
      ]
    },
    {
      "cell_type": "code",
      "execution_count": null,
      "id": "a98342ad",
      "metadata": {
        "id": "a98342ad"
      },
      "outputs": [],
      "source": [
        "test_pred = logisticRegr.predict(x_test)"
      ]
    },
    {
      "cell_type": "code",
      "execution_count": null,
      "id": "ddc0d9af",
      "metadata": {
        "id": "ddc0d9af"
      },
      "outputs": [],
      "source": [
        "np.unique(test_pred)"
      ]
    },
    {
      "cell_type": "code",
      "execution_count": null,
      "id": "66e784b9",
      "metadata": {
        "id": "66e784b9"
      },
      "outputs": [],
      "source": [
        "test_pred"
      ]
    },
    {
      "cell_type": "code",
      "execution_count": null,
      "id": "ae65c373",
      "metadata": {
        "id": "ae65c373"
      },
      "outputs": [],
      "source": [
        ""
      ]
    },
    {
      "cell_type": "code",
      "execution_count": null,
      "id": "d09d3d63",
      "metadata": {
        "id": "d09d3d63"
      },
      "outputs": [],
      "source": [
        "x_test"
      ]
    },
    {
      "cell_type": "code",
      "execution_count": null,
      "id": "a0e1d6cb",
      "metadata": {
        "id": "a0e1d6cb"
      },
      "outputs": [],
      "source": [
        "test_pred"
      ]
    },
    {
      "cell_type": "code",
      "execution_count": null,
      "id": "7e63d46d",
      "metadata": {
        "id": "7e63d46d"
      },
      "outputs": [],
      "source": [
        "pd.DataFrame(logisticRegr.predict_proba(x_test))"
      ]
    },
    {
      "cell_type": "code",
      "execution_count": null,
      "id": "3fa6a245",
      "metadata": {
        "id": "3fa6a245"
      },
      "outputs": [],
      "source": [
        ""
      ]
    },
    {
      "cell_type": "code",
      "execution_count": null,
      "id": "f59b1c7d",
      "metadata": {
        "id": "f59b1c7d"
      },
      "outputs": [],
      "source": [
        "from sklearn.metrics import confusion_matrix, accuracy_score"
      ]
    },
    {
      "cell_type": "code",
      "execution_count": null,
      "id": "eb4b5495",
      "metadata": {
        "id": "eb4b5495"
      },
      "outputs": [],
      "source": [
        "'''\n",
        "Predicted   P\tN\n",
        "                0   1\n",
        "                y  n\n",
        "Actual  0  Py \tTP\tFN\n",
        "        1 Nn\tFP\tTN\n",
        "          \n",
        "          #Sensitivity=TP/TP+FN\n",
        "          #Specificity=TN/TN+FP\n",
        "''' "
      ]
    },
    {
      "cell_type": "code",
      "execution_count": null,
      "id": "c4a3a5db",
      "metadata": {
        "id": "c4a3a5db"
      },
      "outputs": [],
      "source": [
        "c1=confusion_matrix(y_test,test_pred)\n",
        "c1"
      ]
    },
    {
      "cell_type": "code",
      "execution_count": null,
      "id": "ebb81790",
      "metadata": {
        "id": "ebb81790"
      },
      "outputs": [],
      "source": [
        "sen=c1[0,0]/(c1[0,0]+c1[0,1])\n",
        "sen"
      ]
    },
    {
      "cell_type": "code",
      "execution_count": null,
      "id": "913e5bc6",
      "metadata": {
        "id": "913e5bc6"
      },
      "outputs": [],
      "source": [
        "sep=c1[1,1]/(c1[1,1]+c1[1,0])\n",
        "sep"
      ]
    },
    {
      "cell_type": "code",
      "execution_count": null,
      "id": "783523cb",
      "metadata": {
        "id": "783523cb"
      },
      "outputs": [],
      "source": [
        "accuracy_score(y_test,test_pred)"
      ]
    },
    {
      "cell_type": "code",
      "execution_count": null,
      "id": "52d187ce",
      "metadata": {
        "id": "52d187ce"
      },
      "outputs": [],
      "source": [
        ""
      ]
    }
  ],
  "metadata": {
    "colab": {
      "name": "Logistic Reg New  (4).ipynb",
      "provenance": []
    },
    "kernelspec": {
      "display_name": "Python 3",
      "language": "python",
      "name": "python3"
    },
    "language_info": {
      "codemirror_mode": {
        "name": "ipython",
        "version": 3
      },
      "file_extension": ".py",
      "mimetype": "text/x-python",
      "name": "python",
      "nbconvert_exporter": "python",
      "pygments_lexer": "ipython3",
      "version": "3.8.8"
    }
  },
  "nbformat": 4,
  "nbformat_minor": 5
}