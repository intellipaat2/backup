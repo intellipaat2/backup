{
 "cells": [
  {
   "cell_type": "markdown",
   "id": "35618d70",
   "metadata": {},
   "source": [
    "# Conditional statements"
   ]
  },
  {
   "cell_type": "code",
   "execution_count": 1,
   "id": "45e0d990",
   "metadata": {},
   "outputs": [],
   "source": [
    "# if , else, elif"
   ]
  },
  {
   "cell_type": "code",
   "execution_count": 8,
   "id": "64bc322b",
   "metadata": {},
   "outputs": [
    {
     "name": "stdout",
     "output_type": "stream",
     "text": [
      "Enter a number : 10\n"
     ]
    }
   ],
   "source": [
    "a = int(input('Enter a number : '))"
   ]
  },
  {
   "cell_type": "code",
   "execution_count": 5,
   "id": "6f044c26",
   "metadata": {},
   "outputs": [
    {
     "name": "stdout",
     "output_type": "stream",
     "text": [
      "-1\n"
     ]
    }
   ],
   "source": [
    "if a == 10:\n",
    "    print(a)\n",
    "else:\n",
    "    print(a - 10)"
   ]
  },
  {
   "cell_type": "code",
   "execution_count": 9,
   "id": "5ca0c984",
   "metadata": {},
   "outputs": [
    {
     "name": "stdout",
     "output_type": "stream",
     "text": [
      "100\n"
     ]
    }
   ],
   "source": [
    "if a > 10:\n",
    "    print(a)\n",
    "elif a == 10:\n",
    "    print(10*10)\n",
    "else:\n",
    "    print(a - 10)"
   ]
  },
  {
   "cell_type": "code",
   "execution_count": 12,
   "id": "2d224a79",
   "metadata": {},
   "outputs": [
    {
     "name": "stdout",
     "output_type": "stream",
     "text": [
      "15\n"
     ]
    }
   ],
   "source": [
    "a=10\n",
    "b=15\n",
    "c=10\n",
    "if a>b:\n",
    "    print(a)\n",
    "elif b>c:\n",
    "    print(b)\n",
    "else:\n",
    "    print(c)\n",
    "\n"
   ]
  },
  {
   "cell_type": "code",
   "execution_count": 13,
   "id": "a4dc09db",
   "metadata": {},
   "outputs": [
    {
     "name": "stdout",
     "output_type": "stream",
     "text": [
      "c is greater\n"
     ]
    }
   ],
   "source": [
    "if a>b>c:\n",
    "     print('A is geater than all',a)\n",
    "elif b>a>c:\n",
    "        print('B is greater than all',b)\n",
    "else:\n",
    "            print('c is greater')"
   ]
  },
  {
   "cell_type": "code",
   "execution_count": 14,
   "id": "4b9609cc",
   "metadata": {},
   "outputs": [
    {
     "name": "stdout",
     "output_type": "stream",
     "text": [
      "10,15,12\n"
     ]
    }
   ],
   "source": [
    "a, b , c = list(map(int, input().split(',')))"
   ]
  },
  {
   "cell_type": "code",
   "execution_count": 15,
   "id": "74fb12b6",
   "metadata": {},
   "outputs": [
    {
     "data": {
      "text/plain": [
       "10"
      ]
     },
     "execution_count": 15,
     "metadata": {},
     "output_type": "execute_result"
    }
   ],
   "source": [
    "a"
   ]
  },
  {
   "cell_type": "code",
   "execution_count": 16,
   "id": "3892895e",
   "metadata": {},
   "outputs": [
    {
     "data": {
      "text/plain": [
       "15"
      ]
     },
     "execution_count": 16,
     "metadata": {},
     "output_type": "execute_result"
    }
   ],
   "source": [
    "b"
   ]
  },
  {
   "cell_type": "code",
   "execution_count": 17,
   "id": "ba66988e",
   "metadata": {},
   "outputs": [
    {
     "data": {
      "text/plain": [
       "12"
      ]
     },
     "execution_count": 17,
     "metadata": {},
     "output_type": "execute_result"
    }
   ],
   "source": [
    "c"
   ]
  },
  {
   "cell_type": "code",
   "execution_count": null,
   "id": "ddfe7d17",
   "metadata": {},
   "outputs": [],
   "source": [
    "'10,15,12'   split --> ['10', '15', '12']  map  -->     [10, 15, 12]"
   ]
  },
  {
   "cell_type": "code",
   "execution_count": 18,
   "id": "9349b55e",
   "metadata": {},
   "outputs": [
    {
     "name": "stdout",
     "output_type": "stream",
     "text": [
      "15\n"
     ]
    }
   ],
   "source": [
    "if a > b:\n",
    "    if a > c:\n",
    "        print(a)\n",
    "elif b > c:\n",
    "    if b > a:\n",
    "        print(b)\n",
    "else:\n",
    "    print(c)"
   ]
  },
  {
   "cell_type": "code",
   "execution_count": 19,
   "id": "d0e8e282",
   "metadata": {},
   "outputs": [
    {
     "name": "stdout",
     "output_type": "stream",
     "text": [
      "Java\n"
     ]
    }
   ],
   "source": [
    "if a == 10 and b == 12:\n",
    "    print('Python')\n",
    "else:\n",
    "    print('Java')"
   ]
  },
  {
   "cell_type": "code",
   "execution_count": 22,
   "id": "d711ab39",
   "metadata": {},
   "outputs": [
    {
     "name": "stdout",
     "output_type": "stream",
     "text": [
      "Enter Value for A: 0\n",
      "A is a positive number\n"
     ]
    }
   ],
   "source": [
    "a= int(input(\"Enter Value for A: \"))\n",
    "\n",
    "if a>=0:\n",
    "    print(\"A is a positive number\")\n",
    "else:\n",
    "    print(\"A is a negative number\")\n"
   ]
  },
  {
   "cell_type": "code",
   "execution_count": 27,
   "id": "23881398",
   "metadata": {},
   "outputs": [
    {
     "name": "stdout",
     "output_type": "stream",
     "text": [
      "Enter a number: 0\n",
      "Zero\n"
     ]
    }
   ],
   "source": [
    "number = float(input(\"Enter a number: \"))\n",
    "\n",
    "if number >= 0:\n",
    "    if number == 0:\n",
    "        print(\"Zero\")\n",
    "    else:\n",
    "        print(\"Positive number\")\n",
    "else:\n",
    "    print(\"Negative number\")\n"
   ]
  },
  {
   "cell_type": "markdown",
   "id": "836ca146",
   "metadata": {},
   "source": [
    "# Loops in Python"
   ]
  },
  {
   "cell_type": "markdown",
   "id": "c25f0d61",
   "metadata": {},
   "source": [
    "## For loop"
   ]
  },
  {
   "cell_type": "code",
   "execution_count": 29,
   "id": "c8eb15a0",
   "metadata": {},
   "outputs": [
    {
     "data": {
      "text/plain": [
       "[0, 1, 2, 3, 4, 5, 6, 7, 8, 9]"
      ]
     },
     "execution_count": 29,
     "metadata": {},
     "output_type": "execute_result"
    }
   ],
   "source": [
    "lista = list(range(10))\n",
    "lista"
   ]
  },
  {
   "cell_type": "code",
   "execution_count": 32,
   "id": "caa01420",
   "metadata": {},
   "outputs": [
    {
     "name": "stdout",
     "output_type": "stream",
     "text": [
      "Element :  0\n",
      "0\n",
      "Element :  1\n",
      "10\n",
      "Element :  2\n",
      "20\n",
      "Element :  3\n",
      "30\n",
      "Element :  4\n",
      "40\n",
      "Element :  5\n",
      "50\n",
      "Element :  6\n",
      "60\n",
      "Element :  7\n",
      "70\n",
      "Element :  8\n",
      "80\n",
      "Element :  9\n",
      "90\n"
     ]
    }
   ],
   "source": [
    "for i in lista:\n",
    "    print('Element : ', i)\n",
    "    print(i*10)"
   ]
  },
  {
   "cell_type": "code",
   "execution_count": 33,
   "id": "f14d4dfc",
   "metadata": {},
   "outputs": [
    {
     "name": "stdout",
     "output_type": "stream",
     "text": [
      "Ajay\n",
      "Shashank\n",
      "karthik\n"
     ]
    }
   ],
   "source": [
    "names = ['Ajay', 'Shashank', \"karthik\"]\n",
    "\n",
    "for j in names:\n",
    "    print(j)"
   ]
  },
  {
   "cell_type": "markdown",
   "id": "1589acde",
   "metadata": {},
   "source": [
    "## Nested for loop"
   ]
  },
  {
   "cell_type": "code",
   "execution_count": 38,
   "id": "598b08c1",
   "metadata": {},
   "outputs": [
    {
     "name": "stdout",
     "output_type": "stream",
     "text": [
      "2 * 1  =  2\n",
      "2 * 2  =  4\n",
      "2 * 3  =  6\n",
      "2 * 4  =  8\n",
      "2 * 5  =  10\n",
      "2 * 6  =  12\n",
      "2 * 7  =  14\n",
      "2 * 8  =  16\n",
      "2 * 9  =  18\n",
      "2 * 10  =  20\n",
      "=============\n",
      "3 * 1  =  3\n",
      "3 * 2  =  6\n",
      "3 * 3  =  9\n",
      "3 * 4  =  12\n",
      "3 * 5  =  15\n",
      "3 * 6  =  18\n",
      "3 * 7  =  21\n",
      "3 * 8  =  24\n",
      "3 * 9  =  27\n",
      "3 * 10  =  30\n",
      "=============\n"
     ]
    }
   ],
   "source": [
    "for i in range(2,4):                  #   i = 3\n",
    "    for j in range(1,11):             #  j  = 3\n",
    "        print(i, '*', j, ' = ', i*j)\n",
    "    print('=============')"
   ]
  },
  {
   "cell_type": "markdown",
   "id": "ff2e1244",
   "metadata": {},
   "source": [
    "## while loop"
   ]
  },
  {
   "cell_type": "code",
   "execution_count": 42,
   "id": "a04568bc",
   "metadata": {},
   "outputs": [
    {
     "name": "stdout",
     "output_type": "stream",
     "text": [
      "0\n",
      "1\n",
      "2\n",
      "3\n",
      "4\n"
     ]
    }
   ],
   "source": [
    "a = 0\n",
    "\n",
    "while a < 5:\n",
    "    print(a)\n",
    "    a = a + 1"
   ]
  },
  {
   "cell_type": "code",
   "execution_count": 44,
   "id": "86faa6f1",
   "metadata": {},
   "outputs": [
    {
     "name": "stdout",
     "output_type": "stream",
     "text": [
      "Enter a number : 3\n",
      "Cube of number  :  27\n",
      "Press \"y\" to continue or press any other key to stop : y\n",
      "Enter a number : 7\n",
      "Cube of number  :  343\n",
      "Press \"y\" to continue or press any other key to stop : u\n"
     ]
    }
   ],
   "source": [
    "flag = 'y'\n",
    "\n",
    "while flag == 'y':\n",
    "    j = int(input('Enter a number : '))\n",
    "    print('Cube of number  : ',  j*j*j)\n",
    "    \n",
    "    inp = input('Press \"y\" to continue or press any other key to stop : ')\n",
    "    \n",
    "    if inp == 'y':\n",
    "        pass\n",
    "    else:\n",
    "        flag = inp"
   ]
  },
  {
   "cell_type": "code",
   "execution_count": 46,
   "id": "a3b09b05",
   "metadata": {},
   "outputs": [
    {
     "data": {
      "text/plain": [
       "0"
      ]
     },
     "execution_count": 46,
     "metadata": {},
     "output_type": "execute_result"
    }
   ],
   "source": []
  },
  {
   "cell_type": "markdown",
   "id": "e6d314a5",
   "metadata": {},
   "source": [
    "# Functions in python"
   ]
  },
  {
   "cell_type": "code",
   "execution_count": 54,
   "id": "d5412cf9",
   "metadata": {},
   "outputs": [],
   "source": [
    "def add_numbers(a,b):\n",
    "    print(a + b)"
   ]
  },
  {
   "cell_type": "code",
   "execution_count": 48,
   "id": "dc11f9d4",
   "metadata": {},
   "outputs": [
    {
     "name": "stdout",
     "output_type": "stream",
     "text": [
      "5\n"
     ]
    }
   ],
   "source": [
    "add_numbers(2,3)"
   ]
  },
  {
   "cell_type": "code",
   "execution_count": 49,
   "id": "cad930b1",
   "metadata": {},
   "outputs": [
    {
     "name": "stdout",
     "output_type": "stream",
     "text": [
      "25\n"
     ]
    }
   ],
   "source": [
    "add_numbers(10,15)"
   ]
  },
  {
   "cell_type": "code",
   "execution_count": 51,
   "id": "147b9336",
   "metadata": {},
   "outputs": [
    {
     "name": "stdout",
     "output_type": "stream",
     "text": [
      "50\n"
     ]
    }
   ],
   "source": [
    "add_numbers(20,30)"
   ]
  },
  {
   "cell_type": "code",
   "execution_count": 60,
   "id": "60d3bd5e",
   "metadata": {},
   "outputs": [
    {
     "ename": "TypeError",
     "evalue": "add_numbers() missing 1 required positional argument: 'b'",
     "output_type": "error",
     "traceback": [
      "\u001b[1;31m---------------------------------------------------------------------------\u001b[0m",
      "\u001b[1;31mTypeError\u001b[0m                                 Traceback (most recent call last)",
      "\u001b[1;32m~\\AppData\\Local\\Temp/ipykernel_12268/3191212893.py\u001b[0m in \u001b[0;36m<module>\u001b[1;34m\u001b[0m\n\u001b[1;32m----> 1\u001b[1;33m \u001b[0madd_numbers\u001b[0m\u001b[1;33m(\u001b[0m\u001b[1;36m20\u001b[0m\u001b[1;33m)\u001b[0m\u001b[1;33m\u001b[0m\u001b[1;33m\u001b[0m\u001b[0m\n\u001b[0m",
      "\u001b[1;31mTypeError\u001b[0m: add_numbers() missing 1 required positional argument: 'b'"
     ]
    }
   ],
   "source": [
    "add_numbers(20)"
   ]
  },
  {
   "cell_type": "code",
   "execution_count": 58,
   "id": "dffe724a",
   "metadata": {},
   "outputs": [],
   "source": [
    "def add_numbers2(a, b = 10):\n",
    "    res = a + b\n",
    "    return res"
   ]
  },
  {
   "cell_type": "code",
   "execution_count": 61,
   "id": "8b7e6bcb",
   "metadata": {},
   "outputs": [
    {
     "name": "stdout",
     "output_type": "stream",
     "text": [
      "50\n"
     ]
    }
   ],
   "source": [
    "result = add_numbers2(20, 30)\n",
    "result"
   ]
  },
  {
   "cell_type": "code",
   "execution_count": 59,
   "id": "2b1daf39",
   "metadata": {},
   "outputs": [
    {
     "name": "stdout",
     "output_type": "stream",
     "text": [
      "30\n"
     ]
    }
   ],
   "source": [
    "add_numbers2(20)"
   ]
  },
  {
   "cell_type": "code",
   "execution_count": 64,
   "id": "7e5bdaf1",
   "metadata": {},
   "outputs": [],
   "source": [
    "List=[1,2,3,4,5,6,7,8,9,12,13,14]\n",
    "\n",
    "\n",
    "def get_even_numbers(numbers):\n",
    "    even_numbers = []\n",
    "    \n",
    "    for i in numbers:\n",
    "        if i%2 == 0:\n",
    "            even_numbers.append(i)\n",
    "            \n",
    "    return even_numbers"
   ]
  },
  {
   "cell_type": "code",
   "execution_count": 65,
   "id": "98e8e56c",
   "metadata": {
    "scrolled": true
   },
   "outputs": [
    {
     "name": "stdout",
     "output_type": "stream",
     "text": [
      "[2, 4, 6, 8, 12, 14]\n"
     ]
    }
   ],
   "source": [
    "print(get_even_numbers(List))"
   ]
  },
  {
   "cell_type": "markdown",
   "id": "e00354fd",
   "metadata": {},
   "source": [
    "## Args in methods|"
   ]
  },
  {
   "cell_type": "code",
   "execution_count": 82,
   "id": "b2e171ec",
   "metadata": {},
   "outputs": [],
   "source": [
    "def make_even(*x):\n",
    "    \n",
    "    even_numbers = []\n",
    "    \n",
    "    for i in x:\n",
    "        if i%2 == 0:\n",
    "            even_numbers.append(i)\n",
    "            \n",
    "    return even_numbers"
   ]
  },
  {
   "cell_type": "code",
   "execution_count": 83,
   "id": "272e18b1",
   "metadata": {},
   "outputs": [
    {
     "data": {
      "text/plain": [
       "[6, 10]"
      ]
     },
     "execution_count": 83,
     "metadata": {},
     "output_type": "execute_result"
    }
   ],
   "source": [
    "result = make_even(3,6,9,7,10)\n",
    "result"
   ]
  },
  {
   "cell_type": "markdown",
   "id": "110bd2ae",
   "metadata": {},
   "source": [
    "# Lambda function"
   ]
  },
  {
   "cell_type": "code",
   "execution_count": 86,
   "id": "df3e2b30",
   "metadata": {},
   "outputs": [
    {
     "name": "stdout",
     "output_type": "stream",
     "text": [
      "4\n"
     ]
    }
   ],
   "source": [
    "lamda_func = lambda y : y**y\n",
    "print(lamda_func(2))"
   ]
  },
  {
   "cell_type": "code",
   "execution_count": 100,
   "id": "59f86707",
   "metadata": {},
   "outputs": [
    {
     "name": "stdout",
     "output_type": "stream",
     "text": [
      "10\n",
      "20\n",
      "30\n",
      "40\n",
      "50\n",
      "60\n",
      "70\n",
      "80\n",
      "90\n",
      "100\n"
     ]
    }
   ],
   "source": [
    "tables = [lambda x=x : x*10 for x in range(1,11)]\n",
    "\n",
    "for i in tables:\n",
    "    print(i())\n",
    "\n",
    "# tables"
   ]
  },
  {
   "cell_type": "code",
   "execution_count": 90,
   "id": "11b262b6",
   "metadata": {},
   "outputs": [
    {
     "name": "stdout",
     "output_type": "stream",
     "text": [
      "10\n"
     ]
    }
   ],
   "source": [
    "max = lambda a,b : a if (a > b) else b*2\n",
    "\n",
    "print(max(5,10))"
   ]
  },
  {
   "cell_type": "code",
   "execution_count": null,
   "id": "981c0739",
   "metadata": {},
   "outputs": [],
   "source": [
    "1   *\n",
    "2   **\n",
    "3   "
   ]
  },
  {
   "cell_type": "code",
   "execution_count": 104,
   "id": "cd618ec4",
   "metadata": {},
   "outputs": [
    {
     "name": "stdout",
     "output_type": "stream",
     "text": [
      "*\n",
      "**\n",
      "***\n",
      "****\n",
      "*****\n"
     ]
    }
   ],
   "source": [
    "for i in range(1,6):\n",
    "    print('*' * i)"
   ]
  },
  {
   "cell_type": "code",
   "execution_count": 105,
   "id": "d374c666",
   "metadata": {},
   "outputs": [
    {
     "name": "stdout",
     "output_type": "stream",
     "text": [
      "*\n",
      "**\n",
      "***\n",
      "****\n",
      "*****\n"
     ]
    }
   ],
   "source": [
    "for i in range(1,6):\n",
    "    print('*'*i)\n"
   ]
  },
  {
   "cell_type": "code",
   "execution_count": 106,
   "id": "451befbe",
   "metadata": {},
   "outputs": [
    {
     "name": "stdout",
     "output_type": "stream",
     "text": [
      "* \n",
      "* * \n",
      "* * * \n",
      "* * * * \n",
      "* * * * * \n"
     ]
    }
   ],
   "source": [
    "for i in range(1,6):\n",
    "    print('* '*i)"
   ]
  },
  {
   "cell_type": "code",
   "execution_count": null,
   "id": "493e3f70",
   "metadata": {},
   "outputs": [],
   "source": [
    "* * * * *\n",
    "* * * *\n",
    "* * *\n",
    "* *\n",
    "*"
   ]
  },
  {
   "cell_type": "code",
   "execution_count": 107,
   "id": "6e23944e",
   "metadata": {},
   "outputs": [
    {
     "name": "stdout",
     "output_type": "stream",
     "text": [
      "* * * * * \n",
      "* * * * \n",
      "* * * \n",
      "* * \n",
      "* \n"
     ]
    }
   ],
   "source": [
    "for i in range(1,6):\n",
    "    print('* '*(6-i))\n"
   ]
  },
  {
   "cell_type": "code",
   "execution_count": null,
   "id": "d6e0b890",
   "metadata": {},
   "outputs": [],
   "source": [
    "      *               6  1\n",
    "    * * *             4  3\n",
    "  * * * * *           2  5\n",
    "* * * * * * *                             n = 4"
   ]
  },
  {
   "cell_type": "code",
   "execution_count": null,
   "id": "d014195d",
   "metadata": {},
   "outputs": [],
   "source": [
    "2i - 1   \n",
    "\n",
    "2 -1  = 1\n",
    "4 - 1 =  3\n",
    "\n",
    "\n",
    "(n-i)*2\n",
    "3 * 2  = 6\n",
    "2 * 2 =  4 \n"
   ]
  },
  {
   "cell_type": "code",
   "execution_count": 114,
   "id": "f345b4f9",
   "metadata": {
    "scrolled": true
   },
   "outputs": [
    {
     "name": "stdout",
     "output_type": "stream",
     "text": [
      "Enter the number of rows : 20\n",
      "                                       * \n",
      "                                     * * * \n",
      "                                   * * * * * \n",
      "                                 * * * * * * * \n",
      "                               * * * * * * * * * \n",
      "                             * * * * * * * * * * * \n",
      "                           * * * * * * * * * * * * * \n",
      "                         * * * * * * * * * * * * * * * \n",
      "                       * * * * * * * * * * * * * * * * * \n",
      "                     * * * * * * * * * * * * * * * * * * * \n",
      "                   * * * * * * * * * * * * * * * * * * * * * \n",
      "                 * * * * * * * * * * * * * * * * * * * * * * * \n",
      "               * * * * * * * * * * * * * * * * * * * * * * * * * \n",
      "             * * * * * * * * * * * * * * * * * * * * * * * * * * * \n",
      "           * * * * * * * * * * * * * * * * * * * * * * * * * * * * * \n",
      "         * * * * * * * * * * * * * * * * * * * * * * * * * * * * * * * \n",
      "       * * * * * * * * * * * * * * * * * * * * * * * * * * * * * * * * * \n",
      "     * * * * * * * * * * * * * * * * * * * * * * * * * * * * * * * * * * * \n",
      "   * * * * * * * * * * * * * * * * * * * * * * * * * * * * * * * * * * * * * \n",
      " * * * * * * * * * * * * * * * * * * * * * * * * * * * * * * * * * * * * * * * \n"
     ]
    }
   ],
   "source": [
    "n = int(input(\"Enter the number of rows : \"))\n",
    "\n",
    "for i in range(1, n+1):\n",
    "    j = (n-i)*2\n",
    "    print(j * ' ', (2*i - 1)* '* ')"
   ]
  },
  {
   "cell_type": "code",
   "execution_count": 115,
   "id": "c6a1cd8b",
   "metadata": {},
   "outputs": [
    {
     "name": "stdout",
     "output_type": "stream",
     "text": [
      "10\n"
     ]
    }
   ],
   "source": [
    "j  = lambda x : x*2\n",
    "print(j(5))"
   ]
  },
  {
   "cell_type": "code",
   "execution_count": null,
   "id": "518f8743",
   "metadata": {},
   "outputs": [],
   "source": []
  }
 ],
 "metadata": {
  "kernelspec": {
   "display_name": "Python 3 (ipykernel)",
   "language": "python",
   "name": "python3"
  },
  "language_info": {
   "codemirror_mode": {
    "name": "ipython",
    "version": 3
   },
   "file_extension": ".py",
   "mimetype": "text/x-python",
   "name": "python",
   "nbconvert_exporter": "python",
   "pygments_lexer": "ipython3",
   "version": "3.9.7"
  }
 },
 "nbformat": 4,
 "nbformat_minor": 5
}
