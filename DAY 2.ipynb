{
 "cells": [
  {
   "cell_type": "code",
   "execution_count": 27,
   "id": "2b3364c7",
   "metadata": {},
   "outputs": [
    {
     "data": {
      "text/plain": [
       "['Apple', 'Mango', 'Grapes', 'Kiwi', 'Banana']"
      ]
     },
     "execution_count": 27,
     "metadata": {},
     "output_type": "execute_result"
    }
   ],
   "source": [
    "fruits = ['Apple', 'Mango', 'Grapes', 'Kiwi', 'Banana']\n",
    "fruits"
   ]
  },
  {
   "cell_type": "code",
   "execution_count": 2,
   "id": "c11856df",
   "metadata": {},
   "outputs": [
    {
     "data": {
      "text/plain": [
       "5"
      ]
     },
     "execution_count": 2,
     "metadata": {},
     "output_type": "execute_result"
    }
   ],
   "source": [
    "len(fruits)"
   ]
  },
  {
   "cell_type": "code",
   "execution_count": 3,
   "id": "dbacbfec",
   "metadata": {},
   "outputs": [
    {
     "data": {
      "text/plain": [
       "['Apple', 'Mango', 'Grapes', 'Kiwi', 'Banana', 100]"
      ]
     },
     "execution_count": 3,
     "metadata": {},
     "output_type": "execute_result"
    }
   ],
   "source": [
    "fruits.append(100)\n",
    "fruits"
   ]
  },
  {
   "cell_type": "code",
   "execution_count": 4,
   "id": "ffb9f044",
   "metadata": {},
   "outputs": [
    {
     "data": {
      "text/plain": [
       "100"
      ]
     },
     "execution_count": 4,
     "metadata": {},
     "output_type": "execute_result"
    }
   ],
   "source": [
    "fruits.pop()"
   ]
  },
  {
   "cell_type": "code",
   "execution_count": 5,
   "id": "80ee4f17",
   "metadata": {},
   "outputs": [
    {
     "data": {
      "text/plain": [
       "['Apple', 'Mango', 'Grapes', 'Kiwi', 'Banana']"
      ]
     },
     "execution_count": 5,
     "metadata": {},
     "output_type": "execute_result"
    }
   ],
   "source": [
    "fruits"
   ]
  },
  {
   "cell_type": "code",
   "execution_count": 6,
   "id": "2cb225ff",
   "metadata": {},
   "outputs": [
    {
     "data": {
      "text/plain": [
       "['Apple', 'Mango', 'Grapes', 'Kiwi', 'Banana', [10, 20, 30, 40, 50]]"
      ]
     },
     "execution_count": 6,
     "metadata": {},
     "output_type": "execute_result"
    }
   ],
   "source": [
    "list2 = [10,20,30,40,50]\n",
    "fruits.append(list2)\n",
    "fruits"
   ]
  },
  {
   "cell_type": "code",
   "execution_count": 7,
   "id": "150f5975",
   "metadata": {},
   "outputs": [
    {
     "data": {
      "text/plain": [
       "[10, 20, 30, 40, 50]"
      ]
     },
     "execution_count": 7,
     "metadata": {},
     "output_type": "execute_result"
    }
   ],
   "source": [
    "fruits.pop()"
   ]
  },
  {
   "cell_type": "code",
   "execution_count": 11,
   "id": "8d68b978",
   "metadata": {},
   "outputs": [
    {
     "data": {
      "text/plain": [
       "['Apple',\n",
       " 'Avacado',\n",
       " 'Mango',\n",
       " 'Grapes',\n",
       " 'Kiwi',\n",
       " 'Banana',\n",
       " 10,\n",
       " 20,\n",
       " 30,\n",
       " 40,\n",
       " 50,\n",
       " 10,\n",
       " 20,\n",
       " 30,\n",
       " 40,\n",
       " 50]"
      ]
     },
     "execution_count": 11,
     "metadata": {},
     "output_type": "execute_result"
    }
   ],
   "source": [
    "fruits.extend(list2)\n",
    "fruits"
   ]
  },
  {
   "cell_type": "code",
   "execution_count": 9,
   "id": "ea7922b9",
   "metadata": {},
   "outputs": [
    {
     "data": {
      "text/plain": [
       "['Apple', 'Avacado', 'Mango', 'Grapes', 'Kiwi', 'Banana', 10, 20, 30, 40, 50]"
      ]
     },
     "execution_count": 9,
     "metadata": {},
     "output_type": "execute_result"
    }
   ],
   "source": [
    "fruits.insert(1, 'Avacado')\n",
    "fruits"
   ]
  },
  {
   "cell_type": "code",
   "execution_count": 10,
   "id": "07132c73",
   "metadata": {},
   "outputs": [
    {
     "data": {
      "text/plain": [
       "1"
      ]
     },
     "execution_count": 10,
     "metadata": {},
     "output_type": "execute_result"
    }
   ],
   "source": [
    "fruits.index('Avacado')"
   ]
  },
  {
   "cell_type": "code",
   "execution_count": 12,
   "id": "53957da8",
   "metadata": {},
   "outputs": [
    {
     "data": {
      "text/plain": [
       "['Apple',\n",
       " 'Avacado',\n",
       " 'Mango',\n",
       " 'Grapes',\n",
       " 'Kiwi',\n",
       " 'Banana',\n",
       " 10,\n",
       " 20,\n",
       " 30,\n",
       " 40,\n",
       " 50,\n",
       " 10,\n",
       " 20,\n",
       " 30,\n",
       " 40,\n",
       " 50]"
      ]
     },
     "execution_count": 12,
     "metadata": {},
     "output_type": "execute_result"
    }
   ],
   "source": [
    "fruits"
   ]
  },
  {
   "cell_type": "code",
   "execution_count": 13,
   "id": "e0178404",
   "metadata": {},
   "outputs": [
    {
     "data": {
      "text/plain": [
       "2"
      ]
     },
     "execution_count": 13,
     "metadata": {},
     "output_type": "execute_result"
    }
   ],
   "source": [
    "fruits.count(10)"
   ]
  },
  {
   "cell_type": "code",
   "execution_count": 15,
   "id": "e774397d",
   "metadata": {},
   "outputs": [
    {
     "data": {
      "text/plain": [
       "['Apple', 'Avacado', 'Mango', 'Grapes', 'Kiwi', 'Banana', 10, 20, 30, 40, 50]"
      ]
     },
     "execution_count": 15,
     "metadata": {},
     "output_type": "execute_result"
    }
   ],
   "source": [
    "fruits3 = fruits[:11]\n",
    "fruits3"
   ]
  },
  {
   "cell_type": "code",
   "execution_count": 16,
   "id": "534048fc",
   "metadata": {},
   "outputs": [
    {
     "data": {
      "text/plain": [
       "50"
      ]
     },
     "execution_count": 16,
     "metadata": {},
     "output_type": "execute_result"
    }
   ],
   "source": [
    "fruits.pop()"
   ]
  },
  {
   "cell_type": "code",
   "execution_count": 17,
   "id": "c4e5c1ce",
   "metadata": {},
   "outputs": [
    {
     "data": {
      "text/plain": [
       "40"
      ]
     },
     "execution_count": 17,
     "metadata": {},
     "output_type": "execute_result"
    }
   ],
   "source": [
    "fruits.pop()"
   ]
  },
  {
   "cell_type": "code",
   "execution_count": 18,
   "id": "188c793d",
   "metadata": {},
   "outputs": [
    {
     "data": {
      "text/plain": [
       "30"
      ]
     },
     "execution_count": 18,
     "metadata": {},
     "output_type": "execute_result"
    }
   ],
   "source": [
    "fruits.pop(8)"
   ]
  },
  {
   "cell_type": "code",
   "execution_count": 19,
   "id": "ae106021",
   "metadata": {},
   "outputs": [
    {
     "data": {
      "text/plain": [
       "['Apple', 'Avacado', 'Mango', 'Grapes', 'Kiwi', 10, 20, 40, 50, 10, 20, 30]"
      ]
     },
     "execution_count": 19,
     "metadata": {},
     "output_type": "execute_result"
    }
   ],
   "source": [
    "fruits.remove('Banana')\n",
    "fruits"
   ]
  },
  {
   "cell_type": "code",
   "execution_count": 22,
   "id": "7e30e2a3",
   "metadata": {},
   "outputs": [
    {
     "data": {
      "text/plain": [
       "[10, 20, 30, 40, 50]"
      ]
     },
     "execution_count": 22,
     "metadata": {},
     "output_type": "execute_result"
    }
   ],
   "source": [
    "list2"
   ]
  },
  {
   "cell_type": "code",
   "execution_count": 23,
   "id": "6b326094",
   "metadata": {},
   "outputs": [
    {
     "data": {
      "text/plain": [
       "50"
      ]
     },
     "execution_count": 23,
     "metadata": {},
     "output_type": "execute_result"
    }
   ],
   "source": [
    "max(list2)"
   ]
  },
  {
   "cell_type": "code",
   "execution_count": 24,
   "id": "925a3238",
   "metadata": {},
   "outputs": [
    {
     "data": {
      "text/plain": [
       "10"
      ]
     },
     "execution_count": 24,
     "metadata": {},
     "output_type": "execute_result"
    }
   ],
   "source": [
    "min(list2)"
   ]
  },
  {
   "cell_type": "code",
   "execution_count": 25,
   "id": "319ee9d6",
   "metadata": {},
   "outputs": [],
   "source": [
    "fruits.clear()"
   ]
  },
  {
   "cell_type": "code",
   "execution_count": 28,
   "id": "edee6b19",
   "metadata": {},
   "outputs": [
    {
     "data": {
      "text/plain": [
       "['Apple', 'Mango', 'Grapes', 'Kiwi', 'Banana']"
      ]
     },
     "execution_count": 28,
     "metadata": {},
     "output_type": "execute_result"
    }
   ],
   "source": [
    "fruits"
   ]
  },
  {
   "cell_type": "code",
   "execution_count": 29,
   "id": "d6d840e3",
   "metadata": {},
   "outputs": [
    {
     "data": {
      "text/plain": [
       "[2, 5, 82, 86, 52, 79]"
      ]
     },
     "execution_count": 29,
     "metadata": {},
     "output_type": "execute_result"
    }
   ],
   "source": [
    "list3 = [2,5,82,86,52,79]\n",
    "list3"
   ]
  },
  {
   "cell_type": "code",
   "execution_count": 30,
   "id": "a65be522",
   "metadata": {},
   "outputs": [],
   "source": [
    "list3.sort()"
   ]
  },
  {
   "cell_type": "code",
   "execution_count": 31,
   "id": "fb95c5cb",
   "metadata": {},
   "outputs": [
    {
     "data": {
      "text/plain": [
       "[2, 5, 52, 79, 82, 86]"
      ]
     },
     "execution_count": 31,
     "metadata": {},
     "output_type": "execute_result"
    }
   ],
   "source": [
    "list3"
   ]
  },
  {
   "cell_type": "code",
   "execution_count": 32,
   "id": "648d1dd0",
   "metadata": {},
   "outputs": [
    {
     "data": {
      "text/plain": [
       "[86, 82, 79, 52, 5, 2]"
      ]
     },
     "execution_count": 32,
     "metadata": {},
     "output_type": "execute_result"
    }
   ],
   "source": [
    "list3.sort(reverse = True)\n",
    "list3"
   ]
  },
  {
   "cell_type": "code",
   "execution_count": 33,
   "id": "ffb011dd",
   "metadata": {},
   "outputs": [
    {
     "data": {
      "text/plain": [
       "[86, 82, 79, 52, 5, 2]"
      ]
     },
     "execution_count": 33,
     "metadata": {},
     "output_type": "execute_result"
    }
   ],
   "source": [
    "list4 = list3.copy()\n",
    "list4"
   ]
  },
  {
   "cell_type": "code",
   "execution_count": 34,
   "id": "ad3bcd52",
   "metadata": {},
   "outputs": [
    {
     "data": {
      "text/plain": [
       "[2, 5, 52, 79, 82, 86]"
      ]
     },
     "execution_count": 34,
     "metadata": {},
     "output_type": "execute_result"
    }
   ],
   "source": [
    "sorted(list4)"
   ]
  },
  {
   "cell_type": "code",
   "execution_count": 35,
   "id": "46b336aa",
   "metadata": {},
   "outputs": [
    {
     "data": {
      "text/plain": [
       "[86, 82, 79, 52, 5, 2]"
      ]
     },
     "execution_count": 35,
     "metadata": {},
     "output_type": "execute_result"
    }
   ],
   "source": [
    "list4"
   ]
  },
  {
   "cell_type": "code",
   "execution_count": 36,
   "id": "bc9c06b0",
   "metadata": {},
   "outputs": [
    {
     "data": {
      "text/plain": [
       "False"
      ]
     },
     "execution_count": 36,
     "metadata": {},
     "output_type": "execute_result"
    }
   ],
   "source": [
    "56 in list4"
   ]
  },
  {
   "cell_type": "code",
   "execution_count": 37,
   "id": "6daf885b",
   "metadata": {},
   "outputs": [
    {
     "data": {
      "text/plain": [
       "True"
      ]
     },
     "execution_count": 37,
     "metadata": {},
     "output_type": "execute_result"
    }
   ],
   "source": [
    "5 in list4"
   ]
  },
  {
   "cell_type": "code",
   "execution_count": 38,
   "id": "15c906b8",
   "metadata": {},
   "outputs": [
    {
     "data": {
      "text/plain": [
       "[10, 30, [10, 20, 30]]"
      ]
     },
     "execution_count": 38,
     "metadata": {},
     "output_type": "execute_result"
    }
   ],
   "source": [
    "nestedlist = [10,30,[10,20,30]]\n",
    "nestedlist"
   ]
  },
  {
   "cell_type": "code",
   "execution_count": 45,
   "id": "371b7e44",
   "metadata": {},
   "outputs": [
    {
     "data": {
      "text/plain": [
       "20"
      ]
     },
     "execution_count": 45,
     "metadata": {},
     "output_type": "execute_result"
    }
   ],
   "source": [
    "nestedlist[2][1]"
   ]
  },
  {
   "cell_type": "code",
   "execution_count": 40,
   "id": "a01c895c",
   "metadata": {},
   "outputs": [
    {
     "data": {
      "text/plain": [
       "('Apple', 'Mango', 'Grapes', 'Kiwi', 'Banana')"
      ]
     },
     "execution_count": 40,
     "metadata": {},
     "output_type": "execute_result"
    }
   ],
   "source": [
    "tup = ('Apple', 'Mango', 'Grapes', 'Kiwi', 'Banana')\n",
    "tup"
   ]
  },
  {
   "cell_type": "code",
   "execution_count": 41,
   "id": "41e207d0",
   "metadata": {},
   "outputs": [
    {
     "data": {
      "text/plain": [
       "5"
      ]
     },
     "execution_count": 41,
     "metadata": {},
     "output_type": "execute_result"
    }
   ],
   "source": [
    "len(tup)"
   ]
  },
  {
   "cell_type": "code",
   "execution_count": 42,
   "id": "a054ce37",
   "metadata": {},
   "outputs": [
    {
     "data": {
      "text/plain": [
       "1"
      ]
     },
     "execution_count": 42,
     "metadata": {},
     "output_type": "execute_result"
    }
   ],
   "source": [
    "tup.index('Mango')"
   ]
  },
  {
   "cell_type": "code",
   "execution_count": 43,
   "id": "571804dc",
   "metadata": {},
   "outputs": [
    {
     "data": {
      "text/plain": [
       "['Apple', 'Banana', 'Grapes', 'Kiwi', 'Mango']"
      ]
     },
     "execution_count": 43,
     "metadata": {},
     "output_type": "execute_result"
    }
   ],
   "source": [
    "sorted(tup)"
   ]
  },
  {
   "cell_type": "code",
   "execution_count": 47,
   "id": "8c7de604",
   "metadata": {},
   "outputs": [
    {
     "data": {
      "text/plain": [
       "3"
      ]
     },
     "execution_count": 47,
     "metadata": {},
     "output_type": "execute_result"
    }
   ],
   "source": [
    "nestedlist2 = [[10,20,30],[19,72,67],[78,69,[1,2,3]]]\n",
    "nestedlist2[2][2][2]"
   ]
  },
  {
   "cell_type": "code",
   "execution_count": 52,
   "id": "d2a1f436",
   "metadata": {},
   "outputs": [
    {
     "data": {
      "text/plain": [
       "15"
      ]
     },
     "execution_count": 52,
     "metadata": {},
     "output_type": "execute_result"
    }
   ],
   "source": [
    "tup = (1,2,3,4,5)\n",
    "sum(tup)"
   ]
  },
  {
   "cell_type": "code",
   "execution_count": 49,
   "id": "c6e3a208",
   "metadata": {},
   "outputs": [
    {
     "data": {
      "text/plain": [
       "(1, 2, 3, 4, 5, 1, 2, 3, 4, 5)"
      ]
     },
     "execution_count": 49,
     "metadata": {},
     "output_type": "execute_result"
    }
   ],
   "source": [
    "tup2 = tup+tup\n",
    "tup2"
   ]
  },
  {
   "cell_type": "code",
   "execution_count": 50,
   "id": "daffd877",
   "metadata": {},
   "outputs": [
    {
     "data": {
      "text/plain": [
       "(1, 2, 3, 4, 5, 1, 2, 3, 4, 5)"
      ]
     },
     "execution_count": 50,
     "metadata": {},
     "output_type": "execute_result"
    }
   ],
   "source": [
    "tup = tup+tup\n",
    "tup"
   ]
  },
  {
   "cell_type": "code",
   "execution_count": 53,
   "id": "061a0b28",
   "metadata": {},
   "outputs": [
    {
     "data": {
      "text/plain": [
       "(1, 2, 3, 4, 5, 1, 2, 3, 4, 5, 1, 2, 3, 4, 5, 1, 2, 3, 4, 5)"
      ]
     },
     "execution_count": 53,
     "metadata": {},
     "output_type": "execute_result"
    }
   ],
   "source": [
    "tup3 = tup *4\n",
    "tup3"
   ]
  },
  {
   "cell_type": "code",
   "execution_count": 54,
   "id": "4f4eca5e",
   "metadata": {},
   "outputs": [
    {
     "data": {
      "text/plain": [
       "3"
      ]
     },
     "execution_count": 54,
     "metadata": {},
     "output_type": "execute_result"
    }
   ],
   "source": [
    "nestedtuple = ((1, 2, 3, 4,), (5, 1, 2, 3, 4, 5), (1, 2, 3, 4, 5, 1, 2, 3, 4, 5))\n",
    "nestedtuple[2][2]"
   ]
  },
  {
   "cell_type": "markdown",
   "id": "243e1fcf",
   "metadata": {},
   "source": [
    "### =====Sets====="
   ]
  },
  {
   "cell_type": "code",
   "execution_count": 55,
   "id": "afe604f6",
   "metadata": {},
   "outputs": [
    {
     "data": {
      "text/plain": [
       "{1, 2, 3, 4, 5}"
      ]
     },
     "execution_count": 55,
     "metadata": {},
     "output_type": "execute_result"
    }
   ],
   "source": [
    "set1 = {1,2,3,4,5}\n",
    "set1"
   ]
  },
  {
   "cell_type": "code",
   "execution_count": 56,
   "id": "5b84db83",
   "metadata": {},
   "outputs": [
    {
     "data": {
      "text/plain": [
       "{1, 2, 3, 4, 5, 6}"
      ]
     },
     "execution_count": 56,
     "metadata": {},
     "output_type": "execute_result"
    }
   ],
   "source": [
    "set1.add(6)\n",
    "set1"
   ]
  },
  {
   "cell_type": "code",
   "execution_count": 57,
   "id": "54bcb92d",
   "metadata": {},
   "outputs": [
    {
     "data": {
      "text/plain": [
       "{1, 2, 3, 4, 5}"
      ]
     },
     "execution_count": 57,
     "metadata": {},
     "output_type": "execute_result"
    }
   ],
   "source": [
    "set1.remove(6)\n",
    "set1"
   ]
  },
  {
   "cell_type": "code",
   "execution_count": 58,
   "id": "fcf0cd5e",
   "metadata": {},
   "outputs": [
    {
     "data": {
      "text/plain": [
       "{1, 2, 3, 4}"
      ]
     },
     "execution_count": 58,
     "metadata": {},
     "output_type": "execute_result"
    }
   ],
   "source": [
    "set1.discard(5)\n",
    "set1"
   ]
  },
  {
   "cell_type": "code",
   "execution_count": 59,
   "id": "2788ef5d",
   "metadata": {},
   "outputs": [
    {
     "data": {
      "text/plain": [
       "{1, 2, 3, 4}"
      ]
     },
     "execution_count": 59,
     "metadata": {},
     "output_type": "execute_result"
    }
   ],
   "source": [
    "set1.discard(5)\n",
    "set1"
   ]
  },
  {
   "cell_type": "markdown",
   "id": "5d5c6dea",
   "metadata": {},
   "source": [
    "[# set1.remove(5)\n",
    "set1"
   ]
  },
  {
   "cell_type": "code",
   "execution_count": 61,
   "id": "b58238fc",
   "metadata": {},
   "outputs": [],
   "source": [
    "set1.clear()"
   ]
  },
  {
   "cell_type": "code",
   "execution_count": 62,
   "id": "a1846743",
   "metadata": {},
   "outputs": [
    {
     "data": {
      "text/plain": [
       "set()"
      ]
     },
     "execution_count": 62,
     "metadata": {},
     "output_type": "execute_result"
    }
   ],
   "source": [
    "set1"
   ]
  },
  {
   "cell_type": "markdown",
   "id": "0f1be002",
   "metadata": {},
   "source": [
    "### ===== dict ====="
   ]
  },
  {
   "cell_type": "code",
   "execution_count": 69,
   "id": "08cb7dec",
   "metadata": {},
   "outputs": [
    {
     "data": {
      "text/plain": [
       "{5: 'apple', 2: 'banana', 3: 'Mango'}"
      ]
     },
     "execution_count": 69,
     "metadata": {},
     "output_type": "execute_result"
    }
   ],
   "source": [
    "fruits = {\n",
    "    5: 'apple', \n",
    "    2: 'banana',\n",
    "    3: 'Mango'\n",
    "}\n",
    "fruits"
   ]
  },
  {
   "cell_type": "code",
   "execution_count": 65,
   "id": "4f90a142",
   "metadata": {},
   "outputs": [
    {
     "data": {
      "text/plain": [
       "dict_keys([1, 2, 3])"
      ]
     },
     "execution_count": 65,
     "metadata": {},
     "output_type": "execute_result"
    }
   ],
   "source": [
    "fruits.keys()"
   ]
  },
  {
   "cell_type": "code",
   "execution_count": 68,
   "id": "e1eee344",
   "metadata": {},
   "outputs": [
    {
     "data": {
      "text/plain": [
       "['apple', 'banana', 'Mango']"
      ]
     },
     "execution_count": 68,
     "metadata": {},
     "output_type": "execute_result"
    }
   ],
   "source": [
    "list(fruits.values())"
   ]
  },
  {
   "cell_type": "code",
   "execution_count": 67,
   "id": "443474c2",
   "metadata": {},
   "outputs": [
    {
     "data": {
      "text/plain": [
       "dict_items([(1, 'apple'), (2, 'banana'), (3, 'Mango')])"
      ]
     },
     "execution_count": 67,
     "metadata": {},
     "output_type": "execute_result"
    }
   ],
   "source": [
    "fruits.items()"
   ]
  },
  {
   "cell_type": "code",
   "execution_count": 70,
   "id": "2c4fc3ca",
   "metadata": {},
   "outputs": [
    {
     "data": {
      "text/plain": [
       "[2, 3, 5]"
      ]
     },
     "execution_count": 70,
     "metadata": {},
     "output_type": "execute_result"
    }
   ],
   "source": [
    "sorted(fruits)"
   ]
  },
  {
   "cell_type": "code",
   "execution_count": 71,
   "id": "6704f164",
   "metadata": {},
   "outputs": [
    {
     "data": {
      "text/plain": [
       "{5: 'apple', 2: 'banana', 3: 'Mango', 1: 'Kiwi'}"
      ]
     },
     "execution_count": 71,
     "metadata": {},
     "output_type": "execute_result"
    }
   ],
   "source": [
    "fruits[1] = 'Kiwi'\n",
    "fruits"
   ]
  },
  {
   "cell_type": "code",
   "execution_count": 75,
   "id": "3412a6c0",
   "metadata": {},
   "outputs": [
    {
     "data": {
      "text/plain": [
       "{5: 'apple', 2: 'banana', 3: 'Mango', 1: 'Kiwi', 6: 'Grapes'}"
      ]
     },
     "execution_count": 75,
     "metadata": {},
     "output_type": "execute_result"
    }
   ],
   "source": [
    "fruits.update({6: 'Grapes'})\n",
    "fruits"
   ]
  },
  {
   "cell_type": "code",
   "execution_count": 76,
   "id": "0778f42d",
   "metadata": {},
   "outputs": [
    {
     "data": {
      "text/plain": [
       "{55: 'apple', 22: 'banana', 33: 'Mango', 11: 'Kiwi', 66: 'Grapes'}"
      ]
     },
     "execution_count": 76,
     "metadata": {},
     "output_type": "execute_result"
    }
   ],
   "source": [
    "smallfruits = {55: 'apple', 22: 'banana', 33: 'Mango', 11: 'Kiwi', 66: 'Grapes'}\n",
    "smallfruits"
   ]
  },
  {
   "cell_type": "code",
   "execution_count": 77,
   "id": "13e788d7",
   "metadata": {},
   "outputs": [
    {
     "data": {
      "text/plain": [
       "{5: 'apple',\n",
       " 2: 'banana',\n",
       " 3: 'Mango',\n",
       " 1: 'Kiwi',\n",
       " 6: 'Grapes',\n",
       " 55: 'apple',\n",
       " 22: 'banana',\n",
       " 33: 'Mango',\n",
       " 11: 'Kiwi',\n",
       " 66: 'Grapes'}"
      ]
     },
     "execution_count": 77,
     "metadata": {},
     "output_type": "execute_result"
    }
   ],
   "source": [
    "fruits.update(smallfruits)\n",
    "fruits"
   ]
  },
  {
   "cell_type": "code",
   "execution_count": 79,
   "id": "9ca4ede8",
   "metadata": {},
   "outputs": [
    {
     "data": {
      "text/plain": [
       "{5: 'apple',\n",
       " 2: 'banana',\n",
       " 3: 'Mango',\n",
       " 1: 'Kiwi',\n",
       " 6: 'Grapes',\n",
       " 55: 'apple',\n",
       " 22: 'banana',\n",
       " 33: 'Mango',\n",
       " 11: 'Kiwi'}"
      ]
     },
     "execution_count": 79,
     "metadata": {},
     "output_type": "execute_result"
    }
   ],
   "source": [
    "del fruits[66]\n",
    "fruits"
   ]
  },
  {
   "cell_type": "code",
   "execution_count": 81,
   "id": "32ede2a3",
   "metadata": {},
   "outputs": [
    {
     "data": {
      "text/plain": [
       "'Grapes'"
      ]
     },
     "execution_count": 81,
     "metadata": {},
     "output_type": "execute_result"
    }
   ],
   "source": [
    "fruits[6]"
   ]
  },
  {
   "cell_type": "code",
   "execution_count": 84,
   "id": "58174ddf",
   "metadata": {},
   "outputs": [
    {
     "data": {
      "text/plain": [
       "'Grapes'"
      ]
     },
     "execution_count": 84,
     "metadata": {},
     "output_type": "execute_result"
    }
   ],
   "source": [
    "fruits.get(6)"
   ]
  },
  {
   "cell_type": "code",
   "execution_count": 86,
   "id": "af766998",
   "metadata": {},
   "outputs": [
    {
     "ename": "KeyError",
     "evalue": "66",
     "output_type": "error",
     "traceback": [
      "\u001b[1;31m---------------------------------------------------------------------------\u001b[0m",
      "\u001b[1;31mKeyError\u001b[0m                                  Traceback (most recent call last)",
      "\u001b[1;32m~\\AppData\\Local\\Temp/ipykernel_3676/2564330385.py\u001b[0m in \u001b[0;36m<module>\u001b[1;34m\u001b[0m\n\u001b[1;32m----> 1\u001b[1;33m \u001b[0mfruits\u001b[0m\u001b[1;33m[\u001b[0m\u001b[1;36m66\u001b[0m\u001b[1;33m]\u001b[0m\u001b[1;33m\u001b[0m\u001b[1;33m\u001b[0m\u001b[0m\n\u001b[0m",
      "\u001b[1;31mKeyError\u001b[0m: 66"
     ]
    }
   ],
   "source": [
    "fruits[66]"
   ]
  },
  {
   "cell_type": "code",
   "execution_count": 85,
   "id": "9d1460e8",
   "metadata": {},
   "outputs": [],
   "source": [
    "fruits.get(66)"
   ]
  },
  {
   "cell_type": "code",
   "execution_count": 1,
   "id": "36e48f98",
   "metadata": {},
   "outputs": [
    {
     "name": "stdout",
     "output_type": "stream",
     "text": [
      "{1: 1, 2: 4, 3: 9, 4: 16, 5: 25, 6: 36, 7: 49, 8: 64, 9: 81, 10: 100}\n"
     ]
    }
   ],
   "source": [
    "dict1 = {i:i**2 for i in range(1,11)}\n",
    "print(dict1)"
   ]
  },
  {
   "cell_type": "code",
   "execution_count": 5,
   "id": "9f1d9ba9",
   "metadata": {},
   "outputs": [
    {
     "name": "stdout",
     "output_type": "stream",
     "text": [
      "{'a': 'apple', 'b': 'banana'}\n"
     ]
    }
   ],
   "source": [
    "dict1 = {'a': 'apple', 'b': 'banana', 'c':None}\n",
    "\n",
    "dict1 = {key:value for (key, value) in dict1.items() if value is not None}\n",
    "print(dict1)\n",
    "\n",
    "# Returns: {'a': 'apple', 'b': 'banana'}"
   ]
  },
  {
   "cell_type": "code",
   "execution_count": 6,
   "id": "40e632ad",
   "metadata": {},
   "outputs": [
    {
     "name": "stdout",
     "output_type": "stream",
     "text": [
      "{'John': 175, 'Matt': 170}\n"
     ]
    }
   ],
   "source": [
    "\n",
    "heights = {'John': 175, 'Jane': 150, 'Jim': 155, 'Matt': 170}\n",
    "\n",
    "tall = {key:value for (key, value) in heights.items() if value >= 170}\n",
    "\n",
    "print(tall)\n",
    "# Returns: {'John': 175, 'Matt': 170}"
   ]
  },
  {
   "cell_type": "markdown",
   "id": "d9fb85f4",
   "metadata": {},
   "source": [
    "# ==== Conditional statement ===== "
   ]
  },
  {
   "cell_type": "code",
   "execution_count": null,
   "id": "f9b43a8e",
   "metadata": {},
   "outputs": [],
   "source": [
    "# if, else, elif"
   ]
  },
  {
   "cell_type": "code",
   "execution_count": 92,
   "id": "c23b04cc",
   "metadata": {},
   "outputs": [
    {
     "name": "stdout",
     "output_type": "stream",
     "text": [
      "a is 10\n",
      "100\n"
     ]
    }
   ],
   "source": [
    "a = 10\n",
    "if a == 10:\n",
    "    print('a is 10')\n",
    "    print(a*10)\n",
    "else:\n",
    "    print('a is not 10')"
   ]
  },
  {
   "cell_type": "code",
   "execution_count": 93,
   "id": "436a0594",
   "metadata": {},
   "outputs": [
    {
     "name": "stdout",
     "output_type": "stream",
     "text": [
      "a is not 10\n"
     ]
    }
   ],
   "source": [
    "a = 10\n",
    "if a != 10:\n",
    "    print('a is 10', a)\n",
    "    print(a*10)\n",
    "else:\n",
    "    print('a is not 10')"
   ]
  },
  {
   "cell_type": "code",
   "execution_count": 94,
   "id": "6c2dac63",
   "metadata": {},
   "outputs": [
    {
     "name": "stdout",
     "output_type": "stream",
     "text": [
      "B\n"
     ]
    }
   ],
   "source": [
    "b = 30\n",
    "if a == 10 and b == 20:\n",
    "    print('A')\n",
    "else:\n",
    "    print('B')"
   ]
  },
  {
   "cell_type": "code",
   "execution_count": 95,
   "id": "11497a01",
   "metadata": {},
   "outputs": [
    {
     "name": "stdout",
     "output_type": "stream",
     "text": [
      "C\n"
     ]
    }
   ],
   "source": [
    "h = 50\n",
    "if h > 60:\n",
    "    print('A')\n",
    "elif h > 55:\n",
    "    print('B')\n",
    "else:\n",
    "    print('C')"
   ]
  },
  {
   "cell_type": "code",
   "execution_count": 99,
   "id": "452cfb07",
   "metadata": {},
   "outputs": [
    {
     "name": "stdout",
     "output_type": "stream",
     "text": [
      "Positive number\n"
     ]
    }
   ],
   "source": [
    "d = 20\n",
    "\n",
    "if d >= 0:\n",
    "    if d == 0:\n",
    "        print('Zero')\n",
    "    else:\n",
    "        print(\"Positive number\")\n",
    "else:\n",
    "    print('Negative number')"
   ]
  },
  {
   "cell_type": "code",
   "execution_count": 101,
   "id": "12602da2",
   "metadata": {},
   "outputs": [
    {
     "name": "stdout",
     "output_type": "stream",
     "text": [
      "Y\n"
     ]
    }
   ],
   "source": [
    "if d > 2: print(\"Y\")"
   ]
  },
  {
   "cell_type": "code",
   "execution_count": 102,
   "id": "e9b4f42e",
   "metadata": {},
   "outputs": [
    {
     "name": "stdout",
     "output_type": "stream",
     "text": [
      "Python is 'awesome'\n"
     ]
    }
   ],
   "source": [
    "print(\"Python is 'awesome'\")"
   ]
  },
  {
   "cell_type": "code",
   "execution_count": 103,
   "id": "91e2ad4c",
   "metadata": {},
   "outputs": [
    {
     "name": "stdout",
     "output_type": "stream",
     "text": [
      "Python is \"awesome\"\n"
     ]
    }
   ],
   "source": [
    "print('Python is \"awesome\"')"
   ]
  },
  {
   "cell_type": "code",
   "execution_count": 108,
   "id": "7a72f986",
   "metadata": {},
   "outputs": [
    {
     "name": "stdout",
     "output_type": "stream",
     "text": [
      "\"Python\" is 'awesome'\n"
     ]
    }
   ],
   "source": [
    "print('\"Python\" is {}'.format(\"'awesome'\"))"
   ]
  },
  {
   "cell_type": "code",
   "execution_count": 109,
   "id": "11635ba0",
   "metadata": {},
   "outputs": [
    {
     "name": "stdout",
     "output_type": "stream",
     "text": [
      "Today is Sunday\n"
     ]
    }
   ],
   "source": [
    "a = 'Sunday'\n",
    "print('Today is {}'.format(a))"
   ]
  },
  {
   "cell_type": "markdown",
   "id": "f7a0f441",
   "metadata": {},
   "source": [
    "# ======= Loop ======="
   ]
  },
  {
   "cell_type": "markdown",
   "id": "e1c3f3b0",
   "metadata": {},
   "source": [
    "## For loop"
   ]
  },
  {
   "cell_type": "code",
   "execution_count": 110,
   "id": "b809cd65",
   "metadata": {},
   "outputs": [
    {
     "data": {
      "text/plain": [
       "['Apple', 'Mango', 'Grapes', 'Kiwi', 'Banana']"
      ]
     },
     "execution_count": 110,
     "metadata": {},
     "output_type": "execute_result"
    }
   ],
   "source": [
    "fruits = ['Apple', 'Mango', 'Grapes', 'Kiwi', 'Banana']\n",
    "fruits"
   ]
  },
  {
   "cell_type": "code",
   "execution_count": 113,
   "id": "afb5b99f",
   "metadata": {},
   "outputs": [
    {
     "name": "stdout",
     "output_type": "stream",
     "text": [
      "Apple\n",
      "Mango\n",
      "Grapes\n",
      "Kiwi\n",
      "Banana\n"
     ]
    }
   ],
   "source": [
    "for i in fruits:\n",
    "    print(i)"
   ]
  },
  {
   "cell_type": "code",
   "execution_count": 124,
   "id": "edb6df57",
   "metadata": {
    "scrolled": true
   },
   "outputs": [
    {
     "name": "stdout",
     "output_type": "stream",
     "text": [
      "1, 10\n",
      "2, 20\n",
      "3, 30\n",
      "4, 40\n",
      "5, 50\n",
      "6, 60\n",
      "7, 70\n",
      "8, 80\n",
      "9, 90\n",
      "10, 100\n"
     ]
    }
   ],
   "source": [
    "for i in range(1,11):\n",
    "    print(i, end = '')\n",
    "    print(',', i*10)"
   ]
  },
  {
   "cell_type": "code",
   "execution_count": 117,
   "id": "9c6ba1e4",
   "metadata": {},
   "outputs": [
    {
     "data": {
      "text/plain": [
       "[1, 2, 3, 4, 5, 6, 7, 8, 9, 10]"
      ]
     },
     "execution_count": 117,
     "metadata": {},
     "output_type": "execute_result"
    }
   ],
   "source": [
    "list(range(1,11))"
   ]
  },
  {
   "cell_type": "code",
   "execution_count": null,
   "id": "b7cc11c7",
   "metadata": {},
   "outputs": [],
   "source": []
  },
  {
   "cell_type": "code",
   "execution_count": 125,
   "id": "d715382c",
   "metadata": {},
   "outputs": [
    {
     "name": "stdout",
     "output_type": "stream",
     "text": [
      "Apple\n",
      "Mango\n",
      "Grapes\n",
      "Kiwi\n",
      "Banana\n"
     ]
    }
   ],
   "source": [
    "for i in range(len(fruits)):\n",
    "    print(fruits[i])"
   ]
  },
  {
   "cell_type": "code",
   "execution_count": 126,
   "id": "e753bdc3",
   "metadata": {},
   "outputs": [
    {
     "data": {
      "text/plain": [
       "5"
      ]
     },
     "execution_count": 126,
     "metadata": {},
     "output_type": "execute_result"
    }
   ],
   "source": [
    "len(fruits)"
   ]
  },
  {
   "cell_type": "code",
   "execution_count": 128,
   "id": "cf1bc07f",
   "metadata": {},
   "outputs": [
    {
     "data": {
      "text/plain": [
       "'Apple'"
      ]
     },
     "execution_count": 128,
     "metadata": {},
     "output_type": "execute_result"
    }
   ],
   "source": [
    "fruits[0]"
   ]
  },
  {
   "cell_type": "markdown",
   "id": "2ee3a384",
   "metadata": {},
   "source": [
    "## while loop"
   ]
  },
  {
   "cell_type": "code",
   "execution_count": 130,
   "id": "e5af7e1e",
   "metadata": {},
   "outputs": [
    {
     "name": "stdout",
     "output_type": "stream",
     "text": [
      "0\n",
      "1\n",
      "2\n",
      "3\n",
      "4\n"
     ]
    }
   ],
   "source": [
    "a = 0\n",
    "while a < 5:\n",
    "    print(a)\n",
    "    a = a + 1"
   ]
  },
  {
   "cell_type": "code",
   "execution_count": 136,
   "id": "e252e97f",
   "metadata": {},
   "outputs": [
    {
     "name": "stdout",
     "output_type": "stream",
     "text": [
      "Enter a number : 5\n",
      "cube of  5 = 125\n",
      "Press \"y\" to continue, else press any key to stop: y\n",
      "Enter a number : 6\n",
      "cube of  6 = 216\n",
      "Press \"y\" to continue, else press any key to stop: u\n"
     ]
    }
   ],
   "source": [
    "flag = 'y'\n",
    "while flag == 'y':\n",
    "    \n",
    "    j = int(input('Enter a number : '))\n",
    "    print('cube of ', j, '=',  j*j*j)\n",
    "    \n",
    "    inp = input('Press \"y\" to continue, else press any key to stop: ')\n",
    "    \n",
    "    if inp == 'y':\n",
    "        pass\n",
    "    else:\n",
    "        flag = inp"
   ]
  },
  {
   "cell_type": "code",
   "execution_count": null,
   "id": "7bc5ae26",
   "metadata": {},
   "outputs": [],
   "source": [
    "flag = u"
   ]
  },
  {
   "cell_type": "code",
   "execution_count": null,
   "id": "5960960a",
   "metadata": {},
   "outputs": [],
   "source": []
  },
  {
   "cell_type": "markdown",
   "id": "cd08adb0",
   "metadata": {},
   "source": [
    "# ==== Functions ====="
   ]
  },
  {
   "cell_type": "code",
   "execution_count": 139,
   "id": "deccd7b3",
   "metadata": {},
   "outputs": [],
   "source": [
    "def sumNumber(a,b):\n",
    "    print(a+b)"
   ]
  },
  {
   "cell_type": "code",
   "execution_count": 140,
   "id": "c2bf90cb",
   "metadata": {},
   "outputs": [
    {
     "name": "stdout",
     "output_type": "stream",
     "text": [
      "15\n"
     ]
    }
   ],
   "source": [
    "sumNumber(5,10)"
   ]
  },
  {
   "cell_type": "code",
   "execution_count": 141,
   "id": "c0153c42",
   "metadata": {},
   "outputs": [
    {
     "name": "stdout",
     "output_type": "stream",
     "text": [
      "25\n"
     ]
    }
   ],
   "source": [
    "sumNumber(15,10)"
   ]
  },
  {
   "cell_type": "code",
   "execution_count": 142,
   "id": "d89574f6",
   "metadata": {},
   "outputs": [
    {
     "name": "stdout",
     "output_type": "stream",
     "text": [
      "105\n"
     ]
    }
   ],
   "source": [
    "sumNumber(5,100)"
   ]
  },
  {
   "cell_type": "code",
   "execution_count": 143,
   "id": "12707194",
   "metadata": {},
   "outputs": [
    {
     "name": "stdout",
     "output_type": "stream",
     "text": [
      "35\n"
     ]
    }
   ],
   "source": [
    "sumNumber(25,10)"
   ]
  },
  {
   "cell_type": "code",
   "execution_count": 145,
   "id": "663ecb8b",
   "metadata": {},
   "outputs": [
    {
     "name": "stdout",
     "output_type": "stream",
     "text": [
      "6\n"
     ]
    }
   ],
   "source": [
    "sumNumber(5,1)"
   ]
  },
  {
   "cell_type": "code",
   "execution_count": 153,
   "id": "14e054bd",
   "metadata": {},
   "outputs": [],
   "source": [
    "def sumNumber2(a,b):\n",
    "    \n",
    "    j = a*b\n",
    "    return j"
   ]
  },
  {
   "cell_type": "code",
   "execution_count": 154,
   "id": "1221919a",
   "metadata": {},
   "outputs": [
    {
     "data": {
      "text/plain": [
       "150"
      ]
     },
     "execution_count": 154,
     "metadata": {},
     "output_type": "execute_result"
    }
   ],
   "source": [
    "result = sumNumber2(10,15)\n",
    "result"
   ]
  },
  {
   "cell_type": "code",
   "execution_count": 155,
   "id": "0d427685",
   "metadata": {},
   "outputs": [],
   "source": [
    "lista = [1,2,3,4,5,6,7,8,9]"
   ]
  },
  {
   "cell_type": "code",
   "execution_count": 161,
   "id": "82898cc4",
   "metadata": {},
   "outputs": [],
   "source": [
    "def checkEven(lista):\n",
    "    for i in lista:\n",
    "        if i % 2 == 0:\n",
    "            print(i)"
   ]
  },
  {
   "cell_type": "code",
   "execution_count": 162,
   "id": "f05aef91",
   "metadata": {},
   "outputs": [
    {
     "name": "stdout",
     "output_type": "stream",
     "text": [
      "2\n",
      "4\n",
      "6\n",
      "8\n"
     ]
    }
   ],
   "source": [
    "checkEven(lista)"
   ]
  },
  {
   "cell_type": "code",
   "execution_count": 160,
   "id": "163f28b2",
   "metadata": {},
   "outputs": [
    {
     "name": "stdout",
     "output_type": "stream",
     "text": [
      "2\n",
      "4\n",
      "6\n",
      "8\n"
     ]
    }
   ],
   "source": [
    "for i in lista:\n",
    "    if i % 2 == 0:\n",
    "        print(i)"
   ]
  },
  {
   "cell_type": "code",
   "execution_count": 164,
   "id": "632fafe1",
   "metadata": {},
   "outputs": [],
   "source": [
    "def checkEven2(lista):\n",
    "    res = []\n",
    "    \n",
    "    for i in lista:\n",
    "        if i % 2 == 0:\n",
    "            res.append(i)\n",
    "            \n",
    "    return res"
   ]
  },
  {
   "cell_type": "code",
   "execution_count": 175,
   "id": "5486a6a1",
   "metadata": {},
   "outputs": [
    {
     "data": {
      "text/plain": [
       "[2, 4, 6, 8]"
      ]
     },
     "execution_count": 175,
     "metadata": {},
     "output_type": "execute_result"
    }
   ],
   "source": [
    "re = checkEven2(lista)\n",
    "re"
   ]
  },
  {
   "cell_type": "code",
   "execution_count": 166,
   "id": "bc4d5db8",
   "metadata": {},
   "outputs": [
    {
     "data": {
      "text/plain": [
       "[2, 56, 88, 6, 68, 96, 56, 8]"
      ]
     },
     "execution_count": 166,
     "metadata": {},
     "output_type": "execute_result"
    }
   ],
   "source": [
    "listb = [2,56,88,6,9,7,68,96,56,55,75,8]\n",
    "result2 = checkEven2(listb)\n",
    "result2"
   ]
  },
  {
   "cell_type": "code",
   "execution_count": null,
   "id": "e3b71fdd",
   "metadata": {},
   "outputs": [],
   "source": []
  },
  {
   "cell_type": "code",
   "execution_count": 173,
   "id": "208a5d2a",
   "metadata": {},
   "outputs": [],
   "source": [
    "def checkEven3(*a):\n",
    "    \n",
    "    for i in a:\n",
    "        if i % 2 == 0:\n",
    "            print(i)\n"
   ]
  },
  {
   "cell_type": "code",
   "execution_count": 174,
   "id": "24a30853",
   "metadata": {},
   "outputs": [
    {
     "name": "stdout",
     "output_type": "stream",
     "text": [
      "10\n",
      "12\n"
     ]
    }
   ],
   "source": [
    "checkEven3(9,10,11,12)"
   ]
  },
  {
   "cell_type": "code",
   "execution_count": 176,
   "id": "88b722eb",
   "metadata": {},
   "outputs": [],
   "source": [
    "def multiplier(a):\n",
    "    \n",
    "    inp = int(input(\"Enter the mulitipier : \"))\n",
    "    print(a * inp)"
   ]
  },
  {
   "cell_type": "code",
   "execution_count": 177,
   "id": "440d820e",
   "metadata": {},
   "outputs": [
    {
     "name": "stdout",
     "output_type": "stream",
     "text": [
      "Enter the mulitipier : 3\n",
      "18\n"
     ]
    }
   ],
   "source": [
    "multiplier(6)"
   ]
  },
  {
   "cell_type": "code",
   "execution_count": null,
   "id": "2546c5a0",
   "metadata": {},
   "outputs": [],
   "source": []
  }
 ],
 "metadata": {
  "kernelspec": {
   "display_name": "Python 3 (ipykernel)",
   "language": "python",
   "name": "python3"
  },
  "language_info": {
   "codemirror_mode": {
    "name": "ipython",
    "version": 3
   },
   "file_extension": ".py",
   "mimetype": "text/x-python",
   "name": "python",
   "nbconvert_exporter": "python",
   "pygments_lexer": "ipython3",
   "version": "3.9.7"
  }
 },
 "nbformat": 4,
 "nbformat_minor": 5
}
